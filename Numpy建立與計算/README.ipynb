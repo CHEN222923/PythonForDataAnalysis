{
 "cells": [
  {
   "cell_type": "markdown",
   "metadata": {},
   "source": [
    "## Numpy建立與計算"
   ]
  },
  {
   "cell_type": "markdown",
   "metadata": {},
   "source": [
    "### 陣列初始與規劃\n",
    "1. 陣列初始化\n",
    "2. 陣列重新規劃\n",
    "3. 計算與取代\n",
    "\n",
    "### 指定與重設\n",
    "1. 一個整數指定\n",
    "2. tuple 或 list 指定\n",
    "3. 重設陣列\n",
    "\n",
    "### 數值計算與處理\n",
    "1. 數值計算\n",
    "2. 總和最大與最小\n",
    "3. 中位數與平均"
   ]
  },
  {
   "cell_type": "markdown",
   "metadata": {},
   "source": [
    "###  NP 陣列的基本屬性\n",
    "1. ndarray.ndim - 維度的數量。\n",
    "2. ndarray.shape - 顯示出陣列在每個維度上的整數值。\n",
    "3. ndarray.size - 陣列內元素的總數。\n",
    "4. ndarray.dtype - 來描述陣列中元素類型的對象。"
   ]
  },
  {
   "cell_type": "markdown",
   "metadata": {},
   "source": [
    "#### 操作檔案\n",
    "- num2.py"
   ]
  },
  {
   "cell_type": "code",
   "execution_count": 1,
   "metadata": {},
   "outputs": [
    {
     "name": "stdout",
     "output_type": "stream",
     "text": [
      "[[1 2 3]\n",
      " [2 3 4]]\n",
      "number of dim: 2\n",
      "shape: (2, 3)\n",
      "size: 6\n",
      "size: int64\n"
     ]
    }
   ],
   "source": [
    "import numpy as np\n",
    "l = [[1, 2, 3],\n",
    "    [2, 3, 4]]\n",
    "a = np.array(l)\n",
    "print(a)\n",
    "print(\"number of dim:\",a.ndim)\n",
    "print(\"shape:\",a.shape)\n",
    "print(\"size:\",a.size)\n",
    "print(\"size:\",a.dtype)"
   ]
  },
  {
   "cell_type": "markdown",
   "metadata": {},
   "source": [
    "###  陣列初始化與重新規劃\n",
    "#### 針對初始化這部分提供了多種方式:\n",
    "- 不做初始化 - 例如:np.empty((2,4))\n",
    "- 全部規劃為 0 - 例如:np.zeros((3,4))\n",
    "- 全部規劃為 1 - 例如: np.ones((5,2))\n",
    "- 全部規劃/填滿為某數，例如 6 - 例如: np.full((3,3),6)\n",
    "- 建立對角矩陣，對角皆為 1，其他為 0 - 例如: np.eye(3)\n",
    "- 建立對角矩陣，對角為 1,2,3,4，其他為 0 - 例如: np.diag([1,2,3,4])\n",
    "- reshape((x,y)) 這個指令就可以將現有的陣列重新規劃為 x 乘以 y 的陣列。\n",
    "- np.arange(起始值, 結束值, 固定間隔):也是產生一維陣列，和 np.array( ) 的差別在於 arange 擁有較大的彈性，而且元素數值是自 動化產生。\n",
    "- np.linspace(起始值, 結束值, 起始與結束的區間內要產生幾個元素 ): 只要給定陣列的區間(起始值、結束值)，就可以要求在這個區間內產 生幾個元素。\n",
    "- arange(a,b,c) - 不包含 b 由 a 開始 以固定間隔 c 來取值\n",
    "- linspace(a,b,c,) - 包含 b 由 a 開始 切割成 c 個資料\n",
    "- linspace(a,b,c,endpoint=False) - 不包含 b 由 a 開始 切割成 c 個資料"
   ]
  },
  {
   "cell_type": "markdown",
   "metadata": {},
   "source": [
    "####  操作範例 1:陣列初始化與重新規劃\n",
    "- num2b.py"
   ]
  },
  {
   "cell_type": "code",
   "execution_count": 2,
   "metadata": {},
   "outputs": [
    {
     "name": "stdout",
     "output_type": "stream",
     "text": [
      "[[-1.28822975e-231  1.73060157e-077  1.97626258e-323  0.00000000e+000]\n",
      " [ 0.00000000e+000  0.00000000e+000  0.00000000e+000  5.56268465e-309]]\n",
      "-----\n",
      "[[0. 0. 0. 0.]\n",
      " [0. 0. 0. 0.]\n",
      " [0. 0. 0. 0.]]\n",
      "-----\n",
      "[[1. 1.]\n",
      " [1. 1.]\n",
      " [1. 1.]\n",
      " [1. 1.]\n",
      " [1. 1.]]\n"
     ]
    }
   ],
   "source": [
    "import numpy as np\n",
    "x=np.empty((2,4))\n",
    "print(x)\n",
    "print(\"-----\")\n",
    "x =np.zeros((3,4))\n",
    "print(x)\n",
    "print(\"-----\")\n",
    "c = np.ones((5,2))\n",
    "print(c)"
   ]
  },
  {
   "cell_type": "markdown",
   "metadata": {},
   "source": [
    "####  操作範例 2:陣列初始化與重新規劃\n",
    "- num2c.py"
   ]
  },
  {
   "cell_type": "code",
   "execution_count": 4,
   "metadata": {},
   "outputs": [
    {
     "name": "stdout",
     "output_type": "stream",
     "text": [
      "[[1. 0. 0.]\n",
      " [0. 1. 0.]\n",
      " [0. 0. 1.]]\n",
      "-----\n",
      "[[1 0 0 0]\n",
      " [0 2 0 0]\n",
      " [0 0 3 0]\n",
      " [0 0 0 4]]\n",
      "-----\n"
     ]
    }
   ],
   "source": [
    "import numpy as np\n",
    "x=np.eye(3)\n",
    "print(x)\n",
    "print(\"-----\")\n",
    "x =np.diag([1,2,3,4]) \n",
    "print(x)\n",
    "print(\"-----\")"
   ]
  },
  {
   "cell_type": "markdown",
   "metadata": {},
   "source": [
    "####  操作範例 3:陣列初始化與重新規劃\n",
    "- num2c1.py"
   ]
  },
  {
   "cell_type": "code",
   "execution_count": 2,
   "metadata": {},
   "outputs": [
    {
     "name": "stdout",
     "output_type": "stream",
     "text": [
      "[[ 1.   2.8]\n",
      " [ 4.6  6.4]\n",
      " [ 8.2 10. ]]\n",
      "-----\n",
      "[[ 1.   2.8  4.6]\n",
      " [ 6.4  8.2 10. ]]\n",
      "-----\n",
      "[[0 1 2 3]\n",
      " [4 5 6 7]]\n",
      "-----\n",
      "[[0 1]\n",
      " [2 3]\n",
      " [4 5]\n",
      " [6 7]]\n",
      "-----\n"
     ]
    }
   ],
   "source": [
    "import numpy as np\n",
    "x = np.linspace(1,10,6).reshape((3,2)) \n",
    "print(x)\n",
    "print(\"-----\")\n",
    "x = np.linspace(1,10,6).reshape((2,3)) \n",
    "print(x)\n",
    "print(\"-----\")\n",
    "x =np.arange(8).reshape((2,4)) \n",
    "print(x)\n",
    "print(\"-----\")\n",
    "x =np.arange(8).reshape((4,2)) \n",
    "print(x)\n",
    "print(\"-----\")"
   ]
  },
  {
   "cell_type": "markdown",
   "metadata": {},
   "source": [
    "####  請問以下的程式執行後值是多少?(選擇題)\n",
    "\n",
    "```python\n",
    "import numpy as np\n",
    "r1 = np.arange(25, 30, .5) \n",
    "print(\"r1=>\",r1)\n",
    "```\n",
    "(1) 30  \n",
    "(2) 29.5  \n",
    "(3) 25  \n",
    "(4) 27  \n"
   ]
  },
  {
   "cell_type": "markdown",
   "metadata": {},
   "source": [
    "####  請問以下的程式執行後值是多少?(選擇題)\n",
    "\n",
    "```python\n",
    "import numpy as np\n",
    "lin = np.linspace(3, 5, 9) \n",
    "print(\"r1=>\",lin)\n",
    "```\n",
    "(1) 9   \n",
    "(2) 8.5   \n",
    "(3) 8  \n",
    "(4) 5   "
   ]
  },
  {
   "cell_type": "markdown",
   "metadata": {},
   "source": [
    "####  操作範例:陣列初始化與重新規劃\n",
    "- num2e.py"
   ]
  },
  {
   "cell_type": "code",
   "execution_count": 4,
   "metadata": {},
   "outputs": [
    {
     "name": "stdout",
     "output_type": "stream",
     "text": [
      "a=> [6 7 8 9]\n",
      "b=> [0 1 2 3]\n",
      "c=> [6 6 6 6]\n",
      "d=> [0 1 4 9]\n",
      "f=> [5 1 1 9 1]\n"
     ]
    }
   ],
   "source": [
    "import numpy as np\n",
    "a = np.array( [6, 7, 8, 9] ) \n",
    "b = np.arange( 4 )\n",
    "c=a-b\n",
    "print(\"a=>\",a) \n",
    "print(\"b=>\",b) \n",
    "print(\"c=>\",c)\n",
    "d = b**2\n",
    "print(\"d=>\",d)\n",
    "f = np.array([5, -1, 3, 9, 0]) \n",
    "f[f<=3] = 1\n",
    "print(\"f=>\",f)"
   ]
  },
  {
   "cell_type": "code",
   "execution_count": null,
   "metadata": {},
   "outputs": [],
   "source": []
  }
 ],
 "metadata": {
  "kernelspec": {
   "display_name": "Python 3",
   "language": "python",
   "name": "python3"
  },
  "language_info": {
   "codemirror_mode": {
    "name": "ipython",
    "version": 3
   },
   "file_extension": ".py",
   "mimetype": "text/x-python",
   "name": "python",
   "nbconvert_exporter": "python",
   "pygments_lexer": "ipython3",
   "version": "3.7.4"
  }
 },
 "nbformat": 4,
 "nbformat_minor": 2
}
