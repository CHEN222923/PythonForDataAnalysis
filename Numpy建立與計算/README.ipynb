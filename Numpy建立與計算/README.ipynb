{
 "cells": [
  {
   "cell_type": "markdown",
   "metadata": {},
   "source": [
    "## Numpy建立與計算"
   ]
  },
  {
   "cell_type": "markdown",
   "metadata": {},
   "source": [
    "### 陣列初始與規劃\n",
    "1. 陣列初始化\n",
    "2. 陣列重新規劃\n",
    "3. 計算與取代\n",
    "\n",
    "### 指定與重設\n",
    "1. 一個整數指定\n",
    "2. tuple 或 list 指定\n",
    "3. 重設陣列\n",
    "\n",
    "### 數值計算與處理\n",
    "1. 數值計算\n",
    "2. 總和最大與最小\n",
    "3. 中位數與平均"
   ]
  },
  {
   "cell_type": "markdown",
   "metadata": {},
   "source": [
    "###  NP 陣列的基本屬性\n",
    "1. ndarray.ndim - 維度的數量。\n",
    "2. ndarray.shape - 顯示出陣列在每個維度上的整數值。\n",
    "3. ndarray.size - 陣列內元素的總數。\n",
    "4. ndarray.dtype - 來描述陣列中元素類型的對象。"
   ]
  },
  {
   "cell_type": "code",
   "execution_count": 1,
   "metadata": {
    "pycharm": {
     "is_executing": false
    }
   },
   "outputs": [
    {
     "name": "stdout",
     "output_type": "stream",
     "text": [
      "[[1 2 3]\n",
      " [2 3 4]]\n",
      "number of dim: 2\n",
      "shape: (2, 3)\n",
      "size: 6\n",
      "size: int64\n"
     ]
    }
   ],
   "source": [
    "# 操作檔案\n",
    "# num2.py\n",
    "import numpy as np\n",
    "l = [[1, 2, 3],\n",
    "    [2, 3, 4]]\n",
    "a = np.array(l)\n",
    "print(a)\n",
    "print(\"number of dim:\",a.ndim)\n",
    "print(\"shape:\",a.shape)\n",
    "print(\"size:\",a.size)\n",
    "print(\"size:\",a.dtype)\n"
   ]
  },
  {
   "cell_type": "code",
   "execution_count": 2,
   "metadata": {
    "pycharm": {
     "is_executing": false,
     "name": "#%%\n"
    }
   },
   "outputs": [
    {
     "name": "stdout",
     "output_type": "stream",
     "text": [
      "亂數陣列\n",
      " [[ 1.6620951  -0.76762087  0.87461249]\n",
      " [ 0.75538284  0.83857335 -0.84452138]]\n",
      "數學乘法運算\n",
      " [[ 1.6620951  -0.76762087  0.87461249]\n",
      " [ 0.75538284  0.83857335 -0.84452138]]\n",
      "加法運算\n",
      " [[ 3.32419019 -1.53524175  1.74922497]\n",
      " [ 1.51076567  1.6771467  -1.68904276]]\n"
     ]
    }
   ],
   "source": [
    "#產生亂數陣列\n",
    "\n",
    "import numpy as np\n",
    "data = np.random.randn(2, 3)\n",
    "print('亂數陣列\\n',data)\n",
    "\n",
    "#數學運算\n",
    "data * 10\n",
    "print('數學乘法運算\\n',data)\n",
    "\n",
    "data += data\n",
    "print('加法運算\\n', data)"
   ]
  },
  {
   "cell_type": "code",
   "execution_count": 3,
   "metadata": {
    "pycharm": {
     "is_executing": false,
     "name": "#%%\n"
    }
   },
   "outputs": [
    {
     "data": {
      "text/plain": [
       "(2, 3)"
      ]
     },
     "execution_count": 3,
     "metadata": {},
     "output_type": "execute_result"
    }
   ],
   "source": [
    "#每個陣列都有shape,使用tuple來表示每個維度的大小\n",
    "data.shape"
   ]
  },
  {
   "cell_type": "code",
   "execution_count": 4,
   "metadata": {
    "pycharm": {
     "is_executing": false,
     "name": "#%%\n"
    }
   },
   "outputs": [
    {
     "data": {
      "text/plain": [
       "dtype('float64')"
      ]
     },
     "execution_count": 4,
     "metadata": {},
     "output_type": "execute_result"
    }
   ],
   "source": [
    "#使用dtype屬性來顯示目前陣列內的資料型態(相同型態)\n",
    "data.dtype"
   ]
  },
  {
   "cell_type": "code",
   "execution_count": 5,
   "metadata": {
    "pycharm": {
     "is_executing": false,
     "name": "#%%\n"
    }
   },
   "outputs": [
    {
     "name": "stdout",
     "output_type": "stream",
     "text": [
      "[6.  7.5 8.  0.  1. ]\n"
     ]
    }
   ],
   "source": [
    "#建立1維ndarray\n",
    "data1 = [6, 7.5, 8, 0, 1]\n",
    "arr1 = np.array(data1)\n",
    "print(arr1)"
   ]
  },
  {
   "cell_type": "code",
   "execution_count": 6,
   "metadata": {
    "pycharm": {
     "is_executing": false,
     "name": "#%%\n"
    }
   },
   "outputs": [
    {
     "data": {
      "text/plain": [
       "array([[1, 2, 3, 4],\n",
       "       [5, 6, 7, 8]])"
      ]
     },
     "execution_count": 6,
     "metadata": {},
     "output_type": "execute_result"
    }
   ],
   "source": [
    "data2 = [[1, 2, 3, 4], [5, 6, 7, 8]]\n",
    "arr2 = np.array(data2)\n",
    "arr2"
   ]
  },
  {
   "cell_type": "code",
   "execution_count": 7,
   "metadata": {
    "pycharm": {
     "is_executing": false,
     "name": "#%%\n"
    }
   },
   "outputs": [
    {
     "data": {
      "text/plain": [
       "2"
      ]
     },
     "execution_count": 7,
     "metadata": {},
     "output_type": "execute_result"
    }
   ],
   "source": [
    "#ndim屬性查詢維度\n",
    "arr2.ndim"
   ]
  },
  {
   "cell_type": "code",
   "execution_count": 8,
   "metadata": {
    "pycharm": {
     "is_executing": false,
     "name": "#%%\n"
    }
   },
   "outputs": [
    {
     "data": {
      "text/plain": [
       "(2, 4)"
      ]
     },
     "execution_count": 8,
     "metadata": {},
     "output_type": "execute_result"
    }
   ],
   "source": [
    "#shape查詢每個維度大小\n",
    "arr2.shape"
   ]
  },
  {
   "cell_type": "code",
   "execution_count": 9,
   "metadata": {
    "pycharm": {
     "is_executing": false,
     "name": "#%% 使用dtype屬性查詢元素資料型態\n"
    }
   },
   "outputs": [
    {
     "data": {
      "text/plain": [
       "dtype('float64')"
      ]
     },
     "execution_count": 9,
     "metadata": {},
     "output_type": "execute_result"
    }
   ],
   "source": [
    "arr1.dtype"
   ]
  },
  {
   "cell_type": "code",
   "execution_count": 10,
   "metadata": {
    "pycharm": {
     "is_executing": false,
     "name": "#%%\n"
    }
   },
   "outputs": [
    {
     "data": {
      "text/plain": [
       "dtype('int64')"
      ]
     },
     "execution_count": 10,
     "metadata": {},
     "output_type": "execute_result"
    }
   ],
   "source": [
    "arr2.dtype\n"
   ]
  },
  {
   "cell_type": "code",
   "execution_count": 11,
   "metadata": {
    "pycharm": {
     "is_executing": false,
     "name": "#%%\n"
    }
   },
   "outputs": [
    {
     "data": {
      "text/plain": [
       "array([ 0,  1,  2,  3,  4,  5,  6,  7,  8,  9, 10, 11, 12, 13, 14])"
      ]
     },
     "execution_count": 11,
     "metadata": {},
     "output_type": "execute_result"
    }
   ],
   "source": [
    "#類似於python range()\n",
    "np.arange(15)"
   ]
  },
  {
   "cell_type": "code",
   "execution_count": 12,
   "metadata": {
    "pycharm": {
     "is_executing": false,
     "name": "#%%\n"
    }
   },
   "outputs": [
    {
     "name": "stdout",
     "output_type": "stream",
     "text": [
      "float64\n",
      "int32\n"
     ]
    }
   ],
   "source": [
    "#建立自訂資料類型的ndarrays\n",
    "arr1 = np.array([1, 2, 3], dtype=np.float64)\n",
    "arr2 = np.array([1, 2, 3],dtype=np.int32)\n",
    "print(arr1.dtype)\n",
    "print(arr2.dtype)"
   ]
  },
  {
   "cell_type": "code",
   "execution_count": 13,
   "metadata": {
    "pycharm": {
     "is_executing": false,
     "name": "#%%\n"
    }
   },
   "outputs": [
    {
     "name": "stdout",
     "output_type": "stream",
     "text": [
      "int64\n",
      "float64\n"
     ]
    }
   ],
   "source": [
    "#使用astype()\n",
    "arr = np.array([1, 2, 3, 4, 5])\n",
    "print(arr.dtype)\n",
    "\n",
    "float_arr = arr.astype(np.float64)\n",
    "print(float_arr.dtype)"
   ]
  },
  {
   "cell_type": "code",
   "execution_count": 14,
   "metadata": {
    "pycharm": {
     "is_executing": false,
     "name": "#%%\n"
    }
   },
   "outputs": [
    {
     "name": "stdout",
     "output_type": "stream",
     "text": [
      "[ 3.7 -1.2 -2.6  0.5 12.9 10.1]\n"
     ]
    },
    {
     "data": {
      "text/plain": [
       "array([ 3, -1, -2,  0, 12, 10], dtype=int32)"
      ]
     },
     "execution_count": 14,
     "metadata": {},
     "output_type": "execute_result"
    }
   ],
   "source": [
    "#如果將浮點數轉換為整數,則小數將被刪除\n",
    "arr = np.array([3.7, -1.2, -2.6, 0.5, 12.9, 10.1])\n",
    "print(arr)\n",
    "arr.astype(np.int32)"
   ]
  },
  {
   "cell_type": "code",
   "execution_count": 15,
   "metadata": {
    "pycharm": {
     "is_executing": false,
     "name": "#%%\n"
    }
   },
   "outputs": [
    {
     "data": {
      "text/plain": [
       "array([ 1.25, -9.6 , 42.  ])"
      ]
     },
     "execution_count": 15,
     "metadata": {},
     "output_type": "execute_result"
    }
   ],
   "source": [
    "#string轉為number\n",
    "numeric_strings = np.array(['1.25', '-9.6', '42'],dtype=np.string_)\n",
    "numeric_strings.astype(float)"
   ]
  },
  {
   "cell_type": "markdown",
   "metadata": {
    "pycharm": {
     "name": "#%% md\n"
    }
   },
   "source": [
    "### Numpy陣列的數學運算\n",
    "1 陣列重要的原因在於,數學運算不需使用for loop迴圈"
   ]
  },
  {
   "cell_type": "code",
   "execution_count": 16,
   "metadata": {
    "pycharm": {
     "is_executing": false,
     "name": "#%%\n"
    }
   },
   "outputs": [
    {
     "name": "stdout",
     "output_type": "stream",
     "text": [
      "[[1. 2. 3.]\n",
      " [4. 5. 6.]]\n",
      "[[ 1.  4.  9.]\n",
      " [16. 25. 36.]]\n",
      "[[0. 0. 0.]\n",
      " [0. 0. 0.]]\n"
     ]
    }
   ],
   "source": [
    "#相同size的運算\n",
    "arr = np.array([[1., 2., 3.],[4., 5., 6.]])\n",
    "print(arr)\n",
    "\n",
    "print(arr * arr)\n",
    "\n",
    "print(arr - arr)"
   ]
  },
  {
   "cell_type": "code",
   "execution_count": 17,
   "metadata": {
    "pycharm": {
     "is_executing": false,
     "name": "#%%\n"
    }
   },
   "outputs": [
    {
     "name": "stdout",
     "output_type": "stream",
     "text": [
      "[[1.         0.5        0.33333333]\n",
      " [0.25       0.2        0.16666667]]\n",
      "[[1.         1.41421356 1.73205081]\n",
      " [2.         2.23606798 2.44948974]]\n"
     ]
    }
   ],
   "source": [
    "#和純值的運算\n",
    "arr = np.array([[1., 2., 3.],[4., 5., 6.]])\n",
    "print(1/arr)\n",
    "\n",
    "print(arr ** 0.5)"
   ]
  },
  {
   "cell_type": "code",
   "execution_count": 18,
   "metadata": {
    "pycharm": {
     "is_executing": false,
     "name": "#%%\n"
    }
   },
   "outputs": [
    {
     "name": "stdout",
     "output_type": "stream",
     "text": [
      "[[ 0.  4.  1.]\n",
      " [ 7.  2. 12.]]\n"
     ]
    },
    {
     "data": {
      "text/plain": [
       "array([[False,  True, False],\n",
       "       [ True, False,  True]])"
      ]
     },
     "execution_count": 18,
     "metadata": {},
     "output_type": "execute_result"
    }
   ],
   "source": [
    "import numpy as np\n",
    "arr2 = np.array([[0., 4., 1.],[7., 2., 12.]])\n",
    "print(arr2)\n",
    "\n",
    "arr2 > arr\n"
   ]
  },
  {
   "cell_type": "markdown",
   "metadata": {},
   "source": [
    "###  數值計算\n",
    "1. 數值計算函數內放入參與計算的兩個陣列。\n",
    "2. 進行計算的陣列第一維數量必須是相同。\n",
    "3. add( ) 方法代表「加」，也可以使用「+」。\n",
    "4. subtract( ) 方法代表「減」，也可以使用「-」。\n",
    "5. multiply( )方法代表「乘」，也可以使用「*」。\n",
    "6. divide( ) 方法代表「除」，也可以使用「/」。"
   ]
  },
  {
   "cell_type": "code",
   "execution_count": 19,
   "metadata": {
    "pycharm": {
     "is_executing": false,
     "name": "#%%\n"
    }
   },
   "outputs": [
    {
     "name": "stdout",
     "output_type": "stream",
     "text": [
      "[[11 12 13]\n",
      " [14 15 16]\n",
      " [17 18 19]]\n",
      "\n",
      "[[-9 -8 -7]\n",
      " [-6 -5 -4]\n",
      " [-3 -2 -1]]\n",
      "\n",
      "[[10 20 30]\n",
      " [40 50 60]\n",
      " [70 80 90]]\n",
      "\n",
      "[[0.1 0.2 0.3]\n",
      " [0.4 0.5 0.6]\n",
      " [0.7 0.8 0.9]]\n",
      "\n"
     ]
    }
   ],
   "source": [
    "# 操作範例:數值計算\n",
    "# 不同size的運算稱為broadcasting\n",
    "# num12.py\n",
    "\n",
    "import numpy as np\n",
    "a = np.array([[1,2,3],[4,5,6],[7,8,9]]) \n",
    "b = np.array([10,10,10]) \n",
    "c=np.add(a,b)\n",
    "print(c)\n",
    "print( )\n",
    "\n",
    "d= np.subtract(a,b)\n",
    "print(d)\n",
    "print( )\n",
    "\n",
    "f=np.multiply(a,b) \n",
    "print(f)\n",
    "print( ) \n",
    "\n",
    "g=np.divide(a,b) \n",
    "print(g)\n",
    "print( )"
   ]
  },
  {
   "cell_type": "code",
   "execution_count": 20,
   "metadata": {
    "pycharm": {
     "is_executing": false,
     "name": "#%%\n"
    }
   },
   "outputs": [
    {
     "name": "stdout",
     "output_type": "stream",
     "text": [
      "[[11 12 13]\n",
      " [14 15 16]\n",
      " [17 18 19]]\n",
      "\n",
      "[[-9 -8 -7]\n",
      " [-6 -5 -4]\n",
      " [-3 -2 -1]]\n",
      "\n",
      "[[10 20 30]\n",
      " [40 50 60]\n",
      " [70 80 90]]\n",
      "\n",
      "[[0.1 0.2 0.3]\n",
      " [0.4 0.5 0.6]\n",
      " [0.7 0.8 0.9]]\n",
      "\n"
     ]
    }
   ],
   "source": [
    "# 操作範例:數值計算\n",
    "# num12a1.py\n",
    "\n",
    "import numpy as np\n",
    "a = np.array([[1,2,3],[4,5,6],[7,8,9]]) \n",
    "b = np.array([10,10,10])\n",
    "\n",
    "c=a+b\n",
    "print(c)\n",
    "print( )\n",
    "\n",
    "d= a-b\n",
    "print(d)\n",
    "print( )\n",
    "\n",
    "f=a*b \n",
    "print(f) \n",
    "print( ) \n",
    "\n",
    "g=a/b \n",
    "print(g) \n",
    "print( )\n"
   ]
  },
  {
   "cell_type": "markdown",
   "metadata": {},
   "source": [
    "###  數值計算\n",
    "1. np.power(a,n) 代表 a 陣列的 n 次方。\n",
    "2. a 陣列的 n 次方也可以使用 a ** n 方式表示。\n",
    "3. N 可以是陣列，但兩陣列第一維數量必須是相同。\n",
    "4. np. Reciprocal( ) 代表倒數的計算，倒數是指a*b=1，輸入 a 後求 b。"
   ]
  },
  {
   "cell_type": "code",
   "execution_count": 21,
   "metadata": {
    "pycharm": {
     "is_executing": false,
     "name": "#%%\n"
    }
   },
   "outputs": [
    {
     "name": "stdout",
     "output_type": "stream",
     "text": [
      "[4 5 6]\n",
      "\n",
      "[16 25 36]\n",
      "\n",
      "[  4  25 216]\n",
      "\n",
      "[  4  25 216]\n"
     ]
    }
   ],
   "source": [
    "# 操作範例:數值計算\n",
    "# num12a2.py\n",
    "\n",
    "import numpy as np \n",
    "a = np.array([4,5,6]) \n",
    "print(a)\n",
    "print( )\n",
    "\n",
    "b=np.power(a,2) \n",
    "print(b)\n",
    "print( )\n",
    "\n",
    "c = np.array([1,2,3]) \n",
    "d=np.power(a,c) \n",
    "print(d)\n",
    "print( )\n",
    "\n",
    "h=a**c\n",
    "print(h)\n"
   ]
  },
  {
   "cell_type": "code",
   "execution_count": 22,
   "metadata": {
    "pycharm": {
     "is_executing": false,
     "name": "#%%\n"
    }
   },
   "outputs": [
    {
     "name": "stdout",
     "output_type": "stream",
     "text": [
      "[  0.25   1.33   1.    -0.1  100.  ]\n",
      "\n",
      "[  4.          0.7518797   1.        -10.          0.01     ]\n",
      "\n"
     ]
    }
   ],
   "source": [
    "# 操作範例:數值計算\n",
    "# num12a3.py\n",
    "\n",
    "import numpy as np\n",
    "a = np.array([0.25, 1.33, 1, -0.1, 100]) \n",
    "print(a)\n",
    "print( )\n",
    "\n",
    "b=np.reciprocal(a)\n",
    "print(b)\n",
    "print( )"
   ]
  },
  {
   "cell_type": "markdown",
   "metadata": {},
   "source": [
    "###  除法計算與小數處理\n",
    "1. np.mod( ) 方法內需加入兩個資料，例如 a 與 b，代表 a除以 b 的餘數。\n",
    "2. np.remainder( ) 方法等同 np.mod( )。\n",
    "3. np.around(array,decimals) 方法代表您要將浮點數資料整數位取四捨五入到第幾個位置，小數位取最接近的偶數，這個方法內需要兩個參數:\n",
    "    - array:進行分析的陣列。\n",
    "    - decimals小數位數:\n",
    "        - 預設為 0。\n",
    "        - 如果為正數，代表小數位數有幾個位子。\n",
    "        - 如果為負數，代表小數點左邊的正整數將依序四捨五入進位。"
   ]
  },
  {
   "cell_type": "markdown",
   "metadata": {},
   "source": [
    "###  計算機浮點數問題\n",
    "1. numpy [官網原文](https://docs.scipy.org/doc/numpy/reference/generated/numpy.around.html)\n",
    "2. 關於計算機浮點數問題的文章\n",
    "3. [“Lecture Notes on the Status of IEEE 754”, William Kahan](https://people.eecs.berkeley.edu/~wkahan/ieee754status/IEEE754.PDF)\n",
    "4. 對於正好在舍入小數值之間的值，NumPy舍入到最接近的偶數值。 因此，1.5和 2.5捨入後為2.0，-0.5和0.5捨入後為到0.0等。由於IEEE浮點標準中的小數部分 的不精確表示以及當以10的冪進行縮放時產生的誤差。"
   ]
  },
  {
   "cell_type": "code",
   "execution_count": 23,
   "metadata": {
    "pycharm": {
     "is_executing": false,
     "name": "#%%\n"
    }
   },
   "outputs": [
    {
     "name": "stdout",
     "output_type": "stream",
     "text": [
      "[2. 2.]\n",
      "[-0.  0.]\n"
     ]
    }
   ],
   "source": [
    "# 操作範例:np.around 函數數值計算\n",
    "# num_np_around.py\n",
    "\n",
    "import numpy as np \n",
    "print(np.around([1.5, 2.5], decimals=0)) \n",
    "print(np.around([-0.5, 0.5], decimals=0))"
   ]
  },
  {
   "cell_type": "markdown",
   "metadata": {},
   "source": [
    "###  除法計算與小數處理\n",
    "1. np.floor( ) 方法代表回傳不大於輸入參數的最大整數。\n",
    "2. np.ceil( ) 方法代表回傳大於輸入參數的最小整數。"
   ]
  },
  {
   "cell_type": "code",
   "execution_count": 24,
   "metadata": {
    "pycharm": {
     "is_executing": false,
     "name": "#%%\n"
    }
   },
   "outputs": [
    {
     "name": "stdout",
     "output_type": "stream",
     "text": [
      "[10 20 30]\n",
      "\n",
      "[1 0 2]\n",
      "\n",
      "[1 0 2]\n",
      "\n"
     ]
    }
   ],
   "source": [
    "# 操作範例:除法計算與小數處理\n",
    "# num12c.py\n",
    "\n",
    "import numpy as np\n",
    "a = np.array([10,20,30]) \n",
    "b = np.array([3,5,7]) \n",
    "print(a)\n",
    "print( )\n",
    "\n",
    "c=np.mod(a,b)\n",
    "print(c)\n",
    "print( ) \n",
    "\n",
    "d=np.remainder(a,b) \n",
    "print(d)\n",
    "print( )"
   ]
  },
  {
   "cell_type": "code",
   "execution_count": 25,
   "metadata": {
    "pycharm": {
     "is_executing": false,
     "name": "#%%\n"
    }
   },
   "outputs": [
    {
     "name": "stdout",
     "output_type": "stream",
     "text": [
      "[  1.      5.45  123.      0.567  25.532]\n",
      "\n",
      "[  1.   5. 123.   1.  26.]\n",
      "[  1.    5.4 123.    0.6  25.5]\n",
      "[  0.  10. 120.   0.  30.]\n",
      "[  0.   0. 100.   0.   0.]\n"
     ]
    }
   ],
   "source": [
    "# 操作範例:除法計算與小數處理\n",
    "# num12d.py\n",
    "\n",
    "import numpy as np\n",
    "a = np.array([1.0,5.45, 123, 0.567, 25.532])\n",
    "print(a)\n",
    "print( )\n",
    "\n",
    "b=np.around(a)\n",
    "print(b)\n",
    "print(np.around(a, decimals = 1) ) \n",
    "print(np.around(a, decimals = -1)) \n",
    "print(np.around(a, decimals = -2))"
   ]
  },
  {
   "cell_type": "code",
   "execution_count": 26,
   "metadata": {
    "pycharm": {
     "is_executing": false,
     "name": "#%%\n"
    }
   },
   "outputs": [
    {
     "name": "stdout",
     "output_type": "stream",
     "text": [
      "[-1.7  1.5 -0.2  0.6 10. ]\n",
      "\n",
      "[-2.  1. -1.  0. 10.]\n",
      "\n",
      "[-1.  2. -0.  1. 10.]\n",
      "\n"
     ]
    }
   ],
   "source": [
    "# 操作範例:除法計算與小數處理\n",
    "# num12e.py\n",
    "import numpy as np\n",
    "a = np.array([-1.7, 1.5, -0.2, 0.6, 10]) \n",
    "print(a)\n",
    "print( )\n",
    "\n",
    "b=np.floor(a)\n",
    "print(b)\n",
    "print( )\n",
    "\n",
    "c=np.ceil(a)\n",
    "print(c)\n",
    "print( )"
   ]
  },
  {
   "cell_type": "markdown",
   "metadata": {
    "pycharm": {
     "name": "#%% md\n"
    }
   },
   "source": [
    "### 基本索引和分割"
   ]
  },
  {
   "cell_type": "code",
   "execution_count": 27,
   "metadata": {
    "pycharm": {
     "is_executing": false,
     "name": "#%%\n"
    }
   },
   "outputs": [
    {
     "name": "stdout",
     "output_type": "stream",
     "text": [
      "[0 1 2 3 4 5 6 7 8 9]\n",
      "5\n",
      "[5 6 7]\n",
      "[ 0  1  2  3  4 12 12 12  8  9]\n"
     ]
    }
   ],
   "source": [
    "#1維陣列的index and slice\n",
    "arr = np.arange(10)\n",
    "print(arr)\n",
    "\n",
    "print(arr[5])\n",
    "\n",
    "print(arr[5:8])\n",
    "\n",
    "arr[5:8] = 12\n",
    "\n",
    "print(arr)"
   ]
  },
  {
   "cell_type": "code",
   "execution_count": 28,
   "metadata": {
    "pycharm": {
     "is_executing": false,
     "name": "#%%\n"
    }
   },
   "outputs": [
    {
     "name": "stdout",
     "output_type": "stream",
     "text": [
      "[5 6 7]\n",
      "[    0     1     2     3     4     5 12345     7     8     9]\n",
      "[ 0  1  2  3  4 64 64 64  8  9]\n"
     ]
    },
    {
     "data": {
      "text/plain": [
       "array([64, 64, 64])"
      ]
     },
     "execution_count": 28,
     "metadata": {},
     "output_type": "execute_result"
    }
   ],
   "source": [
    "#array slice are views\n",
    "arr = np.arange(10)\n",
    "arr_slice = arr[5:8]\n",
    "print(arr_slice)\n",
    "arr_slice[1] = 12345\n",
    "print(arr)\n",
    "arr_slice[:] = 64\n",
    "print(arr)\n",
    "\n",
    "#明確指定copy一分\n",
    "arr[5:8].copy()"
   ]
  },
  {
   "cell_type": "code",
   "execution_count": 29,
   "metadata": {
    "pycharm": {
     "is_executing": false,
     "name": "#%% \n"
    }
   },
   "outputs": [
    {
     "name": "stdout",
     "output_type": "stream",
     "text": [
      "[7 8 9]\n"
     ]
    }
   ],
   "source": [
    "#2維陣列index 和 slice\n",
    "arr2d = np.array([[1, 2, 3],[4, 5, 6],[7, 8, 9]])\n",
    "print(arr2d[2])"
   ]
  },
  {
   "cell_type": "code",
   "execution_count": 30,
   "metadata": {
    "pycharm": {
     "is_executing": false,
     "name": "#%%\n"
    }
   },
   "outputs": [
    {
     "name": "stdout",
     "output_type": "stream",
     "text": [
      "3\n",
      "3\n"
     ]
    }
   ],
   "source": [
    "#想像第1維為列,第2維為欄\n",
    "print(arr2d[0][2])\n",
    "print(arr2d[0, 2])"
   ]
  },
  {
   "cell_type": "markdown",
   "metadata": {
    "pycharm": {
     "name": "#%% md\n"
    }
   },
   "source": [
    "![numpy索引](b1.png)"
   ]
  },
  {
   "cell_type": "code",
   "execution_count": 31,
   "metadata": {
    "pycharm": {
     "is_executing": false,
     "name": "#%%\n"
    }
   },
   "outputs": [
    {
     "name": "stdout",
     "output_type": "stream",
     "text": [
      "[[[ 1  2  3]\n",
      "  [ 4  5  6]]\n",
      "\n",
      " [[ 7  8  9]\n",
      "  [10 11 12]]]\n",
      "[[1 2 3]\n",
      " [4 5 6]]\n",
      "[[[42 42 42]\n",
      "  [42 42 42]]\n",
      "\n",
      " [[ 7  8  9]\n",
      "  [10 11 12]]]\n",
      "[[[ 1  2  3]\n",
      "  [ 4  5  6]]\n",
      "\n",
      " [[ 7  8  9]\n",
      "  [10 11 12]]]\n",
      "[7 8 9]\n"
     ]
    }
   ],
   "source": [
    "#3維陣列\n",
    "#2*2*3\n",
    "arr3d = np.array([[[1, 2, 3],[4,5,6]],[[7, 8, 9],[10, 11, 12]]])\n",
    "print(arr3d)\n",
    "\n",
    "print(arr3d[0])\n",
    "old_values = arr3d[0].copy()\n",
    "arr3d[0] = 42\n",
    "print(arr3d)\n",
    "arr3d[0] = old_values\n",
    "print(arr3d)\n",
    "\n",
    "print(arr3d[1, 0])"
   ]
  },
  {
   "cell_type": "code",
   "execution_count": 32,
   "metadata": {
    "pycharm": {
     "is_executing": false,
     "name": "#%%\n"
    }
   },
   "outputs": [
    {
     "name": "stdout",
     "output_type": "stream",
     "text": [
      "[1 2 3 4 5]\n",
      "[[1 2 3]\n",
      " [4 5 6]]\n",
      "[[2 3]\n",
      " [5 6]]\n",
      "[4 5]\n",
      "[3 6]\n",
      "[[0.]\n",
      " [7.]]\n",
      "[[1 0 0]\n",
      " [4 0 0]\n",
      " [7 8 9]]\n"
     ]
    }
   ],
   "source": [
    "# 陣列切割\n",
    "arr = np.arange(10)\n",
    "print(arr[1:6])\n",
    "\n",
    "arr2d = np.array([[1, 2, 3],[4, 5, 6],[7, 8, 9]])\n",
    "print(arr2d[:2])\n",
    "\n",
    "print(arr2d[:2, 1:])\n",
    "print(arr2d[1, :2])\n",
    "print(arr2d[:2,2])\n",
    "print(arr2[:,:1])\n",
    "arr2d[:2, 1:] = 0\n",
    "print(arr2d)"
   ]
  },
  {
   "cell_type": "markdown",
   "metadata": {
    "pycharm": {
     "name": "#%% md\n"
    }
   },
   "source": [
    "![2維陣列的切割](b2.png)"
   ]
  },
  {
   "cell_type": "markdown",
   "metadata": {
    "pycharm": {
     "name": "#%% md\n"
    }
   },
   "source": [
    "### Boolean的索引"
   ]
  },
  {
   "cell_type": "code",
   "execution_count": 33,
   "metadata": {
    "pycharm": {
     "is_executing": false,
     "name": "#%%\n"
    }
   },
   "outputs": [
    {
     "name": "stdout",
     "output_type": "stream",
     "text": [
      "['Bob' 'Joe' 'Will' 'Bob' 'Will' 'Joe' 'Joe']\n",
      "[[ 1.47649463 -0.35571757 -2.18290005  3.62250537]\n",
      " [-0.22595744 -0.53033745 -1.01700231 -0.58379768]\n",
      " [ 0.3547251  -0.06848662 -1.64559279  0.56777036]\n",
      " [-0.94332608  1.39457373 -0.99628202  0.2471918 ]\n",
      " [-2.12330862  1.38751211 -1.29130673  1.27247689]\n",
      " [ 0.79283548  0.28321501 -0.62566369 -1.05588608]\n",
      " [ 1.24482865  0.11954229 -0.94585205  1.14699482]]\n",
      "[ True False False  True False False False]\n",
      "[[ 1.47649463 -0.35571757 -2.18290005  3.62250537]\n",
      " [-0.94332608  1.39457373 -0.99628202  0.2471918 ]]\n",
      "[[-2.18290005  3.62250537]\n",
      " [-0.99628202  0.2471918 ]]\n",
      "[3.62250537 0.2471918 ]\n",
      "[False  True  True False  True  True  True]\n",
      "[ True False  True  True  True False False]\n",
      "[[ 1.47649463 -0.35571757 -2.18290005  3.62250537]\n",
      " [ 0.3547251  -0.06848662 -1.64559279  0.56777036]\n",
      " [-0.94332608  1.39457373 -0.99628202  0.2471918 ]\n",
      " [-2.12330862  1.38751211 -1.29130673  1.27247689]]\n",
      "[[1.47649463 0.         0.         3.62250537]\n",
      " [0.         0.         0.         0.        ]\n",
      " [0.3547251  0.         0.         0.56777036]\n",
      " [0.         1.39457373 0.         0.2471918 ]\n",
      " [0.         1.38751211 0.         1.27247689]\n",
      " [0.79283548 0.28321501 0.         0.        ]\n",
      " [1.24482865 0.11954229 0.         1.14699482]]\n",
      "[[7.         7.         7.         7.        ]\n",
      " [0.         0.         0.         0.        ]\n",
      " [7.         7.         7.         7.        ]\n",
      " [7.         7.         7.         7.        ]\n",
      " [7.         7.         7.         7.        ]\n",
      " [0.79283548 0.28321501 0.         0.        ]\n",
      " [1.24482865 0.11954229 0.         1.14699482]]\n"
     ]
    }
   ],
   "source": [
    "names = np.array(['Bob', 'Joe', 'Will', 'Bob', 'Will', 'Joe', 'Joe'])\n",
    "data = np.random.randn(7, 4)\n",
    "print(names)\n",
    "print(data)\n",
    "print(names == 'Bob')\n",
    "print(data[names == 'Bob'])\n",
    "print(data[names == 'Bob', 2:])\n",
    "print(data[names == 'Bob', 3])\n",
    "print(names != 'Bob')\n",
    "mask = (names == 'Bob') | (names == 'Will')\n",
    "print(mask)\n",
    "print(data[mask])\n",
    "\n",
    "data[data < 0] = 0\n",
    "print(data)\n",
    "\n",
    "data[names != 'Joe'] = 7\n",
    "print(data)"
   ]
  },
  {
   "cell_type": "markdown",
   "metadata": {},
   "source": [
    "###  陣列指定位置取值\n",
    "1. 間隔選取[::C]\n",
    "    - 以 1 維陣列來說明 x[a:b:c]  \n",
    "    - a:選取資料的起始索引\n",
    "    - b:選取資料的結束索引 +1\n",
    "    - c:選取資料間隔，以索引值可以被此值整除的元素，不指定表示 1\n",
    "2. 倒序 [::-1]\n",
    "    - 只是單純的把順序反過來"
   ]
  },
  {
   "cell_type": "markdown",
   "metadata": {},
   "source": [
    "###  陣列指定位置-給予一個整數\n",
    "1. 關於指定位置 [row,column]\n",
    "2. 假設給予一個整數為 N\n",
    "    - 如果是給固定的 N，那就代表 row 或 column 等於 N。\n",
    "    - 如果是 N:，那就代表 row 或 column 大於等於 N 的區域。\n",
    "    - 如果是:N，那就代表 row 或 column 小於 N 的區域。\n",
    "    - 如果是:，那就代表 row 或 column 是任意欄位。\n",
    "\n",
    "  "
   ]
  },
  {
   "cell_type": "code",
   "execution_count": 34,
   "metadata": {
    "pycharm": {
     "is_executing": false,
     "name": "#%%\n"
    }
   },
   "outputs": [
    {
     "name": "stdout",
     "output_type": "stream",
     "text": [
      "[[1 2 3]\n",
      " [3 6 9]\n",
      " [2 4 6]]\n",
      "---------------\n",
      "[1 2 3]\n",
      "---------------\n",
      "9\n",
      "---------------\n"
     ]
    }
   ],
   "source": [
    "# 陣列指定位置取值\n",
    "# num1a.py\n",
    "\n",
    "import numpy as np\n",
    "a = np.array([[1, 2, 3], [3, 6, 9], [2, 4, 6]]) \n",
    "print(a)\n",
    "print(\"---------------\")\n",
    "print(a[0])\n",
    "print(\"---------------\")\n",
    "print(a[1, 2])\n",
    "print(\"---------------\")\n",
    "\n",
    "\n",
    "\n",
    "\n",
    "\n"
   ]
  },
  {
   "cell_type": "code",
   "execution_count": 35,
   "metadata": {
    "pycharm": {
     "is_executing": false,
     "name": "#%%\n"
    }
   },
   "outputs": [
    {
     "name": "stdout",
     "output_type": "stream",
     "text": [
      "[6 9]\n",
      "---------------\n",
      "[2 6 4]\n",
      "---------------\n",
      "[[1 2 3]\n",
      " [3 6 7]\n",
      " [2 4 6]]\n",
      "---------------\n",
      "[[0 2 3]\n",
      " [9 6 7]\n",
      " [8 4 6]]\n",
      "---------------\n"
     ]
    }
   ],
   "source": [
    "# 陣列指定位置取值\n",
    "# num1b.py\n",
    "import numpy as np\n",
    "a = np.array([[1, 2, 3], [3, 6, 9], [2, 4, 6]]) \n",
    "print(a[1, 1:3])\n",
    "print(\"---------------\")\n",
    "print(a[:,1])\n",
    "print(\"---------------\")\n",
    "a[1, 2] = 7\n",
    "print(a)\n",
    "print(\"---------------\")\n",
    "a[:, 0] = [0, 9, 8]\n",
    "print(a)\n",
    "print(\"---------------\")\n",
    "\n",
    "\n"
   ]
  },
  {
   "cell_type": "code",
   "execution_count": 36,
   "metadata": {
    "pycharm": {
     "is_executing": false,
     "name": "#%%\n"
    }
   },
   "outputs": [
    {
     "name": "stdout",
     "output_type": "stream",
     "text": [
      "--1--\n",
      "[3 4]\n",
      "--2--\n",
      "[[44 45]\n",
      " [54 55]]\n",
      "--3--\n",
      "[[ 0  1  2]\n",
      " [10 11 12]\n",
      " [20 21 22]]\n",
      "--4--\n",
      "[ 2 12 22 32 42 52]\n"
     ]
    }
   ],
   "source": [
    "# 陣列指定位置取值\n",
    "# num1c.py\n",
    "\n",
    "import numpy as np \n",
    "a = np.array([\n",
    "[0,1, 2, 3,4,5],\n",
    "[10,11,12,13,14,15],\n",
    "[20,21,22,23,24,25],\n",
    "[30,31,32,33,34,35],\n",
    "[40,41,42,43,44,45],\n",
    "[50,51,52,53,54,55], \n",
    "])\n",
    "\n",
    "print(\"--1--\") \n",
    "print(a[0,3:5]) \n",
    "print(\"--2--\") \n",
    "print(a[4:,4:]) \n",
    "print(\"--3--\") \n",
    "print(a[:3,:3]) \n",
    "print(\"--4--\") \n",
    "print(a[:,2])\n"
   ]
  },
  {
   "cell_type": "code",
   "execution_count": 37,
   "metadata": {
    "pycharm": {
     "is_executing": false,
     "name": "#%%\n"
    }
   },
   "outputs": [
    {
     "name": "stdout",
     "output_type": "stream",
     "text": [
      "--1--\n",
      "[ 1 12 23 34 45]\n",
      "--2--\n",
      "[[30 32 35]\n",
      " [40 42 45]\n",
      " [50 52 55]]\n"
     ]
    }
   ],
   "source": [
    "# 陣列指定位置取值\n",
    "# num1d.py\n",
    "import numpy as np \n",
    "a = np.array([\n",
    "[0,1, 2, 3,4,5],\n",
    "[10,11,12,13,14,15],\n",
    "[20,21,22,23,24,25],\n",
    "[30,31,32,33,34,35],\n",
    "[40,41,42,43,44,45],\n",
    "[50,51,52,53,54,55], \n",
    "])\n",
    "\n",
    "print(\"--1--\") \n",
    "print(a[(0,1,2,3,4),(1,2,3,4,5)]) \n",
    "print(\"--2--\")\n",
    "print(a[3:,[0, 2, 5]])\n"
   ]
  },
  {
   "cell_type": "markdown",
   "metadata": {},
   "source": [
    "###  陣列初始化與重新規劃\n",
    "#### 針對初始化這部分提供了多種方式:\n",
    "- 不做初始化 - 例如:np.empty((2,4))\n",
    "- 全部規劃為 0 - 例如:np.zeros((3,4))\n",
    "- 全部規劃為 1 - 例如: np.ones((5,2))\n",
    "- 全部規劃/填滿為某數，例如 6 - 例如: np.full((3,3),6)\n",
    "- 建立對角矩陣，對角皆為 1，其他為 0 - 例如: np.eye(3)\n",
    "- 建立對角矩陣，對角為 1,2,3,4，其他為 0 - 例如: np.diag([1,2,3,4])\n",
    "- reshape((x,y)) 這個指令就可以將現有的陣列重新規劃為 x 乘以 y 的陣列。\n",
    "- np.arange(起始值, 結束值, 固定間隔):也是產生一維陣列，和 np.array( ) 的差別在於 arange 擁有較大的彈性，而且元素數值是自 動化產生。\n",
    "- np.linspace(起始值, 結束值, 起始與結束的區間內要產生幾個元素 ): 只要給定陣列的區間(起始值、結束值)，就可以要求在這個區間內產 生幾個元素。\n",
    "- arange(a,b,c) - 不包含 b 由 a 開始 以固定間隔 c 來取值\n",
    "- linspace(a,b,c,) - 包含 b 由 a 開始 切割成 c 個資料\n",
    "- linspace(a,b,c,endpoint=False) - 不包含 b 由 a 開始 切割成 c 個資料"
   ]
  },
  {
   "cell_type": "code",
   "execution_count": 38,
   "metadata": {
    "pycharm": {
     "is_executing": false,
     "name": "#%%\n"
    }
   },
   "outputs": [
    {
     "name": "stdout",
     "output_type": "stream",
     "text": [
      "[[ 1.47649463 -0.35571757 -2.18290005  3.62250537]\n",
      " [-0.94332608  1.39457373 -0.99628202  0.2471918 ]]\n",
      "-----\n",
      "[[0. 0. 0. 0.]\n",
      " [0. 0. 0. 0.]\n",
      " [0. 0. 0. 0.]]\n",
      "-----\n",
      "[[1. 1.]\n",
      " [1. 1.]\n",
      " [1. 1.]\n",
      " [1. 1.]\n",
      " [1. 1.]]\n"
     ]
    }
   ],
   "source": [
    "# 操作範例 1:陣列初始化與重新規劃\n",
    "# num2b.py\n",
    "import numpy as np\n",
    "x=np.empty((2,4))\n",
    "print(x)\n",
    "print(\"-----\")\n",
    "x =np.zeros((3,4))\n",
    "print(x)\n",
    "print(\"-----\")\n",
    "c = np.ones((5,2))\n",
    "print(c)"
   ]
  },
  {
   "cell_type": "code",
   "execution_count": 39,
   "metadata": {
    "pycharm": {
     "is_executing": false,
     "name": "#%%\n"
    }
   },
   "outputs": [
    {
     "name": "stdout",
     "output_type": "stream",
     "text": [
      "[[1. 0. 0.]\n",
      " [0. 1. 0.]\n",
      " [0. 0. 1.]]\n",
      "-----\n",
      "[[1 0 0 0]\n",
      " [0 2 0 0]\n",
      " [0 0 3 0]\n",
      " [0 0 0 4]]\n",
      "-----\n"
     ]
    }
   ],
   "source": [
    "# 操作範例 2:陣列初始化與重新規劃\n",
    "# num2c.py\n",
    "import numpy as np\n",
    "x=np.eye(3)\n",
    "print(x)\n",
    "print(\"-----\")\n",
    "x =np.diag([1,2,3,4]) \n",
    "print(x)\n",
    "print(\"-----\")\n"
   ]
  },
  {
   "cell_type": "code",
   "execution_count": 40,
   "metadata": {
    "pycharm": {
     "is_executing": false
    }
   },
   "outputs": [
    {
     "name": "stdout",
     "output_type": "stream",
     "text": [
      "[[ 1.   2.8]\n",
      " [ 4.6  6.4]\n",
      " [ 8.2 10. ]]\n",
      "-----\n",
      "[[ 1.   2.8  4.6]\n",
      " [ 6.4  8.2 10. ]]\n",
      "-----\n",
      "[[0 1 2 3]\n",
      " [4 5 6 7]]\n",
      "-----\n",
      "[[0 1]\n",
      " [2 3]\n",
      " [4 5]\n",
      " [6 7]]\n",
      "-----\n"
     ]
    }
   ],
   "source": [
    "# 操作範例 3:陣列初始化與重新規劃\n",
    "# num2c1.py\n",
    "import numpy as np\n",
    "x = np.linspace(1,10,6).reshape((3,2)) \n",
    "print(x)\n",
    "print(\"-----\")\n",
    "x = np.linspace(1,10,6).reshape((2,3)) \n",
    "print(x)\n",
    "print(\"-----\")\n",
    "x =np.arange(8).reshape((2,4)) \n",
    "print(x)\n",
    "print(\"-----\")\n",
    "x =np.arange(8).reshape((4,2)) \n",
    "print(x)\n",
    "print(\"-----\")"
   ]
  },
  {
   "cell_type": "markdown",
   "metadata": {},
   "source": [
    "####  請問以下的程式執行後值是多少?(選擇題)\n",
    "\n",
    "```python\n",
    "import numpy as np\n",
    "r1 = np.arange(25, 30, .5) \n",
    "print(\"r1=>\",r1)\n",
    "```\n",
    "(1) 30  \n",
    "(2) 29.5  \n",
    "(3) 25  \n",
    "(4) 27  \n"
   ]
  },
  {
   "cell_type": "markdown",
   "metadata": {},
   "source": [
    "####  請問以下的程式執行後值是多少?(選擇題)\n",
    "\n",
    "```python\n",
    "import numpy as np\n",
    "lin = np.linspace(3, 5, 9) \n",
    "print(\"r1=>\",lin)\n",
    "```\n",
    "(1) 9   \n",
    "(2) 8.5   \n",
    "(3) 8  \n",
    "(4) 5   \n",
    "\n"
   ]
  },
  {
   "cell_type": "code",
   "execution_count": 41,
   "metadata": {
    "pycharm": {
     "is_executing": false
    }
   },
   "outputs": [
    {
     "name": "stdout",
     "output_type": "stream",
     "text": [
      "a=> [6 7 8 9]\n",
      "b=> [0 1 2 3]\n",
      "c=> [6 6 6 6]\n",
      "d=> [0 1 4 9]\n",
      "f=> [5 1 1 9 1]\n"
     ]
    }
   ],
   "source": [
    "# 操作範例:陣列初始化與重新規劃\n",
    "# num2e.py\n",
    "import numpy as np\n",
    "a = np.array( [6, 7, 8, 9] ) \n",
    "b = np.arange( 4 )\n",
    "c=a-b\n",
    "print(\"a=>\",a) \n",
    "print(\"b=>\",b) \n",
    "print(\"c=>\",c)\n",
    "d = b**2\n",
    "print(\"d=>\",d)\n",
    "f = np.array([5, -1, 3, 9, 0]) \n",
    "f[f<=3] = 1\n",
    "print(\"f=>\",f)"
   ]
  },
  {
   "cell_type": "markdown",
   "metadata": {},
   "source": [
    "####  請問以下的程式執行後值是多少?(選擇題)\n",
    "\n",
    "```python\n",
    "import numpy as np\n",
    "a = np.array( [6, 7, 8, 9] ) \n",
    "a += 2\n",
    "print(a)\n",
    "```\n",
    "(1) [2 8 9 10 11]  \n",
    "(2) [8 9 10 11 2]  \n",
    "(3) [8 9 10 11]  \n",
    "(4) [6 7 8 9 6 7 8 9]  "
   ]
  },
  {
   "cell_type": "markdown",
   "metadata": {},
   "source": [
    "### 列,欄對調"
   ]
  },
  {
   "cell_type": "code",
   "execution_count": 42,
   "metadata": {
    "pycharm": {
     "is_executing": false,
     "name": "#%%\n"
    }
   },
   "outputs": [
    {
     "name": "stdout",
     "output_type": "stream",
     "text": [
      "[[ 0  1  2  3  4]\n",
      " [ 5  6  7  8  9]\n",
      " [10 11 12 13 14]]\n",
      "[[ 0  5 10]\n",
      " [ 1  6 11]\n",
      " [ 2  7 12]\n",
      " [ 3  8 13]\n",
      " [ 4  9 14]]\n"
     ]
    }
   ],
   "source": [
    "#使用.T\n",
    "arr = np.arange(15).reshape((3, 5))\n",
    "print(arr)\n",
    "print(arr.T)"
   ]
  },
  {
   "cell_type": "markdown",
   "metadata": {},
   "source": [
    "## 指定與重設\n",
    "1. 一個整數指定\n",
    "2. tuple 或 list 指定\n",
    "3. 重設陣列\n"
   ]
  },
  {
   "cell_type": "markdown",
   "metadata": {},
   "source": [
    "###  重設新陣列\n",
    "1. resize 這個動作會依據原本的陣列再設定指定大小的新陣列。\n",
    "2. resize 動作的參數如下:\n",
    "    - numpy.resize(arr1，shape1)\n",
    "    - arr1:原本的陣列\n",
    "    - shape1:新規劃的大小\n",
    "###  重設新陣列\n",
    "1. 如果規劃的新陣列比較大，將會重新複製原有陣列的資料，填滿新的儲存格。\n",
    "2. resize 這個動作建立新的陣列，而 reshape 則是依據原有的重新規劃，仍會受到原有陣列影響。"
   ]
  },
  {
   "cell_type": "code",
   "execution_count": 43,
   "metadata": {
    "pycharm": {
     "is_executing": false
    }
   },
   "outputs": [
    {
     "name": "stdout",
     "output_type": "stream",
     "text": [
      "[[1 2 3]\n",
      " [4 5 6]]\n",
      "(2, 3)\n",
      "\n",
      "[[1 2]\n",
      " [3 4]\n",
      " [5 6]]\n",
      "(3, 2)\n",
      "\n",
      "[[  1 100]\n",
      " [  3   4]\n",
      " [  5   6]]\n",
      "(3, 2)\n",
      "\n"
     ]
    }
   ],
   "source": [
    "# 操作範例:reshape\n",
    "# num5.py\n",
    "import numpy as np\n",
    "a = np.array([[1,2,3],[4,5,6]]) \n",
    "print(a)\n",
    "print(a.shape)\n",
    "print( )\n",
    "b = a.reshape(3,2)\n",
    "print(b)\n",
    "print(b.shape)\n",
    "print( )\n",
    "a[0,1]=100\n",
    "print(b)\n",
    "print(b.shape)\n",
    "print( )"
   ]
  },
  {
   "cell_type": "code",
   "execution_count": 44,
   "metadata": {
    "pycharm": {
     "is_executing": false
    }
   },
   "outputs": [
    {
     "name": "stdout",
     "output_type": "stream",
     "text": [
      "[[1 2 3]\n",
      " [4 5 6]]\n",
      "(2, 3)\n",
      "\n",
      "[[1 2]\n",
      " [3 4]\n",
      " [5 6]]\n",
      "(3, 2)\n",
      "\n",
      "[[1 2]\n",
      " [3 4]\n",
      " [5 6]]\n",
      "(3, 2)\n",
      "(2, 3)\n"
     ]
    }
   ],
   "source": [
    "# 操作範例:resize\n",
    "# num5a.py\n",
    "import numpy as np\n",
    "a = np.array([[1,2,3],[4,5,6]]) \n",
    "print(a)\n",
    "print(a.shape)\n",
    "print( )\n",
    "b = np.resize(a, (3,2)) \n",
    "print(b)\n",
    "print(b.shape)\n",
    "print( )\n",
    "a[0,1]=100\n",
    "print(b)\n",
    "print(b.shape) \n",
    "print(a.shape)"
   ]
  },
  {
   "cell_type": "markdown",
   "metadata": {
    "pycharm": {
     "name": "#%% md\n"
    }
   },
   "source": [
    "### Universal Functions"
   ]
  },
  {
   "cell_type": "code",
   "execution_count": 45,
   "metadata": {
    "pycharm": {
     "is_executing": false,
     "name": "#%%\n"
    }
   },
   "outputs": [
    {
     "name": "stdout",
     "output_type": "stream",
     "text": [
      "[0 1 2 3 4 5 6 7 8 9]\n",
      "[0.         1.         1.41421356 1.73205081 2.         2.23606798\n",
      " 2.44948974 2.64575131 2.82842712 3.        ]\n",
      "[1.00000000e+00 2.71828183e+00 7.38905610e+00 2.00855369e+01\n",
      " 5.45981500e+01 1.48413159e+02 4.03428793e+02 1.09663316e+03\n",
      " 2.98095799e+03 8.10308393e+03]\n"
     ]
    }
   ],
   "source": [
    "#universal functions\n",
    "arr = np.arange(10)\n",
    "print(arr)\n",
    "\n",
    "print(np.sqrt(arr))\n",
    "\n",
    "print(np.exp(arr))"
   ]
  },
  {
   "cell_type": "code",
   "execution_count": 46,
   "metadata": {
    "pycharm": {
     "is_executing": false,
     "name": "#%%\n"
    }
   },
   "outputs": [
    {
     "name": "stdout",
     "output_type": "stream",
     "text": [
      "[ 0.02697798  0.21616615  0.43867977 -1.87193017 -0.16096573  1.70683777\n",
      "  0.90498582  0.65085084]\n",
      "\n",
      "[ 1.99661381  0.2230349  -0.26867174 -0.93109388 -0.2611932   0.4972748\n",
      "  1.46145742 -1.64244282]\n",
      "\n"
     ]
    },
    {
     "data": {
      "text/plain": [
       "array([ 1.99661381,  0.2230349 ,  0.43867977, -0.93109388, -0.16096573,\n",
       "        1.70683777,  1.46145742,  0.65085084])"
      ]
     },
     "execution_count": 46,
     "metadata": {},
     "output_type": "execute_result"
    }
   ],
   "source": [
    "#maximum\n",
    "x = np.random.randn(8)\n",
    "y = np.random.randn(8)\n",
    "print(x)\n",
    "print()\n",
    "print(y)\n",
    "print()\n",
    "\n",
    "np.maximum(x, y)"
   ]
  },
  {
   "cell_type": "code",
   "execution_count": 55,
   "metadata": {
    "pycharm": {
     "name": "#%%\n"
    }
   },
   "outputs": [
    {
     "name": "stdout",
     "output_type": "stream",
     "text": [
      "[ 3.02428183  5.45408366  1.70179687 -2.19469732 -6.85896368  5.95612834\n",
      " -2.47085592]\n",
      "\n",
      "[ 0.02428183  0.45408366  0.70179687 -0.19469732 -0.85896368  0.95612834\n",
      " -0.47085592]\n",
      "\n",
      "[ 3.  5.  1. -2. -6.  5. -2.]\n",
      "\n"
     ]
    }
   ],
   "source": [
    "#np.modf()\n",
    "arr = np.random.randn(7) * 5\n",
    "print(arr)\n",
    "print()\n",
    "remainder, whole_part = np.modf(arr)\n",
    "print(remainder)\n",
    "print()\n",
    "print(whole_part)\n",
    "print()"
   ]
  },
  {
   "cell_type": "markdown",
   "metadata": {},
   "source": [
    "### 陣列的判斷式\n",
    "- np.where()"
   ]
  },
  {
   "cell_type": "code",
   "execution_count": 58,
   "metadata": {},
   "outputs": [
    {
     "name": "stdout",
     "output_type": "stream",
     "text": [
      "[1.1, 2.2, 1.3, 1.4, 2.5]\n",
      "\n",
      "[1.1 2.2 1.3 1.4 2.5]\n",
      "\n"
     ]
    }
   ],
   "source": [
    "#np.where() 相等於python x if condition else y\n",
    "xarr = np.array([1.1, 1.2, 1.3, 1.4, 1.5])\n",
    "yarr = np.array([2.1, 2.2, 2.3, 2.4, 2.5])\n",
    "\n",
    "cond = np.array([True, False, True, True, False])\n",
    "#python\n",
    "result = [(x if c else y)for x, y, c in zip(xarr, yarr, cond)]\n",
    "print(result)\n",
    "print()\n",
    "\n",
    "result = np.where(cond, xarr, yarr)\n",
    "print(result)\n",
    "print()\n"
   ]
  },
  {
   "cell_type": "code",
   "execution_count": 63,
   "metadata": {},
   "outputs": [
    {
     "name": "stdout",
     "output_type": "stream",
     "text": [
      "[[-1.57637076  2.31685047 -1.1751294   0.86472223]\n",
      " [-0.3542901  -0.80762429 -2.07895505 -0.37985471]\n",
      " [ 0.17758131 -1.84047805 -0.18671593 -0.20248954]\n",
      " [-0.46942814  0.05466415  1.29999191  0.2944954 ]]\n",
      "\n",
      "[[False  True False  True]\n",
      " [False False False False]\n",
      " [ True False False False]\n",
      " [False  True  True  True]]\n",
      "\n",
      "[[-2  2 -2  2]\n",
      " [-2 -2 -2 -2]\n",
      " [ 2 -2 -2 -2]\n",
      " [-2  2  2  2]]\n",
      "\n",
      "[[-1.57637076  2.         -1.1751294   2.        ]\n",
      " [-0.3542901  -0.80762429 -2.07895505 -0.37985471]\n",
      " [ 2.         -1.84047805 -0.18671593 -0.20248954]\n",
      " [-0.46942814  2.          2.          2.        ]]\n",
      "\n"
     ]
    }
   ],
   "source": [
    "#np.where()\n",
    "arr = np.random.randn(4, 4)\n",
    "print(arr)\n",
    "print()\n",
    "\n",
    "print(arr>0)\n",
    "print()\n",
    "\n",
    "print(np.where(arr>0, 2, -2))\n",
    "print()\n",
    "\n",
    "print(np.where(arr>0, 2, arr))\n",
    "print()"
   ]
  },
  {
   "cell_type": "markdown",
   "metadata": {},
   "source": [
    "### 數學和統計方法"
   ]
  },
  {
   "cell_type": "code",
   "execution_count": 70,
   "metadata": {},
   "outputs": [
    {
     "name": "stdout",
     "output_type": "stream",
     "text": [
      "[[ 0.36588408 -0.702241    0.39124265 -0.50311517]\n",
      " [ 0.53470249 -1.02696658 -0.32080676  1.08223046]\n",
      " [ 0.43789572  1.12734475 -0.70640212 -1.25058705]\n",
      " [ 0.90082498  0.865492    0.04929255 -0.67568994]\n",
      " [ 0.87244739  0.92030285  0.72120076  0.13528526]]\n",
      "\n",
      "0.16091686653031634\n",
      "0.16091686653031634\n",
      "\n",
      "3.2183373306063268\n",
      "[-0.11205736  0.0672899  -0.09793717  0.2849799   0.66230907]\n",
      "\n",
      "[ 3.11175465  1.18393202  0.13452709 -1.21187643]\n"
     ]
    }
   ],
   "source": [
    "# mean(),sum(),std()\n",
    "arr = np.random.randn(5, 4)\n",
    "print(arr)\n",
    "print()\n",
    "\n",
    "print(arr.mean())\n",
    "print(np.mean(arr))\n",
    "print()\n",
    "print(arr.sum())\n",
    "\n",
    "#axis\n",
    "print(arr.mean(axis=1))\n",
    "print()\n",
    "\n",
    "print(arr.sum(axis=0))"
   ]
  },
  {
   "cell_type": "code",
   "execution_count": 74,
   "metadata": {},
   "outputs": [
    {
     "name": "stdout",
     "output_type": "stream",
     "text": [
      "[ 0  1  3  6 10 15 21 28]\n",
      "[[0 1 2]\n",
      " [3 4 5]\n",
      " [6 7 8]]\n",
      "\n",
      "[[ 0  1  2]\n",
      " [ 3  5  7]\n",
      " [ 9 12 15]]\n",
      "\n",
      "[[  0   0   0]\n",
      " [  3  12  60]\n",
      " [  6  42 336]]\n",
      "\n"
     ]
    }
   ],
   "source": [
    "#cumsum()累計\n",
    "arr = np.array([0, 1, 2, 3, 4, 5, 6, 7])\n",
    "print(arr.cumsum())\n",
    "\n",
    "arr = np.array([[0, 1, 2],[3, 4, 5],[6, 7, 8]])\n",
    "print(arr)\n",
    "print()\n",
    "\n",
    "print(arr.cumsum(axis=0))\n",
    "print()\n",
    "\n",
    "print(arr.cumprod(axis=1))\n",
    "print()"
   ]
  },
  {
   "cell_type": "markdown",
   "metadata": {},
   "source": [
    "## 數值計算與處理\n",
    "1. 數值計算\n",
    "2. 總和最大與最小\n",
    "3. 中位數與平均\n"
   ]
  },
  {
   "cell_type": "markdown",
   "metadata": {
    "pycharm": {
     "name": "#%% md\n"
    }
   },
   "source": [
    "###  總和最大與最小\n",
    "1. np.sum( ) 代表某一個陣列內容的總和，也可以指定這個陣列的哪一軸 (axis) 內容總和。\n",
    "2. np.min( ) 代表某一個陣列內容的最小值，也可以指定這個陣列的哪一軸 (axis) 內容的最小值。\n",
    "3. np.max( ) 代表某一個陣列內容的最大值，也可以指定這個陣列的哪一軸 (axis) 內容的最大值。\n",
    "4. amin 與 min 是相同功能的方法。\n",
    "5. amax 與 max 是相同功能的方法。"
   ]
  },
  {
   "cell_type": "code",
   "execution_count": 48,
   "metadata": {
    "pycharm": {
     "is_executing": false,
     "name": "#%%\n"
    }
   },
   "outputs": [
    {
     "name": "stdout",
     "output_type": "stream",
     "text": [
      "[[ 0 30 45]\n",
      " [60 75 90]]\n",
      "---------------\n",
      "300\n",
      "---------------\n",
      "[ 60 105 135]\n",
      "---------------\n",
      "[ 75 225]\n",
      "---------------\n"
     ]
    }
   ],
   "source": [
    "# 操作範例:總和最大與最小\n",
    "# num13.py\n",
    "\n",
    "import numpy as np\n",
    "a = np.array([[0, 30,45],[60,75,90]]) \n",
    "print(a)\n",
    "print(\"---------------\")\n",
    "\n",
    "b=np.sum(a)\n",
    "print(b)\n",
    "print(\"---------------\") \n",
    "\n",
    "b=np.sum(a,axis=0)\n",
    "print(b)\n",
    "print(\"---------------\") \n",
    "\n",
    "b=np.sum(a,axis=1)\n",
    "print(b)\n",
    "print(\"---------------\")"
   ]
  },
  {
   "cell_type": "code",
   "execution_count": 49,
   "metadata": {
    "pycharm": {
     "is_executing": false,
     "name": "#%%\n"
    }
   },
   "outputs": [
    {
     "name": "stdout",
     "output_type": "stream",
     "text": [
      "[[ 0 30 45]\n",
      " [60 75 90]]\n",
      "---------------\n",
      "90\n",
      "---------------\n",
      "[60 75 90]\n",
      "---------------\n",
      "[45 90]\n",
      "---------------\n"
     ]
    }
   ],
   "source": [
    "# 操作範例:總和最大與最小\n",
    "# num13a1.py\n",
    "import numpy as np\n",
    "a = np.array([[0, 30,45],[60,75,90]]) \n",
    "print(a)\n",
    "print(\"---------------\")\n",
    "\n",
    "b=np.max(a)\n",
    "print(b)\n",
    "print(\"---------------\") \n",
    "\n",
    "b=np.max(a,axis=0)\n",
    "print(b)\n",
    "print(\"---------------\") \n",
    "\n",
    "b=np.max(a,axis=1)\n",
    "print(b)\n",
    "print(\"---------------\")"
   ]
  },
  {
   "cell_type": "markdown",
   "metadata": {
    "pycharm": {
     "name": "#%% md\n"
    }
   },
   "source": [
    "###  中位數與平均\n",
    "1. median( ) 方法可取出陣列或陣列中指定的軸之中位數。\n",
    "2. 把所有值高低排序後找出正中間的一個作爲中位數。如果資料數量為偶數，則中位數取最中間的兩個數值的平均數。\n",
    "3. 參數:\n",
    "    - array:陣列\n",
    "    - axis:軸\n",
    "    \n",
    "4. mean( ) 方法可取出陣列或陣列中指定的軸之平均數。 \n",
    "5. 平均值就是把陣列或指定軸的所有資料除以數量後的數值。\n",
    "6. 參數:\n",
    "    - array:陣列\n",
    "    - axis:軸\n",
    "\n",
    "7. average( ) 方法與 mean( ) 方法相似，但可以加入權重進行計算。\n",
    "8. 計算公式為 ((資料*權重)相加)/(權重相加)\n",
    "9. 參數:\n",
    "    - array:陣列\n",
    "    - axis:軸\n",
    "    - weights:權重，若沒有則設定為 1\n",
    "    - returned:若設定為 true，代表返回計算結果與權重相加總合，若沒有設定或設定 false 則只有計算結果\n",
    "10. 沒有指定權重時與一般平均值相同。\n",
    "11. 加權平均值是由每個資料乘以權重以反映加上重要性因素後產生的平均值。\n",
    "12. average( ) 使用時若沒有指定軸，則陣列將被平坦化。 \n",
    "13. 假設有個陣列資料為 [1,2,3,4]，相應的權重 [40,30,20,10]，加權 平均數是這樣:\n",
    "    -  (1*40+2*30+3*20+4*10)/(40+30+20+10)"
   ]
  },
  {
   "cell_type": "code",
   "execution_count": 50,
   "metadata": {
    "pycharm": {
     "is_executing": false,
     "name": "#%%\n"
    }
   },
   "outputs": [
    {
     "name": "stdout",
     "output_type": "stream",
     "text": [
      "[[ 0 30 45]\n",
      " [60 75 90]]\n",
      "\n",
      "52.5\n",
      "\n",
      "[30.  52.5 67.5]\n",
      "\n",
      "[30. 75.]\n",
      "\n"
     ]
    }
   ],
   "source": [
    "# 操作範例:中位數與平均\n",
    "# num14.py\n",
    "\n",
    "import numpy as np\n",
    "a = np.array([[0, 30,45],[60,75,90]]) \n",
    "print(a)\n",
    "print( )\n",
    "\n",
    "b=np.median(a)\n",
    "print(b)\n",
    "print( )\n",
    "\n",
    "b=np.median(a, axis = 0)\n",
    "print(b)\n",
    "print( )\n",
    "\n",
    "b=np.median(a, axis = 1)\n",
    "print(b)\n",
    "print( )"
   ]
  },
  {
   "cell_type": "code",
   "execution_count": 51,
   "metadata": {
    "pycharm": {
     "is_executing": false,
     "name": "#%%\n"
    }
   },
   "outputs": [
    {
     "name": "stdout",
     "output_type": "stream",
     "text": [
      "[[ 0 30 45]\n",
      " [60 75 90]]\n",
      "\n",
      "50.0\n",
      "\n",
      "[30.  52.5 67.5]\n",
      "\n",
      "[25. 75.]\n",
      "\n"
     ]
    }
   ],
   "source": [
    "# 操作範例:中位數與平均\n",
    "# num14a.py\n",
    "\n",
    "import numpy as np\n",
    "a = np.array([[0, 30,45],[60,75,90]]) \n",
    "print(a)\n",
    "print( )\n",
    "\n",
    "b=np.mean(a)\n",
    "print(b)\n",
    "print( )\n",
    "\n",
    "b=np.mean(a, axis = 0)\n",
    "print(b)\n",
    "print( )\n",
    "\n",
    "b=np.mean(a, axis = 1)\n",
    "print(b)\n",
    "print( )"
   ]
  },
  {
   "cell_type": "code",
   "execution_count": 52,
   "metadata": {
    "pycharm": {
     "is_executing": false,
     "name": "#%%\n"
    }
   },
   "outputs": [
    {
     "name": "stdout",
     "output_type": "stream",
     "text": [
      "2.5\n",
      "\n",
      "2.0\n",
      "\n",
      "(2.0, 10.0)\n",
      "\n"
     ]
    }
   ],
   "source": [
    "# 操作範例:中位數與平均\n",
    "# num14b.py\n",
    "import numpy as np\n",
    "a = np.array([1,2,3,4])\n",
    "b=np.average(a)\n",
    "print(b)\n",
    "print( )\n",
    "\n",
    "wts = np.array([4,3,2,1])\n",
    "b=np.average(a,weights = wts)\n",
    "print(b)\n",
    "print( )\n",
    "\n",
    "b=np.average([1,2,3,4],weights = [4,3,2,1], returned = True)\n",
    "print(b)\n",
    "print( )"
   ]
  },
  {
   "cell_type": "markdown",
   "metadata": {
    "pycharm": {
     "name": "#%% md\n"
    }
   },
   "source": [
    "#### Homework 人數統計\n",
    "1. [請到以下網頁查看](http://python2018.byethost10.com/class6.html)\n",
    "2. 接著請您:\n",
    "    - 利用迴圈跑出 17 個月各月的總人數。\n",
    "    - 計算 17 個月的人口平均值、中位數、最大值與最小值。"
   ]
  }
 ],
 "metadata": {
  "kernelspec": {
   "display_name": "Python 3",
   "language": "python",
   "name": "python3"
  },
  "language_info": {
   "codemirror_mode": {
    "name": "ipython",
    "version": 3
   },
   "file_extension": ".py",
   "mimetype": "text/x-python",
   "name": "python",
   "nbconvert_exporter": "python",
   "pygments_lexer": "ipython3",
   "version": "3.7.4"
  },
  "pycharm": {
   "stem_cell": {
    "cell_type": "raw",
    "metadata": {
     "collapsed": false
    },
    "source": []
   }
  }
 },
 "nbformat": 4,
 "nbformat_minor": 2
}
