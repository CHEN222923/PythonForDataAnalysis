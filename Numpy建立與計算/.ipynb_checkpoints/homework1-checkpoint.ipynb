{
 "cells": [
  {
   "cell_type": "code",
   "execution_count": 7,
   "metadata": {},
   "outputs": [
    {
     "name": "stdout",
     "output_type": "stream",
     "text": [
      "8397\n",
      "8393\n",
      "8389\n",
      "8376\n",
      "8378\n",
      "8395\n",
      "8411\n",
      "8410\n",
      "8413\n",
      "8408\n",
      "8408\n",
      "8414\n",
      "8421\n",
      "8411\n",
      "8392\n",
      "8404\n",
      "平均人數: 8401.0\n",
      "中位數: 8406.0\n",
      "最大值: 8421.0\n",
      "最小值: 8376.0\n"
     ]
    }
   ],
   "source": [
    "import numpy as np\n",
    "pops = [8397,8393,8389,8376,8378,8395,8411,8409.8406,8413,8408,8408,8414,8421,8411,8392,8404]\n",
    "for pop in pops:\n",
    "    print(round(pop))\n",
    "popsArray = np.array(pops)\n",
    "print('平均人數:',np.around(np.mean(popsArray)))\n",
    "print('中位數:',np.median(popsArray))\n",
    "print('最大值:',popsArray.max())\n",
    "print('最小值:',popsArray.min())"
   ]
  },
  {
   "cell_type": "code",
   "execution_count": null,
   "metadata": {},
   "outputs": [],
   "source": []
  }
 ],
 "metadata": {
  "kernelspec": {
   "display_name": "Python 3",
   "language": "python",
   "name": "python3"
  },
  "language_info": {
   "codemirror_mode": {
    "name": "ipython",
    "version": 3
   },
   "file_extension": ".py",
   "mimetype": "text/x-python",
   "name": "python",
   "nbconvert_exporter": "python",
   "pygments_lexer": "ipython3",
   "version": "3.7.4"
  }
 },
 "nbformat": 4,
 "nbformat_minor": 2
}
