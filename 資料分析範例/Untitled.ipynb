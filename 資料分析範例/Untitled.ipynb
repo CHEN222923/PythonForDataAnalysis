{
 "cells": [
  {
   "cell_type": "code",
   "execution_count": null,
   "metadata": {},
   "outputs": [],
   "source": [
    "%matplotlib notebook\n",
    "import urllib3\n",
    "import certifi\n",
    "import csv\n",
    "import matplotlib.pyplot as plt\n",
    "CSV_URL = 'http://data.coa.gov.tw/Service/OpenData/ODwsv/ODwsvOutdoorEdu.aspx?FOTT=CSV'\n",
    "http = urllib3.PoolManager(cert_reqs='CERT_REQUIRED',ca_certs=certifi.where())\n",
    "r = http.request('GET', CSV_URL)\n",
    "if r.status == 200:\n",
    "    with open('output2.csv','wb') as f:\n",
    "        f.write(r.data)\n",
    "        f.close()\n",
    "else:\n",
    "    print('下載錯誤')"
   ]
  },
  {
   "cell_type": "code",
   "execution_count": null,
   "metadata": {},
   "outputs": [],
   "source": []
  }
 ],
 "metadata": {
  "kernelspec": {
   "display_name": "Python 3",
   "language": "python",
   "name": "python3"
  },
  "language_info": {
   "codemirror_mode": {
    "name": "ipython",
    "version": 3
   },
   "file_extension": ".py",
   "mimetype": "text/x-python",
   "name": "python",
   "nbconvert_exporter": "python",
   "pygments_lexer": "ipython3",
   "version": "3.7.4"
  }
 },
 "nbformat": 4,
 "nbformat_minor": 2
}
