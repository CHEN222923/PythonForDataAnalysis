{
 "cells": [
  {
   "cell_type": "markdown",
   "metadata": {},
   "source": [
    "# 群組資料和群組運算\n",
    "    - 群組資料集和對群組運算是分析資料的重要一環\n",
    "    - 從載入資料,合併資料,清理資料後,再來就是要群組分析,產生樞紐分析表和視覺圖表\n",
    "    - pandas提供groupby的介面,使我們可以切割,組合,分析資料\n",
    "    \n",
    "## GroupBy 機制\n",
    "    -split-apply-combine\n",
    "\n",
    "![group aggregation](aggregation.png)\n",
    "\n",
    "    - Grouping key可以有非常多的格式\n",
    "        * list或者是array, 必需和被分析資料的長度一樣\n",
    "        * DataFrame的欄位名稱\n",
    "        * dictionary 或 Series\n",
    "        * function"
   ]
  },
  {
   "cell_type": "code",
   "execution_count": 8,
   "metadata": {},
   "outputs": [
    {
     "data": {
      "text/plain": [
       "key1  key2\n",
       "a     one    -0.682178\n",
       "      two    -0.677725\n",
       "b     one     0.214141\n",
       "      two    -1.230363\n",
       "Name: data1, dtype: float64"
      ]
     },
     "execution_count": 8,
     "metadata": {},
     "output_type": "execute_result"
    }
   ],
   "source": [
    "import numpy as np\n",
    "import pandas as pd\n",
    "\n",
    "df = pd.DataFrame({'key1':['a', 'a', 'b', 'b', 'a'],\n",
    "                  'key2':['one', 'two', 'one', 'two', 'one'],\n",
    "                  'data1': np.random.randn(5),\n",
    "                  'data2':np.random.randn(5)})\n",
    "df\n",
    "'''\n",
    "Out[22]: \n",
    "  key1 key2     data1     data2\n",
    "0    a  one  0.840432  1.395391\n",
    "1    a  two  0.032048  1.732521\n",
    "2    b  one  1.309441  0.444729\n",
    "3    b  two  0.434163 -0.929048\n",
    "4    a  one -0.748641  0.560896\n",
    "'''\n",
    "\n",
    "\n",
    "#依據key1求取data1的平均\n",
    "#groupby(Serial)\n",
    "#會得到GroupBy物件,目前尚未運算,這只是個中介資料\n",
    "grouped = df['data1'].groupby(df['key1'])\n",
    "grouped\n",
    "#Out[23]: <pandas.core.groupby.generic.SeriesGroupBy object at 0x7ff541ddb190>\n",
    "\n",
    "#求平均\n",
    "#產生全新的Serial,索引是依據groupby內的Serial值和Serial的name\n",
    "grouped.mean()\n",
    "'''\n",
    "Out[24]: \n",
    "key1\n",
    "a    0.041280\n",
    "b    0.871802\n",
    "Name: data1, dtype: float64\n",
    "'''\n",
    "\n",
    "\n",
    "#groupby(list)\n",
    "means = df['data1'].groupby([df['key1'], df['key2']]).mean()\n",
    "means\n",
    "\n",
    "'''\n",
    "Out[25]: \n",
    "key1  key2\n",
    "a     one     0.045896\n",
    "      two     0.032048\n",
    "b     one     1.309441\n",
    "      two     0.434163\n",
    "Name: data1, dtype: float64\n",
    "\n",
    "\n",
    "'''"
   ]
  },
  {
   "cell_type": "code",
   "execution_count": null,
   "metadata": {},
   "outputs": [],
   "source": []
  }
 ],
 "metadata": {
  "kernelspec": {
   "display_name": "Python 3",
   "language": "python",
   "name": "python3"
  },
  "language_info": {
   "codemirror_mode": {
    "name": "ipython",
    "version": 3
   },
   "file_extension": ".py",
   "mimetype": "text/x-python",
   "name": "python",
   "nbconvert_exporter": "python",
   "pygments_lexer": "ipython3",
   "version": "3.7.4"
  }
 },
 "nbformat": 4,
 "nbformat_minor": 2
}
