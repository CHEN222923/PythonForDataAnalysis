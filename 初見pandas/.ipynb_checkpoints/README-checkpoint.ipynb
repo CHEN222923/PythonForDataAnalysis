{
 "cells": [
  {
   "cell_type": "markdown",
   "metadata": {},
   "source": [
    "# pandas\n",
    "1 pandas的資料結構  \n",
    "2 pandas的資料工具  \n",
    "3 規劃和整理資料  \n",
    "4 分析資料更為快速  \n",
    "5 pandas的數值處理方法非常類似於Numpy和Scipy  \n",
    "6 pandas也是使用array 導向方式處理資料  \n",
    "7 numpy專門處理相同數值的array資料  \n",
    "8 pandas專門處理不同資料型態的表格資料  "
   ]
  },
  {
   "cell_type": "code",
   "execution_count": null,
   "metadata": {},
   "outputs": [],
   "source": [
    "#一般我們使用pandas的語法如下\n",
    "import pandas as pd\n",
    "\n",
    "#如果要直接將Series,DataFrame載入到現在使用的命名空間\n",
    "from pandas import Series, DataFrame"
   ]
  },
  {
   "cell_type": "markdown",
   "metadata": {},
   "source": [
    "## pandas的資料結構\n",
    "1.Series  \n",
    "2.DataFrame  \n"
   ]
  },
  {
   "cell_type": "markdown",
   "metadata": {},
   "source": [
    "## Series\n",
    "- 類似一個一維的陣列(相似於numpy),但還包含了一些對應資料的符號(index)  "
   ]
  },
  {
   "cell_type": "code",
   "execution_count": null,
   "metadata": {},
   "outputs": [],
   "source": [
    "#pd.Series()\n",
    "#屬性values\n",
    "#屬性index\n",
    "\n",
    "import pandas as np\n",
    "\n",
    "\n",
    "#Seriese -> 類似一個一維的陣列(相似於numpy),但還包含了一些對應資料的符號(index)\n",
    "obj = pd.Series([4, 7, -5, 3])\n",
    "obj\n",
    "\n",
    "#下面左邊是index,右邊的是值.沒有特定指定索引將會採用0 ~ N-1的值(N是這資料的長度)。\n",
    "'''\n",
    "Out[23]: \n",
    "0    4\n",
    "1    7\n",
    "2   -5\n",
    "3    3\n",
    "dtype: int64\n",
    "'''\n",
    "\n",
    "\n",
    "#使用values的屬性取出numpy的ndarray\n",
    "obj.values\n",
    "'''\n",
    "Out[24]: array([ 4,  7, -5,  3])\n",
    "'''\n",
    "\n",
    "#使用index屬性取出index物件\n",
    "obj.index\n",
    "#Out[25]: RangeIndex(start=0, stop=4, step=1)\n",
    "\n"
   ]
  },
  {
   "cell_type": "code",
   "execution_count": null,
   "metadata": {},
   "outputs": [],
   "source": [
    "#pd.Series(,index=)\n",
    "#自定Series索引的label\n",
    "import pandas as pd\n",
    "\n",
    "obj2 = pd.Series([4, 7, -5, 3], index=['d', 'b', 'a', 'c'])\n",
    "obj2\n",
    "'''\n",
    "In [27]: obj2                                                                   \n",
    "Out[27]: \n",
    "d    4\n",
    "b    7\n",
    "a   -5\n",
    "c    3\n",
    "dtype: int64\n",
    "'''\n",
    "\n",
    "#使用index屬性取出索引物件\n",
    "obj2.index\n",
    "#Out[28]: Index(['d', 'b', 'a', 'c'], dtype='object')\n",
    "\n",
    "\n",
    "#和numpy不同是，我們可以使用索引的label取出值來\n",
    "obj2['a']\n",
    "# output -5\n",
    "\n",
    "#修改值\n",
    "obj2['d'] = 6\n",
    "obj2\n",
    "'''\n",
    "Out[30]: \n",
    "d    6\n",
    "b    7\n",
    "a   -5\n",
    "c    3\n",
    "dtype: int64\n",
    "'''\n",
    "\n",
    "#使用list取出多個值\n",
    "obj2[['c', 'a', 'd']]\n",
    "'''\n",
    "Out[31]: \n",
    "c    3\n",
    "a   -5\n",
    "d    6\n",
    "dtype: int64\n",
    "'''"
   ]
  },
  {
   "cell_type": "code",
   "execution_count": null,
   "metadata": {},
   "outputs": [],
   "source": [
    "import pandas as pd\n",
    "\n",
    "#使用類似numpy的運算元操作\n",
    "obj2 = pd.Series([4, 7, -5, 3], index=['d', 'b', 'a', 'c'])\n",
    "obj2\n",
    "'''\n",
    "Out[34]: \n",
    "d    4\n",
    "b    7\n",
    "a   -5\n",
    "c    3\n",
    "dtype: int64\n",
    "'''\n",
    "\n",
    "#使用boolean array過濾資料\n",
    "obj2[obj2 > 0]\n",
    "'''\n",
    "Out[33]: \n",
    "d    4\n",
    "b    7\n",
    "c    3\n",
    "dtype: int64\n",
    "'''\n",
    "\n",
    "#使用和純值的運算\n",
    "obj2 * 2\n",
    "'''\n",
    "Out[35]: \n",
    "d     8\n",
    "b    14\n",
    "a   -10\n",
    "c     6\n",
    "dtype: int64\n",
    "'''\n",
    "\n",
    "#使用numpy的數學函式\n",
    "#自然常数e为底的指数函数\n",
    "#e=2.71828182846\n",
    "import numpy as np\n",
    "np.exp(obj2)\n",
    "'''\n",
    "Out[36]: \n",
    "d      54.598150\n",
    "b    1096.633158\n",
    "a       0.006738\n",
    "c      20.085537\n",
    "dtype: float64\n",
    "'''\n"
   ]
  },
  {
   "cell_type": "code",
   "execution_count": null,
   "metadata": {},
   "outputs": [],
   "source": [
    "#有時可以想像Series是一個固定長度,可以排序的Dictionary\n",
    "import pandas as pd\n",
    "\n",
    "obj2 = pd.Series([4, 7, -5, 3], index=['d', 'b', 'a', 'c'])\n",
    "\n",
    "#使用 in 運算元\n",
    "#記住是索引\n",
    "\n",
    "print('b' in obj2)\n",
    "#Out[41]: True\n",
    "\n",
    "'e' in obj2\n",
    "#Out[40]: False"
   ]
  },
  {
   "cell_type": "code",
   "execution_count": null,
   "metadata": {},
   "outputs": [],
   "source": [
    "#由於類似Dictionary, 所以也可以使用Dictionary來建立Series\n",
    "sdata = {'台北':35000, '桃園':71000, '台中':16000, '高雄':5000}\n",
    "obj3 = pd.Series(sdata)\n",
    "obj3\n",
    "'''\n",
    "Out[44]: \n",
    "台北    35000\n",
    "桃園    71000\n",
    "台中    16000\n",
    "高雄     5000\n",
    "dtype: int64\n",
    "'''"
   ]
  },
  {
   "cell_type": "code",
   "execution_count": null,
   "metadata": {},
   "outputs": [],
   "source": [
    "#使用 index 引數名稱,排序資料\n",
    "sdata = {'台北':35000, '桃園':71000, '台中':16000, '高雄':5000}\n",
    "states = ['花蓮','高雄', '台中', '台北']\n",
    "obj4 = pd.Series(sdata, index=states)\n",
    "obj4\n",
    "'''\n",
    "Out[48]: \n",
    "花蓮        NaN\n",
    "高雄     5000.0\n",
    "台中    16000.0\n",
    "台北    35000.0\n",
    "dtype: float64\n",
    "'''"
   ]
  },
  {
   "cell_type": "code",
   "execution_count": null,
   "metadata": {},
   "outputs": [],
   "source": [
    "obj4\n",
    "'''\n",
    "Out[48]: \n",
    "花蓮        NaN\n",
    "高雄     5000.0\n",
    "台中    16000.0\n",
    "台北    35000.0\n",
    "dtype: float64\n",
    "'''\n",
    "\n",
    "#使用pd的isnull()和notnull()functions\n",
    "pd.isnull(obj4)\n",
    "'''\n",
    "In [50]: pd.isnull(obj4)                                                        \n",
    "Out[50]: \n",
    "花蓮     True\n",
    "高雄    False\n",
    "台中    False\n",
    "台北    False\n",
    "dtype: bool\n",
    "'''\n",
    "\n",
    "pd.notnull(obj4)\n",
    "'''\n",
    "Out[51]: \n",
    "花蓮    False\n",
    "高雄     True\n",
    "台中     True\n",
    "台北     True\n",
    "dtype: bool\n",
    "'''\n",
    "\n",
    "#使用Series的method()\n",
    "obj4.isnull()\n",
    "'''\n",
    "Out[52]: \n",
    "花蓮     True\n",
    "高雄    False\n",
    "台中    False\n",
    "台北    False\n",
    "dtype: bool\n",
    "'''"
   ]
  },
  {
   "cell_type": "code",
   "execution_count": null,
   "metadata": {},
   "outputs": [],
   "source": [
    "#2個Series在做數學運算時,會依照索引來做運算\n",
    "\n",
    "sdata = {'台北':35000, '桃園':71000, '台中':16000, '高雄':5000}\n",
    "obj3 = pd.Series(sdata)\n",
    "obj3\n",
    "'''\n",
    "Out[53]: \n",
    "台北    35000\n",
    "桃園    71000\n",
    "台中    16000\n",
    "高雄     5000\n",
    "dtype: int64\n",
    "'''\n",
    "\n",
    "sdata = {'台北':35000, '桃園':71000, '台中':16000, '高雄':5000}\n",
    "states = ['花蓮','高雄', '台中', '台北']\n",
    "obj4 = pd.Series(sdata, index=states)\n",
    "obj4\n",
    "'''\n",
    "Out[55]: \n",
    "花蓮        NaN\n",
    "高雄     5000.0\n",
    "台中    16000.0\n",
    "台北    35000.0\n",
    "dtype: float64\n",
    "'''\n",
    "\n",
    "#NaN + 值會得到NaN\n",
    "obj3 + obj4\n",
    "'''\n",
    "Out[56]: \n",
    "台中    32000.0\n",
    "台北    70000.0\n",
    "桃園        NaN\n",
    "花蓮        NaN\n",
    "高雄    10000.0\n",
    "dtype: float64\n",
    "'''"
   ]
  },
  {
   "cell_type": "code",
   "execution_count": null,
   "metadata": {},
   "outputs": [],
   "source": [
    "#屬性series.name\n",
    "#屬性series.index.name\n",
    "\n",
    "#Series物件和index有各自的name屬性\n",
    "sdata = {'台北':35000, '桃園':71000, '台中':16000, '高雄':5000}\n",
    "states = ['花蓮','高雄', '台中', '台北']\n",
    "obj4 = pd.Series(sdata, index=states)\n",
    "\n",
    "obj4.name = '縣市人口'\n",
    "obj4.index.name = '縣市'\n",
    "obj4\n",
    "'''\n",
    "Out[60]: \n",
    "縣市\n",
    "花蓮        NaN\n",
    "高雄     5000.0\n",
    "台中    16000.0\n",
    "台北    35000.0\n",
    "Name: 縣市人口, dtype: float64\n",
    "'''"
   ]
  },
  {
   "cell_type": "code",
   "execution_count": null,
   "metadata": {},
   "outputs": [],
   "source": [
    "#Series物件可以被更換的\n",
    "obj = pd.Series([4, 7, -5, 3])\n",
    "print(obj)\n",
    "obj.index = ['Bob', 'Steve', 'Jeff', 'Ryan']\n",
    "obj"
   ]
  },
  {
   "cell_type": "markdown",
   "metadata": {},
   "source": [
    "## DataFrame\n",
    "- DataFrame可以展示表格資料  \n",
    "- DataFrame有columns,每個column可以有不同的資料型態(數值,字串,布林)  \n",
    "- DataFrame有2個index,一個是row的index,一個是column的index  \n",
    "- 可以想像很多有相同index的Series,組成DataFrame,每個Series有自已的column index  "
   ]
  },
  {
   "cell_type": "code",
   "execution_count": null,
   "metadata": {},
   "outputs": [],
   "source": [
    "#有非常多種方式可以建立DataFrame,最常用的是Dictionary,然後key當作column的索引,list當作value\n",
    "data = {\n",
    "    '縣市': ['台北','台北','台北', '新竹', '新竹', '新竹'],\n",
    "    '年份': [2000, 2001, 2002, 2001, 2002, 2003],\n",
    "    '人口': [2.2, 2.5, 2.7, 1.1, 1.5, 2.0]\n",
    "}\n",
    "\n",
    "frame = pd.DataFrame(data)\n",
    "frame\n",
    "\n",
    "#會自動產生row的index"
   ]
  },
  {
   "cell_type": "code",
   "execution_count": null,
   "metadata": {},
   "outputs": [],
   "source": [
    "#有時資料會非常多,如果要只看前面幾筆,可以使用head()方法,只顯示前面幾筆\n",
    "#head()\n",
    "frame.head()\n"
   ]
  },
  {
   "cell_type": "code",
   "execution_count": null,
   "metadata": {},
   "outputs": [],
   "source": [
    "#如果指定引數名稱columns,則DataFrame欄位名稱將依照columns的順序排列\n",
    "data = {\n",
    "    '縣市': ['台北','台北','台北', '新竹', '新竹', '新竹'],\n",
    "    '年份': [2000, 2001, 2002, 2001, 2002, 2003],\n",
    "    '人口': [2.2, 2.5, 2.7, 1.1, 1.5, 2.0]\n",
    "}\n",
    "\n",
    "pd.DataFrame(data, columns=['年份','人口', '縣市'])"
   ]
  },
  {
   "cell_type": "code",
   "execution_count": null,
   "metadata": {},
   "outputs": [],
   "source": [
    "#如果傳遞的columns,沒有包含在data的key內,則會產生遺失的value\n",
    "data = {\n",
    "    '縣市': ['台北','台北','台北', '新竹', '新竹', '新竹'],\n",
    "    '年份': [2000, 2001, 2002, 2001, 2002, 2003],\n",
    "    '人口': [2.2, 2.5, 2.7, 1.1, 1.5, 2.0]\n",
    "}\n",
    "\n",
    "frame2 = pd.DataFrame(data, columns=['年份', '縣市', '人口', '負債'], index=['one', 'two', 'three', 'foru', 'five', 'six'])\n",
    "print(frame2)\n",
    "\n",
    "#使用columns屬性,取出columns的索引\n",
    "print('----------------------------')\n",
    "print(frame2.columns)\n",
    "\n",
    "#可以取出DataFrame的一個欄位,將會傳出Series\n",
    "frame2['縣市']\n",
    "\n",
    "#也可以屬性的方式,取出column\n",
    "print('----------------------------')\n",
    "frame2.人口\n",
    "\n",
    "#frame2['縣市']語法可以有不同的語法\n",
    "#frame2.人口 點的語法,只有一個功能,取出人口欄位\n",
    "#取出的Series的name屬性會使用欄位名稱\n"
   ]
  },
  {
   "cell_type": "code",
   "execution_count": null,
   "metadata": {},
   "outputs": [],
   "source": [
    "#可以使用loc的屬性,傳入位置或索引名稱取出rows\n",
    "data = {\n",
    "    '縣市': ['台北','台北','台北', '新竹', '新竹', '新竹'],\n",
    "    '年份': [2000, 2001, 2002, 2001, 2002, 2003],\n",
    "    '人口': [2.2, 2.5, 2.7, 1.1, 1.5, 2.0]\n",
    "}\n",
    "\n",
    "frame2 = pd.DataFrame(data, columns=['年份', '縣市', '人口', '負債'], index=['one', 'two', 'three', 'four', 'five', 'six'])\n",
    "print(frame2)\n",
    "print('-----------------')\n",
    "frame2.loc['three']\n"
   ]
  },
  {
   "cell_type": "code",
   "execution_count": null,
   "metadata": {
    "scrolled": true
   },
   "outputs": [],
   "source": [
    "#可以使用指定運算子,改變裏面的值\n",
    "frame2['負債'] = 16.5\n",
    "print(frame2)\n",
    "print('---------------------------')\n",
    "\n",
    "frame2['負債'] = np.arange(6.)\n",
    "print(frame2)"
   ]
  },
  {
   "cell_type": "code",
   "execution_count": null,
   "metadata": {},
   "outputs": [],
   "source": [
    "#當指定是list或array給欄位時,長度必需要和DataFrame欄位的長度一樣\n",
    "#如果指定的是Series,Series的索引會對應DataFrame欄位的索引,如果是DataFrame沒有的索引,則會自動補上NaN的值\n",
    "val = pd.Series([-1.2, -1.5, -1.7], index=['two', 'four', 'five'])\n",
    "frame2['負債'] = val\n",
    "frame2"
   ]
  },
  {
   "cell_type": "code",
   "execution_count": null,
   "metadata": {},
   "outputs": [],
   "source": [
    "#如果指定的欄位名稱是沒有出現過的,則代表新增一個欄位\n",
    "\n",
    "frame2['新開發區'] = frame2.縣市 == '新竹'\n",
    "frame2\n",
    "\n",
    "#注意新增不可以使用點運算子的方法. frame2.新開發區 = xxxx"
   ]
  },
  {
   "cell_type": "code",
   "execution_count": null,
   "metadata": {},
   "outputs": [],
   "source": [
    "# del運算子,可以刪除欄位,操作方式和dictionary\n",
    "del frame2['新開發區']\n",
    "frame2"
   ]
  },
  {
   "cell_type": "code",
   "execution_count": null,
   "metadata": {},
   "outputs": [],
   "source": [
    "#注意[索引]方式,取出的Columns是個View,而不是copy一份出來,如果是要取出是獨立的一份,請使用Series的copy()方法\n",
    "copyFrame = frame2['人口'].copy()\n",
    "copyFrame['one'] = 3.0\n",
    "print(copyFrame)\n",
    "frame2"
   ]
  },
  {
   "cell_type": "code",
   "execution_count": null,
   "metadata": {},
   "outputs": [],
   "source": [
    "#另一種常見方式是建立巢狀的Dictionary\n",
    "#如果使用巢狀的Dictionary,外面的key當作Column的索引,裏面的key當作row的索引\n",
    "pop = {'台北':{2001:2.4, 2002:2.9},\n",
    "      '高雄':{2000:1.5, 2001:1.7, 2002:3.6}}\n",
    "frame3 = pd.DataFrame(pop)\n",
    "frame3"
   ]
  },
  {
   "cell_type": "code",
   "execution_count": null,
   "metadata": {},
   "outputs": [],
   "source": [
    "#可以調換欄和列的位置,使用和numpy一樣的語法\n",
    "frame4 = frame3.T\n",
    "frame4"
   ]
  },
  {
   "cell_type": "code",
   "execution_count": null,
   "metadata": {},
   "outputs": [],
   "source": [
    "#指定特定的columns可以重新排序新的位置\n",
    "frame4.columns = [2000 ,2001, 2002]\n",
    "print(frame4)\n",
    "print('--------------')\n",
    "\n",
    "#也可以在建立時就使用引數名稱index直接排序\n",
    "pop = {'台北':{2001:2.4, 2002:2.9},\n",
    "      '高雄':{2000:1.5, 2001:1.7, 2002:3.6}}\n",
    "frame3 = pd.DataFrame(pop, index=[2001, 2002, 2003])\n",
    "frame3"
   ]
  },
  {
   "cell_type": "code",
   "execution_count": null,
   "metadata": {},
   "outputs": [],
   "source": [
    "#可以使用name屬設定DataFrame的欄位名稱和索引名稱\n",
    "frame3.index.name = \"年份\"\n",
    "frame3.columns.name = \"縣市\"\n",
    "frame3"
   ]
  },
  {
   "cell_type": "code",
   "execution_count": null,
   "metadata": {},
   "outputs": [],
   "source": [
    "#使用values屬性取出ndArray\n",
    "frame3.values"
   ]
  },
  {
   "cell_type": "markdown",
   "metadata": {},
   "source": [
    "## pandas和Series 的 Index物件\n",
    "- index物件將對應到matpoltlib圖表的軸  \n",
    "- 如果要以圖表顯示,必需注意到column和index內所儲存的值  "
   ]
  },
  {
   "cell_type": "code",
   "execution_count": null,
   "metadata": {},
   "outputs": [],
   "source": [
    "obj = pd.Series(range(3), index=['a', 'b', 'c'])\n",
    "index = obj.index\n",
    "print(index)\n",
    "print('--------')\n",
    "index[1:]"
   ]
  },
  {
   "cell_type": "code",
   "execution_count": null,
   "metadata": {},
   "outputs": [],
   "source": [
    "#index是不可變的內容\n",
    "#index[1] = 'd' # typeError\n"
   ]
  },
  {
   "cell_type": "code",
   "execution_count": null,
   "metadata": {},
   "outputs": [],
   "source": [
    "#使用pd.Index建立自訂的index\n",
    "labels = pd.Index(np.arange(3))\n",
    "print(labels)\n",
    "print('-----------')\n",
    "\n",
    "obj2 = pd.Series([1.5, -2.5, 0], index = labels)\n",
    "obj2"
   ]
  },
  {
   "cell_type": "code",
   "execution_count": null,
   "metadata": {},
   "outputs": [],
   "source": [
    "pop = {'台北':{2001:2.4, 2002:2.9},\n",
    "      '高雄':{2000:1.5, 2001:1.7, 2002:3.6}}\n",
    "frame3 = pd.DataFrame(pop, index=[2000, 2001, 2002])\n",
    "frame3"
   ]
  },
  {
   "cell_type": "code",
   "execution_count": null,
   "metadata": {},
   "outputs": [],
   "source": [
    "#index物件除了像ndarra外,也很像固定的set\n",
    "#可以使用 in 運算子\n",
    "\n",
    "print(frame3.columns)\n",
    "print('-----------')\n",
    "print('台北' in frame3.columns)\n",
    "print('-----------')\n",
    "print('新竹' in frame3.columns)"
   ]
  },
  {
   "cell_type": "code",
   "execution_count": null,
   "metadata": {},
   "outputs": [],
   "source": [
    "#pandas的index物件內容是可以有重複值的\n",
    "dup_labels = pd.Index(['foo', 'foo', 'bar', 'bar'])\n",
    "dup_labels"
   ]
  },
  {
   "cell_type": "code",
   "execution_count": null,
   "metadata": {},
   "outputs": [],
   "source": []
  }
 ],
 "metadata": {
  "kernelspec": {
   "display_name": "Python 3",
   "language": "python",
   "name": "python3"
  },
  "language_info": {
   "codemirror_mode": {
    "name": "ipython",
    "version": 3
   },
   "file_extension": ".py",
   "mimetype": "text/x-python",
   "name": "python",
   "nbconvert_exporter": "python",
   "pygments_lexer": "ipython3",
   "version": "3.7.4"
  }
 },
 "nbformat": 4,
 "nbformat_minor": 2
}
