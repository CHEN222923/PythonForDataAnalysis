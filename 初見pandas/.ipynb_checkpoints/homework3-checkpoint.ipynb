{
 "cells": [
  {
   "cell_type": "code",
   "execution_count": 5,
   "metadata": {},
   "outputs": [
    {
     "ename": "SyntaxError",
     "evalue": "invalid syntax (<ipython-input-5-715314bda847>, line 9)",
     "output_type": "error",
     "traceback": [
      "\u001b[0;36m  File \u001b[0;32m\"<ipython-input-5-715314bda847>\"\u001b[0;36m, line \u001b[0;32m9\u001b[0m\n\u001b[0;31m    datalist = [row for row in rows if row[0] == '106' ] #刪除最後說明\u001b[0m\n\u001b[0m           ^\u001b[0m\n\u001b[0;31mSyntaxError\u001b[0m\u001b[0;31m:\u001b[0m invalid syntax\n"
     ]
    }
   ],
   "source": [
    "#將「各鄉鎮市區人口密度.csv」轉換為DataFrame\n",
    "import pandas as pd\n",
    "import numpy as np\n",
    "import csv\n",
    "with open('各鄉鎮市區人口密度.csv','r',encoding='utf-8') as file:\n",
    "    next(file)\n",
    "    rows = csv.reader(file)\n",
    "    titles = list(rows[0]\n",
    "    datalist = [row for row in rows if row[0] == '106' or row[0] == '統計年'] #刪除最後說明\n",
    "    \n",
    "dataFrame = pd.DataFrame(datalist,columns=titles)\n",
    "dataFrame.iloc[:100]"
   ]
  },
  {
   "cell_type": "code",
   "execution_count": null,
   "metadata": {},
   "outputs": [],
   "source": []
  }
 ],
 "metadata": {
  "kernelspec": {
   "display_name": "Python 3",
   "language": "python",
   "name": "python3"
  },
  "language_info": {
   "codemirror_mode": {
    "name": "ipython",
    "version": 3
   },
   "file_extension": ".py",
   "mimetype": "text/x-python",
   "name": "python",
   "nbconvert_exporter": "python",
   "pygments_lexer": "ipython3",
   "version": "3.7.4"
  }
 },
 "nbformat": 4,
 "nbformat_minor": 2
}
