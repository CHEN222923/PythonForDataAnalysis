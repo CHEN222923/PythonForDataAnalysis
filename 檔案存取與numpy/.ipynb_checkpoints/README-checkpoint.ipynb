{
 "cells": [
  {
   "cell_type": "markdown",
   "metadata": {},
   "source": [
    "# 檔案存取與 Numpy\n",
    "\n",
    "##  本堂教學重點\n",
    "1. 檔案基本操作\n",
    "2. CSV 與JSON 操作\n",
    "3. 檔案例外處理\n",
    "4. 檔案關閉動作\n",
    "5. Numpy 簡介\n",
    "6. Numpy 陣列形狀\n",
    "\n",
    "##  檔案存取\n",
    "- 在讀取或寫入文件之前，必須使用 Python 內建的 open( ) 函數開啟 文件。 這個函數將建立一個文件物件，這個文件物件會與真實的文 件做連結，可讓您透過文件物件對文件進行存取動作。\n",
    "- file object = open(file_name [, access_mode])\n",
    "- UTF8 編碼資料還請加入另一個參數才可避免亂碼:encoding=‘utf-8'\n",
    "- file object = open(file_name [, access_mode])\n",
    "    1. file_name:file_name 參數是一個字串資料，代表包含要連結的文件名稱。\n",
    "    2. access_mode:access_mode 確定文件必須打開的模式，包括讀取、寫 入、附加等等。稍後會列完整列表。這是可選參數，默認文件訪問模式為 讀取(r)。\n",
    "    \n",
    "\n",
    "| 存取模式 | 描述 |\n",
    "|:--      |:-- |\n",
    "| r | 連結開啟僅供閱讀的文件， 這是默認模式。|\n",
    "| rb | 以二進位方式連結開啟僅供閱讀的文件。|\n",
    "| r+ | 連結一個用於閱讀和寫作的文件。|\n",
    "| rb+ | 連結一個用於閱讀和寫作的二進位格式文件。|\n",
    "| w | 連結文件後僅供寫入。 如果文件存在，則覆蓋該文件。 如果文件不存在，則建立一個新文件後進行寫入。 |\n",
    "| wb | 連結二進位格式的文件後僅供寫入。如果文件存在，則覆蓋該文件。 如果文件不存在，則建立一個新文件進行寫入。 |\n",
    "| w+ | 連結文件後可以寫入和閱讀。如果文件存在，則覆蓋現有文件。 如果文件不存在，則建立一個新文件進行閱讀和寫入。 |\n",
    "| wb+ | 連結二進位格式文件後可以寫入和閱讀。如果文件存在，則覆蓋現有文件。 如果文件不存在，則建立一個新文件進行閱讀和寫入。 |\n",
    "| a | 連結一個文件進行附加。 如果文件存在，將處於從後面加入的模式。 如果文件不存在，它將建立一個新文件進行寫入。 |\n",
    "| ab | 連結一個二進位格式文件進行附加。 如果文件存在，將處於從後面加入的模式。 如果文件不存在，它將建立一個新文件進行寫入。 |\n",
    "| a+ | 連結一個文件進行附加與讀取。 如果文件存在，將處於從後面加入的模式。 如果文件不存在，它將建立一個新文件進行寫入與讀取。 |\n",
    "| ab+ | 連結一個文件進行附加與二進位格式讀取。 如果文件存在，將處於從後面加入的 模式。 如果文件不存在，它將建立一個新文件進行寫入與讀取。 |"
   ]
  },
  {
   "cell_type": "code",
   "execution_count": null,
   "metadata": {
    "scrolled": true
   },
   "outputs": [],
   "source": [
    "# 操作範例 1:請動手操作，並留意輸出結果\n",
    "# 使用print()寫入\n",
    "text = '''python與中文\n",
    "1. 我們來試試看中文儲存能力。\n",
    "2. 許這個字會有編碼衝突風險。\n",
    "3. 犇這個字必須是utf8編碼才有。'''\n",
    "\n",
    "print(text ,file=open('data.txt','w',encoding='utf-8'))\n",
    "#print(text ,file=open('data.txt','w'))\n"
   ]
  },
  {
   "cell_type": "code",
   "execution_count": null,
   "metadata": {
    "scrolled": true
   },
   "outputs": [],
   "source": [
    "# 操作範例 2:請動手操作，並留意輸出結果\n",
    "# write()\n",
    "\n",
    "no=1 \n",
    "scores=dict( ) \n",
    "while True:\n",
    "    score = int(input('請輸入第'+str(no)+'號的成績:(-1結束)')) \n",
    "    if score == -1: \n",
    "        break;\n",
    "    scores[no] = score\n",
    "    no += 1\n",
    "    \n",
    "file=open('score.txt','w',encoding='utf-8') \n",
    "file.write(str(scores))"
   ]
  },
  {
   "cell_type": "markdown",
   "metadata": {},
   "source": [
    "###  檔案讀取方式\n",
    "- read([size]) 方法\n",
    "    1. read([size]) 方法從文件當前位置起讀取 size 個字元數量，若無參數，則代表讀取至文件結束為止。\n",
    "    2. 中文、英數與換行都是一格。"
   ]
  },
  {
   "cell_type": "code",
   "execution_count": null,
   "metadata": {
    "scrolled": true
   },
   "outputs": [],
   "source": [
    "# 操作範例:請動手操作，並留意輸出結果\n",
    "\n",
    "file = open('data.txt', 'r', encoding='UTF-8') \n",
    "content = file.read()\n",
    "print(content)\n",
    "#file.close( )\n",
    "print(\"-------------\")\n",
    "#file = open('data.txt', 'r', encoding='UTF-8') \n",
    "content2 = file.read(5)\n",
    "print(content2)\n",
    "file.close( )\n"
   ]
  },
  {
   "cell_type": "markdown",
   "metadata": {},
   "source": [
    "###  檔案讀取方式\n",
    "- readline 方法\n",
    "    1. 這個方法每次讀出一行內容，所以讀取時占用緩衝區較小，比較適合大型文件讀取，讀取到沒有資料為止。\n",
    "- 若不使用 readline 可用 with 敘述一行一行讀取資料，再使用 for 迴圈 逐一進行處理。\n",
    "- len( ) 代表計算字串字數。\n",
    "- readlines 方法\n",
    "    1. 這方法將讀取整個文件所有行，保存在一個 list 內。\n",
    "- 讀取文件後可搭配使用的方法\n",
    "    1. strip() 去除字串首尾的空白。\n",
    "    2. lstrip( ) 去除字串左邊的空白。\n",
    "    3. rstrip( ) 去除字串右邊的空白。\n",
    "    4. startswith(‘字元’): 第一個字元。"
   ]
  },
  {
   "cell_type": "code",
   "execution_count": 4,
   "metadata": {
    "scrolled": true
   },
   "outputs": [
    {
     "name": "stdout",
     "output_type": "stream",
     "text": [
      "['但帕內洛引述杜特蒂的話宣稱，菲律賓決定把台灣納入旅行禁令，跟一中政策「無關」。', '台灣現有武漢肺炎確診病例為18例，中國大陸約6萬例。台灣已多次抱怨世衛把台灣視為中國一部分的作法不公，會誤導其他國家認為台灣疫情跟中國大陸一樣嚴重。', '根據菲律賓總統府發言人帕內洛（Salvador Panelo），杜特蒂（Rodrigo Duterte）表示：「我首要關切的是我國人民的健康和安全。」', '菲律賓拒解除對台旅行禁令 杜特蒂稱無涉一中政策', '菲律賓本週以抑制俗稱武漢肺炎的2019年冠狀病毒疾病（COVID-19）疫情為由，對台實施旅行禁令。台灣當局已表示，若菲方不解除禁令，台灣將考慮反制措施。但杜特蒂仍決定維持禁令。', '路透社報導，由於北京宣稱台灣是中國的一部分，世界衛生組織（WHO）處理疫情資訊時把台灣納入中國，導致若干國家對台灣人實施跟對中國人一樣的限制。', '（中央社台北/馬尼拉13日綜合外電報導）菲律賓總統杜特蒂今天拒絕台灣方面的呼籲，不解除對台灣人實施的旅行禁令。杜特蒂並稱自己首要關切的是菲律賓人的安全，這項決定跟一中政策「無關」。']\n"
     ]
    },
    {
     "data": {
      "text/plain": [
       "467"
      ]
     },
     "execution_count": 4,
     "metadata": {},
     "output_type": "execute_result"
    }
   ],
   "source": [
    "# 操作範例:請動手操作，並留意輸出結果\n",
    "\n",
    "f=open('data1.txt', 'r', encoding='UTF-8') \n",
    "result = list( )\n",
    "for line in f.readlines( ):\n",
    "    line = line.strip( )\n",
    "    if not len(line) or line.startswith('#'):\n",
    "        continue \n",
    "    result.append(line)\n",
    "\n",
    "result.sort( )\n",
    "print(result)\n",
    "open('result-readlines.txt', 'w', encoding='UTF-8').write('%s' % '\\n'.join(result))"
   ]
  },
  {
   "cell_type": "markdown",
   "metadata": {},
   "source": [
    "###  讀取 CSV 檔案\n",
    "\n",
    "逗點分隔（Comma-Separated Values，簡稱 csv）是一種簡單的文字檔格式，以逗號分隔不同欄位的資料，很多軟體在儲存與交換表格資料時都支援這樣的格式。 \n",
    "\n",
    "- CSV 格式是資料庫最常用的導入和導出格式。\n",
    "- 資料均沒有類型，一切都是字串。\n",
    "- 沒有字體或顏色與儲存格寬度高度的設置。\n",
    "- Python 語法必須加入 import csv。\n",
    "- 讀取儲存格資料:\n",
    " 1. reader( ):依照每一列的編號 由0開始\n",
    " 2. DictReader( )\n",
    "    - 以第一列的值為每一行的名稱，第一列不是資料\n",
    "    - 也可以重新命名，但第一列必須是資料"
   ]
  },
  {
   "cell_type": "code",
   "execution_count": 3,
   "metadata": {
    "scrolled": true
   },
   "outputs": [
    {
     "name": "stdout",
     "output_type": "stream",
     "text": [
      "<class '_csv.reader'>\n",
      "[['a', 'b', 'c', 'd', 'message'], ['1', '2', '3', '4', 'hello'], ['5', '6', '7', '8', 'world'], ['9', '10', '11', '12', 'foo']]\n"
     ]
    }
   ],
   "source": [
    "# 操作範例 1:請動手操作，並留意輸出結果\n",
    "\n",
    "#我們使用 csv.reader 讀取出來的 rows 會是一個二維的 list\n",
    "#裡面就是整張表格的資料，這裡我們把每一列的 list 直接輸出，執行後會像這樣：\n",
    "import csv \n",
    "f=open('ex1.csv',\"r\",encoding='utf-8')\n",
    "rows = csv.reader(f) #rows是一個generator\n",
    "\n",
    "print(type(rows))\n",
    "#for row in rows:\n",
    "#    print(row)\n",
    "\n",
    "list1 = list(rows)\n",
    "print(list1)\n",
    "f.close()"
   ]
  },
  {
   "cell_type": "code",
   "execution_count": null,
   "metadata": {},
   "outputs": [],
   "source": [
    "#請讀入資料集內的(各鄉鎮市區人口密度.csv)\n",
    "#將資料轉為2維的list=>[[],[],[]]\n",
    "#將資料轉為2維的list=>[{},{},{}]\n",
    "\n",
    "import csv\n",
    "\n",
    "poplist = list()\n",
    "f = open('各鄉鎮市區人口密度.csv','r',encoding='UTF-8')\n",
    "rows = csv.reader(f)\n",
    "for row in rows:\n",
    "    if row[0] == '106':\n",
    "        poplist.append(row)\n",
    "f.close()\n",
    "poplist"
   ]
  },
  {
   "cell_type": "code",
   "execution_count": 19,
   "metadata": {},
   "outputs": [
    {
     "name": "stdout",
     "output_type": "stream",
     "text": [
      "{'統計年': '106', '區域別': '新北市板橋區', '年底人口數': '551480', '土地面積': '23.1373', '人口密度': '23835'}\n",
      "{'統計年': '106', '區域別': '新北市三重區', '年底人口數': '387484', '土地面積': '16.317', '人口密度': '23747'}\n",
      "{'統計年': '106', '區域別': '新北市中和區', '年底人口數': '413590', '土地面積': '20.144', '人口密度': '20532'}\n",
      "{'統計年': '106', '區域別': '新北市永和區', '年底人口數': '222585', '土地面積': '5.7138', '人口密度': '38956'}\n",
      "{'統計年': '106', '區域別': '新北市新莊區', '年底人口數': '416524', '土地面積': '19.7383', '人口密度': '21102'}\n",
      "{'統計年': '106', '區域別': '新北市新店區', '年底人口數': '302089', '土地面積': '120.2255', '人口密度': '2513'}\n",
      "{'統計年': '106', '區域別': '新北市樹林區', '年底人口數': '184149', '土地面積': '33.1288', '人口密度': '5559'}\n",
      "{'統計年': '106', '區域別': '新北市鶯歌區', '年底人口數': '86593', '土地面積': '21.1248', '人口密度': '4099'}\n",
      "{'統計年': '106', '區域別': '新北市三峽區', '年底人口數': '114926', '土地面積': '191.4508', '人口密度': '600'}\n",
      "{'統計年': '106', '區域別': '新北市淡水區', '年底人口數': '169597', '土地面積': '70.6565', '人口密度': '2400'}\n",
      "{'統計年': '106', '區域別': '新北市汐止區', '年底人口數': '199321', '土地面積': '71.2354', '人口密度': '2798'}\n",
      "{'統計年': '106', '區域別': '新北市瑞芳區', '年底人口數': '40353', '土地面積': '70.7336', '人口密度': '570'}\n",
      "{'統計年': '106', '區域別': '新北市土城區', '年底人口數': '238067', '土地面積': '29.5578', '人口密度': '8054'}\n",
      "{'統計年': '106', '區域別': '新北市蘆洲區', '年底人口數': '201309', '土地面積': '7.4351', '人口密度': '27075'}\n",
      "{'統計年': '106', '區域別': '新北市五股區', '年底人口數': '84919', '土地面積': '34.8632', '人口密度': '2436'}\n",
      "{'統計年': '106', '區域別': '新北市泰山區', '年底人口數': '78911', '土地面積': '19.1603', '人口密度': '4118'}\n",
      "{'統計年': '106', '區域別': '新北市林口區', '年底人口數': '106101', '土地面積': '54.1519', '人口密度': '1959'}\n",
      "{'統計年': '106', '區域別': '新北市深坑區', '年底人口數': '23660', '土地面積': '20.5787', '人口密度': '1150'}\n",
      "{'統計年': '106', '區域別': '新北市石碇區', '年底人口數': '7683', '土地面積': '144.3498', '人口密度': '53'}\n",
      "{'統計年': '106', '區域別': '新北市坪林區', '年底人口數': '6528', '土地面積': '170.835', '人口密度': '38'}\n",
      "{'統計年': '106', '區域別': '新北市三芝區', '年底人口數': '23200', '土地面積': '65.9909', '人口密度': '352'}\n",
      "{'統計年': '106', '區域別': '新北市石門區', '年底人口數': '12286', '土地面積': '51.2645', '人口密度': '240'}\n",
      "{'統計年': '106', '區域別': '新北市八里區', '年底人口數': '38493', '土地面積': '39.4933', '人口密度': '975'}\n",
      "{'統計年': '106', '區域別': '新北市平溪區', '年底人口數': '4719', '土地面積': '71.3382', '人口密度': '66'}\n",
      "{'統計年': '106', '區域別': '新北市雙溪區', '年底人口數': '8939', '土地面積': '146.2484', '人口密度': '61'}\n",
      "{'統計年': '106', '區域別': '新北市貢寮區', '年底人口數': '12552', '土地面積': '99.9734', '人口密度': '126'}\n",
      "{'統計年': '106', '區域別': '新北市金山區', '年底人口數': '22015', '土地面積': '49.2132', '人口密度': '447'}\n",
      "{'統計年': '106', '區域別': '新北市萬里區', '年底人口數': '22296', '土地面積': '63.3766', '人口密度': '352'}\n",
      "{'統計年': '106', '區域別': '新北市烏來區', '年底人口數': '6320', '土地面積': '321.1306', '人口密度': '20'}\n"
     ]
    }
   ],
   "source": [
    "#請讀入資料集內的(各鄉鎮市區人口密度.csv)\n",
    "#將資料轉為2維的list=>[{},{},{}]\n",
    "import csv\n",
    "poplist = list()\n",
    "f = open('各鄉鎮市區人口密度.csv','r',encoding='UTF-8')\n",
    "next(f)\n",
    "reader = csv.DictReader(f)\n",
    "data=[{'統計年':row['統計年'],'區域別':row['區域別'],'年底人口數':row['年底人口數'],'土地面積':row['土地面積'],'人口密度':row['人口密度']} for row in reader]\n",
    "for item in data:\n",
    "    if '新北市' in item['區域別']:\n",
    "        print(item)"
   ]
  },
  {
   "cell_type": "markdown",
   "metadata": {},
   "source": [
    "###  寫入 CSV 檔案\n",
    "- 必須加入 import csv\n",
    "- 利用 writer( ) 可寫入資料，寫入時注意\n",
    "    1. delimiter - 這是代表分隔符號\n",
    "    2. quotechar - 這是代表包住字串的符號\n",
    "- 使用 writerow( ) 方法進行特定的儲存格寫入"
   ]
  },
  {
   "cell_type": "code",
   "execution_count": null,
   "metadata": {
    "scrolled": true
   },
   "outputs": [],
   "source": [
    "# 操作範例:請動手操作，並留意輸出結果\n",
    "\n",
    "import csv\n",
    "f=open('ex2.csv',\"r\",encoding='utf-8')\n",
    "reader = csv.reader(f)\n",
    "ofile = open('ttest.csv', \"w\",encoding='utf-8')\n",
    "writer = csv.writer(ofile, delimiter='-')\n",
    "for row in reader:\n",
    "    writer.writerow(row)\n",
    "f.close()\n",
    "ofile.close()"
   ]
  },
  {
   "cell_type": "markdown",
   "metadata": {},
   "source": [
    "###  Python 與 JSON\n",
    "\n",
    "#### Python 的資料型態與 JSON 的資料型態略有差異:\n",
    "| Python 資料型態 | JSON 資料型態 |\n",
    "|:-- |:-- |\n",
    "| dict | object |\n",
    "| list,tuple | array |\n",
    "| int,float | number |\n",
    "| True | true |\n",
    "| False | false |\n",
    "| None | null |\n",
    "\n",
    "###  從 Python 到 JSON\n",
    "1. 以 json.dumps( ) 函數從 Python dictionary轉出JSON字串。\n",
    "2. 以 json.dump( ) 函數從 Python dictionary轉出 JSON 檔案中。\n",
    "3. json資料於Python處理UTF8碼內容會產生亂碼，建議 dumps 時加入 以下的參數才可以正確處理UTF8碼內容:ensure_ascii=False \n",
    "4. Python 與 JSON 檔案:\n",
    "    - JSON 檔案的中文資料於某些編輯軟體內會變成亂碼，但 Python 可以存取。\n",
    "    - 檔案寫入可用一般文件方式寫入，也可以使用 JSON 的方法寫入。"
   ]
  },
  {
   "cell_type": "code",
   "execution_count": 20,
   "metadata": {
    "scrolled": true
   },
   "outputs": [
    {
     "name": "stdout",
     "output_type": "stream",
     "text": [
      "<class 'str'>\n",
      "<class 'bytes'>\n",
      "{\"python\": \"good\", \"gjun\": 100, \"python-class\": true, \"ICQ\": null}\n",
      "b'{\"python\": \"good\", \"gjun\": 100, \"python-class\": true, \"ICQ\": null}'\n"
     ]
    }
   ],
   "source": [
    "# 操作範例 1:請動手操作，並留意輸出結果\n",
    "# 將dictionary轉成json格式的字串\n",
    "\n",
    "import json\n",
    "pyDic = {'python': 'good', 'gjun': 100, 'python-class':True,'ICQ': None}\n",
    "json2 = json.dumps(pyDic, ensure_ascii=False)\n",
    "print(type(json2))\n",
    "json3=json2.encode('utf8')\n",
    "print(type(json3))\n",
    "print(json2)\n",
    "print(json3)"
   ]
  },
  {
   "cell_type": "code",
   "execution_count": 21,
   "metadata": {
    "scrolled": true
   },
   "outputs": [],
   "source": [
    "# 操作範例 2:請動手操作，並留意輸出結果\n",
    "\n",
    "import json\n",
    "data = {}\n",
    "data['people'] = []\n",
    "data['people'].append({'name': 'Scott','website': 'stackabuse.com','from': 'Nebraska'})\n",
    "data['people'].append({'name': 'Larry', 'website': 'google.com', 'from': 'Michigan'})\n",
    "\n",
    "#使用dump寫入json檔案,必需使用python的dictionary物件\n",
    "with open('data.json', 'w') as outfile:\n",
    "    json.dump(data, outfile)\n",
    "\n",
    "#使用write寫入使需使用的json字串格式\n",
    "json2 = json.dumps(data)\n",
    "file=open('score.json','w',encoding='utf-8')\n",
    "file.write((json2));\n",
    "file.close();\n"
   ]
  },
  {
   "cell_type": "markdown",
   "metadata": {},
   "source": [
    "###  從 JSON 到 Python\n",
    "1. 以 json.loads( ) 函數從 JSON 字串中取出資料轉入 Python。\n",
    "2. 以 json.load( ) 函數從 JSON 檔案中取出資料轉入 Python。"
   ]
  },
  {
   "cell_type": "code",
   "execution_count": 22,
   "metadata": {
    "scrolled": true
   },
   "outputs": [
    {
     "name": "stdout",
     "output_type": "stream",
     "text": [
      "{'python': 'good', 'gjun': 100, 'python-class': True, 'ICQ': None}\n"
     ]
    }
   ],
   "source": [
    "# 操作範例 1:請動手操作，並留意輸出結果\n",
    "#使用loads將json格式的字串傳成python的Dict\n",
    "\n",
    "import json\n",
    "json1 = '{\"python\": \"good\", \"gjun\": 100, \"python-class\": true, \"ICQ\": null}'\n",
    "json2 = json.loads(json1)\n",
    "print(json2)"
   ]
  },
  {
   "cell_type": "code",
   "execution_count": 23,
   "metadata": {
    "scrolled": true
   },
   "outputs": [
    {
     "name": "stdout",
     "output_type": "stream",
     "text": [
      "Name:Scott\n",
      "Website:stackabuse.com\n",
      "From:Nebraska\n",
      "\n",
      "Name:Larry\n",
      "Website:google.com\n",
      "From:Michigan\n",
      "\n"
     ]
    }
   ],
   "source": [
    "# 操作範例 2:請動手操作，並留意輸出結果\n",
    "#使用load()將json檔轉成Dictionary\n",
    "\n",
    "import json\n",
    "\n",
    "#data = json.load('score.json')  #會出錯\n",
    "\n",
    "with open('score.json') as json_file:\n",
    "    data = json.load(json_file)\n",
    "    for p in data['people']:\n",
    "        print('Name:' + p['name'])\n",
    "        print('Website:' + p['website'])\n",
    "        print('From:'+p['from'])\n",
    "        print()\n"
   ]
  },
  {
   "cell_type": "code",
   "execution_count": 29,
   "metadata": {},
   "outputs": [
    {
     "name": "stdout",
     "output_type": "stream",
     "text": [
      "區域 新店區\n",
      "站名 大鵬華城\n",
      "地址 新北市新店區中正路700巷3號\n",
      "緯經度座標[24.99116,121.53398]\n",
      "全部數量 38\n",
      "可借 22\n",
      "可還 13\n",
      "----------------------\n",
      "\n",
      "區域 新店區\n",
      "站名 裕隆公園\n",
      "地址 寶中路/品牌路口(東南側)\n",
      "緯經度座標[24.979649,121.546319]\n",
      "全部數量 40\n",
      "可借 3\n",
      "可還 37\n",
      "----------------------\n",
      "\n",
      "區域 新店區\n",
      "站名 捷運大坪林站(5號出口)\n",
      "地址 中興路三段224號(對面)\n",
      "緯經度座標[24.982830,121.543620]\n",
      "全部數量 94\n",
      "可借 43\n",
      "可還 51\n",
      "----------------------\n",
      "\n",
      "區域 新店區\n",
      "站名 忠誠里(北新路2段97巷)\n",
      "地址 北新路二段/北新路二段97巷\n",
      "緯經度座標[24.974272,121.542779]\n",
      "全部數量 40\n",
      "可借 5\n",
      "可還 35\n",
      "----------------------\n",
      "\n",
      "區域 新店區\n",
      "站名 小金門友誼公園\n",
      "地址 民族路/建興街\n",
      "緯經度座標[24.977227,121.538140]\n",
      "全部數量 60\n",
      "可借 12\n",
      "可還 48\n",
      "----------------------\n",
      "\n",
      "區域 新店區\n",
      "站名 中興寶橋路口\n",
      "地址 中興路三段1號旁\n",
      "緯經度座標[24.976180 ,121.546870 ]\n",
      "全部數量 52\n",
      "可借 18\n",
      "可還 33\n",
      "----------------------\n",
      "\n",
      "區域 新店區\n",
      "站名 台北慈濟醫院\n",
      "地址 建國路289號旁空地\n",
      "緯經度座標[24.985872 ,121.536887 ]\n",
      "全部數量 40\n",
      "可借 9\n",
      "可還 30\n",
      "----------------------\n",
      "\n",
      "區域 新店區\n",
      "站名 崇光女中\n",
      "地址 三民路14號至三民路18號\n",
      "緯經度座標[24.972127 ,121.539554 ]\n",
      "全部數量 36\n",
      "可借 26\n",
      "可還 10\n",
      "----------------------\n",
      "\n",
      "區域 新店區\n",
      "站名 新店高中\n",
      "地址 三民路159巷/三民路108號(對面人行道)\n",
      "緯經度座標[24.974181 ,121.534209 ]\n",
      "全部數量 42\n",
      "可借 20\n",
      "可還 22\n",
      "----------------------\n",
      "\n",
      "區域 新店區\n",
      "站名 新店公有中央市場\n",
      "地址 中央四街64號對面\n",
      "緯經度座標[24.975308,121.527287]\n",
      "全部數量 36\n",
      "可借 2\n",
      "可還 33\n",
      "----------------------\n",
      "\n",
      "區域 新店區\n",
      "站名 惠國市場\n",
      "地址 中正路75巷至中正路95巷間(鄰近馬公友誼公園)\n",
      "緯經度座標[24.970415 ,121.543384 ]\n",
      "全部數量 36\n",
      "可借 19\n",
      "可還 17\n",
      "----------------------\n",
      "\n",
      "區域 新店區\n",
      "站名 陽光橋\n",
      "地址 溪園路/中山路\n",
      "緯經度座標[24.978494 ,121.524176 ]\n",
      "全部數量 40\n",
      "可借 2\n",
      "可還 38\n",
      "----------------------\n",
      "\n",
      "區域 新店區\n",
      "站名 中興寶慶街口\n",
      "地址 中興路三段/寶慶街\n",
      "緯經度座標[24.986942 ,121.541950 ]\n",
      "全部數量 50\n",
      "可借 3\n",
      "可還 45\n",
      "----------------------\n",
      "\n",
      "區域 新店區\n",
      "站名 中正國小\n",
      "地址 三民路36號-42-1號前機車格\n",
      "緯經度座標[24.971496,121.536296]\n",
      "全部數量 32\n",
      "可借 8\n",
      "可還 24\n",
      "----------------------\n",
      "\n",
      "區域 新店區\n",
      "站名 捷運小碧潭站(1號出口)\n",
      "地址 捷運小碧潭站1號出口旁西側人行道(環河路側)(鄰近小碧潭景觀廣場)\n",
      "緯經度座標[24.97152,121.53029]\n",
      "全部數量 44\n",
      "可借 18\n",
      "可還 23\n",
      "----------------------\n",
      "\n",
      "區域 新店區\n",
      "站名 建國民權路口\n",
      "地址 建國路259號前人行道\n",
      "緯經度座標[24.983184,121.537462]\n",
      "全部數量 46\n",
      "可借 27\n",
      "可還 19\n",
      "----------------------\n",
      "\n",
      "區域 新店區\n",
      "站名 捷運七張站(1號出口)\n",
      "地址 北新路二段/北新路二段121巷\n",
      "緯經度座標[24.974996,121.542767]\n",
      "全部數量 42\n",
      "可借 28\n",
      "可還 12\n",
      "----------------------\n",
      "\n",
      "區域 新店區\n",
      "站名 北新國小\n",
      "地址 寶橋路8號前人行道\n",
      "緯經度座標[24.974233,121.544428]\n",
      "全部數量 44\n",
      "可借 25\n",
      "可還 18\n",
      "----------------------\n",
      "\n",
      "區域 新店區\n",
      "站名 柴埕市民活動中心\n",
      "地址 安民街/安民街65巷\n",
      "緯經度座標[24.966775,121.516479]\n",
      "全部數量 38\n",
      "可借 21\n",
      "可還 16\n",
      "----------------------\n",
      "\n",
      "區域 新店區\n",
      "站名 青潭國小\n",
      "地址 北宜路2段149號對面\n",
      "緯經度座標[24.953101,121.551813]\n",
      "全部數量 40\n",
      "可借 16\n",
      "可還 24\n",
      "----------------------\n",
      "\n",
      "區域 新店區\n",
      "站名 捷運新店站\n",
      "地址 中興路一段34號前(高架橋下停車場)\n",
      "緯經度座標[24.958605,121.538659]\n",
      "全部數量 54\n",
      "可借 29\n",
      "可還 24\n",
      "----------------------\n",
      "\n",
      "區域 新店區\n",
      "站名 安和市民活動中心\n",
      "地址 安興路67號對面空地 (高架橋下)\n",
      "緯經度座標[24.975317,121.515687]\n",
      "全部數量 38\n",
      "可借 23\n",
      "可還 15\n",
      "----------------------\n",
      "\n",
      "區域 新店區\n",
      "站名 安成安德街口\n",
      "地址 安成街26號至36號對面\n",
      "緯經度座標[24.961147,121.509988]\n",
      "全部數量 36\n",
      "可借 8\n",
      "可還 28\n",
      "----------------------\n",
      "\n",
      "區域 新店區\n",
      "站名 新北市立圖書館新店分館\n",
      "地址 新店區北新路三段105巷2號(路側)\n",
      "緯經度座標[24.982138,121.540903]\n",
      "全部數量 36\n",
      "可借 15\n",
      "可還 19\n",
      "----------------------\n",
      "\n",
      "區域 新店區\n",
      "站名 安和公園\n",
      "地址 安和路二段163號(東南側空地)\n",
      "緯經度座標[24.974110,121.518853]\n",
      "全部數量 34\n",
      "可借 17\n",
      "可還 17\n",
      "----------------------\n",
      "\n",
      "區域 新店區\n",
      "站名 新店新和國小\n",
      "地址 安和路三段113號(對面人行道)\n",
      "緯經度座標[24.984975,121.517682]\n",
      "全部數量 40\n",
      "可借 14\n",
      "可還 20\n",
      "----------------------\n",
      "\n",
      "區域 新店區\n",
      "站名 捷運大坪林站(1號出口)\n",
      "地址 北新路三段129號(右側人行道)\n",
      "緯經度座標[24.982755,121.541249]\n",
      "全部數量 26\n",
      "可借 15\n",
      "可還 10\n",
      "----------------------\n",
      "\n",
      "區域 新店區\n",
      "站名 中興路二段100巷口\n",
      "地址 五峰路63巷/中興路二段100巷口(天橋旁)\n",
      "緯經度座標[24.971355,121.547496]\n",
      "全部數量 30\n",
      "可借 21\n",
      "可還 9\n",
      "----------------------\n",
      "\n",
      "區域 新店區\n",
      "站名 安光公園\n",
      "地址 安民街安民街3巷15號(對面公園)\n",
      "緯經度座標[24.964233,121.514462]\n",
      "全部數量 34\n",
      "可借 20\n",
      "可還 14\n",
      "----------------------\n",
      "\n",
      "區域 新店區\n",
      "站名 碧潭西岸\n",
      "地址 碧潭路2號(旁)(鄰近碧潭風景區)\n",
      "緯經度座標[24.956562,121.534795]\n",
      "全部數量 40\n",
      "可借 21\n",
      "可還 19\n",
      "----------------------\n",
      "\n",
      "區域 新店區\n",
      "站名 捷運新店區公所站(1 號出口)\n",
      "地址 中華路3號(對面)(鄰近馬公友誼公園)\n",
      "緯經度座標[24.967369,121.541011]\n",
      "全部數量 42\n",
      "可借 0\n",
      "可還 41\n",
      "----------------------\n",
      "\n",
      "區域 新店區\n",
      "站名 新和活動中心\n",
      "地址 新和街116巷5弄(街尾)\n",
      "緯經度座標[24.986771,121.521829]\n",
      "全部數量 38\n",
      "可借 21\n",
      "可還 17\n",
      "----------------------\n",
      "\n",
      "區域 新店區\n",
      "站名 文山國中\n",
      "地址 北宜路一段118號(對面)(鄰近碧潭風景區)\n",
      "緯經度座標[24.955310,121.539270]\n",
      "全部數量 30\n",
      "可借 21\n",
      "可還 9\n",
      "----------------------\n",
      "\n",
      "區域 新店區\n",
      "站名 碧潭渡船頭\n",
      "地址 新店路36號(對面)\n",
      "緯經度座標[24.953100,121.537460]\n",
      "全部數量 32\n",
      "可借 9\n",
      "可還 23\n",
      "----------------------\n",
      "\n",
      "區域 新店區\n",
      "站名 中興中正路口\n",
      "地址 中興路二段41號(前)\n",
      "緯經度座標[24.969910,121.546170]\n",
      "全部數量 30\n",
      "可借 7\n",
      "可還 23\n",
      "----------------------\n",
      "\n",
      "區域 新店區\n",
      "站名 安康高中\n",
      "地址 安興路 25 號(前)\n",
      "緯經度座標[24.968860,121.515050]\n",
      "全部數量 50\n",
      "可借 5\n",
      "可還 45\n",
      "----------------------\n",
      "\n",
      "區域 新店區\n",
      "站名 中正路284巷\n",
      "地址 中正路284巷2號(對面)\n",
      "緯經度座標[24.974700,121.538420]\n",
      "全部數量 28\n",
      "可借 10\n",
      "可還 18\n",
      "----------------------\n",
      "\n",
      "區域 新店區\n",
      "站名 光明街\n",
      "地址 光明街185號(對面)\n",
      "緯經度座標[24.963160,121.540090]\n",
      "全部數量 28\n",
      "可借 16\n",
      "可還 12\n",
      "----------------------\n",
      "\n",
      "區域 新店區\n",
      "站名 中正民權路口\n",
      "地址 中正路489號(旁)\n",
      "緯經度座標[24.982630,121.533600]\n",
      "全部數量 60\n",
      "可借 28\n",
      "可還 32\n",
      "----------------------\n",
      "\n",
      "區域 新店區\n",
      "站名 五峰國中\n",
      "地址 行政街20號旁\n",
      "緯經度座標[24.965910,121.543230]\n",
      "全部數量 34\n",
      "可借 26\n",
      "可還 8\n",
      "----------------------\n",
      "\n",
      "區域 新店區\n",
      "站名 中印青潭廠\n",
      "地址 北宜路二段399號(旁)\n",
      "緯經度座標[24.954460,121.559470]\n",
      "全部數量 26\n",
      "可借 11\n",
      "可還 15\n",
      "----------------------\n",
      "\n",
      "區域 新店區\n",
      "站名 寶橋路235巷口\n",
      "地址 寶橋路235巷2號(旁)\n",
      "緯經度座標[24.979550,121.552340]\n",
      "全部數量 36\n",
      "可借 14\n",
      "可還 22\n",
      "----------------------\n",
      "\n",
      "區域 新店區\n",
      "站名 安康立體停車場\n",
      "地址 安德街2號(前)\n",
      "緯經度座標[24.962610,121.512670]\n",
      "全部數量 40\n",
      "可借 18\n",
      "可還 22\n",
      "----------------------\n",
      "\n",
      "區域 新店區\n",
      "站名 青潭河濱公園\n",
      "地址 新烏路一段11弄11號(對面)\n",
      "緯經度座標[24.950910,121.547400]\n",
      "全部數量 30\n",
      "可借 16\n",
      "可還 13\n",
      "----------------------\n",
      "\n",
      "區域 新店區\n",
      "站名 陽光Park社區\n",
      "地址 安興路107號(社區停車場前人行道)\n",
      "緯經度座標[24.979400,121.515550]\n",
      "全部數量 32\n",
      "可借 13\n",
      "可還 17\n",
      "----------------------\n",
      "\n",
      "區域 新店區\n",
      "站名 捷運十四張站\n",
      "地址 溪園路205號(旁捷運機廠前人行道)\n",
      "緯經度座標[24.984500,121.527930]\n",
      "全部數量 48\n",
      "可借 19\n",
      "可還 29\n",
      "----------------------\n",
      "\n",
      "區域 新店區\n",
      "站名 寶橋路78巷口\n",
      "地址 寶橋路78巷10號(旁高速公路橋下空間)\n",
      "緯經度座標[24.973680,121.547600]\n",
      "全部數量 44\n",
      "可借 21\n",
      "可還 21\n",
      "----------------------\n",
      "\n"
     ]
    }
   ],
   "source": [
    "# 請處理(新北市公共自行車租賃系統.json)\n",
    "# google搜尋online json viewew\n",
    "\n",
    "import json\n",
    "with open('新北市公共自行車租賃系統.json') as json_file:\n",
    "    data = json.load(json_file)\n",
    "    if data['success']:\n",
    "        records = data['result']['records']\n",
    "    else:\n",
    "        print('讀取失敗')\n",
    "\n",
    "for record in records:\n",
    "    if '新店區' in record['sarea']:        \n",
    "        print('區域',record['sarea'])\n",
    "        print('站名',record['sna'])\n",
    "        print('地址',record['ar'])\n",
    "        print('緯經度座標[{},{}]'.format(record['lat'],record['lng']))\n",
    "        print('全部數量',record['tot'])\n",
    "        print('可借',record['sbi'])\n",
    "        print('可還',record['bemp'])\n",
    "        print('----------------------')\n",
    "        print()\n",
    "           "
   ]
  },
  {
   "cell_type": "markdown",
   "metadata": {},
   "source": [
    "## 檔案進階操作\n",
    "###  檔案存取與例外處理\n",
    "1. Python 的文件存取是透過 open( ) 方法建立文件物件方式進行存取， 如果文件不存在或讀取存限限制將會產生例外。\n",
    "2. 檔案存取例外為 IOError ，另外有兩個子類別:\n",
    "    - FileNotFoundError，代表 “找不到檔案”。\n",
    "    - PermissionError，代表 “沒有權限存取”。"
   ]
  },
  {
   "cell_type": "markdown",
   "metadata": {},
   "source": [
    "#### 操作範例:請動手操作，並留意輸出結果\n",
    "- file_except1.py"
   ]
  },
  {
   "cell_type": "code",
   "execution_count": null,
   "metadata": {
    "scrolled": true
   },
   "outputs": [],
   "source": [
    "try:\n",
    "    f = open('data.txt', 'r', encoding=\"utf8\") \n",
    "    print(f.read( ))\n",
    "    \n",
    "except FileNotFoundError: \n",
    "    print(\"找不到檔案\")\n",
    "except PermissionError: \n",
    "    print(\"你沒有權限存取\")\n",
    "except IOError: \n",
    "    print(\"其他檔案IO問題\")\n",
    "except: \n",
    "    print(\"其他例外\")\n",
    "    \n",
    "f.close( )"
   ]
  },
  {
   "cell_type": "markdown",
   "metadata": {},
   "source": [
    "###  關於檔案關閉動作\n",
    "1. 檔案開啟後須進行 close( ) 方法進行關閉動作。\n",
    "2. 若檔案沒關閉會造成:\n",
    "    - 開啟的文件物件會占用系統資源。\n",
    "    - Python 可以同時間開啟的文件數量有限制 (約 20 份文件)。\n",
    "    - 開啟文件物件的模式若為寫入 (w 或 a) 模式，一般都是暫存於緩衝區，系統閒置或文件關閉前才會進行寫入，若沒有進行 close( ) 動作可能造成文 件儲存不完整。"
   ]
  },
  {
   "cell_type": "markdown",
   "metadata": {},
   "source": [
    "#### 操作範例:請動手操作，並留意輸出結果\n",
    "- file_except2.py"
   ]
  },
  {
   "cell_type": "code",
   "execution_count": null,
   "metadata": {
    "scrolled": true
   },
   "outputs": [],
   "source": [
    "import os\n",
    "\n",
    "class tryopenfile:\n",
    "    def openfile(self, filePath):\n",
    "        self.handle = open(filePath, 'w')\n",
    "        self.handle.close()\n",
    "\n",
    "if __name__ == '__main__':\n",
    "    t = tryopenfile( )\n",
    "    filePath = 'test.txt' \n",
    "    t.openfile(filePath) \n",
    "    os.remove(filePath) \n",
    "    print('success')\n"
   ]
  },
  {
   "cell_type": "markdown",
   "metadata": {},
   "source": [
    "### With 方式操作檔案\n",
    "1. 多個檔案存取時若前一個檔案產生 IO 例外，將會造成後面無法進行close( ) 動作。\n",
    "2. 以 with 方式操作檔案:\n",
    "    - 檔案存取仍有可能產生 IO 例外。\n",
    "    - 離開 with 區塊時檔案將會自動進行close( )動作，自動關閉檔案。"
   ]
  },
  {
   "cell_type": "markdown",
   "metadata": {},
   "source": [
    "#### 操作範例 1:請動手操作，並留意輸出結果\n",
    "- file_except4.py"
   ]
  },
  {
   "cell_type": "code",
   "execution_count": null,
   "metadata": {
    "scrolled": true
   },
   "outputs": [],
   "source": [
    "try:\n",
    "    with open('data.txt', 'r', encoding=\"utf8\") as f:\n",
    "        print(f.read( ))\n",
    "except FileNotFoundError:\n",
    "    print(\"找不到檔案\") \n",
    "except PermissionError:\n",
    "    print(\"你沒有權限存取\")\n",
    "except IOError: \n",
    "    print(\"其他檔案IO問題\")\n",
    "except: \n",
    "    print(\"其他例外\") "
   ]
  },
  {
   "cell_type": "markdown",
   "metadata": {},
   "source": [
    "####  請問以下的問題答案為哪一個?(選擇題)\n",
    "\n",
    "```python\n",
    "關於 with 方式操作檔案的說明，哪一個是錯誤的?\n",
    "```\n",
    "(1) 離開 with 區塊時檔案將會自動進行 close( ) 動作，自動關閉檔案。  \n",
    "(2) 檔案存取仍有可能產生 IO 例外。  \n",
    "(3) 檔案存取不會產生 IO 例外。  "
   ]
  },
  {
   "cell_type": "markdown",
   "metadata": {},
   "source": [
    "## Nampy 介紹\n",
    "###  Numpy 簡介\n",
    "1. 可做到的功能\n",
    "\n",
    "    - 快速的多維陣列操作。\n",
    "    - 可靠的科學功能函數庫。\n",
    "    - 可協助繪圖工具進行繪圖。\n",
    "    \n",
    "2. NumPy 是幾乎每個科學 Python 應用程序或模組的核心，它提供了以向量化 形式的快速 N-d 陣列類型可供操作。\n",
    "3. NumPy 的核心功能是陣列物件類別。\n",
    "4. 陣列類似 list，但陣列裡的元素必須是相同的類型。\n",
    "5. list 不能直接使用算術運算工具 (+, -, *, /, ...) 。\n",
    "6. Numpy 提供更有效率的計算與多維運算工具。\n",
    "7. 必須引用 numpy 才能運作。"
   ]
  },
  {
   "cell_type": "markdown",
   "metadata": {
    "pycharm": {
     "name": "#%% md\n"
    }
   },
   "source": [
    "#### 為何使用numpy, 而不使用list\n"
   ]
  },
  {
   "cell_type": "code",
   "execution_count": null,
   "metadata": {
    "pycharm": {
     "is_executing": false,
     "name": "#%%\n"
    },
    "scrolled": true
   },
   "outputs": [],
   "source": [
    "import numpy as np\n",
    "my_arr = np.arange(1000000)\n",
    "my_list = list(range(1000000))"
   ]
  },
  {
   "cell_type": "code",
   "execution_count": null,
   "metadata": {
    "pycharm": {
     "is_executing": false,
     "name": "#%%\n"
    },
    "scrolled": true
   },
   "outputs": [],
   "source": [
    "%time for _ in range(10): my_arr2 = my_arr * 2"
   ]
  },
  {
   "cell_type": "code",
   "execution_count": null,
   "metadata": {
    "pycharm": {
     "is_executing": false,
     "name": "#%%\n"
    },
    "scrolled": true
   },
   "outputs": [],
   "source": [
    "%time for _ in range(10): my_list2 = [x * 2 for x in my_list]"
   ]
  },
  {
   "cell_type": "markdown",
   "metadata": {},
   "source": [
    "#### 操作範例: list 轉為一般陣列\n",
    "- array1.py\n"
   ]
  },
  {
   "cell_type": "code",
   "execution_count": null,
   "metadata": {
    "scrolled": true
   },
   "outputs": [],
   "source": [
    "a = [1,3,5,7,9]\n",
    "print(a[2:4])\n",
    "\n",
    "b = [[1, 3, 5, 7, 9], [2, 4, 6, 8, 10]] \n",
    "print(b[0])\n",
    "print(b[1][2:4])\n",
    "\n",
    "c = [1,3,5,7,9]\n",
    "d = [3,5,6,7,9]\n",
    "f=c+d\n",
    "print(f)\n",
    "print(type(a), type(b), type(c), type(d))"
   ]
  },
  {
   "cell_type": "markdown",
   "metadata": {},
   "source": [
    "###  Numpy 的陣列形狀\n",
    "1. 一維陣列的樣式  \n",
    "![一維陣列](1d.png) \n",
    "\n",
    "2. 二維陣列的樣式  \n",
    "![二維陣列](2d.png)\n",
    "\n",
    "3. 三維陣列的樣式  \n",
    "![三維陣列](3d.png)"
   ]
  },
  {
   "cell_type": "markdown",
   "metadata": {},
   "source": [
    "###  list 轉 ndarray 後的操作\n",
    "1. 例如 [1, 2, 3] 是一個維度為 1 的陣列，索引數量為 3。\n",
    "2. 例如 [[ 1, 0, 0.], [ 0, 1, 2]] 是一個維度為 2 的陣列，第一維索引數量為 2，第二維索引數量為 3。\n",
    "3. NumPy 的陣列被稱作 ndarray 。\n",
    "4. 透過 array 方法將 list 轉換為 ndarray"
   ]
  },
  {
   "cell_type": "markdown",
   "metadata": {},
   "source": [
    "#### list 轉 ndarray 後的操作\n",
    "- num1.py"
   ]
  },
  {
   "cell_type": "code",
   "execution_count": null,
   "metadata": {
    "scrolled": true
   },
   "outputs": [],
   "source": [
    "import numpy as np\n",
    "a = np.array([1,3,5,7,9]) \n",
    "b = np.array([3,5,6,7,9]) \n",
    "c=a+b\n",
    "print(c) \n",
    "print(\"---------------\") \n",
    "c=a-b\n",
    "print(c) \n",
    "print(\"---------------\") \n",
    "print(type(c))"
   ]
  },
  {
   "cell_type": "markdown",
   "metadata": {},
   "source": [
    "#### Homework:檔案存取\n",
    "- 請至政府資料開放平台下載\n",
    "- 新北市食品工廠清冊\n",
    "- https://data.gov.tw/dataset/117928\n",
    "- 可直接在目錄'檔案存取與numpy'中直接下載csv 和 json檔\n",
    "- 請使用csv檔案讀出所有新北市食品工廠的廠商名稱\n",
    "\n",
    "[csv解題](https://github.com/roberthsu2003/PythonForDataAnalysis/blob/master/%E6%AA%94%E6%A1%88%E5%AD%98%E5%8F%96%E8%88%87numpy/csvRead.ipynb)\n",
    "\n",
    "\n",
    "[json解題](https://github.com/roberthsu2003/PythonForDataAnalysis/blob/master/%E6%AA%94%E6%A1%88%E5%AD%98%E5%8F%96%E8%88%87numpy/jsonReader.ipynb)"
   ]
  },
  {
   "cell_type": "code",
   "execution_count": null,
   "metadata": {
    "scrolled": true
   },
   "outputs": [],
   "source": []
  }
 ],
 "metadata": {
  "kernelspec": {
   "display_name": "Python 3",
   "language": "python",
   "name": "python3"
  },
  "language_info": {
   "codemirror_mode": {
    "name": "ipython",
    "version": 3
   },
   "file_extension": ".py",
   "mimetype": "text/x-python",
   "name": "python",
   "nbconvert_exporter": "python",
   "pygments_lexer": "ipython3",
   "version": "3.7.4"
  },
  "pycharm": {
   "stem_cell": {
    "cell_type": "raw",
    "metadata": {
     "collapsed": false
    },
    "source": []
   }
  }
 },
 "nbformat": 4,
 "nbformat_minor": 2
}
