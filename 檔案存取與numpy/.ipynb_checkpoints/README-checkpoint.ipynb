{
 "cells": [
  {
   "cell_type": "markdown",
   "metadata": {},
   "source": [
    "# 檔案存取與 Numpy\n",
    "\n",
    "##  本堂教學重點\n",
    "1. 檔案基本操作\n",
    "2. CSV 與JSON 操作\n",
    "3. 檔案例外處理\n",
    "4. 檔案關閉動作\n",
    "5. Numpy 簡介\n",
    "6. Numpy 陣列形狀\n",
    "\n",
    "##  檔案存取\n",
    "- 在讀取或寫入文件之前，必須使用 Python 內建的 open( ) 函數開啟 文件。 這個函數將建立一個文件物件，這個文件物件會與真實的文 件做連結，可讓您透過文件物件對文件進行存取動作。\n",
    "- file object = open(file_name [, access_mode])\n",
    "- UTF8 編碼資料還請加入另一個參數才可避免亂碼:encoding=‘utf-8'\n",
    "- file object = open(file_name [, access_mode])\n",
    "    1. file_name:file_name 參數是一個字串資料，代表包含要連結的文件名稱。\n",
    "    2. access_mode:access_mode 確定文件必須打開的模式，包括讀取、寫 入、附加等等。稍後會列完整列表。這是可選參數，默認文件訪問模式為 讀取(r)。\n",
    "    \n",
    "\n",
    "| 存取模式 | 描述 |\n",
    "|:--      |:-- |\n",
    "| r | 連結開啟僅供閱讀的文件， 這是默認模式。|\n",
    "| rb | 以二進位方式連結開啟僅供閱讀的文件。|\n",
    "| r+ | 連結一個用於閱讀和寫作的文件。|\n",
    "| rb+ | 連結一個用於閱讀和寫作的二進位格式文件。|\n",
    "| w | 連結文件後僅供寫入。 如果文件存在，則覆蓋該文件。 如果文件不存在，則建立一個新文件後進行寫入。 |\n",
    "| wb | 連結二進位格式的文件後僅供寫入。如果文件存在，則覆蓋該文件。 如果文件不存在，則建立一個新文件進行寫入。 |\n",
    "| w+ | 連結文件後可以寫入和閱讀。如果文件存在，則覆蓋現有文件。 如果文件不存在，則建立一個新文件進行閱讀和寫入。 |\n",
    "| wb+ | 連結二進位格式文件後可以寫入和閱讀。如果文件存在，則覆蓋現有文件。 如果文件不存在，則建立一個新文件進行閱讀和寫入。 |\n",
    "| a | 連結一個文件進行附加。 如果文件存在，將處於從後面加入的模式。 如果文件不存在，它將建立一個新文件進行寫入。 |\n",
    "| ab | 連結一個二進位格式文件進行附加。 如果文件存在，將處於從後面加入的模式。 如果文件不存在，它將建立一個新文件進行寫入。 |\n",
    "| a+ | 連結一個文件進行附加與讀取。 如果文件存在，將處於從後面加入的模式。 如果文件不存在，它將建立一個新文件進行寫入與讀取。 |\n",
    "| ab+ | 連結一個文件進行附加與二進位格式讀取。 如果文件存在，將處於從後面加入的 模式。 如果文件不存在，它將建立一個新文件進行寫入與讀取。 |\n"
   ]
  },
  {
   "cell_type": "markdown",
   "metadata": {},
   "source": [
    "#### 操作範例 1:請動手操作，並留意輸出結果\n",
    "\n",
    "\n",
    "- file1.py\n"
   ]
  },
  {
   "cell_type": "code",
   "execution_count": 4,
   "metadata": {},
   "outputs": [],
   "source": [
    "text = '''python與中文\n",
    "1. 我們來試試看中文儲存能力。\n",
    "2. 許這個字會有編碼衝突風險。\n",
    "3. 犇這個字必須是utf8編碼才有。'''\n",
    "print(text ,file=open('data.txt','w',encoding='utf-8'))\n",
    "#print(text ,file=open('data.txt','w')) "
   ]
  },
  {
   "cell_type": "markdown",
   "metadata": {},
   "source": [
    "#### 操作範例 2:請動手操作，並留意輸出結果\n",
    "\n",
    "- 操作檔案file1-1.py"
   ]
  },
  {
   "cell_type": "code",
   "execution_count": null,
   "metadata": {},
   "outputs": [],
   "source": [
    "no=1 \n",
    "scores=dict( ) \n",
    "while True:\n",
    "    score = int(input('請輸入第'+str(no)+'號的成績:(-1結束)')) \n",
    "    if score == -1: \n",
    "        break;\n",
    "    scores[no] = score\n",
    "    no += 1\n",
    "    \n",
    "file=open('score.txt','w',encoding='utf-8') \n",
    "file.write(str(scores))\n"
   ]
  },
  {
   "cell_type": "markdown",
   "metadata": {},
   "source": [
    "###  檔案讀取方式\n",
    "- read([size]) 方法\n",
    "    1. read([size]) 方法從文件當前位置起讀取 size 個字元數量，若無參數，則代表讀取至文件結束為止。\n",
    "    2. 中文、英數與換行都是一格。"
   ]
  },
  {
   "cell_type": "markdown",
   "metadata": {},
   "source": [
    "#### 操作範例:請動手操作，並留意輸出結果\n",
    "- file2.py"
   ]
  },
  {
   "cell_type": "code",
   "execution_count": 8,
   "metadata": {},
   "outputs": [
    {
     "name": "stdout",
     "output_type": "stream",
     "text": [
      "python與中文\n",
      "1. 我們來試試看中文儲存能力。\n",
      "2. 許這個字會有編碼衝突風險。\n",
      "3. 犇這個字必須是utf8編碼才有。\n",
      "\n",
      "-------------\n",
      "pytho\n"
     ]
    }
   ],
   "source": [
    "file = open('data.txt', 'r', encoding='UTF-8') \n",
    "content = file.read( )\n",
    "print(content)\n",
    "#file.close( )\n",
    "print(\"-------------\")\n",
    "#file = open('data.txt', 'r', encoding='UTF-8') \n",
    "content2 = file.read(5)\n",
    "print(content2)\n",
    "file.close( )\n"
   ]
  },
  {
   "cell_type": "markdown",
   "metadata": {},
   "source": [
    "###  檔案讀取方式\n",
    "- readline 方法\n",
    "    1. 這個方法每次讀出一行內容，所以讀取時占用緩衝區較小，比較適合大型文件讀取，讀取到沒有資料為止。\n",
    "- 若不使用 readline 可用 with 敘述一行一行讀取資料，再使用 for 迴圈 逐一進行處理。\n",
    "- len( ) 代表計算字串字數。\n",
    "- readlines 方法\n",
    "    1. 這方法將讀取整個文件所有行，保存在一個 list 內。\n",
    "- 讀取文件後可搭配使用的方法\n",
    "    1. strip() 去除字串首尾的空白。\n",
    "    2. lstrip( ) 去除字串左邊的空白。\n",
    "    3. rstrip( ) 去除字串右邊的空白。\n",
    "    4. startswith(‘字元’): 第一個字元。"
   ]
  },
  {
   "cell_type": "markdown",
   "metadata": {},
   "source": [
    "#### 操作範例:請動手操作，並留意輸出結果\n",
    "- file4.py"
   ]
  },
  {
   "cell_type": "code",
   "execution_count": 10,
   "metadata": {},
   "outputs": [
    {
     "name": "stdout",
     "output_type": "stream",
     "text": [
      "['但帕內洛引述杜特蒂的話宣稱，菲律賓決定把台灣納入旅行禁令，跟一中政策「無關」。', '台灣現有武漢肺炎確診病例為18例，中國大陸約6萬例。台灣已多次抱怨世衛把台灣視為中國一部分的作法不公，會誤導其他國家認為台灣疫情跟中國大陸一樣嚴重。', '根據菲律賓總統府發言人帕內洛（Salvador Panelo），杜特蒂（Rodrigo Duterte）表示：「我首要關切的是我國人民的健康和安全。」', '菲律賓拒解除對台旅行禁令 杜特蒂稱無涉一中政策', '菲律賓本週以抑制俗稱武漢肺炎的2019年冠狀病毒疾病（COVID-19）疫情為由，對台實施旅行禁令。台灣當局已表示，若菲方不解除禁令，台灣將考慮反制措施。但杜特蒂仍決定維持禁令。', '路透社報導，由於北京宣稱台灣是中國的一部分，世界衛生組織（WHO）處理疫情資訊時把台灣納入中國，導致若干國家對台灣人實施跟對中國人一樣的限制。', '（中央社台北/馬尼拉13日綜合外電報導）菲律賓總統杜特蒂今天拒絕台灣方面的呼籲，不解除對台灣人實施的旅行禁令。杜特蒂並稱自己首要關切的是菲律賓人的安全，這項決定跟一中政策「無關」。']\n"
     ]
    },
    {
     "data": {
      "text/plain": [
       "467"
      ]
     },
     "execution_count": 10,
     "metadata": {},
     "output_type": "execute_result"
    }
   ],
   "source": [
    "f=open('data1.txt', 'r', encoding='UTF-8') \n",
    "result = list( )\n",
    "for line in f.readlines( ):\n",
    "    line = line.strip( )\n",
    "    if not len(line) or line.startswith('#'):\n",
    "        continue \n",
    "    result.append(line)\n",
    "\n",
    "result.sort( )\n",
    "print(result)\n",
    "open('result-readlines.txt', 'w', encoding='UTF-8').write('%s' % '\\n'.join(result))"
   ]
  },
  {
   "cell_type": "markdown",
   "metadata": {},
   "source": [
    "###  讀取 CSV 檔案\n",
    "- CSV 格式是資料庫最常用的導入和導出格式。\n",
    "- 資料均沒有類型，一切都是字串。\n",
    "- 沒有字體或顏色與儲存格寬度高度的設置。\n",
    "- Python 語法必須加入 import csv。\n",
    "- 讀取儲存格資料:\n",
    " 1. reader( ):依照每一列的編號 由0開始\n",
    " 2. DictReader( )\n",
    "    - 以第一列的值為每一行的名稱，第一列不是資料\n",
    "    - 也可以重新命名，但第一列必須是資料"
   ]
  },
  {
   "cell_type": "markdown",
   "metadata": {},
   "source": [
    "#### 操作範例 1:請動手操作，並留意輸出結果\n",
    "- csv01.py"
   ]
  },
  {
   "cell_type": "code",
   "execution_count": 12,
   "metadata": {},
   "outputs": [
    {
     "name": "stdout",
     "output_type": "stream",
     "text": [
      "<class '_csv.reader'>\n",
      "[['a', 'b', 'c', 'd', 'message'], ['1', '2', '3', '4', 'hello'], ['5', '6', '7', '8', 'world'], ['9', '10', '11', '12', 'foo']]\n"
     ]
    }
   ],
   "source": [
    "import csv \n",
    "f=open('ex1.csv',\"r\",encoding='utf-8')\n",
    "csv1 = csv.reader(f)\n",
    "list1 = list(csv1)\n",
    "print(list1)\n",
    "f.close()"
   ]
  },
  {
   "cell_type": "markdown",
   "metadata": {},
   "source": [
    "###  寫入 CSV 檔案\n",
    "- 必須加入 import csv\n",
    "- 利用 writer( ) 可寫入資料，寫入時注意\n",
    "    1. delimiter - 這是代表分隔符號\n",
    "    2. quotechar - 這是代表包住字串的符號\n",
    "- 使用 writerow( ) 方法進行特定的儲存格寫入"
   ]
  },
  {
   "cell_type": "markdown",
   "metadata": {},
   "source": [
    "#### 操作範例:請動手操作，並留意輸出結果\n",
    "- csv06.py"
   ]
  },
  {
   "cell_type": "code",
   "execution_count": 13,
   "metadata": {},
   "outputs": [],
   "source": [
    "import csv\n",
    "f=open('ex2.csv',\"r\",encoding='utf-8')\n",
    "reader = csv.reader(f)\n",
    "ofile = open('ttest.csv', \"w\",encoding='utf-8')\n",
    "writer = csv.writer(ofile, delimiter='-', quotechar='\"')\n",
    "for row in reader:\n",
    "    writer.writerow(row)\n",
    "f.close()\n",
    "ofile.close()"
   ]
  },
  {
   "cell_type": "markdown",
   "metadata": {},
   "source": [
    "###  Python 與 JSON\n",
    "\n",
    "#### Python 的資料型態與 JSON 的資料型態略有差異:\n",
    "| Python 資料型態 | JSON 資料型態 |\n",
    "|:-- |:-- |\n",
    "| dict | object |\n",
    "| list,tuple | array |\n",
    "| int,float | number |\n",
    "| True | true |\n",
    "| False | false |\n",
    "| None | null |\n",
    "\n",
    "###  從 Python 到 JSON\n",
    "1. 以 json.dumps( ) 函數從 Python 字串中取出資料轉入 JSON。\n",
    "2. 以 json.dump( ) 函數從 Python 字串中取出資料轉入 JSON 檔案中。\n",
    "3. json資料於Python處理UTF8碼內容會產生亂碼，建議 dumps 時加入 以下的參數才可以正確處理UTF8碼內容:ensure_ascii=False \n",
    "4. Python 與 JSON 檔案:\n",
    "    - JSON 檔案的中文資料於某些編輯軟體內會變成亂碼，但 Python 可以存取。\n",
    "    - 檔案寫入可用一般文件方式寫入，也可以使用 JSON 的方法寫入。"
   ]
  },
  {
   "cell_type": "markdown",
   "metadata": {},
   "source": [
    "#### 操作範例 1:請動手操作，並留意輸出結果\n",
    "- json01.py"
   ]
  },
  {
   "cell_type": "code",
   "execution_count": 17,
   "metadata": {},
   "outputs": [
    {
     "name": "stdout",
     "output_type": "stream",
     "text": [
      "<class 'str'>\n",
      "<class 'bytes'>\n",
      "{\"python\": \"good\", \"gjun\": 100, \"python-class\": true, \"ICQ\": null}\n",
      "b'{\"python\": \"good\", \"gjun\": 100, \"python-class\": true, \"ICQ\": null}'\n"
     ]
    }
   ],
   "source": [
    "import json\n",
    "json1 = {'python': 'good', 'gjun': 100, 'python-class':True,'ICQ': None}\n",
    "json2 = json.dumps(json1, ensure_ascii=False)\n",
    "print(type(json2))\n",
    "json3=json2.encode('utf8')\n",
    "print(type(json3))\n",
    "print(json2)\n",
    "print(json3)"
   ]
  },
  {
   "cell_type": "markdown",
   "metadata": {},
   "source": [
    "### 操作範例 2:請動手操作，並留意輸出結果\n",
    "- json02.py\n",
    "\n",
    "\n"
   ]
  },
  {
   "cell_type": "code",
   "execution_count": 1,
   "metadata": {},
   "outputs": [],
   "source": [
    "import json\n",
    "data = {}\n",
    "data['people'] = []\n",
    "data['people'].append({'name': 'Scott','website': 'stackabuse.com','from': 'Nebraska'})\n",
    "data['people'].append({'name': 'Larry', 'website': 'google.com', 'from': 'Michigan'})\n",
    "\n",
    "with open('data.json', 'w') as outfile:\n",
    "    json.dump(data, outfile)\n",
    "    \n",
    "json2 = json.dumps(data)\n",
    "file=open('score.json','w',encoding='utf-8')\n",
    "file.write((json2));\n",
    "file.close();"
   ]
  },
  {
   "cell_type": "markdown",
   "metadata": {},
   "source": [
    "###  從 JSON 到 Python\n",
    "1. 以 json.loads( ) 函數從 JSON 字串中取出資料轉入 Python。\n",
    "2. 以 json.load( ) 函數從 JSON 檔案中取出資料轉入 Python。"
   ]
  },
  {
   "cell_type": "markdown",
   "metadata": {},
   "source": [
    "### 操作範例 1:請動手操作，並留意輸出結果\n",
    "- json03.py"
   ]
  },
  {
   "cell_type": "code",
   "execution_count": null,
   "metadata": {},
   "outputs": [],
   "source": [
    "import json\n",
    "json1 = '{\"python\": \"good\", \"gjun\": 100, \"python-class\": true, \"ICQ\": null}'\n",
    "json2 = json.loads(json1)\n",
    "print(json2)"
   ]
  }
 ],
 "metadata": {
  "kernelspec": {
   "display_name": "Python 3",
   "language": "python",
   "name": "python3"
  },
  "language_info": {
   "codemirror_mode": {
    "name": "ipython",
    "version": 3
   },
   "file_extension": ".py",
   "mimetype": "text/x-python",
   "name": "python",
   "nbconvert_exporter": "python",
   "pygments_lexer": "ipython3",
   "version": "3.8.0"
  }
 },
 "nbformat": 4,
 "nbformat_minor": 2
}
