{
 "cells": [
  {
   "cell_type": "markdown",
   "metadata": {},
   "source": [
    "# 檔案存取與 Numpy\n",
    "\n",
    "##  本堂教學重點\n",
    "1. 檔案基本操作\n",
    "2. CSV 與JSON 操作\n",
    "3. 檔案例外處理\n",
    "4. 檔案關閉動作\n",
    "5. Numpy 簡介\n",
    "6. Numpy 陣列形狀\n",
    "\n",
    "##  檔案存取\n",
    "- 在讀取或寫入文件之前，必須使用 Python 內建的 open( ) 函數開啟 文件。 這個函數將建立一個文件物件，這個文件物件會與真實的文 件做連結，可讓您透過文件物件對文件進行存取動作。\n",
    "- file object = open(file_name [, access_mode])\n",
    "- UTF8 編碼資料還請加入另一個參數才可避免亂碼:encoding=‘utf-8'\n",
    "- file object = open(file_name [, access_mode])\n",
    "    1. file_name:file_name 參數是一個字串資料，代表包含要連結的文件名稱。\n",
    "    2. access_mode:access_mode 確定文件必須打開的模式，包括讀取、寫 入、附加等等。稍後會列完整列表。這是可選參數，默認文件訪問模式為 讀取(r)。\n",
    "\n"
   ]
  }
 ],
 "metadata": {
  "kernelspec": {
   "display_name": "Python 3",
   "language": "python",
   "name": "python3"
  },
  "language_info": {
   "codemirror_mode": {
    "name": "ipython",
    "version": 3
   },
   "file_extension": ".py",
   "mimetype": "text/x-python",
   "name": "python",
   "nbconvert_exporter": "python",
   "pygments_lexer": "ipython3",
   "version": "3.8.0"
  }
 },
 "nbformat": 4,
 "nbformat_minor": 2
}
