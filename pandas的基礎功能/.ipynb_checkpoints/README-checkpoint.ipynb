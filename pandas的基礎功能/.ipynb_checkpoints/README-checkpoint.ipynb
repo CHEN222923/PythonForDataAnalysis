{
 "cells": [
  {
   "cell_type": "markdown",
   "metadata": {},
   "source": [
    "# pandas的基礎操作\n",
    "- 現在可以更深入於資料的分析和操作資料\n",
    "- 基本操作\n",
    "    * 重新建立列或欄的索引 - reindexing\n",
    "    * 刪除部份欄或列 - Dropping Entries from an Axis\n",
    "    * 使用索引,切割,過濾技術，截取想獲得的資料 - indexing,selection,and Filtering\n",
    "    * 整數的索引 - integer Indexes\n",
    "    * 資料集的數學運算 - Arithmetic and Data Alignment\n",
    "    * 使用function,lambda方法,讀取每一個cell,或欄或列 - Function Application and Mapping\n",
    "    * 排序資料和排名資料 - Sorting and Ranking\n",
    "    * 查詢索引是否有重覆的標籤 - Axes indexes with Duplicate Labels\n",
    "    \n",
    "- 總合和統計描素 - Summarizing and Computing Descriptive Statistics\n",
    "    * 相關係數(correlation) and 共變異數(Covariance)\n",
    "    * 單獨值,值的數量和成員 - Uinque Values, value Counts, and Membership"
   ]
  },
  {
   "cell_type": "markdown",
   "metadata": {},
   "source": [
    "## 使用reindex()利用重新建立索引產生新的資料集"
   ]
  },
  {
   "cell_type": "code",
   "execution_count": null,
   "metadata": {},
   "outputs": [],
   "source": [
    "import pandas as pd\n",
    "import numpy as np\n",
    "\n",
    "obj = pd.Series([4.5, 7.2, -5.3, 3.6], index=['d', 'b', 'a', 'c'])\n",
    "obj\n",
    "'''\n",
    "Out[1]: \n",
    "d    4.5\n",
    "b    7.2\n",
    "a   -5.3\n",
    "c    3.6\n",
    "dtype: float64\n",
    "'''\n",
    "\n",
    "#使用reindex()方法,重新規劃新索引,並產生新的資料集\n",
    "#沒有索引到的資料會被移除\n",
    "#新增的索引會使用 NaN\n",
    "obj2 = obj.reindex(['a', 'c', 'd', 'e'])\n",
    "obj2\n",
    "'''\n",
    "Out[2]: \n",
    "a   -5.3\n",
    "b    7.2\n",
    "c    3.6\n",
    "d    4.5\n",
    "e    NaN\n",
    "dtype: float64\n",
    "'''\n",
    "\n",
    "#使用引數名稱method='ffill',向前填滿資料\n",
    "obj3 = pd.Series(['blue', 'purple', 'yellow'], index=[0, 2, 4])\n",
    "obj3\n",
    "'''\n",
    "Out[4]: \n",
    "0      blue\n",
    "2    purple\n",
    "4    yellow\n",
    "dtype: object\n",
    "'''\n",
    "\n",
    "obj3.reindex(range(6), method='ffill')\n",
    "'''\n",
    "Out[5]: \n",
    "0      blue\n",
    "1      blue\n",
    "2    purple\n",
    "3    purple\n",
    "4    yellow\n",
    "5    yellow\n",
    "dtype: object\n",
    "'''\n"
   ]
  },
  {
   "cell_type": "code",
   "execution_count": null,
   "metadata": {},
   "outputs": [],
   "source": [
    "#DataFrame使用reindex()\n",
    "#reindex()可以重新建立列的索引外,也可以重新建立欄的索引標籤\n",
    "\n",
    "frame = pd.DataFrame(np.arange(9).reshape(3, 3),\n",
    "                    index=['a', 'c', 'd'],\n",
    "                    columns=['台北', '台中', '高雄'])\n",
    "frame\n",
    "'''\n",
    "Out[6]: \n",
    "   台北  台中  高雄\n",
    "a   0   1   2\n",
    "c   3   4   5\n",
    "d   6   7   8\n",
    "'''\n",
    "\n",
    "#使用reindex()新增row\n",
    "frame2 = frame.reindex(['a', 'b', 'c', 'd'])\n",
    "frame2\n",
    "'''\n",
    "Out[7]: \n",
    "    台北   台中   高雄\n",
    "a  0.0  1.0  2.0\n",
    "b  NaN  NaN  NaN\n",
    "c  3.0  4.0  5.0\n",
    "d  6.0  7.0  8.0\n",
    "'''\n",
    "\n",
    "#使用reindex()移除row\n",
    "frame2 = frame.reindex(['a', 'c'])\n",
    "frame2\n",
    "'''\n",
    "Out[8]: \n",
    "   台北  台中  高雄\n",
    "a   0   1   2\n",
    "c   3   4   5\n",
    "'''\n",
    "\n",
    "#使用reindex()的columns引數名稱,新增移除column\n",
    "states = ['台北', '高雄', '台南']\n",
    "frame2 = frame.reindex(['a', 'c'],columns=states)\n",
    "frame2\n",
    "'''\n",
    "Out[9]: \n",
    "    台北   高雄  台南\n",
    "a  0.0  2.0 NaN\n",
    "c  3.0  5.0 NaN\n",
    "'''\n"
   ]
  },
  {
   "cell_type": "markdown",
   "metadata": {},
   "source": [
    "## 使用drop()移除欄或列-當列或欄的數量非常多時\n",
    "\n",
    "- 只有移除,不重新排列順序\n"
   ]
  },
  {
   "cell_type": "code",
   "execution_count": 13,
   "metadata": {},
   "outputs": [
    {
     "data": {
      "text/html": [
       "<div>\n",
       "<style scoped>\n",
       "    .dataframe tbody tr th:only-of-type {\n",
       "        vertical-align: middle;\n",
       "    }\n",
       "\n",
       "    .dataframe tbody tr th {\n",
       "        vertical-align: top;\n",
       "    }\n",
       "\n",
       "    .dataframe thead th {\n",
       "        text-align: right;\n",
       "    }\n",
       "</style>\n",
       "<table border=\"1\" class=\"dataframe\">\n",
       "  <thead>\n",
       "    <tr style=\"text-align: right;\">\n",
       "      <th></th>\n",
       "      <th>one</th>\n",
       "      <th>two</th>\n",
       "      <th>three</th>\n",
       "      <th>four</th>\n",
       "    </tr>\n",
       "  </thead>\n",
       "  <tbody>\n",
       "    <tr>\n",
       "      <td>台中</td>\n",
       "      <td>4</td>\n",
       "      <td>5</td>\n",
       "      <td>6</td>\n",
       "      <td>7</td>\n",
       "    </tr>\n",
       "    <tr>\n",
       "      <td>台南</td>\n",
       "      <td>8</td>\n",
       "      <td>9</td>\n",
       "      <td>10</td>\n",
       "      <td>11</td>\n",
       "    </tr>\n",
       "    <tr>\n",
       "      <td>高雄</td>\n",
       "      <td>12</td>\n",
       "      <td>13</td>\n",
       "      <td>14</td>\n",
       "      <td>15</td>\n",
       "    </tr>\n",
       "  </tbody>\n",
       "</table>\n",
       "</div>"
      ],
      "text/plain": [
       "    one  two  three  four\n",
       "台中    4    5      6     7\n",
       "台南    8    9     10    11\n",
       "高雄   12   13     14    15"
      ]
     },
     "execution_count": 13,
     "metadata": {},
     "output_type": "execute_result"
    }
   ],
   "source": [
    "#Series\n",
    "obj = pd.Series(np.arange(5.),index=['a', 'b', 'c', 'd', 'e'])\n",
    "obj\n",
    "'''\n",
    "Out[10]: \n",
    "a    0.0\n",
    "b    1.0\n",
    "c    2.0\n",
    "d    3.0\n",
    "e    4.0\n",
    "dtype: float64\n",
    "'''\n",
    "\n",
    "#使用drop()方法移除一個列索引\n",
    "new_obj = obj.drop('c')\n",
    "new_obj\n",
    "\n",
    "#使用drop()方法移除多個索引\n",
    "new_obj = obj.drop(['d', 'c'])\n",
    "new_obj\n",
    "'''\n",
    "Out[11]: \n",
    "a    0.0\n",
    "b    1.0\n",
    "e    4.0\n",
    "dtype: float64\n",
    "'''\n",
    "\n",
    "#DataFrame\n",
    "data = pd.DataFrame(np.arange(16).reshape(4,4),\n",
    "                   index=['台北','台中', '台南', '高雄'],\n",
    "                   columns=['one', 'two', 'three', 'four'])\n",
    "data\n",
    "'''\n",
    "Out[12]: \n",
    "    one  two  three  four\n",
    "台北    0    1      2     3\n",
    "台中    4    5      6     7\n",
    "台南    8    9     10    11\n",
    "高雄   12   13     14    15\n",
    "'''\n",
    "\n",
    "#drop()預設是移除row\n",
    "dropData = data.drop(['台北','台中'])\n",
    "dropData\n",
    "'''\n",
    "Out[13]: \n",
    "    one  two  three  four\n",
    "台南    8    9     10    11\n",
    "高雄   12   13     14    15\n",
    "'''\n",
    "\n",
    "#使用引數名稱axis=1或axis='columns'移除欄\n",
    "dropData = data.drop('two', axis=1)\n",
    "dropData\n",
    "'''\n",
    "Out[15]: \n",
    "    one  three  four\n",
    "台北    0      2     3\n",
    "台中    4      6     7\n",
    "台南    8     10    11\n",
    "高雄   12     14    15\n",
    "'''\n",
    "\n",
    "drapData = data.drop(['two', 'four'], axis='columns')\n",
    "drapData\n",
    "'''\n",
    "Out[16]: \n",
    "    one  three\n",
    "台北    0      2\n",
    "台中    4      6\n",
    "台南    8     10\n",
    "高雄   12     14\n",
    "'''\n",
    "\n",
    "#如果是要移除原始資料,必需使用引數名稱inplace=True\n",
    "data.drop('台北', inplace=True)\n",
    "data\n",
    "'''\n",
    "Out[17]: \n",
    "    one  two  three  four\n",
    "台中    4    5      6     7\n",
    "台南    8    9     10    11\n",
    "高雄   12   13     14    15\n",
    "'''"
   ]
  },
  {
   "cell_type": "markdown",
   "metadata": {},
   "source": [
    "#### homework1\n",
    "[homework1](https://github.com/roberthsu2003/PythonForDataAnalysis/blob/master/pandas%E7%9A%84%E5%9F%BA%E7%A4%8E%E5%8A%9F%E8%83%BD/Homework1.ipynb)"
   ]
  },
  {
   "cell_type": "markdown",
   "metadata": {},
   "source": [
    "## 索引、選取、過濾"
   ]
  },
  {
   "cell_type": "code",
   "execution_count": null,
   "metadata": {},
   "outputs": [],
   "source": [
    "#Series的索引(obj[...])類似於ndarray,除了series的索引沒有限定整數,還可以是字串\n",
    "obj = pd.Series(np.arange(4.), index=['a', 'b', 'c', 'd'])\n",
    "obj\n",
    "\n",
    "'''\n",
    "Out[18]: \n",
    "a    0.0\n",
    "b    1.0\n",
    "c    2.0\n",
    "d    3.0\n",
    "dtype: float64\n",
    "'''\n",
    "\n",
    "#使用索引\n",
    "obj[1]\n",
    "'''\n",
    "Out[19]: 1.0\n",
    "'''\n",
    "\n",
    "#使用slice()\n",
    "obj[2:4]\n",
    "'''\n",
    "Out[20]: \n",
    "c    2.0\n",
    "d    3.0\n",
    "dtype: float64\n",
    "'''\n",
    "\n",
    "#使用list,index的值\n",
    "obj[['b', 'a', 'd']]\n",
    "'''\n",
    "Out[21]: \n",
    "b    1.0\n",
    "a    0.0\n",
    "d    3.0\n",
    "dtype: float64\n",
    "'''\n",
    "\n",
    "#使用list,索引\n",
    "obj[[1, 3]]\n",
    "'''\n",
    "Out[22]: \n",
    "b    1.0\n",
    "d    3.0\n",
    "dtype: float64\n",
    "'''\n",
    "\n",
    "#使用boolean series來過瀘\n",
    "obj[obj < 2]\n",
    "'''\n",
    "Out[23]: \n",
    "a    0.0\n",
    "b    1.0\n",
    "dtype: float64\n",
    "'''\n",
    "\n",
    "#使用標籤的slice,不同於整數的slice,最後一個是包含的\n",
    "obj['b':'c']\n",
    "'''\n",
    "Out[24]: \n",
    "b    1.0\n",
    "c    2.0\n",
    "dtype: float64\n",
    "'''\n",
    "\n",
    "#也可使用選取時,給值\n",
    "obj['b': 'c'] = 5\n",
    "obj\n",
    "'''\n",
    "Out[25]: \n",
    "a    0.0\n",
    "b    5.0\n",
    "c    5.0\n",
    "d    3.0\n",
    "dtype: float64\n",
    "'''"
   ]
  },
  {
   "cell_type": "code",
   "execution_count": null,
   "metadata": {},
   "outputs": [],
   "source": [
    "#DataFrame的索引,主要是取出1個或多個欄位.一個欄位是取出Series\n",
    "data = pd.DataFrame(np.arange(16).reshape((4, 4)),\n",
    "                   index=['台北','台中','台南', '高雄'],\n",
    "                   columns=['one', 'two', 'three', 'four'])\n",
    "data\n",
    "'''\n",
    "Out[27]: \n",
    "    one  two  three  four\n",
    "台北    0    1      2     3\n",
    "台中    4    5      6     7\n",
    "台南    8    9     10    11\n",
    "高雄   12   13     14    15\n",
    "'''\n",
    "\n",
    "#取出一欄,是Series\n",
    "data['two']\n",
    "'''\n",
    "Out[28]: \n",
    "台北     1\n",
    "台中     5\n",
    "台南     9\n",
    "高雄    13\n",
    "Name: two, dtype: int64\n",
    "'''\n",
    "\n",
    "#使用list取出多欄,取出的是DataFrame\n",
    "data[['three', 'one']]\n",
    "'''\n",
    "Out[29]: \n",
    "    three  one\n",
    "台北      2    0\n",
    "台中      6    4\n",
    "台南     10    8\n",
    "高雄     14   12\n",
    "'''\n",
    "\n",
    "#使用數值的slice是取出row,只可以使用slice方式\n",
    "#不可以只有索引\n",
    "\n",
    "data[:2]\n",
    "'''\n",
    "    one  two  three  four\n",
    "台北    0    1      2     3\n",
    "台中    4    5      6     7\n",
    "'''\n",
    "\n",
    "#使用boolean series做為選取\n",
    "'''\n",
    "Out[34]: \n",
    "    one  two  three  four\n",
    "台中    4    5      6     7\n",
    "台南    8    9     10    11\n",
    "高雄   12   13     14    15\n",
    "'''\n",
    "\n",
    "#使用boolean dataFrame做為選取\n",
    "data < 5\n",
    "'''\n",
    "Out[35]: \n",
    "      one    two  three   four\n",
    "台北   True   True   True   True\n",
    "台中   True  False  False  False\n",
    "台南  False  False  False  False\n",
    "高雄  False  False  False  False\n",
    "'''\n",
    "\n",
    "data[data<5] = 0\n",
    "data\n",
    "'''\n",
    "Out[36]: \n",
    "    one  two  three  four\n",
    "台北    0    0      0     0\n",
    "台中    0    5      6     7\n",
    "台南    8    9     10    11\n",
    "高雄   12   13     14    15\n",
    "'''"
   ]
  },
  {
   "cell_type": "markdown",
   "metadata": {},
   "source": [
    "### 使用loc,iloc選取\n",
    "- loc()使用標籤索引\n",
    "- iloc()使用整數索引"
   ]
  },
  {
   "cell_type": "code",
   "execution_count": null,
   "metadata": {},
   "outputs": [],
   "source": [
    "data = pd.DataFrame(np.arange(16).reshape((4, 4)),\n",
    "                   index=['台北','台中','台南', '高雄'],\n",
    "                   columns=['one', 'two', 'three', 'four'])\n",
    "data\n",
    "'''\n",
    "Out[39]: \n",
    "    one  two  three  four\n",
    "台北    0    1      2     3\n",
    "台中    4    5      6     7\n",
    "台南    8    9     10    11\n",
    "高雄   12   13     14    15\n",
    "'''\n",
    "\n",
    "#使用loc\n",
    "data.loc['台北',['two', 'three']]\n",
    "'''\n",
    "Out[40]: \n",
    "two      1\n",
    "three    2\n",
    "Name: 台北, dtype: int64\n",
    "'''\n",
    "\n",
    "#使用iloc\n",
    "data.iloc[2,[3, 0, 1]]\n",
    "'''\n",
    "Out[41]: \n",
    "four    11\n",
    "one      8\n",
    "two      9\n",
    "Name: 台南, dtype: int64\n",
    "'''\n",
    "\n",
    "#使用iloc取出整列\n",
    "data.iloc[2]\n",
    "'''\n",
    "Out[42]: \n",
    "one       8\n",
    "two       9\n",
    "three    10\n",
    "four     11\n",
    "Name: 台南, dtype: int64\n",
    "'''\n",
    "\n",
    "#使用iloc\n",
    "data.iloc[[1, 2],[3, 0, 1]]\n",
    "'''\n",
    "Out[43]: \n",
    "    four  one  two\n",
    "台中     7    4    5\n",
    "台南    11    8    9\n",
    "'''\n",
    "\n",
    "#使用loc配合標籤slice語法\n",
    "print(data.loc[:'台南','two'])\n",
    "print(5,'----------------------------')\n",
    "\n"
   ]
  },
  {
   "cell_type": "markdown",
   "metadata": {},
   "source": [
    "## 數學運算和資料對齊"
   ]
  },
  {
   "cell_type": "code",
   "execution_count": null,
   "metadata": {},
   "outputs": [],
   "source": [
    "import pandas as pd\n",
    "import numpy as np\n",
    "\n",
    "s1 = pd.Series([7.3, -2.5, 3.4, 1.5], index=['a', 'c', 'd', 'e'])\n",
    "s2 = pd.Series([-2.1, 3.6, -1.5, 4, 3.1], index=['a', 'c', 'e', 'f', 'g'])\n",
    "\n",
    "print(s1)\n",
    "print(1,'--------------------')\n",
    "\n",
    "print(s2)\n",
    "print(2,'--------------------')\n",
    "\n",
    "#運算時使用標籤對齊\n",
    "print(s1 + s2)\n",
    "print(3,'--------------------')\n",
    "\n"
   ]
  },
  {
   "cell_type": "code",
   "execution_count": null,
   "metadata": {},
   "outputs": [],
   "source": [
    "#dataFrame運算時同時對齊row和columns標籤\n",
    "df1 = pd.DataFrame(np.arange(9.).reshape((3, 3)),\n",
    "                  columns=list('bcd'),\n",
    "                  index=['台北','台中','台南'])\n",
    "df2 = pd.DataFrame(np.arange(12.).reshape((4, 3)),\n",
    "                  columns = list('bde'),\n",
    "                  index=['高雄','台北','台中','台南'])\n",
    "print(df1)\n",
    "print(1,'---------------------')\n",
    "\n",
    "print(df2)\n",
    "print(2,'----------------------')\n",
    "\n",
    "#同時row,column標籤對齊\n",
    "print(df1 + df2)\n",
    "print(3,'----------------------')\n",
    "\n",
    "\n",
    "#都沒有row,column標籤對齊\n",
    "df1 = pd.DataFrame({'A':[1, 2]})\n",
    "df2 = pd.DataFrame({'B':[3, 4]})\n",
    "\n",
    "print(df1)\n",
    "print(4,'----------------------')\n",
    "\n",
    "print(df2)\n",
    "print(5,'----------------------')\n",
    "\n",
    "df1-df2"
   ]
  },
  {
   "cell_type": "code",
   "execution_count": null,
   "metadata": {},
   "outputs": [],
   "source": [
    "#add()方法配合fill_value引數名稱\n",
    "df1 = pd.DataFrame(np.arange(12.).reshape((3, 4)),\n",
    "                  columns=list('abcd'))\n",
    "df2 = pd.DataFrame(np.arange(20.).reshape((4, 5)),\n",
    "                  columns=list('abcde'))\n",
    "df2.loc[1, 'b'] = np.nan\n",
    "print(df1)\n",
    "print('a','-------------------')\n",
    "print(df2)\n",
    "print('b','-------------------')\n",
    "\n",
    "#使用fill_value\n",
    "df1.add(df2, fill_value=0)"
   ]
  },
  {
   "cell_type": "markdown",
   "metadata": {},
   "source": [
    "|方法|表示|\n",
    "|:--|:--|\n",
    "|add|+|\n",
    "|sub|-|\n",
    "|div|/|\n",
    "|floordiv|//|\n",
    "|mul|*|\n",
    "|pow|**|"
   ]
  },
  {
   "cell_type": "markdown",
   "metadata": {},
   "source": [
    "## Function 和 Mapping\n",
    "- numpy 的ufunc也可以使用在pandas上\n"
   ]
  },
  {
   "cell_type": "code",
   "execution_count": null,
   "metadata": {},
   "outputs": [],
   "source": [
    "import pandas as pd\n",
    "import numpy as np\n",
    "\n",
    "frame = pd.DataFrame(np.random.randn(4,3),\n",
    "                    columns=list('bde'),\n",
    "                    index=['台北','台中','台南','高雄'])\n",
    "frame"
   ]
  },
  {
   "cell_type": "code",
   "execution_count": null,
   "metadata": {},
   "outputs": [],
   "source": [
    "#numpy絕對值\n",
    "np.abs(frame)"
   ]
  },
  {
   "cell_type": "code",
   "execution_count": null,
   "metadata": {},
   "outputs": [],
   "source": [
    "#使用apply(function)\n",
    "#預設為列,非列的索引,使用整列的方向\n",
    "#function必需return 值\n",
    "f = lambda x: x.max() - x.min()\n",
    "frame.apply(f)"
   ]
  },
  {
   "cell_type": "code",
   "execution_count": null,
   "metadata": {},
   "outputs": [],
   "source": [
    "#使用apply(,axis='columns'),使用整欄的方法\n",
    "f = lambda x: x.max() - x.min()\n",
    "frame.apply(f, axis='columns')"
   ]
  },
  {
   "cell_type": "code",
   "execution_count": null,
   "metadata": {},
   "outputs": [],
   "source": [
    "#使用apply(function)\n",
    "#function return值不一定是純值,也可以是Series\n",
    "frame = pd.DataFrame(np.random.randn(4,3),\n",
    "                    columns=list('bde'),\n",
    "                    index=['台北','台中','台南','高雄'])\n",
    "frame"
   ]
  },
  {
   "cell_type": "code",
   "execution_count": null,
   "metadata": {},
   "outputs": [],
   "source": [
    "def f(x):\n",
    "    return pd.Series([x.min(),x.max()],index=['min','max'])\n",
    "\n",
    "frame.apply(f)"
   ]
  },
  {
   "cell_type": "code",
   "execution_count": null,
   "metadata": {},
   "outputs": [],
   "source": [
    "#dataFrame應用到每一value,使用applymap(function)\n",
    "format = lambda x: '%.2f' % x\n",
    "frame.applymap(format)"
   ]
  },
  {
   "cell_type": "code",
   "execution_count": null,
   "metadata": {},
   "outputs": [],
   "source": [
    "#Series應用每一個value,做用map\n",
    "frame['e'].map(format)"
   ]
  },
  {
   "cell_type": "markdown",
   "metadata": {},
   "source": [
    "## 排序和排名"
   ]
  },
  {
   "cell_type": "code",
   "execution_count": null,
   "metadata": {},
   "outputs": [],
   "source": [
    "#使用sort_index()方法,傳回新的已排序的資料\n",
    "obj = pd.Series(range(4), index=['d', 'a', 'b', 'c'])\n",
    "obj.sort_index()"
   ]
  },
  {
   "cell_type": "code",
   "execution_count": null,
   "metadata": {},
   "outputs": [],
   "source": [
    "frame = pd.DataFrame(np.arange(8).reshape((2, 4)),\n",
    "                    index = ['three', 'one'],\n",
    "                    columns=['d', 'a', 'b', 'c'])\n",
    "\n",
    "#dataFrame排序index\n",
    "frame.sort_index()"
   ]
  },
  {
   "cell_type": "code",
   "execution_count": null,
   "metadata": {},
   "outputs": [],
   "source": [
    "#dataFrame column 排序\n",
    "frame.sort_index(axis=1)"
   ]
  },
  {
   "cell_type": "code",
   "execution_count": null,
   "metadata": {},
   "outputs": [],
   "source": [
    "#dataFrame 遞減排序\n",
    "frame.sort_index(axis=1, ascending=False)"
   ]
  },
  {
   "cell_type": "code",
   "execution_count": null,
   "metadata": {},
   "outputs": [],
   "source": [
    "#使用sort_values(),讓series依value的排序\n",
    "obj = pd.Series([4, 7, -3, 2])\n",
    "obj.sort_values()"
   ]
  },
  {
   "cell_type": "code",
   "execution_count": null,
   "metadata": {},
   "outputs": [],
   "source": [
    "#任何有NaN value的值,排序會在最後\n",
    "obj = pd.Series([4, np.nan, 7, np.nan, -3, 2])\n",
    "obj.sort_values()"
   ]
  },
  {
   "cell_type": "code",
   "execution_count": null,
   "metadata": {},
   "outputs": [],
   "source": [
    "#DataFrame的排序,可指定一個欄位的排序\n",
    "frame = pd.DataFrame({'b':[4, 7, -3, 2], 'a':[0, 1, 0, 1]})\n",
    "frame\n",
    "\n",
    "frame.sort_values(by='b')"
   ]
  },
  {
   "cell_type": "code",
   "execution_count": null,
   "metadata": {},
   "outputs": [],
   "source": [
    "#DataFrame的排序,可指定多個欄位的排序\n",
    "frame.sort_values(by=['a', 'b'])"
   ]
  },
  {
   "cell_type": "code",
   "execution_count": null,
   "metadata": {},
   "outputs": [],
   "source": [
    "#排名使用rank()\n",
    "obj = pd.Series([7, -5, 7, 4, 2, 0, 4])\n",
    "obj.rank()"
   ]
  },
  {
   "cell_type": "code",
   "execution_count": null,
   "metadata": {},
   "outputs": [],
   "source": [
    "#先出現的排前面\n",
    "obj.rank(method='first')"
   ]
  },
  {
   "cell_type": "code",
   "execution_count": null,
   "metadata": {},
   "outputs": [],
   "source": [
    "obj.rank(ascending=False, method='max')"
   ]
  },
  {
   "cell_type": "code",
   "execution_count": null,
   "metadata": {},
   "outputs": [],
   "source": [
    "#DataFrame的排名可使用列或欄\n",
    "frame = pd.DataFrame({'b':[4.3, 7, -3, 2],\n",
    "                     'a':[0, 1, 0,1],\n",
    "                     'c':[-2, 5, 8, -2.5]})\n",
    "frame"
   ]
  },
  {
   "cell_type": "code",
   "execution_count": null,
   "metadata": {},
   "outputs": [],
   "source": [
    "frame.sort_index(axis=1).rank(axis='columns')"
   ]
  },
  {
   "cell_type": "markdown",
   "metadata": {},
   "source": [
    "## 總結和統計\n",
    "- 如加總和平均\n",
    "- 可以從DataFrame計算出統計資料的Series"
   ]
  },
  {
   "cell_type": "code",
   "execution_count": null,
   "metadata": {},
   "outputs": [],
   "source": [
    "df = pd.DataFrame([[1.4, np.nan],\n",
    "                  [7.1, -4.5],\n",
    "                  [np.nan, np.nan],\n",
    "                  [0.75, -1.3]],\n",
    "                 index=['a', 'b', 'c', 'd'],\n",
    "                 columns=['one', 'two'])\n",
    "df"
   ]
  },
  {
   "cell_type": "code",
   "execution_count": null,
   "metadata": {},
   "outputs": [],
   "source": [
    "#sum()加總\n",
    "df.sum()"
   ]
  },
  {
   "cell_type": "code",
   "execution_count": null,
   "metadata": {},
   "outputs": [],
   "source": [
    "df.sum(axis='columns')"
   ]
  },
  {
   "cell_type": "code",
   "execution_count": null,
   "metadata": {},
   "outputs": [],
   "source": [
    "df = pd.DataFrame([[1.4, np.nan],\n",
    "                  [7.1, -4.5],\n",
    "                  [np.nan, np.nan],\n",
    "                  [0.75, -1.3]],\n",
    "                 index=['a', 'b', 'c', 'd'],\n",
    "                 columns=['one', 'two'])\n",
    "df"
   ]
  },
  {
   "cell_type": "code",
   "execution_count": null,
   "metadata": {},
   "outputs": [],
   "source": [
    "#取出最大值的index\n",
    "df.idxmax()"
   ]
  },
  {
   "cell_type": "code",
   "execution_count": null,
   "metadata": {},
   "outputs": [],
   "source": [
    "#使用cumsum(),產生累積值\n",
    "df.cumsum()"
   ]
  },
  {
   "cell_type": "code",
   "execution_count": null,
   "metadata": {},
   "outputs": [],
   "source": [
    "#使用describe() 產生全部的統計\n",
    "df.describe()"
   ]
  },
  {
   "cell_type": "markdown",
   "metadata": {},
   "source": [
    "## 相關係數(correlation) and 共變異數(Covariance)"
   ]
  },
  {
   "cell_type": "markdown",
   "metadata": {},
   "source": [
    "### 相關係數 \n",
    "- r是相關係數  \n",
    "- 當r>0時，表示兩變數正相關，r<0時，兩變數為負相關。  \n",
    "- 當|r|=1時，表示兩變數為完全線性相關，即為函數關係。  \n",
    "- 當r=0時，表示兩變數間無線性相關關係。  \n",
    "- 當0<|r|<1時，表示兩變數存在一定程度的線性相關。且|r|越接近1，兩變數間線性關係越密切；|r|越接近於0，表示兩變數的線性相關越弱。  \n",
    "- 一般可按三級劃分：|r|<0.4為低度線性相關；0.4≤|r|<0.7為顯著性相關；0.7≤|r|<1為高度線性相關。\n",
    "\n",
    "### 共變異數其實就等於在算x和y的相關程度"
   ]
  },
  {
   "cell_type": "code",
   "execution_count": null,
   "metadata": {},
   "outputs": [],
   "source": [
    "data = {'年廣告費投入':[12.5, 15.3, 23.2, 26.4, 33.5, 34.4, 39.4, 45.2, 55.4, 60.9],\n",
    "            '月均銷售額':[21.2, 23.9, 32.9, 34.1, 42.5, 43.2, 49.0, 52.8, 59.4, 63.5]}\n",
    "dataFrame = pd.DataFrame(data, index=[2020,2019,2018,2017,2016,2015,2014,2013,2012,2011])\n",
    "dataFrame"
   ]
  },
  {
   "cell_type": "code",
   "execution_count": null,
   "metadata": {},
   "outputs": [],
   "source": [
    "#相關係數\n",
    "dataFrame['年廣告費投入'].corr(dataFrame['月均銷售額'])"
   ]
  },
  {
   "cell_type": "code",
   "execution_count": null,
   "metadata": {},
   "outputs": [],
   "source": [
    "#共變異數\n",
    "dataFrame['年廣告費投入'].cov(dataFrame['月均銷售額'])"
   ]
  },
  {
   "cell_type": "markdown",
   "metadata": {},
   "source": [
    "#### Apple,IBM,MFSF,Google股票分析"
   ]
  },
  {
   "cell_type": "code",
   "execution_count": null,
   "metadata": {},
   "outputs": [],
   "source": [
    "import pandas_datareader.data as web\n",
    "#print(web.get_data_yahoo('AAPL'))\n",
    "\n",
    "all_data = {ticker: web.get_data_yahoo(ticker) for ticker in ['AAPL', 'IBM', 'MSFT', 'GOOG']}\n",
    "price = pd.DataFrame({ticker: data['Adj Close'] for ticker, data in all_data.items()})\n",
    "price"
   ]
  },
  {
   "cell_type": "code",
   "execution_count": null,
   "metadata": {},
   "outputs": [],
   "source": [
    "volume = pd.DataFrame({ticker:data['Volume'] for ticker, data in all_data.items()})\n",
    "volume"
   ]
  },
  {
   "cell_type": "code",
   "execution_count": null,
   "metadata": {},
   "outputs": [],
   "source": [
    "#和上一筆資料的平均差\n",
    "returns = price.pct_change()\n",
    "\n",
    "returns.tail()"
   ]
  },
  {
   "cell_type": "code",
   "execution_count": null,
   "metadata": {},
   "outputs": [],
   "source": [
    "## corr() 相關係數(線性關係)\n",
    "returns['MSFT'].corr(returns['IBM'])"
   ]
  },
  {
   "cell_type": "code",
   "execution_count": null,
   "metadata": {},
   "outputs": [],
   "source": [
    "## cov() 共變異數\n",
    "returns['MSFT'].cov(returns['IBM'])"
   ]
  },
  {
   "cell_type": "code",
   "execution_count": null,
   "metadata": {},
   "outputs": [],
   "source": [
    "#4個股票的相關係數比較\n",
    "returns.corr()"
   ]
  },
  {
   "cell_type": "code",
   "execution_count": null,
   "metadata": {},
   "outputs": [],
   "source": []
  }
 ],
 "metadata": {
  "kernelspec": {
   "display_name": "Python 3",
   "language": "python",
   "name": "python3"
  },
  "language_info": {
   "codemirror_mode": {
    "name": "ipython",
    "version": 3
   },
   "file_extension": ".py",
   "mimetype": "text/x-python",
   "name": "python",
   "nbconvert_exporter": "python",
   "pygments_lexer": "ipython3",
   "version": "3.7.4"
  }
 },
 "nbformat": 4,
 "nbformat_minor": 2
}
