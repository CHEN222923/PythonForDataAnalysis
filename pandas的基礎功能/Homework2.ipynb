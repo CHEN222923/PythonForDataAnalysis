{
 "cells": [
  {
   "cell_type": "markdown",
   "metadata": {},
   "source": [
    "### 利用各鄉鎮市區人口密度計算出總人口數和土地總面積\n"
   ]
  },
  {
   "cell_type": "code",
   "execution_count": 8,
   "metadata": {},
   "outputs": [
    {
     "data": {
      "text/html": [
       "<div>\n",
       "<style scoped>\n",
       "    .dataframe tbody tr th:only-of-type {\n",
       "        vertical-align: middle;\n",
       "    }\n",
       "\n",
       "    .dataframe tbody tr th {\n",
       "        vertical-align: top;\n",
       "    }\n",
       "\n",
       "    .dataframe thead th {\n",
       "        text-align: right;\n",
       "    }\n",
       "</style>\n",
       "<table border=\"1\" class=\"dataframe\">\n",
       "  <thead>\n",
       "    <tr style=\"text-align: right;\">\n",
       "      <th></th>\n",
       "      <th>區域別</th>\n",
       "      <th>人口數</th>\n",
       "      <th>土地面積</th>\n",
       "    </tr>\n",
       "  </thead>\n",
       "  <tbody>\n",
       "    <tr>\n",
       "      <td>0</td>\n",
       "      <td>新北市板橋區</td>\n",
       "      <td>551480</td>\n",
       "      <td>23.1373</td>\n",
       "    </tr>\n",
       "    <tr>\n",
       "      <td>1</td>\n",
       "      <td>新北市三重區</td>\n",
       "      <td>387484</td>\n",
       "      <td>16.317</td>\n",
       "    </tr>\n",
       "    <tr>\n",
       "      <td>2</td>\n",
       "      <td>新北市中和區</td>\n",
       "      <td>413590</td>\n",
       "      <td>20.144</td>\n",
       "    </tr>\n",
       "    <tr>\n",
       "      <td>3</td>\n",
       "      <td>新北市永和區</td>\n",
       "      <td>222585</td>\n",
       "      <td>5.7138</td>\n",
       "    </tr>\n",
       "    <tr>\n",
       "      <td>4</td>\n",
       "      <td>新北市新莊區</td>\n",
       "      <td>416524</td>\n",
       "      <td>19.7383</td>\n",
       "    </tr>\n",
       "    <tr>\n",
       "      <td>...</td>\n",
       "      <td>...</td>\n",
       "      <td>...</td>\n",
       "      <td>...</td>\n",
       "    </tr>\n",
       "    <tr>\n",
       "      <td>365</td>\n",
       "      <td>連江縣北竿鄉</td>\n",
       "      <td>2360</td>\n",
       "      <td>9.9</td>\n",
       "    </tr>\n",
       "    <tr>\n",
       "      <td>366</td>\n",
       "      <td>連江縣莒光鄉</td>\n",
       "      <td>1624</td>\n",
       "      <td>4.7</td>\n",
       "    </tr>\n",
       "    <tr>\n",
       "      <td>367</td>\n",
       "      <td>連江縣東引鄉</td>\n",
       "      <td>1352</td>\n",
       "      <td>3.8</td>\n",
       "    </tr>\n",
       "    <tr>\n",
       "      <td>368</td>\n",
       "      <td>東沙群島</td>\n",
       "      <td>…</td>\n",
       "      <td>2.38</td>\n",
       "    </tr>\n",
       "    <tr>\n",
       "      <td>369</td>\n",
       "      <td>南沙群島</td>\n",
       "      <td>…</td>\n",
       "      <td>0.5045</td>\n",
       "    </tr>\n",
       "  </tbody>\n",
       "</table>\n",
       "<p>370 rows × 3 columns</p>\n",
       "</div>"
      ],
      "text/plain": [
       "0       區域別     人口數     土地面積\n",
       "0    新北市板橋區  551480  23.1373\n",
       "1    新北市三重區  387484   16.317\n",
       "2    新北市中和區  413590   20.144\n",
       "3    新北市永和區  222585   5.7138\n",
       "4    新北市新莊區  416524  19.7383\n",
       "..      ...     ...      ...\n",
       "365  連江縣北竿鄉    2360      9.9\n",
       "366  連江縣莒光鄉    1624      4.7\n",
       "367  連江縣東引鄉    1352      3.8\n",
       "368    東沙群島      …      2.38\n",
       "369    南沙群島      …    0.5045\n",
       "\n",
       "[370 rows x 3 columns]"
      ]
     },
     "execution_count": 8,
     "metadata": {},
     "output_type": "execute_result"
    }
   ],
   "source": [
    "import pandas as pd\n",
    "import numpy as np\n",
    "\n",
    "dataFrame = pd.read_csv('各鄉鎮市區人口密度.csv')\n",
    "dataFrame\n",
    "\n",
    "#使用dtypes屬性查詢dataFrame所有的欄的資料類型\n",
    "dataFrame.dtypes\n",
    "\n",
    "#使用shape屬性查詢欄列數量\n",
    "dataFrame.shape\n",
    "\n",
    "#改變欄位索引標籤名稱\n",
    "dataFrame.columns = dataFrame.loc[0]\n",
    "dataFrame\n",
    "\n",
    "#查詢列索引\n",
    "dataFrame.index\n",
    "\n",
    "#移除第一列\n",
    "dataFrame = dataFrame.drop(0)\n",
    "dataFrame\n",
    "\n",
    "#查看最後10行\n",
    "dataFrame.iloc[-10:]\n",
    "\n",
    "#使用drop刪除最後幾行\n",
    "dataFrame.drop([371, 372, 373, 374, 375],inplace=True)\n",
    "dataFrame\n",
    "\n",
    "#建立新的索引列\n",
    "#先用shape取出列的數量\n",
    "rowCount, columnCount = dataFrame.shape\n",
    "rowCount\n",
    "\n",
    "#建立新的索引列\n",
    "dataFrame.index = pd.Index(range(rowCount))\n",
    "dataFrame\n",
    "\n",
    "#使用reindex取出想要的欄位\n",
    "dataFrame1 = dataFrame.reindex(columns=['區域別','年底人口數','土地面積'])\n",
    "dataFrame1\n",
    "\n",
    "#使用rename()實體方法改變欄位名稱\n",
    "dataFrame1 = dataFrame1.rename(columns={'年底人口數':'人口數'})\n",
    "dataFrame1"
   ]
  },
  {
   "cell_type": "code",
   "execution_count": 9,
   "metadata": {},
   "outputs": [],
   "source": [
    "dataFrame1 = dataFrame1.iloc[:-2]"
   ]
  },
  {
   "cell_type": "code",
   "execution_count": 13,
   "metadata": {},
   "outputs": [
    {
     "data": {
      "text/plain": [
       "0\n",
       "區域別     object\n",
       "人口數     object\n",
       "土地面積    object\n",
       "dtype: object"
      ]
     },
     "execution_count": 13,
     "metadata": {},
     "output_type": "execute_result"
    }
   ],
   "source": [
    "dataFrame1.dtypes"
   ]
  },
  {
   "cell_type": "code",
   "execution_count": 16,
   "metadata": {},
   "outputs": [
    {
     "data": {
      "text/plain": [
       "23571227"
      ]
     },
     "execution_count": 16,
     "metadata": {},
     "output_type": "execute_result"
    }
   ],
   "source": [
    "pop = dataFrame1['人口數'].map(lambda x: int(x))\n",
    "pop.sum()"
   ]
  },
  {
   "cell_type": "code",
   "execution_count": 18,
   "metadata": {},
   "outputs": [
    {
     "data": {
      "text/plain": [
       "36194.1824"
      ]
     },
     "execution_count": 18,
     "metadata": {},
     "output_type": "execute_result"
    }
   ],
   "source": [
    "area = dataFrame1['土地面積'].map(lambda x:float(x))\n",
    "area.sum()"
   ]
  },
  {
   "cell_type": "code",
   "execution_count": null,
   "metadata": {},
   "outputs": [],
   "source": []
  }
 ],
 "metadata": {
  "kernelspec": {
   "display_name": "Python 3",
   "language": "python",
   "name": "python3"
  },
  "language_info": {
   "codemirror_mode": {
    "name": "ipython",
    "version": 3
   },
   "file_extension": ".py",
   "mimetype": "text/x-python",
   "name": "python",
   "nbconvert_exporter": "python",
   "pygments_lexer": "ipython3",
   "version": "3.7.4"
  }
 },
 "nbformat": 4,
 "nbformat_minor": 2
}
