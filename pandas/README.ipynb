{
 "cells": [
  {
   "cell_type": "markdown",
   "metadata": {},
   "source": [
    "# pandas\n",
    "1 pandas的資料結構  \n",
    "2 pandas的資料工具  \n",
    "3 規劃和整理資料  \n",
    "4 分析資料更為快速  \n",
    "5 pandas的數值處理方法非常類似於Numpy和Scipy  \n",
    "6 pandas也是使用array處理資料  \n",
    "7 numpy專門處理相同數值的array資料  \n",
    "8 pandas專門處理不同資料型態的表格資料  "
   ]
  },
  {
   "cell_type": "code",
   "execution_count": 1,
   "metadata": {},
   "outputs": [],
   "source": [
    "#一般我們使用pandas的語法如下\n",
    "import pandas as pd\n",
    "\n",
    "#如果要直接將Series,DataFrame載入到現在使用的命名空間\n",
    "from pandas import Series, DataFrame"
   ]
  },
  {
   "cell_type": "markdown",
   "metadata": {},
   "source": [
    "## pandas的資料結構\n",
    "1.Series  \n",
    "2.DataFrame  \n"
   ]
  },
  {
   "cell_type": "markdown",
   "metadata": {},
   "source": [
    "## Series\n",
    "- 類似一個一維的陣列(相似於numpy),但還包含了一些對應資料的符號(index)  "
   ]
  },
  {
   "cell_type": "code",
   "execution_count": 4,
   "metadata": {},
   "outputs": [
    {
     "data": {
      "text/plain": [
       "0    4\n",
       "1    7\n",
       "2   -5\n",
       "3    3\n",
       "dtype: int64"
      ]
     },
     "execution_count": 4,
     "metadata": {},
     "output_type": "execute_result"
    }
   ],
   "source": [
    "#Seriese -> 類似一個一維的陣列(相似於numpy),但還包含了一些對應資料的符號(index)\n",
    "obj = pd.Series([4, 7, -5, 3])\n",
    "obj\n",
    "\n",
    "#下面左邊是index,右邊的是值.沒有特定指定索引將會採用0 ~ N-1的值(N是這資料的長度)。"
   ]
  },
  {
   "cell_type": "code",
   "execution_count": 5,
   "metadata": {},
   "outputs": [
    {
     "data": {
      "text/plain": [
       "array([ 4,  7, -5,  3])"
      ]
     },
     "execution_count": 5,
     "metadata": {},
     "output_type": "execute_result"
    }
   ],
   "source": [
    "#使用values的屬性取出numpy的ndarray\n",
    "obj.values"
   ]
  },
  {
   "cell_type": "code",
   "execution_count": 6,
   "metadata": {},
   "outputs": [
    {
     "data": {
      "text/plain": [
       "RangeIndex(start=0, stop=4, step=1)"
      ]
     },
     "execution_count": 6,
     "metadata": {},
     "output_type": "execute_result"
    }
   ],
   "source": [
    "#使用index屬性取出index物件\n",
    "obj.index"
   ]
  },
  {
   "cell_type": "code",
   "execution_count": 7,
   "metadata": {},
   "outputs": [
    {
     "data": {
      "text/plain": [
       "d    4\n",
       "b    7\n",
       "a   -5\n",
       "c    3\n",
       "dtype: int64"
      ]
     },
     "execution_count": 7,
     "metadata": {},
     "output_type": "execute_result"
    }
   ],
   "source": [
    "#自定Series索引的label\n",
    "obj2 = pd.Series([4, 7, -5, 3], index=['d', 'b', 'a', 'c'])\n",
    "obj2"
   ]
  },
  {
   "cell_type": "code",
   "execution_count": 8,
   "metadata": {},
   "outputs": [
    {
     "data": {
      "text/plain": [
       "Index(['d', 'b', 'a', 'c'], dtype='object')"
      ]
     },
     "execution_count": 8,
     "metadata": {},
     "output_type": "execute_result"
    }
   ],
   "source": [
    "#使用index屬性取出索引物件\n",
    "obj2.index"
   ]
  },
  {
   "cell_type": "code",
   "execution_count": 14,
   "metadata": {},
   "outputs": [
    {
     "data": {
      "text/plain": [
       "c    3\n",
       "a   -5\n",
       "d    6\n",
       "dtype: int64"
      ]
     },
     "execution_count": 14,
     "metadata": {},
     "output_type": "execute_result"
    }
   ],
   "source": [
    "#和numpy不同是，我們可以使用索引的label取出值來\n",
    "obj2['a']\n",
    "# output -5\n",
    "\n",
    "#修改值\n",
    "obj2['d'] = 6\n",
    "\n",
    "#使用list取出多個值\n",
    "obj2[['c', 'a', 'd']]"
   ]
  },
  {
   "cell_type": "code",
   "execution_count": 18,
   "metadata": {},
   "outputs": [
    {
     "data": {
      "text/plain": [
       "d      54.598150\n",
       "b    1096.633158\n",
       "a       0.006738\n",
       "c      20.085537\n",
       "dtype: float64"
      ]
     },
     "execution_count": 18,
     "metadata": {},
     "output_type": "execute_result"
    }
   ],
   "source": [
    "#使用類似numpy的運算元操作\n",
    "obj2 = pd.Series([4, 7, -5, 3], index=['d', 'b', 'a', 'c'])\n",
    "\n",
    "#使用boolean array過濾資料\n",
    "obj2[obj2 > 0]\n",
    "\n",
    "#使用和純值的運算\n",
    "obj2 * 2\n",
    "\n",
    "#使用numpy的數學函式\n",
    "import numpy as np\n",
    "np.exp(obj2)"
   ]
  },
  {
   "cell_type": "code",
   "execution_count": 20,
   "metadata": {},
   "outputs": [
    {
     "name": "stdout",
     "output_type": "stream",
     "text": [
      "True\n"
     ]
    },
    {
     "data": {
      "text/plain": [
       "False"
      ]
     },
     "execution_count": 20,
     "metadata": {},
     "output_type": "execute_result"
    }
   ],
   "source": [
    "#有時可以想像Series是一個固定長度,可以排序的Dictionary\n",
    "\n",
    "obj2 = pd.Series([4, 7, -5, 3], index=['d', 'b', 'a', 'c'])\n",
    "\n",
    "#使用 in 運算元\n",
    "print('b' in obj2)\n",
    "\n",
    "'e' in obj2"
   ]
  },
  {
   "cell_type": "code",
   "execution_count": 21,
   "metadata": {},
   "outputs": [
    {
     "data": {
      "text/plain": [
       "台北    35000\n",
       "桃園    71000\n",
       "台中    16000\n",
       "高雄     5000\n",
       "dtype: int64"
      ]
     },
     "execution_count": 21,
     "metadata": {},
     "output_type": "execute_result"
    }
   ],
   "source": [
    "#由於類似Dictionary, 所以也可以使用Dictionary來建立Series\n",
    "sdata = {'台北':35000, '桃園':71000, '台中':16000, '高雄':5000}\n",
    "obj3 = pd.Series(sdata)\n",
    "obj3"
   ]
  },
  {
   "cell_type": "code",
   "execution_count": 24,
   "metadata": {},
   "outputs": [
    {
     "data": {
      "text/plain": [
       "花蓮        NaN\n",
       "高雄     5000.0\n",
       "台中    16000.0\n",
       "台北    35000.0\n",
       "dtype: float64"
      ]
     },
     "execution_count": 24,
     "metadata": {},
     "output_type": "execute_result"
    }
   ],
   "source": [
    "#使用 index 引數名稱,排序資料\n",
    "sdata = {'台北':35000, '桃園':71000, '台中':16000, '高雄':5000}\n",
    "states = ['花蓮','高雄', '台中', '台北']\n",
    "obj4 = pd.Series(sdata, index=states)\n",
    "obj4"
   ]
  },
  {
   "cell_type": "code",
   "execution_count": 28,
   "metadata": {},
   "outputs": [
    {
     "name": "stdout",
     "output_type": "stream",
     "text": [
      "花蓮     True\n",
      "高雄    False\n",
      "台中    False\n",
      "台北    False\n",
      "dtype: bool\n",
      "花蓮    False\n",
      "高雄     True\n",
      "台中     True\n",
      "台北     True\n",
      "dtype: bool\n"
     ]
    },
    {
     "data": {
      "text/plain": [
       "花蓮     True\n",
       "高雄    False\n",
       "台中    False\n",
       "台北    False\n",
       "dtype: bool"
      ]
     },
     "execution_count": 28,
     "metadata": {},
     "output_type": "execute_result"
    }
   ],
   "source": [
    "#使用pd的isnull()和notnull()functions\n",
    "print(pd.isnull(obj4))\n",
    "\n",
    "print(pd.notnull(obj4))\n",
    "\n",
    "#使用Series的method()\n",
    "obj4.isnull()"
   ]
  },
  {
   "cell_type": "code",
   "execution_count": 30,
   "metadata": {},
   "outputs": [
    {
     "name": "stdout",
     "output_type": "stream",
     "text": [
      "台北    35000\n",
      "桃園    71000\n",
      "台中    16000\n",
      "高雄     5000\n",
      "dtype: int64\n",
      "花蓮        NaN\n",
      "高雄     5000.0\n",
      "台中    16000.0\n",
      "台北    35000.0\n",
      "dtype: float64\n"
     ]
    },
    {
     "data": {
      "text/plain": [
       "台中    32000.0\n",
       "台北    70000.0\n",
       "桃園        NaN\n",
       "花蓮        NaN\n",
       "高雄    10000.0\n",
       "dtype: float64"
      ]
     },
     "execution_count": 30,
     "metadata": {},
     "output_type": "execute_result"
    }
   ],
   "source": [
    "#2個Series在做數學運算時,會依照索引來做運算\n",
    "\n",
    "sdata = {'台北':35000, '桃園':71000, '台中':16000, '高雄':5000}\n",
    "obj3 = pd.Series(sdata)\n",
    "print(obj3)\n",
    "sdata = {'台北':35000, '桃園':71000, '台中':16000, '高雄':5000}\n",
    "states = ['花蓮','高雄', '台中', '台北']\n",
    "obj4 = pd.Series(sdata, index=states)\n",
    "print(obj4)\n",
    "\n",
    "#NaN + 值會得到NaN\n",
    "obj3 + obj4"
   ]
  },
  {
   "cell_type": "code",
   "execution_count": 32,
   "metadata": {},
   "outputs": [
    {
     "data": {
      "text/plain": [
       "縣市\n",
       "花蓮        NaN\n",
       "高雄     5000.0\n",
       "台中    16000.0\n",
       "台北    35000.0\n",
       "Name: 縣市人口, dtype: float64"
      ]
     },
     "execution_count": 32,
     "metadata": {},
     "output_type": "execute_result"
    }
   ],
   "source": [
    "#Series物件和Series有各自的name屬性\n",
    "sdata = {'台北':35000, '桃園':71000, '台中':16000, '高雄':5000}\n",
    "states = ['花蓮','高雄', '台中', '台北']\n",
    "obj4 = pd.Series(sdata, index=states)\n",
    "\n",
    "obj4.name = '縣市人口'\n",
    "obj4.index.name = '縣市'\n",
    "obj4"
   ]
  },
  {
   "cell_type": "code",
   "execution_count": 33,
   "metadata": {},
   "outputs": [
    {
     "name": "stdout",
     "output_type": "stream",
     "text": [
      "0    4\n",
      "1    7\n",
      "2   -5\n",
      "3    3\n",
      "dtype: int64\n"
     ]
    },
    {
     "data": {
      "text/plain": [
       "Bob      4\n",
       "Steve    7\n",
       "Jeff    -5\n",
       "Ryan     3\n",
       "dtype: int64"
      ]
     },
     "execution_count": 33,
     "metadata": {},
     "output_type": "execute_result"
    }
   ],
   "source": [
    "#Series物件可以被更換的\n",
    "obj = pd.Series([4, 7, -5, 3])\n",
    "print(obj)\n",
    "obj.index = ['Bob', 'Steve', 'Jeff', 'Ryan']\n",
    "obj"
   ]
  },
  {
   "cell_type": "markdown",
   "metadata": {},
   "source": [
    "## DataFrame\n",
    "- DataFrame可以展示表格資料  \n",
    "- DataFrame有columns,每個column可以有不同的資料型態(數值,字串,布林)  \n",
    "- DataFrame有2個index,一個是row的index,一個是column的index  \n",
    "- 可以想像很多有相同index的Series,組成DataFrame,每個Series有自已的column index  "
   ]
  },
  {
   "cell_type": "code",
   "execution_count": 34,
   "metadata": {},
   "outputs": [
    {
     "data": {
      "text/html": [
       "<div>\n",
       "<style scoped>\n",
       "    .dataframe tbody tr th:only-of-type {\n",
       "        vertical-align: middle;\n",
       "    }\n",
       "\n",
       "    .dataframe tbody tr th {\n",
       "        vertical-align: top;\n",
       "    }\n",
       "\n",
       "    .dataframe thead th {\n",
       "        text-align: right;\n",
       "    }\n",
       "</style>\n",
       "<table border=\"1\" class=\"dataframe\">\n",
       "  <thead>\n",
       "    <tr style=\"text-align: right;\">\n",
       "      <th></th>\n",
       "      <th>縣市</th>\n",
       "      <th>年份</th>\n",
       "      <th>人口</th>\n",
       "    </tr>\n",
       "  </thead>\n",
       "  <tbody>\n",
       "    <tr>\n",
       "      <td>0</td>\n",
       "      <td>台北</td>\n",
       "      <td>2000</td>\n",
       "      <td>2.2</td>\n",
       "    </tr>\n",
       "    <tr>\n",
       "      <td>1</td>\n",
       "      <td>台北</td>\n",
       "      <td>2001</td>\n",
       "      <td>2.5</td>\n",
       "    </tr>\n",
       "    <tr>\n",
       "      <td>2</td>\n",
       "      <td>台北</td>\n",
       "      <td>2002</td>\n",
       "      <td>2.7</td>\n",
       "    </tr>\n",
       "    <tr>\n",
       "      <td>3</td>\n",
       "      <td>新竹</td>\n",
       "      <td>2001</td>\n",
       "      <td>1.1</td>\n",
       "    </tr>\n",
       "    <tr>\n",
       "      <td>4</td>\n",
       "      <td>新竹</td>\n",
       "      <td>2002</td>\n",
       "      <td>1.5</td>\n",
       "    </tr>\n",
       "    <tr>\n",
       "      <td>5</td>\n",
       "      <td>新竹</td>\n",
       "      <td>2003</td>\n",
       "      <td>2.0</td>\n",
       "    </tr>\n",
       "  </tbody>\n",
       "</table>\n",
       "</div>"
      ],
      "text/plain": [
       "   縣市    年份   人口\n",
       "0  台北  2000  2.2\n",
       "1  台北  2001  2.5\n",
       "2  台北  2002  2.7\n",
       "3  新竹  2001  1.1\n",
       "4  新竹  2002  1.5\n",
       "5  新竹  2003  2.0"
      ]
     },
     "execution_count": 34,
     "metadata": {},
     "output_type": "execute_result"
    }
   ],
   "source": [
    "#有非常多種方式可以建立DataFrame,最常用的是Dictionary,然後key當作column的索引,list當作value\n",
    "data = {\n",
    "    '縣市': ['台北','台北','台北', '新竹', '新竹', '新竹'],\n",
    "    '年份': [2000, 2001, 2002, 2001, 2002, 2003],\n",
    "    '人口': [2.2, 2.5, 2.7, 1.1, 1.5, 2.0]\n",
    "}\n",
    "\n",
    "frame = pd.DataFrame(data)\n",
    "frame\n",
    "\n",
    "#會自動產生row的index"
   ]
  },
  {
   "cell_type": "code",
   "execution_count": 35,
   "metadata": {},
   "outputs": [
    {
     "data": {
      "text/html": [
       "<div>\n",
       "<style scoped>\n",
       "    .dataframe tbody tr th:only-of-type {\n",
       "        vertical-align: middle;\n",
       "    }\n",
       "\n",
       "    .dataframe tbody tr th {\n",
       "        vertical-align: top;\n",
       "    }\n",
       "\n",
       "    .dataframe thead th {\n",
       "        text-align: right;\n",
       "    }\n",
       "</style>\n",
       "<table border=\"1\" class=\"dataframe\">\n",
       "  <thead>\n",
       "    <tr style=\"text-align: right;\">\n",
       "      <th></th>\n",
       "      <th>縣市</th>\n",
       "      <th>年份</th>\n",
       "      <th>人口</th>\n",
       "    </tr>\n",
       "  </thead>\n",
       "  <tbody>\n",
       "    <tr>\n",
       "      <td>0</td>\n",
       "      <td>台北</td>\n",
       "      <td>2000</td>\n",
       "      <td>2.2</td>\n",
       "    </tr>\n",
       "    <tr>\n",
       "      <td>1</td>\n",
       "      <td>台北</td>\n",
       "      <td>2001</td>\n",
       "      <td>2.5</td>\n",
       "    </tr>\n",
       "    <tr>\n",
       "      <td>2</td>\n",
       "      <td>台北</td>\n",
       "      <td>2002</td>\n",
       "      <td>2.7</td>\n",
       "    </tr>\n",
       "    <tr>\n",
       "      <td>3</td>\n",
       "      <td>新竹</td>\n",
       "      <td>2001</td>\n",
       "      <td>1.1</td>\n",
       "    </tr>\n",
       "    <tr>\n",
       "      <td>4</td>\n",
       "      <td>新竹</td>\n",
       "      <td>2002</td>\n",
       "      <td>1.5</td>\n",
       "    </tr>\n",
       "  </tbody>\n",
       "</table>\n",
       "</div>"
      ],
      "text/plain": [
       "   縣市    年份   人口\n",
       "0  台北  2000  2.2\n",
       "1  台北  2001  2.5\n",
       "2  台北  2002  2.7\n",
       "3  新竹  2001  1.1\n",
       "4  新竹  2002  1.5"
      ]
     },
     "execution_count": 35,
     "metadata": {},
     "output_type": "execute_result"
    }
   ],
   "source": [
    "#有時資料會非常多,如果要只看前面幾筆,可以使用head()方法,只顯示前面幾筆\n",
    "#head()\n",
    "frame.head()\n"
   ]
  },
  {
   "cell_type": "code",
   "execution_count": 37,
   "metadata": {},
   "outputs": [
    {
     "data": {
      "text/html": [
       "<div>\n",
       "<style scoped>\n",
       "    .dataframe tbody tr th:only-of-type {\n",
       "        vertical-align: middle;\n",
       "    }\n",
       "\n",
       "    .dataframe tbody tr th {\n",
       "        vertical-align: top;\n",
       "    }\n",
       "\n",
       "    .dataframe thead th {\n",
       "        text-align: right;\n",
       "    }\n",
       "</style>\n",
       "<table border=\"1\" class=\"dataframe\">\n",
       "  <thead>\n",
       "    <tr style=\"text-align: right;\">\n",
       "      <th></th>\n",
       "      <th>年份</th>\n",
       "      <th>人口</th>\n",
       "      <th>縣市</th>\n",
       "    </tr>\n",
       "  </thead>\n",
       "  <tbody>\n",
       "    <tr>\n",
       "      <td>0</td>\n",
       "      <td>2000</td>\n",
       "      <td>2.2</td>\n",
       "      <td>台北</td>\n",
       "    </tr>\n",
       "    <tr>\n",
       "      <td>1</td>\n",
       "      <td>2001</td>\n",
       "      <td>2.5</td>\n",
       "      <td>台北</td>\n",
       "    </tr>\n",
       "    <tr>\n",
       "      <td>2</td>\n",
       "      <td>2002</td>\n",
       "      <td>2.7</td>\n",
       "      <td>台北</td>\n",
       "    </tr>\n",
       "    <tr>\n",
       "      <td>3</td>\n",
       "      <td>2001</td>\n",
       "      <td>1.1</td>\n",
       "      <td>新竹</td>\n",
       "    </tr>\n",
       "    <tr>\n",
       "      <td>4</td>\n",
       "      <td>2002</td>\n",
       "      <td>1.5</td>\n",
       "      <td>新竹</td>\n",
       "    </tr>\n",
       "    <tr>\n",
       "      <td>5</td>\n",
       "      <td>2003</td>\n",
       "      <td>2.0</td>\n",
       "      <td>新竹</td>\n",
       "    </tr>\n",
       "  </tbody>\n",
       "</table>\n",
       "</div>"
      ],
      "text/plain": [
       "     年份   人口  縣市\n",
       "0  2000  2.2  台北\n",
       "1  2001  2.5  台北\n",
       "2  2002  2.7  台北\n",
       "3  2001  1.1  新竹\n",
       "4  2002  1.5  新竹\n",
       "5  2003  2.0  新竹"
      ]
     },
     "execution_count": 37,
     "metadata": {},
     "output_type": "execute_result"
    }
   ],
   "source": [
    "#如果指定引數名稱columns,則DataFrame欄位名稱將依照columns的順序排列\n",
    "data = {\n",
    "    '縣市': ['台北','台北','台北', '新竹', '新竹', '新竹'],\n",
    "    '年份': [2000, 2001, 2002, 2001, 2002, 2003],\n",
    "    '人口': [2.2, 2.5, 2.7, 1.1, 1.5, 2.0]\n",
    "}\n",
    "\n",
    "pd.DataFrame(data, columns=['年份','人口', '縣市'])"
   ]
  },
  {
   "cell_type": "code",
   "execution_count": 45,
   "metadata": {},
   "outputs": [
    {
     "name": "stdout",
     "output_type": "stream",
     "text": [
      "         年份  縣市   人口   負債\n",
      "one    2000  台北  2.2  NaN\n",
      "two    2001  台北  2.5  NaN\n",
      "three  2002  台北  2.7  NaN\n",
      "foru   2001  新竹  1.1  NaN\n",
      "five   2002  新竹  1.5  NaN\n",
      "six    2003  新竹  2.0  NaN\n",
      "----------------------------\n",
      "Index(['年份', '縣市', '人口', '負債'], dtype='object')\n",
      "----------------------------\n"
     ]
    },
    {
     "data": {
      "text/plain": [
       "one      2.2\n",
       "two      2.5\n",
       "three    2.7\n",
       "foru     1.1\n",
       "five     1.5\n",
       "six      2.0\n",
       "Name: 人口, dtype: float64"
      ]
     },
     "execution_count": 45,
     "metadata": {},
     "output_type": "execute_result"
    }
   ],
   "source": [
    "#如果傳遞的columns,沒有包含在data的key內,則會產生遺失的value\n",
    "data = {\n",
    "    '縣市': ['台北','台北','台北', '新竹', '新竹', '新竹'],\n",
    "    '年份': [2000, 2001, 2002, 2001, 2002, 2003],\n",
    "    '人口': [2.2, 2.5, 2.7, 1.1, 1.5, 2.0]\n",
    "}\n",
    "\n",
    "frame2 = pd.DataFrame(data, columns=['年份', '縣市', '人口', '負債'], index=['one', 'two', 'three', 'foru', 'five', 'six'])\n",
    "print(frame2)\n",
    "\n",
    "#使用columns屬性,取出columns的索引\n",
    "print('----------------------------')\n",
    "print(frame2.columns)\n",
    "\n",
    "#可以取出DataFrame的一個欄位,將會傳出Series\n",
    "frame2['縣市']\n",
    "\n",
    "#也可以屬性的方式,取出column\n",
    "print('----------------------------')\n",
    "frame2.人口\n",
    "\n",
    "#frame2['縣市']語法可以有不同的語法\n",
    "#frame2.人口 點的語法,只有一個功能,取出人口欄位\n",
    "#取出的Series的name屬性會使用欄位名稱\n"
   ]
  },
  {
   "cell_type": "code",
   "execution_count": 51,
   "metadata": {},
   "outputs": [
    {
     "name": "stdout",
     "output_type": "stream",
     "text": [
      "         年份  縣市   人口   負債\n",
      "one    2000  台北  2.2  NaN\n",
      "two    2001  台北  2.5  NaN\n",
      "three  2002  台北  2.7  NaN\n",
      "foru   2001  新竹  1.1  NaN\n",
      "five   2002  新竹  1.5  NaN\n",
      "six    2003  新竹  2.0  NaN\n",
      "-----------------\n"
     ]
    },
    {
     "data": {
      "text/plain": [
       "年份    2002\n",
       "縣市      台北\n",
       "人口     2.7\n",
       "負債     NaN\n",
       "Name: three, dtype: object"
      ]
     },
     "execution_count": 51,
     "metadata": {},
     "output_type": "execute_result"
    }
   ],
   "source": [
    "#可以使用loc的屬性,傳入位置或索引名稱取出rows\n",
    "data = {\n",
    "    '縣市': ['台北','台北','台北', '新竹', '新竹', '新竹'],\n",
    "    '年份': [2000, 2001, 2002, 2001, 2002, 2003],\n",
    "    '人口': [2.2, 2.5, 2.7, 1.1, 1.5, 2.0]\n",
    "}\n",
    "\n",
    "frame2 = pd.DataFrame(data, columns=['年份', '縣市', '人口', '負債'], index=['one', 'two', 'three', 'foru', 'five', 'six'])\n",
    "print(frame2)\n",
    "print('-----------------')\n",
    "frame2.loc['three']\n"
   ]
  },
  {
   "cell_type": "code",
   "execution_count": 54,
   "metadata": {},
   "outputs": [
    {
     "name": "stdout",
     "output_type": "stream",
     "text": [
      "         年份  縣市   人口    負債\n",
      "one    2000  台北  2.2  16.5\n",
      "two    2001  台北  2.5  16.5\n",
      "three  2002  台北  2.7  16.5\n",
      "foru   2001  新竹  1.1  16.5\n",
      "five   2002  新竹  1.5  16.5\n",
      "six    2003  新竹  2.0  16.5\n",
      "---------------------------\n",
      "         年份  縣市   人口   負債\n",
      "one    2000  台北  2.2  0.0\n",
      "two    2001  台北  2.5  1.0\n",
      "three  2002  台北  2.7  2.0\n",
      "foru   2001  新竹  1.1  3.0\n",
      "five   2002  新竹  1.5  4.0\n",
      "six    2003  新竹  2.0  5.0\n"
     ]
    }
   ],
   "source": [
    "#可以使用指定運算子,改變裏面的值\n",
    "frame2['負債'] = 16.5\n",
    "print(frame2)\n",
    "print('---------------------------')\n",
    "\n",
    "frame2['負債'] = np.arange(6.)\n",
    "print(frame2)"
   ]
  },
  {
   "cell_type": "code",
   "execution_count": null,
   "metadata": {},
   "outputs": [],
   "source": []
  }
 ],
 "metadata": {
  "kernelspec": {
   "display_name": "Python 3",
   "language": "python",
   "name": "python3"
  },
  "language_info": {
   "codemirror_mode": {
    "name": "ipython",
    "version": 3
   },
   "file_extension": ".py",
   "mimetype": "text/x-python",
   "name": "python",
   "nbconvert_exporter": "python",
   "pygments_lexer": "ipython3",
   "version": "3.7.4"
  }
 },
 "nbformat": 4,
 "nbformat_minor": 2
}
