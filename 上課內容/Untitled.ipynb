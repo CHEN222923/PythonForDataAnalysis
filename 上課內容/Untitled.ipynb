{
 "cells": [
  {
   "cell_type": "code",
   "execution_count": 11,
   "metadata": {},
   "outputs": [
    {
     "name": "stdout",
     "output_type": "stream",
     "text": [
      "8\n",
      "-1\n",
      "0\n",
      "10\n",
      "17\n"
     ]
    }
   ],
   "source": [
    "str1 = \"this is Python Tutorial, there\"\n",
    "search1 = \"Python\" \n",
    "print(str1.find(search1))\n",
    "\n",
    "search2= \"not\" \n",
    "print(str1.find(search2))\n",
    "\n",
    "search3=\"t\" \n",
    "print(str1.find(search3)) \n",
    "print(str1.find(search3,4)) \n",
    "print(str1.find(search3,11,20))"
   ]
  },
  {
   "cell_type": "code",
   "execution_count": null,
   "metadata": {},
   "outputs": [],
   "source": []
  }
 ],
 "metadata": {
  "kernelspec": {
   "display_name": "Python 3",
   "language": "python",
   "name": "python3"
  },
  "language_info": {
   "codemirror_mode": {
    "name": "ipython",
    "version": 3
   },
   "file_extension": ".py",
   "mimetype": "text/x-python",
   "name": "python",
   "nbconvert_exporter": "python",
   "pygments_lexer": "ipython3",
   "version": "3.7.4"
  }
 },
 "nbformat": 4,
 "nbformat_minor": 2
}
