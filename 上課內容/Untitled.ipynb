{
 "cells": [
  {
   "cell_type": "code",
   "execution_count": 12,
   "metadata": {},
   "outputs": [
    {
     "name": "stdout",
     "output_type": "stream",
     "text": [
      "Hello\n",
      "()\n"
     ]
    }
   ],
   "source": [
    "import re\n",
    "strTest = \"Hello Python Programming\"\n",
    "mobj = re.match(r'hello', strTest, re.I)\n",
    "if mobj:\n",
    "    print(mobj.group())\n",
    "   \n"
   ]
  },
  {
   "cell_type": "code",
   "execution_count": 23,
   "metadata": {},
   "outputs": [
    {
     "name": "stdout",
     "output_type": "stream",
     "text": [
      "Programming\n"
     ]
    }
   ],
   "source": [
    "import re\n",
    "str1 = \"Hello programmingPython Programming\"\n",
    "sobj = re.search(r\"programming$\", str1, re.I)\n",
    "if sobj:\n",
    "    print(sobj.group())"
   ]
  },
  {
   "cell_type": "code",
   "execution_count": 31,
   "metadata": {},
   "outputs": [
    {
     "name": "stdout",
     "output_type": "stream",
     "text": [
      "1\n",
      "2\n"
     ]
    }
   ],
   "source": [
    "import re\n",
    "comPat = re.compile(r\"\\d\")\n",
    "sobj = comPat.search(\"Lalalala 123\")\n",
    "print(sobj.group())\n",
    "\n",
    "mobj = comPat.match(\"234Lalalala 123456789\")\n",
    "print(mobj.group())"
   ]
  },
  {
   "cell_type": "code",
   "execution_count": 37,
   "metadata": {},
   "outputs": [
    {
     "name": "stdout",
     "output_type": "stream",
     "text": [
      "None\n"
     ]
    }
   ],
   "source": [
    "import re\n",
    "s = re.search(\"L\", \"Hello\", re.I)\n",
    "type(s)\n",
    "s = re.search(\"^L\", \"Hello\", re.I)\n",
    "print(s)"
   ]
  },
  {
   "cell_type": "code",
   "execution_count": 45,
   "metadata": {},
   "outputs": [
    {
     "data": {
      "text/plain": [
       "'Working'"
      ]
     },
     "execution_count": 45,
     "metadata": {},
     "output_type": "execute_result"
    }
   ],
   "source": [
    "import re\n",
    "s = \"Playing 4 hours a day\"\n",
    "obj = re.sub(r'^.*$',\"Working\",s)\n",
    "obj"
   ]
  },
  {
   "cell_type": "code",
   "execution_count": 51,
   "metadata": {},
   "outputs": [
    {
     "name": "stdout",
     "output_type": "stream",
     "text": [
      "Working\n",
      "five\n",
      "hours\n",
      "a\n",
      "day\n"
     ]
    }
   ],
   "source": [
    "import re\n",
    "s = \"768 Working 2343 789 five 234 656 hours 324 4646 a 345 day\"\n",
    "obj = re.sub(r'\\d',\"\",s)\n",
    "words = obj.split(\" \")\n",
    "for word in words:\n",
    "    if len(word) == 0 :\n",
    "        continue\n",
    "    print(word)"
   ]
  },
  {
   "cell_type": "code",
   "execution_count": 52,
   "metadata": {},
   "outputs": [
    {
     "data": {
      "text/plain": [
       "'76823437892346563244646345'"
      ]
     },
     "execution_count": 52,
     "metadata": {},
     "output_type": "execute_result"
    }
   ],
   "source": [
    "import re\n",
    "s = \"768 Working 2343 789 five 234 656 hours 324 4646 a 345 day\"\n",
    "obj = re.sub(r'\\D',\"\",s)\n",
    "obj"
   ]
  },
  {
   "cell_type": "code",
   "execution_count": 55,
   "metadata": {},
   "outputs": [
    {
     "name": "stdout",
     "output_type": "stream",
     "text": [
      "['6', '6', '4']\n"
     ]
    }
   ],
   "source": [
    "import re\n",
    "str1 = \"Working 66 hours a day. Studying 4 hours a day.\"\n",
    "mList = re.findall(r'[0-9]', str1)\n",
    "print(mList)"
   ]
  },
  {
   "cell_type": "code",
   "execution_count": 71,
   "metadata": {},
   "outputs": [
    {
     "name": "stdout",
     "output_type": "stream",
     "text": [
      "<class 're.Match'>\n",
      "6 found at location [8,9]\n",
      "<class 're.Match'>\n",
      "4 found at location [32,33]\n"
     ]
    }
   ],
   "source": [
    "import re\n",
    "str1 = \"Working 6 hours a day. Studying 4 hours a day.\"\n",
    "pat = r'[0-9]'\n",
    "for mobj in re.finditer(pat,str1):\n",
    "    print(mobj.__class__)\n",
    "    s = mobj.start()\n",
    "    e = mobj.end()\n",
    "    g = mobj.group()\n",
    "    print('{} found at location [{},{}]'.format(g, s, e))"
   ]
  },
  {
   "cell_type": "code",
   "execution_count": 74,
   "metadata": {},
   "outputs": [
    {
     "name": "stdout",
     "output_type": "stream",
     "text": [
      "['Working', '6', 'hours', 'a', 'day.', 'Studying', '4', 'hours', 'a', 'day.']\n"
     ]
    }
   ],
   "source": [
    "import re\n",
    "strs = \"Birds   fly   high   in the sky for ever\"\n",
    "mobj = re.split('\\s+',str1)\n",
    "print(mobj)"
   ]
  },
  {
   "cell_type": "code",
   "execution_count": null,
   "metadata": {},
   "outputs": [],
   "source": []
  }
 ],
 "metadata": {
  "kernelspec": {
   "display_name": "Python 3",
   "language": "python",
   "name": "python3"
  },
  "language_info": {
   "codemirror_mode": {
    "name": "ipython",
    "version": 3
   },
   "file_extension": ".py",
   "mimetype": "text/x-python",
   "name": "python",
   "nbconvert_exporter": "python",
   "pygments_lexer": "ipython3",
   "version": "3.7.4"
  }
 },
 "nbformat": 4,
 "nbformat_minor": 2
}
