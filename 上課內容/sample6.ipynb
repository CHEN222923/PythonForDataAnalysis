{
 "cells": [
  {
   "cell_type": "code",
   "execution_count": null,
   "metadata": {},
   "outputs": [],
   "source": [
    "#range()使用一個參數\n",
    "for x in range(5):\n",
    "    print(x)\n"
   ]
  },
  {
   "cell_type": "code",
   "execution_count": null,
   "metadata": {},
   "outputs": [],
   "source": [
    "#range()使用二個參數\n",
    "for x in range(3,5):\n",
    "    print(x)"
   ]
  },
  {
   "cell_type": "code",
   "execution_count": null,
   "metadata": {},
   "outputs": [],
   "source": [
    "#range()使用三個參數\n",
    "for x in range(0,100,2):\n",
    "    print(x,end='-')"
   ]
  },
  {
   "cell_type": "code",
   "execution_count": 3,
   "metadata": {},
   "outputs": [
    {
     "name": "stdout",
     "output_type": "stream",
     "text": [
      "請輸入第1位學生的成績:89\n",
      "請輸入第2位學生的成績:89\n",
      "請輸入第3位學生的成績:89\n",
      "請輸入第4位學生的成績:89\n",
      "請輸入第5位學生的成績:89\n",
      "全班的總成績為: 445 分,平均為 89.0\n"
     ]
    }
   ],
   "source": [
    "sum = 0\n",
    "students = 5\n",
    "for i in range(students):\n",
    "    studentScore = int(input('請輸入第' + str(i+1) + '位學生的成績:'))\n",
    "    sum += studentScore\n",
    "print('全班的總成績為:',sum,'分,平均為',sum/students)"
   ]
  },
  {
   "cell_type": "code",
   "execution_count": 4,
   "metadata": {},
   "outputs": [
    {
     "name": "stdout",
     "output_type": "stream",
     "text": [
      "6\n",
      "5\n",
      "4\n",
      "3\n",
      "2\n",
      "1\n"
     ]
    }
   ],
   "source": [
    "#指定次數的while迴圈\n",
    "#3個部份\n",
    "\n",
    "a=6\n",
    "while a>0:\n",
    "    print(a);\n",
    "    a -= 1\n",
    "\n"
   ]
  },
  {
   "cell_type": "code",
   "execution_count": 5,
   "metadata": {},
   "outputs": [
    {
     "name": "stdout",
     "output_type": "stream",
     "text": [
      "6\n",
      "5\n",
      "4\n",
      "3\n",
      "2\n",
      "1\n"
     ]
    }
   ],
   "source": [
    "for x in range(6,0,-1):\n",
    "    print(x)"
   ]
  },
  {
   "cell_type": "code",
   "execution_count": 6,
   "metadata": {},
   "outputs": [
    {
     "name": "stdout",
     "output_type": "stream",
     "text": [
      "請輸入第1個月份的存款:5678\n",
      "請輸入第2個月份的存款:4567\n",
      "請輸入第3個月份的存款:9876\n",
      "請輸入第4個月份的存款:7890\n",
      "請輸入第5個月份的存款:6789\n",
      "已經存夠了,存了 5 個月的總存款為: 34800 元\n"
     ]
    }
   ],
   "source": [
    "#不知執行幾次\n",
    "#透過while後的關係運算子離開迴圈\n",
    "\n",
    "deposit = 0;\n",
    "num = 0;\n",
    "while(deposit < 30000):\n",
    "    num += 1;\n",
    "    inputNum = int(input('請輸入第'+ str(num) + '個月份的存款:'))\n",
    "    deposit += inputNum\n",
    "print('已經存夠了,存了', num, '個月的總存款為:',deposit, '元')"
   ]
  },
  {
   "cell_type": "code",
   "execution_count": 8,
   "metadata": {},
   "outputs": [
    {
     "name": "stdout",
     "output_type": "stream",
     "text": [
      "請輸入第1學生的成績:78\n",
      "請輸入第2學生的成績:79\n",
      "請輸入第3學生的成績:79\n",
      "請輸入第4學生的成績:79\n",
      "請輸入第5學生的成績:79\n",
      "請輸入第6學生的成績:-2\n",
      "全班總成績為: 394 平均分數為: 78.8\n"
     ]
    }
   ],
   "source": [
    "#小美是一位教師，請你以while迴圈方式為小美設計一個輸入成績的程式，如果輸入負數表示成績輸入結束，在輸入成績結束後顯示班上總成績及平均成績。\n",
    "num = 0\n",
    "sum = 0\n",
    "while(True):\n",
    "    num += 1\n",
    "    score = int(input('請輸入第' + str(num) + '學生的成績:'))\n",
    "    if score < 0:\n",
    "        break\n",
    "    sum += score\n",
    "    \n",
    "print('全班總成績為:', sum , \"平均分數為:\" , sum/(num-1))"
   ]
  },
  {
   "cell_type": "code",
   "execution_count": 10,
   "metadata": {},
   "outputs": [
    {
     "name": "stdout",
     "output_type": "stream",
     "text": [
      "整數,輸入[q]離開:3\n",
      "3 平方是 9\n",
      "整數,輸入[q]離開:q\n",
      "程式結束\n"
     ]
    }
   ],
   "source": [
    "#使用continue,中止迴圈,跳至下一輪迴圈,重頭執行\n",
    "while True:\n",
    "    valueStr = input('整數,輸入[q]離開:')\n",
    "    if valueStr == 'q':\n",
    "        break\n",
    "    number = int(valueStr)\n",
    "    if number % 2 == 0:\n",
    "        continue\n",
    "    \n",
    "    print(number, '平方是', number ** 2)\n",
    "\n",
    "print('程式結束')"
   ]
  },
  {
   "cell_type": "code",
   "execution_count": null,
   "metadata": {},
   "outputs": [],
   "source": []
  }
 ],
 "metadata": {
  "kernelspec": {
   "display_name": "Python 3",
   "language": "python",
   "name": "python3"
  },
  "language_info": {
   "codemirror_mode": {
    "name": "ipython",
    "version": 3
   },
   "file_extension": ".py",
   "mimetype": "text/x-python",
   "name": "python",
   "nbconvert_exporter": "python",
   "pygments_lexer": "ipython3",
   "version": "3.7.4"
  }
 },
 "nbformat": 4,
 "nbformat_minor": 2
}
