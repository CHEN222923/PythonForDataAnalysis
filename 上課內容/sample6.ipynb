{
 "cells": [
  {
   "cell_type": "code",
   "execution_count": 1,
   "metadata": {},
   "outputs": [
    {
     "name": "stdout",
     "output_type": "stream",
     "text": [
      "6\n",
      "5\n",
      "4\n",
      "3\n",
      "2\n",
      "1\n",
      "離開後a為 0\n"
     ]
    }
   ],
   "source": [
    "a = 6\n",
    "while a>0:\n",
    "    print(a)\n",
    "    a -= 1\n",
    "print(\"離開後a為\",a)"
   ]
  },
  {
   "cell_type": "code",
   "execution_count": 2,
   "metadata": {},
   "outputs": [
    {
     "name": "stdout",
     "output_type": "stream",
     "text": [
      "0\n",
      "1\n",
      "2\n",
      "3\n",
      "4\n",
      "5\n",
      "6\n",
      "7\n",
      "8\n",
      "9\n",
      "離開後i為 10\n"
     ]
    }
   ],
   "source": [
    "# if(int i=0;i<10;a+=1) c語法\n",
    "i = 0\n",
    "while(i<10):\n",
    "    print(i)\n",
    "    i += 1\n",
    "print(\"離開後i為\",i)"
   ]
  },
  {
   "cell_type": "code",
   "execution_count": 5,
   "metadata": {},
   "outputs": [
    {
     "name": "stdout",
     "output_type": "stream",
     "text": [
      "第 1.0 次迴圈的i =  2 總和為: 2\n",
      "第 2.0 次迴圈的i =  4 總和為: 6\n",
      "第 3.0 次迴圈的i =  6 總和為: 12\n",
      "第 4.0 次迴圈的i =  8 總和為: 20\n",
      "第 5.0 次迴圈的i =  10 總和為: 30\n",
      "迴圈執行結束\n"
     ]
    }
   ],
   "source": [
    "i = 2\n",
    "sum = 0\n",
    "while(i<=10):\n",
    "    sum += i\n",
    "    print(\"第\", i/2, \"次迴圈的i = \", i ,\"總和為:\", sum)\n",
    "    i += 2 \n",
    "    \n",
    "print(\"迴圈執行結束\")"
   ]
  },
  {
   "cell_type": "code",
   "execution_count": null,
   "metadata": {},
   "outputs": [],
   "source": []
  }
 ],
 "metadata": {
  "kernelspec": {
   "display_name": "Python 3",
   "language": "python",
   "name": "python3"
  },
  "language_info": {
   "codemirror_mode": {
    "name": "ipython",
    "version": 3
   },
   "file_extension": ".py",
   "mimetype": "text/x-python",
   "name": "python",
   "nbconvert_exporter": "python",
   "pygments_lexer": "ipython3",
   "version": "3.7.4"
  }
 },
 "nbformat": 4,
 "nbformat_minor": 2
}
