{
 "cells": [
  {
   "cell_type": "code",
   "execution_count": 3,
   "metadata": {},
   "outputs": [
    {
     "name": "stdout",
     "output_type": "stream",
     "text": [
      "cancel-1\n"
     ]
    }
   ],
   "source": [
    "a=7\n",
    "if a >= 12 and a < 18:\n",
    "    print(\"ok-1\")\n",
    "else:\n",
    "    print(\"cancel-1\")"
   ]
  },
  {
   "cell_type": "code",
   "execution_count": 5,
   "metadata": {},
   "outputs": [
    {
     "name": "stdout",
     "output_type": "stream",
     "text": [
      "ok\n"
     ]
    }
   ],
   "source": [
    "a = 20\n",
    "if a <= 12 or a >=18:\n",
    "    print('ok')\n",
    "else:\n",
    "    print('cancel')"
   ]
  },
  {
   "cell_type": "code",
   "execution_count": 7,
   "metadata": {},
   "outputs": [
    {
     "name": "stdout",
     "output_type": "stream",
     "text": [
      "A\n",
      "b\n",
      "c\n",
      "d\n",
      "e\n"
     ]
    }
   ],
   "source": [
    "for letter in 'Abcde':\n",
    "    print(letter)"
   ]
  },
  {
   "cell_type": "code",
   "execution_count": 11,
   "metadata": {},
   "outputs": [
    {
     "name": "stdout",
     "output_type": "stream",
     "text": [
      "0\n",
      "1\n",
      "2\n",
      "3\n",
      "4\n"
     ]
    }
   ],
   "source": [
    "for item in range(5):\n",
    "    print(item)"
   ]
  },
  {
   "cell_type": "code",
   "execution_count": 14,
   "metadata": {},
   "outputs": [
    {
     "name": "stdout",
     "output_type": "stream",
     "text": [
      "0\n",
      "2\n",
      "4\n",
      "6\n",
      "8\n",
      "10\n"
     ]
    }
   ],
   "source": [
    "for item in range(0,11,2):\n",
    "    print(item)"
   ]
  },
  {
   "cell_type": "code",
   "execution_count": 20,
   "metadata": {},
   "outputs": [
    {
     "name": "stdout",
     "output_type": "stream",
     "text": [
      "請輸入第1學生成績:67\n",
      "請輸入第2學生成績:89\n",
      "請輸入第3學生成績:45\n",
      "請輸入第4學生成績:69\n",
      "請輸入第5學生成績:95\n",
      "全班總成績為: 365 分,平均分數為 73.0 分\n"
     ]
    }
   ],
   "source": [
    "sum = 0\n",
    "students = 5\n",
    "for i in range(students):\n",
    "    studentScore = int(input(\"請輸入第\" + str(i+1) + \"學生成績:\"))\n",
    "    sum += studentScore\n",
    "\n",
    "print(\"全班總成績為:\", sum, \"分,平均分數為\", sum/students , \"分\")"
   ]
  },
  {
   "cell_type": "code",
   "execution_count": 21,
   "metadata": {},
   "outputs": [
    {
     "data": {
      "text/plain": [
       "20.0"
      ]
     },
     "execution_count": 21,
     "metadata": {},
     "output_type": "execute_result"
    }
   ],
   "source": [
    "a = 20\n",
    "float(a)"
   ]
  },
  {
   "cell_type": "code",
   "execution_count": 22,
   "metadata": {},
   "outputs": [
    {
     "data": {
      "text/plain": [
       "'20'"
      ]
     },
     "execution_count": 22,
     "metadata": {},
     "output_type": "execute_result"
    }
   ],
   "source": [
    "str(a)"
   ]
  },
  {
   "cell_type": "code",
   "execution_count": 23,
   "metadata": {},
   "outputs": [
    {
     "name": "stdout",
     "output_type": "stream",
     "text": [
      "6\n",
      "5\n",
      "4\n",
      "3\n",
      "2\n",
      "1\n",
      "離開後a為: 0\n"
     ]
    }
   ],
   "source": [
    "a = 6\n",
    "while a > 0:\n",
    "    print(a)\n",
    "    a -= 1\n",
    "    \n",
    "print('離開後a為:', a)\n",
    "    "
   ]
  },
  {
   "cell_type": "code",
   "execution_count": 24,
   "metadata": {},
   "outputs": [
    {
     "name": "stdout",
     "output_type": "stream",
     "text": [
      "請輸入第1個月份的存款:4567\n",
      "請輸入第2個月份的存款:789\n",
      "請輸入第3個月份的存款:7890\n",
      "請輸入第4個月份的存款:34546\n",
      "已經存夠了,存了 4 個月的總存款為: 47792 元。\n"
     ]
    }
   ],
   "source": [
    "#不知道要執行幾次\n",
    "#小明想要存錢買一輛機車,機車每輛30000元，他將每月存的錢輸入，當存款足夠買機車時，就顯示提示訊息告知。\n",
    "\n",
    "deposit = 0\n",
    "num = 0\n",
    "while(deposit < 30000):\n",
    "    num += 1\n",
    "    inputNum = int(input('請輸入第' + str(num) + '個月份的存款:'))\n",
    "    \n",
    "    deposit += inputNum\n",
    "\n",
    "print('已經存夠了,存了', num, '個月的總存款為:', deposit, '元。')"
   ]
  },
  {
   "cell_type": "code",
   "execution_count": null,
   "metadata": {},
   "outputs": [],
   "source": [
    "#使用break跳出迴圈\n",
    "#不知道要執行幾次\n",
    "#小明想要存錢買一輛機車,機車每輛30000元，他將每月存的錢輸入，當存款足夠買機車時，就顯示提示訊息告知。\n",
    "\n",
    "deposit = 0\n",
    "num = 0\n",
    "while True:\n",
    "    num += 1\n",
    "    inputNum = int(input('請輸入第' + str(num) + '個月份的存款:'))    \n",
    "    deposit += inputNum\n",
    "    if deposit > 30000:\n",
    "        break;\n",
    "\n",
    "print('已經存夠了,存了', num, '個月的總存款為:', deposit, '元。')"
   ]
  },
  {
   "cell_type": "code",
   "execution_count": 26,
   "metadata": {},
   "outputs": [
    {
     "name": "stdout",
     "output_type": "stream",
     "text": [
      "整數, 輸入 q 代表離開:7\n",
      "7 平方是 49\n",
      "整數, 輸入 q 代表離開:9\n",
      "9 平方是 81\n",
      "整數, 輸入 q 代表離開:13\n",
      "13 平方是 169\n",
      "整數, 輸入 q 代表離開:14\n",
      "整數, 輸入 q 代表離開:15\n",
      "15 平方是 225\n",
      "整數, 輸入 q 代表離開:q\n"
     ]
    }
   ],
   "source": [
    "while True:\n",
    "    value = input(\"整數, 輸入 q 代表離開:\")\n",
    "    if value == 'q':\n",
    "        break;\n",
    "    number = int(value)\n",
    "    \n",
    "    if number % 2 == 0: #代表是偶數值\n",
    "        continue\n",
    "    \n",
    "    print(number, '平方是', number**2)"
   ]
  },
  {
   "cell_type": "code",
   "execution_count": null,
   "metadata": {},
   "outputs": [],
   "source": []
  }
 ],
 "metadata": {
  "kernelspec": {
   "display_name": "Python 3",
   "language": "python",
   "name": "python3"
  },
  "language_info": {
   "codemirror_mode": {
    "name": "ipython",
    "version": 3
   },
   "file_extension": ".py",
   "mimetype": "text/x-python",
   "name": "python",
   "nbconvert_exporter": "python",
   "pygments_lexer": "ipython3",
   "version": "3.7.4"
  }
 },
 "nbformat": 4,
 "nbformat_minor": 2
}
