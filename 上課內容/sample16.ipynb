{
 "cells": [
  {
   "cell_type": "code",
   "execution_count": 3,
   "metadata": {},
   "outputs": [
    {
     "name": "stdout",
     "output_type": "stream",
     "text": [
      "weather1\n",
      "weather2\n",
      "weather2\n"
     ]
    }
   ],
   "source": [
    "import weatherman #import一估自訂的module\n",
    "weatherman.inWeather1()\n",
    "weatherman.inWeather2()\n",
    "weatherman.inWeather3()"
   ]
  },
  {
   "cell_type": "code",
   "execution_count": 4,
   "metadata": {},
   "outputs": [
    {
     "name": "stdout",
     "output_type": "stream",
     "text": [
      "weather1\n",
      "weather2\n",
      "weather2\n"
     ]
    }
   ],
   "source": [
    "import weatherman as we   #import一估自訂的module\n",
    "we.inWeather1()\n",
    "we.inWeather2()\n",
    "we.inWeather3()"
   ]
  },
  {
   "cell_type": "code",
   "execution_count": 5,
   "metadata": {},
   "outputs": [
    {
     "name": "stdout",
     "output_type": "stream",
     "text": [
      "weather1\n"
     ]
    }
   ],
   "source": [
    "from weatherman import inWeather1\n",
    "inWeather1()"
   ]
  },
  {
   "cell_type": "code",
   "execution_count": 6,
   "metadata": {},
   "outputs": [
    {
     "name": "stdout",
     "output_type": "stream",
     "text": [
      "weather1\n"
     ]
    }
   ],
   "source": [
    "from weatherman import inWeather1 as w1\n",
    "w1()"
   ]
  },
  {
   "cell_type": "code",
   "execution_count": 9,
   "metadata": {},
   "outputs": [
    {
     "name": "stdout",
     "output_type": "stream",
     "text": [
      "a1Fun\n",
      "a2Fun\n"
     ]
    }
   ],
   "source": [
    "from myPackage import a1,a2\n",
    "\n",
    "a1.a1fun()\n",
    "a2.a2fun()"
   ]
  },
  {
   "cell_type": "code",
   "execution_count": null,
   "metadata": {},
   "outputs": [],
   "source": []
  }
 ],
 "metadata": {
  "kernelspec": {
   "display_name": "Python 3",
   "language": "python",
   "name": "python3"
  },
  "language_info": {
   "codemirror_mode": {
    "name": "ipython",
    "version": 3
   },
   "file_extension": ".py",
   "mimetype": "text/x-python",
   "name": "python",
   "nbconvert_exporter": "python",
   "pygments_lexer": "ipython3",
   "version": "3.7.4"
  }
 },
 "nbformat": 4,
 "nbformat_minor": 2
}
