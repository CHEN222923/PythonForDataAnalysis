{
 "cells": [
  {
   "cell_type": "code",
   "execution_count": 4,
   "metadata": {},
   "outputs": [],
   "source": [
    "#建立一個檔案物件\n",
    "#stander 方法print()\n",
    "text = '''python與中文\n",
    "1. 我們來試試看中文儲存能力。\n",
    "2. 許這個字會有編碼衝突風險。\n",
    "3. 犇這個字必須是utf8編碼才有。\n",
    "'''\n",
    "\n",
    "f = open('data.txt','w',encoding='utf-8')\n",
    "print(text,file=f)\n",
    "f.close()"
   ]
  },
  {
   "cell_type": "code",
   "execution_count": 9,
   "metadata": {},
   "outputs": [
    {
     "name": "stdout",
     "output_type": "stream",
     "text": [
      "請輸入第1號的成績:(-1結束)60\n",
      "請輸入第2號的成績:(-1結束)70\n",
      "請輸入第3號的成績:(-1結束)80\n",
      "請輸入第4號的成績:(-1結束)-1\n",
      "{1: 60, 2: 70, 3: 80}\n"
     ]
    }
   ],
   "source": [
    "scores = dict();\n",
    "no = 1\n",
    "while True:\n",
    "    score = int(input('請輸入第' + str(no) + \"號的成績:(-1結束)\"))\n",
    "    if score == -1:\n",
    "        break;\n",
    "    \n",
    "    scores[no] = score\n",
    "    no += 1\n",
    "print(scores)\n",
    "strDict = str(scores)\n",
    "file = open('score.txt','w',encoding='utf-8')\n",
    "file.write(strDict)\n",
    "file.close()  "
   ]
  },
  {
   "cell_type": "code",
   "execution_count": 13,
   "metadata": {},
   "outputs": [
    {
     "name": "stdout",
     "output_type": "stream",
     "text": [
      "[['a', 'b', 'c', 'd', 'message'], ['1', '2', '3', '4', 'hello'], ['5', '6', '7', '8', 'world'], ['9', '10', '11', '12', 'foo']]\n",
      "['a', 'b', 'c', 'd']\n"
     ]
    }
   ],
   "source": [
    "import csv \n",
    "\n",
    "f = open('ex1.csv','r',encoding='utf-8')\n",
    "rows = csv.reader(f)\n",
    "list1 = list(rows)\n",
    "print(list1)\n",
    "print(list1[0][:4])\n",
    "f.close()\n"
   ]
  },
  {
   "cell_type": "code",
   "execution_count": 20,
   "metadata": {},
   "outputs": [
    {
     "name": "stdout",
     "output_type": "stream",
     "text": [
      "[['106', '臺中市中區', '18450', '0.8803', '20959'], ['106', '臺中市東區', '75811', '9.2855', '8164'], ['106', '臺中市南區', '125067', '6.8101', '18365'], ['106', '臺中市西區', '115627', '5.7042', '20271'], ['106', '臺中市北區', '147653', '6.9376', '21283'], ['106', '臺中市西屯區', '227043', '39.8467', '5698'], ['106', '臺中市南屯區', '168760', '31.2578', '5399'], ['106', '臺中市北屯區', '274819', '62.7034', '4383'], ['106', '臺中市豐原區', '166879', '41.1845', '4052'], ['106', '臺中市東勢區', '50714', '117.4065', '432'], ['106', '臺中市大甲區', '77761', '58.5192', '1329'], ['106', '臺中市清水區', '86420', '64.1709', '1347'], ['106', '臺中市沙鹿區', '92645', '40.4604', '2290'], ['106', '臺中市梧棲區', '57993', '16.6049', '3493'], ['106', '臺中市后里區', '54482', '58.9439', '924'], ['106', '臺中市神岡區', '65553', '35.0445', '1871'], ['106', '臺中市潭子區', '108288', '25.8497', '4189'], ['106', '臺中市大雅區', '95203', '32.4109', '2937'], ['106', '臺中市新社區', '24754', '68.8874', '359'], ['106', '臺中市石岡區', '15066', '18.2105', '827'], ['106', '臺中市外埔區', '32185', '42.4099', '759'], ['106', '臺中市大安區', '19303', '27.4045', '704'], ['106', '臺中市烏日區', '74554', '43.4032', '1718'], ['106', '臺中市大肚區', '57322', '37.0024', '1549'], ['106', '臺中市龍井區', '77818', '38.0377', '2046'], ['106', '臺中市霧峰區', '65393', '98.0779', '667'], ['106', '臺中市太平區', '189066', '120.7473', '1566'], ['106', '臺中市大里區', '211492', '28.8758', '7324'], ['106', '臺中市和平區', '10949', '1037.8192', '11']]\n"
     ]
    }
   ],
   "source": [
    "import csv\n",
    "poplist = list()\n",
    "f = open('各鄉鎮市區人口密度.csv','r',encoding='utf-8')\n",
    "csvReader = csv.reader(f)\n",
    "allDataList = list(csvReader)\n",
    "for row in allDataList:\n",
    "    if '臺中市' in row[1]:        \n",
    "        poplist.append(row)\n",
    "\n",
    "f.close()\n",
    "print(poplist)"
   ]
  },
  {
   "cell_type": "code",
   "execution_count": null,
   "metadata": {},
   "outputs": [],
   "source": []
  }
 ],
 "metadata": {
  "kernelspec": {
   "display_name": "Python 3",
   "language": "python",
   "name": "python3"
  },
  "language_info": {
   "codemirror_mode": {
    "name": "ipython",
    "version": 3
   },
   "file_extension": ".py",
   "mimetype": "text/x-python",
   "name": "python",
   "nbconvert_exporter": "python",
   "pygments_lexer": "ipython3",
   "version": "3.7.4"
  }
 },
 "nbformat": 4,
 "nbformat_minor": 2
}
