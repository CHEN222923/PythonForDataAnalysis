{
 "cells": [
  {
   "cell_type": "code",
   "execution_count": null,
   "metadata": {},
   "outputs": [],
   "source": [
    "import json\n",
    "#json_file = open('新北市公共自行車租賃系統.json','w',encoding='utf-8')\n",
    "#json_file.close()\n",
    "\n",
    "#使用with as ,離開程式區塊時,會自動關閉檔案物件\n",
    "\n",
    "with open('新北市公共自行車租賃系統.json','r',encoding='utf-8') as json_file:\n",
    "    jsonData = json.load(json_file)\n",
    "    #jsonData是python Dictionary\n",
    "    if jsonData['success']:\n",
    "        records = jsonData['result']['records']\n",
    "    else:\n",
    "        print(\"資料沒有完整\")\n",
    "\n",
    "for station in records:\n",
    "    if '汐止區' in station['sarea']:\n",
    "        print('區域',station['sarea'])\n",
    "        print('站名',station['sna'])\n",
    "        print('地址',station['ar'])\n",
    "        print('緯經度座標[{},{}]'.format(station['lat'],station['lng']))\n",
    "        print('全部數量',station['tot'])\n",
    "        print('可借',station['sbi'])\n",
    "        print('可還',station['bemp'])\n",
    "        print('------------------------')\n",
    "        print()\n",
    "\n",
    "        "
   ]
  },
  {
   "cell_type": "code",
   "execution_count": 17,
   "metadata": {},
   "outputs": [
    {
     "data": {
      "text/plain": [
       "2"
      ]
     },
     "execution_count": 17,
     "metadata": {},
     "output_type": "execute_result"
    }
   ],
   "source": [
    "import numpy as np\n",
    "#要建立2維ndarray\n",
    "l = [[1, 2, 3],\n",
    "     [2, 3, 4]]\n",
    "a = np.array(l)\n",
    "a\n",
    "\n",
    "a.ndim"
   ]
  },
  {
   "cell_type": "code",
   "execution_count": 18,
   "metadata": {},
   "outputs": [
    {
     "data": {
      "text/plain": [
       "(2, 3)"
      ]
     },
     "execution_count": 18,
     "metadata": {},
     "output_type": "execute_result"
    }
   ],
   "source": [
    "a.shape"
   ]
  },
  {
   "cell_type": "code",
   "execution_count": 19,
   "metadata": {},
   "outputs": [
    {
     "data": {
      "text/plain": [
       "6"
      ]
     },
     "execution_count": 19,
     "metadata": {},
     "output_type": "execute_result"
    }
   ],
   "source": [
    "a.size"
   ]
  },
  {
   "cell_type": "code",
   "execution_count": 20,
   "metadata": {},
   "outputs": [
    {
     "data": {
      "text/plain": [
       "dtype('int64')"
      ]
     },
     "execution_count": 20,
     "metadata": {},
     "output_type": "execute_result"
    }
   ],
   "source": [
    "a.dtype"
   ]
  },
  {
   "cell_type": "code",
   "execution_count": 21,
   "metadata": {},
   "outputs": [
    {
     "data": {
      "text/plain": [
       "array([[-1.33445178, -2.1227272 , -1.97064279],\n",
       "       [-0.80238611,  1.33904972, -0.03161962]])"
      ]
     },
     "execution_count": 21,
     "metadata": {},
     "output_type": "execute_result"
    }
   ],
   "source": [
    "import numpy as np\n",
    "data = np.random.randn(2, 3)\n",
    "data"
   ]
  },
  {
   "cell_type": "code",
   "execution_count": 22,
   "metadata": {},
   "outputs": [
    {
     "data": {
      "text/plain": [
       "array([[-13.34451781, -21.22727204, -19.7064279 ],\n",
       "       [ -8.02386107,  13.39049719,  -0.31619618]])"
      ]
     },
     "execution_count": 22,
     "metadata": {},
     "output_type": "execute_result"
    }
   ],
   "source": [
    "data * 10"
   ]
  },
  {
   "cell_type": "code",
   "execution_count": 23,
   "metadata": {},
   "outputs": [
    {
     "data": {
      "text/plain": [
       "array([[-2.66890356, -4.24545441, -3.94128558],\n",
       "       [-1.60477221,  2.67809944, -0.06323924]])"
      ]
     },
     "execution_count": 23,
     "metadata": {},
     "output_type": "execute_result"
    }
   ],
   "source": [
    "data += data\n",
    "data"
   ]
  },
  {
   "cell_type": "code",
   "execution_count": null,
   "metadata": {},
   "outputs": [],
   "source": []
  }
 ],
 "metadata": {
  "kernelspec": {
   "display_name": "Python 3",
   "language": "python",
   "name": "python3"
  },
  "language_info": {
   "codemirror_mode": {
    "name": "ipython",
    "version": 3
   },
   "file_extension": ".py",
   "mimetype": "text/x-python",
   "name": "python",
   "nbconvert_exporter": "python",
   "pygments_lexer": "ipython3",
   "version": "3.7.4"
  }
 },
 "nbformat": 4,
 "nbformat_minor": 2
}
