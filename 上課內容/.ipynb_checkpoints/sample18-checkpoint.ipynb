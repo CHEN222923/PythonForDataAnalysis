{
 "cells": [
  {
   "cell_type": "code",
   "execution_count": 11,
   "metadata": {},
   "outputs": [
    {
     "name": "stdout",
     "output_type": "stream",
     "text": [
      "資料是下載正確的\n"
     ]
    }
   ],
   "source": [
    "import json\n",
    "#json_file = open('新北市公共自行車租賃系統.json','w',encoding='utf-8')\n",
    "#json_file.close()\n",
    "\n",
    "#使用with as ,離開程式區塊時,會自動關閉檔案物件\n",
    "\n",
    "with open('新北市公共自行車租賃系統.json','r',encoding='utf-8') as json_file:\n",
    "    jsonData = json.load(json_file)\n",
    "    #jsonData是python Dictionary\n",
    "    if jsonData['success']:\n",
    "        records = jsonData['result']['records']\n",
    "    else:\n",
    "        print(\"資料沒有完整\")\n",
    "\n",
    "print(records)    "
   ]
  },
  {
   "cell_type": "code",
   "execution_count": null,
   "metadata": {},
   "outputs": [],
   "source": []
  }
 ],
 "metadata": {
  "kernelspec": {
   "display_name": "Python 3",
   "language": "python",
   "name": "python3"
  },
  "language_info": {
   "codemirror_mode": {
    "name": "ipython",
    "version": 3
   },
   "file_extension": ".py",
   "mimetype": "text/x-python",
   "name": "python",
   "nbconvert_exporter": "python",
   "pygments_lexer": "ipython3",
   "version": "3.7.4"
  }
 },
 "nbformat": 4,
 "nbformat_minor": 2
}
