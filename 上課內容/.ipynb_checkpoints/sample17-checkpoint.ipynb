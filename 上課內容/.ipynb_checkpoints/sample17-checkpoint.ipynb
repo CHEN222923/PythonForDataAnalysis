{
 "cells": [
  {
   "cell_type": "code",
   "execution_count": 4,
   "metadata": {},
   "outputs": [],
   "source": [
    "#建立一個檔案物件\n",
    "#stander 方法print()\n",
    "text = '''python與中文\n",
    "1. 我們來試試看中文儲存能力。\n",
    "2. 許這個字會有編碼衝突風險。\n",
    "3. 犇這個字必須是utf8編碼才有。\n",
    "'''\n",
    "\n",
    "f = open('data.txt','w',encoding='utf-8')\n",
    "print(text,file=f)\n",
    "f.close()"
   ]
  },
  {
   "cell_type": "code",
   "execution_count": 9,
   "metadata": {},
   "outputs": [
    {
     "name": "stdout",
     "output_type": "stream",
     "text": [
      "請輸入第1號的成績:(-1結束)60\n",
      "請輸入第2號的成績:(-1結束)70\n",
      "請輸入第3號的成績:(-1結束)80\n",
      "請輸入第4號的成績:(-1結束)-1\n",
      "{1: 60, 2: 70, 3: 80}\n"
     ]
    }
   ],
   "source": [
    "scores = dict();\n",
    "no = 1\n",
    "while True:\n",
    "    score = int(input('請輸入第' + str(no) + \"號的成績:(-1結束)\"))\n",
    "    if score == -1:\n",
    "        break;\n",
    "    \n",
    "    scores[no] = score\n",
    "    no += 1\n",
    "print(scores)\n",
    "strDict = str(scores)\n",
    "file = open('score.txt','w',encoding='utf-8')\n",
    "file.write(strDict)\n",
    "file.close()  "
   ]
  },
  {
   "cell_type": "code",
   "execution_count": 13,
   "metadata": {},
   "outputs": [
    {
     "name": "stdout",
     "output_type": "stream",
     "text": [
      "[['a', 'b', 'c', 'd', 'message'], ['1', '2', '3', '4', 'hello'], ['5', '6', '7', '8', 'world'], ['9', '10', '11', '12', 'foo']]\n",
      "['a', 'b', 'c', 'd']\n"
     ]
    }
   ],
   "source": [
    "import csv \n",
    "\n",
    "f = open('ex1.csv','r',encoding='utf-8')\n",
    "rows = csv.reader(f)\n",
    "list1 = list(rows)\n",
    "print(list1)\n",
    "print(list1[0][:4])\n",
    "f.close()\n"
   ]
  },
  {
   "cell_type": "code",
   "execution_count": null,
   "metadata": {},
   "outputs": [],
   "source": [
    "import csv\n",
    "f = open('各鄉鎮市區人口密度.csv','r',encoding='utf-8')\n",
    "csvReader = csv.reader(f)\n",
    "allDataList = list(csvReader)\n",
    "print(allDataList)"
   ]
  },
  {
   "cell_type": "code",
   "execution_count": null,
   "metadata": {},
   "outputs": [],
   "source": []
  }
 ],
 "metadata": {
  "kernelspec": {
   "display_name": "Python 3",
   "language": "python",
   "name": "python3"
  },
  "language_info": {
   "codemirror_mode": {
    "name": "ipython",
    "version": 3
   },
   "file_extension": ".py",
   "mimetype": "text/x-python",
   "name": "python",
   "nbconvert_exporter": "python",
   "pygments_lexer": "ipython3",
   "version": "3.7.4"
  }
 },
 "nbformat": 4,
 "nbformat_minor": 2
}
