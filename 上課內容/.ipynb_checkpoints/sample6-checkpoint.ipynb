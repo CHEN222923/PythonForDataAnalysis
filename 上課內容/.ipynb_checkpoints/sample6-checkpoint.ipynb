{
 "cells": [
  {
   "cell_type": "code",
   "execution_count": 1,
   "metadata": {},
   "outputs": [
    {
     "name": "stdout",
     "output_type": "stream",
     "text": [
      "6\n",
      "5\n",
      "4\n",
      "3\n",
      "2\n",
      "1\n",
      "離開後a為 0\n"
     ]
    }
   ],
   "source": [
    "a = 6\n",
    "while a>0:\n",
    "    print(a)\n",
    "    a -= 1\n",
    "print(\"離開後a為\",a)"
   ]
  },
  {
   "cell_type": "code",
   "execution_count": 2,
   "metadata": {},
   "outputs": [
    {
     "name": "stdout",
     "output_type": "stream",
     "text": [
      "0\n",
      "1\n",
      "2\n",
      "3\n",
      "4\n",
      "5\n",
      "6\n",
      "7\n",
      "8\n",
      "9\n",
      "離開後i為 10\n"
     ]
    }
   ],
   "source": [
    "# if(int i=0;i<10;a+=1) c語法\n",
    "i = 0\n",
    "while(i<10):\n",
    "    print(i)\n",
    "    i += 1\n",
    "print(\"離開後i為\",i)"
   ]
  },
  {
   "cell_type": "code",
   "execution_count": 7,
   "metadata": {},
   "outputs": [
    {
     "name": "stdout",
     "output_type": "stream",
     "text": [
      "第 1.0 次迴圈的i =  2 總和為: 2\n",
      "第 2.0 次迴圈的i =  4 總和為: 6\n",
      "第 3.0 次迴圈的i =  6 總和為: 12\n",
      "第 4.0 次迴圈的i =  8 總和為: 20\n",
      "第 5.0 次迴圈的i =  10 總和為: 30\n",
      "迴圈執行結束\n"
     ]
    }
   ],
   "source": [
    "i = 2\n",
    "sum = 0\n",
    "while(i<=10):\n",
    "    sum += i\n",
    "    print(\"第\", i/2, \"次迴圈的i = \", i ,\"總和為:\", sum)\n",
    "    i += 2 \n",
    "    \n",
    "print(\"迴圈執行結束\")"
   ]
  },
  {
   "cell_type": "code",
   "execution_count": 1,
   "metadata": {},
   "outputs": [
    {
     "name": "stdout",
     "output_type": "stream",
     "text": [
      "請輸入小寫英文字[按q會離開]:q\n",
      "程式結束\n"
     ]
    }
   ],
   "source": [
    "#使用break跳出迴圈\n",
    "#不知道要執行幾次\n",
    "\n",
    "while(True):\n",
    "    stuff = input(\"請輸入小寫英文字[按q會離開]:\")\n",
    "    if stuff == 'q':\n",
    "        break\n",
    "    print(stuff.capitalize())\n",
    "print(\"程式結束\")"
   ]
  },
  {
   "cell_type": "code",
   "execution_count": 3,
   "metadata": {},
   "outputs": [
    {
     "name": "stdout",
     "output_type": "stream",
     "text": [
      "請輸入第1學生的成績:89\n",
      "請輸入第2學生的成績:78\n",
      "請輸入第3學生的成績:68\n",
      "請輸入第4學生的成績:89\n",
      "請輸入第5學生的成績:-1\n",
      "全班總成績為: 324 平均分數為: 64.8\n"
     ]
    }
   ],
   "source": [
    "#小美是一位教師，請你以while迴圈方式為小美設計一個輸入成績的程式，如果輸入負數表示成績輸入結束，在輸入成績結束後顯示班上總成績及平均成績。\n",
    "num = 0\n",
    "sum = 0\n",
    "while(True):\n",
    "    num += 1\n",
    "    score = int(input('請輸入第'+ str(num) +'學生的成績:'))\n",
    "    if(score < 0):\n",
    "        break;\n",
    "    \n",
    "    sum += score\n",
    "print('全班總成績為:', sum, \"平均分數為:\", sum/num )\n",
    "    "
   ]
  },
  {
   "cell_type": "code",
   "execution_count": null,
   "metadata": {},
   "outputs": [],
   "source": []
  }
 ],
 "metadata": {
  "kernelspec": {
   "display_name": "Python 3",
   "language": "python",
   "name": "python3"
  },
  "language_info": {
   "codemirror_mode": {
    "name": "ipython",
    "version": 3
   },
   "file_extension": ".py",
   "mimetype": "text/x-python",
   "name": "python",
   "nbconvert_exporter": "python",
   "pygments_lexer": "ipython3",
   "version": "3.7.4"
  }
 },
 "nbformat": 4,
 "nbformat_minor": 2
}
