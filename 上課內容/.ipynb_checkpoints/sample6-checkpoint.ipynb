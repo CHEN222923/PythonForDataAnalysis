{
 "cells": [
  {
   "cell_type": "code",
   "execution_count": null,
   "metadata": {},
   "outputs": [],
   "source": [
    "#range()使用一個參數\n",
    "for x in range(5):\n",
    "    print(x)\n"
   ]
  },
  {
   "cell_type": "code",
   "execution_count": null,
   "metadata": {},
   "outputs": [],
   "source": [
    "#range()使用二個參數\n",
    "for x in range(3,5):\n",
    "    print(x)"
   ]
  },
  {
   "cell_type": "code",
   "execution_count": null,
   "metadata": {},
   "outputs": [],
   "source": [
    "#range()使用三個參數\n",
    "for x in range(0,100,2):\n",
    "    print(x,end='-')"
   ]
  },
  {
   "cell_type": "code",
   "execution_count": 3,
   "metadata": {},
   "outputs": [
    {
     "name": "stdout",
     "output_type": "stream",
     "text": [
      "請輸入第1位學生的成績:89\n",
      "請輸入第2位學生的成績:89\n",
      "請輸入第3位學生的成績:89\n",
      "請輸入第4位學生的成績:89\n",
      "請輸入第5位學生的成績:89\n",
      "全班的總成績為: 445 分,平均為 89.0\n"
     ]
    }
   ],
   "source": [
    "sum = 0\n",
    "students = 5\n",
    "for i in range(students):\n",
    "    studentScore = int(input('請輸入第' + str(i+1) + '位學生的成績:'))\n",
    "    sum += studentScore\n",
    "print('全班的總成績為:',sum,'分,平均為',sum/students)"
   ]
  },
  {
   "cell_type": "code",
   "execution_count": null,
   "metadata": {},
   "outputs": [],
   "source": []
  }
 ],
 "metadata": {
  "kernelspec": {
   "display_name": "Python 3",
   "language": "python",
   "name": "python3"
  },
  "language_info": {
   "codemirror_mode": {
    "name": "ipython",
    "version": 3
   },
   "file_extension": ".py",
   "mimetype": "text/x-python",
   "name": "python",
   "nbconvert_exporter": "python",
   "pygments_lexer": "ipython3",
   "version": "3.7.4"
  }
 },
 "nbformat": 4,
 "nbformat_minor": 2
}
