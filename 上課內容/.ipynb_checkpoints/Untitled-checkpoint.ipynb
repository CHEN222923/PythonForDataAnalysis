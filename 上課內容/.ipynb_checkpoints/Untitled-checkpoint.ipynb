{
 "cells": [
  {
   "cell_type": "code",
   "execution_count": 1,
   "metadata": {},
   "outputs": [
    {
     "name": "stdout",
     "output_type": "stream",
     "text": [
      "呼叫函式\n"
     ]
    },
    {
     "data": {
      "text/plain": [
       "()"
      ]
     },
     "execution_count": 1,
     "metadata": {},
     "output_type": "execute_result"
    }
   ],
   "source": [
    "def fun_sum():\n",
    "    print(\"呼叫函式\")\n",
    "    return()\n",
    "\n",
    "fun_sum()"
   ]
  },
  {
   "cell_type": "code",
   "execution_count": 2,
   "metadata": {},
   "outputs": [],
   "source": [
    "def do_nothing():\n",
    "    pass\n",
    "\n",
    "do_nothing()"
   ]
  },
  {
   "cell_type": "code",
   "execution_count": 3,
   "metadata": {},
   "outputs": [
    {
     "name": "stdout",
     "output_type": "stream",
     "text": [
      "quack\n"
     ]
    }
   ],
   "source": [
    "def make_a_sound():\n",
    "    print('quack')\n",
    "\n",
    "make_a_sound()"
   ]
  },
  {
   "cell_type": "code",
   "execution_count": 4,
   "metadata": {},
   "outputs": [
    {
     "name": "stdout",
     "output_type": "stream",
     "text": [
      "8\n"
     ]
    },
    {
     "data": {
      "text/plain": [
       "()"
      ]
     },
     "execution_count": 4,
     "metadata": {},
     "output_type": "execute_result"
    }
   ],
   "source": [
    "def func_sum(a, b):\n",
    "    c = a + b\n",
    "    print(c)\n",
    "    return()\n",
    "\n",
    "func_sum(3, 5)"
   ]
  },
  {
   "cell_type": "code",
   "execution_count": 7,
   "metadata": {},
   "outputs": [
    {
     "name": "stdout",
     "output_type": "stream",
     "text": [
      "請輸入初始速度:20\n",
      "加速前的id:4380428016\n",
      "加速前速度: 20\n",
      "加速前的(在function內)id:4380428016\n",
      "加速後的(在function內)id:4380428336\n",
      "加速後的速度: 30\n"
     ]
    }
   ],
   "source": [
    "def turbo(speed):\n",
    "    print('加速前速度:',speed)\n",
    "    print('加速前的(在function內)id:' + str(id(speed)))\n",
    "    speed += 10\n",
    "    print('加速後的(在function內)id:' + str(id(speed)))\n",
    "    return speed;\n",
    "\n",
    "if __name__ == '__main__':\n",
    "    speed = int(input('請輸入初始速度:'))\n",
    "    print('加速前的id:' + str(id(speed)))\n",
    "    speed = turbo(speed)\n",
    "    print('加速後的id:' + str(id(speed)))\n",
    "    print('加速後的速度:', speed)\n"
   ]
  },
  {
   "cell_type": "code",
   "execution_count": null,
   "metadata": {},
   "outputs": [],
   "source": []
  }
 ],
 "metadata": {
  "kernelspec": {
   "display_name": "Python 3",
   "language": "python",
   "name": "python3"
  },
  "language_info": {
   "codemirror_mode": {
    "name": "ipython",
    "version": 3
   },
   "file_extension": ".py",
   "mimetype": "text/x-python",
   "name": "python",
   "nbconvert_exporter": "python",
   "pygments_lexer": "ipython3",
   "version": "3.7.4"
  }
 },
 "nbformat": 4,
 "nbformat_minor": 2
}
