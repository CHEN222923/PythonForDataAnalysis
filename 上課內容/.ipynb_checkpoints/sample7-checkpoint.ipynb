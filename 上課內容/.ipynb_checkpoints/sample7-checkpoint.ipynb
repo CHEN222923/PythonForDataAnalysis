{
 "cells": [
  {
   "cell_type": "code",
   "execution_count": 1,
   "metadata": {},
   "outputs": [
    {
     "name": "stdout",
     "output_type": "stream",
     "text": [
      "整數,輸入q離開:1\n",
      "1 平方是: 1\n",
      "整數,輸入q離開:2\n",
      "整數,輸入q離開:3\n",
      "3 平方是: 9\n",
      "整數,輸入q離開:4\n",
      "整數,輸入q離開:q\n"
     ]
    }
   ],
   "source": [
    "while True:\n",
    "    value  = input('整數,輸入q離開:')\n",
    "    if value == 'q':\n",
    "        break\n",
    "    number = int(value)\n",
    "    if number % 2 == 0:\n",
    "        continue\n",
    "    print(number, \"平方是:\", number ** 2)"
   ]
  },
  {
   "cell_type": "code",
   "execution_count": 11,
   "metadata": {},
   "outputs": [
    {
     "name": "stdout",
     "output_type": "stream",
     "text": [
      "==============猜數字遊戲===================\n",
      "猜數字範圍1~100:50\n",
      "50\n"
     ]
    }
   ],
   "source": [
    "import random\n",
    "\n",
    "target = random.randint(1,100)\n",
    "min = 1\n",
    "max = 100\n",
    "print(\"==============猜數字遊戲===================\")\n",
    "while(True):\n",
    "    keyin = int(input(\"猜數字範圍\" + str(min) + \"~\" + str(max) + \":\"))\n",
    "    print(keyin)\n",
    "    break"
   ]
  },
  {
   "cell_type": "code",
   "execution_count": null,
   "metadata": {},
   "outputs": [],
   "source": []
  }
 ],
 "metadata": {
  "kernelspec": {
   "display_name": "Python 3",
   "language": "python",
   "name": "python3"
  },
  "language_info": {
   "codemirror_mode": {
    "name": "ipython",
    "version": 3
   },
   "file_extension": ".py",
   "mimetype": "text/x-python",
   "name": "python",
   "nbconvert_exporter": "python",
   "pygments_lexer": "ipython3",
   "version": "3.7.4"
  }
 },
 "nbformat": 4,
 "nbformat_minor": 2
}
