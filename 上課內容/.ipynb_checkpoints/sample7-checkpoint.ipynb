{
 "cells": [
  {
   "cell_type": "code",
   "execution_count": 1,
   "metadata": {},
   "outputs": [
    {
     "name": "stdout",
     "output_type": "stream",
     "text": [
      "整數,輸入q離開:1\n",
      "1 平方是: 1\n",
      "整數,輸入q離開:2\n",
      "整數,輸入q離開:3\n",
      "3 平方是: 9\n",
      "整數,輸入q離開:4\n",
      "整數,輸入q離開:q\n"
     ]
    }
   ],
   "source": [
    "while True:\n",
    "    value  = input('整數,輸入q離開:')\n",
    "    if value == 'q':\n",
    "        break\n",
    "    number = int(value)\n",
    "    if number % 2 == 0:\n",
    "        continue\n",
    "    print(number, \"平方是:\", number ** 2)"
   ]
  },
  {
   "cell_type": "code",
   "execution_count": null,
   "metadata": {},
   "outputs": [],
   "source": [
    "import random\n",
    "\n",
    "target = random.randint(1,100)\n",
    "最小值 = 1\n",
    "最大值 = 100\n",
    "count = 0\n",
    "\n",
    "print(\"==============猜數字遊戲===================\")\n",
    "while(True):\n",
    "    count += 1\n",
    "    keyin = int(input(\"猜數字範圍{0}~{1}:\".format(最小值,最大值)))\n",
    "    print(\"您猜了\",count,\"次\")\n",
    "    if(keyin >= 最小值 and keyin <= 最大值):\n",
    "        if(keyin == target):\n",
    "            print(\"賓果!猜對了,答案是:\", target)\n",
    "            print(\"您猜了\",count,\"次\")\n",
    "            break;\n",
    "        elif(keyin > target):\n",
    "            最大值 = keyin\n",
    "            print(\"再小一點\")\n",
    "        elif(keyin < target):\n",
    "            最小值 = keyin\n",
    "            print(\"再大一點\")        \n",
    "        \n",
    "        \n",
    "    else:\n",
    "        print('請輸入提示範圍內的數字')\n",
    "    \n",
    "print(\"程式結束\")"
   ]
  },
  {
   "cell_type": "code",
   "execution_count": 5,
   "metadata": {},
   "outputs": [
    {
     "name": "stdout",
     "output_type": "stream",
     "text": [
      "發現偶數 2\n"
     ]
    }
   ],
   "source": [
    "numbers = [2, 4, 7]\n",
    "position = 0\n",
    "while position < len(numbers):\n",
    "    number = numbers[position] \n",
    "    if number%2==0:\n",
    "        print('發現偶數', number)\n",
    "        break\n",
    "    position += 1\n",
    "else: # 沒有執行break\n",
    "    print('沒有偶數')"
   ]
  },
  {
   "cell_type": "code",
   "execution_count": 7,
   "metadata": {},
   "outputs": [
    {
     "name": "stdout",
     "output_type": "stream",
     "text": [
      "c\n",
      "<class 'str'>\n",
      "a\n",
      "<class 'str'>\n",
      "t\n",
      "<class 'str'>\n"
     ]
    }
   ],
   "source": [
    "#for in 迴圈\n",
    "word = \"cat\"\n",
    "for letter in word:\n",
    "    print(letter)\n",
    "    print(type(letter))\n"
   ]
  },
  {
   "cell_type": "code",
   "execution_count": 8,
   "metadata": {},
   "outputs": [
    {
     "name": "stdout",
     "output_type": "stream",
     "text": [
      "Flopsy\n",
      "Mopsy\n",
      "Cottontail\n",
      "Peter\n"
     ]
    }
   ],
   "source": [
    "rabbits = ['Flopsy', 'Mopsy', 'Cottontail', 'Peter']\n",
    "current = 0\n",
    "while current < 4:\n",
    "    print(rabbits[current])\n",
    "    current += 1\n"
   ]
  },
  {
   "cell_type": "code",
   "execution_count": 9,
   "metadata": {},
   "outputs": [
    {
     "name": "stdout",
     "output_type": "stream",
     "text": [
      "Flopsy\n",
      "Mopsy\n",
      "Cottontail\n",
      "Peter\n"
     ]
    }
   ],
   "source": [
    "for rabbit in rabbits:\n",
    "    print(rabbit)"
   ]
  },
  {
   "cell_type": "code",
   "execution_count": null,
   "metadata": {},
   "outputs": [],
   "source": []
  }
 ],
 "metadata": {
  "kernelspec": {
   "display_name": "Python 3",
   "language": "python",
   "name": "python3"
  },
  "language_info": {
   "codemirror_mode": {
    "name": "ipython",
    "version": 3
   },
   "file_extension": ".py",
   "mimetype": "text/x-python",
   "name": "python",
   "nbconvert_exporter": "python",
   "pygments_lexer": "ipython3",
   "version": "3.7.4"
  }
 },
 "nbformat": 4,
 "nbformat_minor": 2
}
