{
 "cells": [
  {
   "cell_type": "code",
   "execution_count": 3,
   "metadata": {},
   "outputs": [
    {
     "name": "stdout",
     "output_type": "stream",
     "text": [
      "大於12\n"
     ]
    }
   ],
   "source": [
    "a = 16\n",
    "if a > 18:\n",
    "    print('大於18')\n",
    "elif a > 12:\n",
    "    print('大於12')\n",
    "else:\n",
    "    print('小於12')"
   ]
  },
  {
   "cell_type": "code",
   "execution_count": 7,
   "metadata": {},
   "outputs": [
    {
     "name": "stdout",
     "output_type": "stream",
     "text": [
      "請輸入購買金額:57000\n",
      "實付金額是: 48450.0\n"
     ]
    }
   ],
   "source": [
    "#!usr/bin/python3\n",
    "\n",
    "'''\n",
    "輸入顧客購買金額，若金額在\n",
    "100000元打8折\n",
    "50000打85折\n",
    "30000打9折\n",
    "10000打95折\n",
    "'''\n",
    "money = int(input(\"請輸入購買金額:\"))\n",
    "\n",
    "if money>=100000:\n",
    "    payMoney = money * 0.8\n",
    "elif money>=50000:\n",
    "    payMoney = money * 0.85\n",
    "elif money>=30000:\n",
    "    payMoney = money * 0.9\n",
    "elif money>=10000:\n",
    "    payMoney = money * 0.95\n",
    "else:\n",
    "    payMoney = money\n",
    "\n",
    "print('實付金額是:',payMoney)"
   ]
  },
  {
   "cell_type": "code",
   "execution_count": null,
   "metadata": {},
   "outputs": [],
   "source": []
  }
 ],
 "metadata": {
  "kernelspec": {
   "display_name": "Python 3",
   "language": "python",
   "name": "python3"
  },
  "language_info": {
   "codemirror_mode": {
    "name": "ipython",
    "version": 3
   },
   "file_extension": ".py",
   "mimetype": "text/x-python",
   "name": "python",
   "nbconvert_exporter": "python",
   "pygments_lexer": "ipython3",
   "version": "3.7.4"
  }
 },
 "nbformat": 4,
 "nbformat_minor": 2
}
