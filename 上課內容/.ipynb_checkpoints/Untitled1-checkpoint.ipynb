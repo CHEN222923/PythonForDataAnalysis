{
 "cells": [
  {
   "cell_type": "code",
   "execution_count": 3,
   "metadata": {},
   "outputs": [
    {
     "name": "stdout",
     "output_type": "stream",
     "text": [
      "[['a', 'b', 'c', 'd', 'message'], ['1', '2', '3', '4', 'hello'], ['5', '6', '7', '8', 'world'], ['9', '10', '11', '12', 'foo']]\n"
     ]
    }
   ],
   "source": [
    "import csv\n",
    "f = open('ex1.csv', 'r', encoding='utf-8')\n",
    "rows = csv.reader(f)\n",
    "list1 = list(rows)\n",
    "print(list1)\n",
    "f.close()"
   ]
  },
  {
   "cell_type": "code",
   "execution_count": 8,
   "metadata": {},
   "outputs": [],
   "source": [
    "import csv\n",
    "f = open('ex2.csv','r',encoding='utf-8')\n",
    "reader = csv.reader(f)\n",
    "ofile = open('ttest.csv', 'w', encoding='utf-8')\n",
    "writer = csv.writer(ofile, delimiter=\"-\")\n",
    "for row in reader:\n",
    "    writer.writerow(row)\n",
    "\n",
    "f.close()\n",
    "ofile.close()"
   ]
  },
  {
   "cell_type": "code",
   "execution_count": 9,
   "metadata": {},
   "outputs": [],
   "source": [
    "import csv\n",
    "f = open('output.csv','w',newline='')\n",
    "writer = csv.writer(f)\n",
    "\n",
    "# 寫入一列資料\n",
    "writer.writerow(['姓名', '身高', '體重'])\n",
    "\n",
    "# 寫入另外幾列資料\n",
    "writer.writerow(['令狐沖', 175, 60])\n",
    "writer.writerow(['岳靈珊', 165, 57])\n",
    "f.close()"
   ]
  },
  {
   "cell_type": "code",
   "execution_count": 16,
   "metadata": {},
   "outputs": [
    {
     "name": "stdout",
     "output_type": "stream",
     "text": [
      "<class 'str'>\n",
      "{\"python\": \"good\", \"gjun\": 100, \"python-class\": true, \"ICQ\": null}\n",
      "b'{\"python\": \"good\", \"gjun\": 100, \"python-class\": true, \"ICQ\": null}'\n"
     ]
    }
   ],
   "source": [
    "import json\n",
    "pyDic = {'python': 'good', 'gjun': 100, 'python-class':True,'ICQ': None}\n",
    "jsonStr = json.dumps(pyDic, ensure_ascii=False)\n",
    "print(type(jsonStr))\n",
    "print(jsonStr)\n",
    "utf8Json = jsonStr.encode('utf8')\n",
    "print(utf8Json)"
   ]
  },
  {
   "cell_type": "code",
   "execution_count": null,
   "metadata": {},
   "outputs": [],
   "source": [
    "import json\n",
    "import json\n",
    "data = {}\n",
    "data['people'] = []\n",
    "data['people'].append({'name': 'Scott','website': 'stackabuse.com','from': 'Nebraska'})\n",
    "data['people'].append({'name': 'Larry', 'website': 'google.com', 'from': 'Michigan'})\n",
    "\n",
    "with open('data.json', 'w') as outfile:\n",
    "    json.dump(data,outfile)\n",
    "    \n",
    "json2 = json.dumps(data)\n",
    "file=open('score.json','w',encoding='utf-8')\n",
    "file.write((json2));\n",
    "file.close();"
   ]
  }
 ],
 "metadata": {
  "kernelspec": {
   "display_name": "Python 3",
   "language": "python",
   "name": "python3"
  },
  "language_info": {
   "codemirror_mode": {
    "name": "ipython",
    "version": 3
   },
   "file_extension": ".py",
   "mimetype": "text/x-python",
   "name": "python",
   "nbconvert_exporter": "python",
   "pygments_lexer": "ipython3",
   "version": "3.7.4"
  }
 },
 "nbformat": 4,
 "nbformat_minor": 2
}
