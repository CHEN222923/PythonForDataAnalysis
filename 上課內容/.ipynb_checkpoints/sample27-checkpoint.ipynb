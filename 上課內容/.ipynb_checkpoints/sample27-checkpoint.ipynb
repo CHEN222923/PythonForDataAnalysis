{
 "cells": [
  {
   "cell_type": "code",
   "execution_count": 11,
   "metadata": {},
   "outputs": [
    {
     "data": {
      "text/plain": [
       "'\\n    {\"name\": \"Wes\",\\n\"places_lived\": [\"United States\", \"Spain\", \"Germany\"],\\n\"pet\": null,\\n\"siblings\": [{\"name\": \"Scott\", \"age\": 30, \"pets\": [\"Zeus\", \"Zuko\"]},\\n                  {\"name\": \"Katie\", \"age\": 38,\\n                   \"pets\": [\"Sixes\", \"Stache\", \"Cisco\"]}]\\n}\\n'"
      ]
     },
     "execution_count": 11,
     "metadata": {},
     "output_type": "execute_result"
    }
   ],
   "source": [
    "import numpy as np\n",
    "import pandas as pd\n",
    "\n",
    "obj = \"\"\"\n",
    "    {\"name\": \"Wes\",\n",
    "\"places_lived\": [\"United States\", \"Spain\", \"Germany\"],\n",
    "\"pet\": null,\n",
    "\"siblings\": [{\"name\": \"Scott\", \"age\": 30, \"pets\": [\"Zeus\", \"Zuko\"]},\n",
    "                  {\"name\": \"Katie\", \"age\": 38,\n",
    "                   \"pets\": [\"Sixes\", \"Stache\", \"Cisco\"]}]\n",
    "}\n",
    "\"\"\"\n",
    "obj\n"
   ]
  },
  {
   "cell_type": "code",
   "execution_count": 12,
   "metadata": {},
   "outputs": [
    {
     "data": {
      "text/plain": [
       "{'name': 'Wes',\n",
       " 'places_lived': ['United States', 'Spain', 'Germany'],\n",
       " 'pet': None,\n",
       " 'siblings': [{'name': 'Scott', 'age': 30, 'pets': ['Zeus', 'Zuko']},\n",
       "  {'name': 'Katie', 'age': 38, 'pets': ['Sixes', 'Stache', 'Cisco']}]}"
      ]
     },
     "execution_count": 12,
     "metadata": {},
     "output_type": "execute_result"
    }
   ],
   "source": [
    "import json\n",
    "result = json.loads(obj)\n",
    "result"
   ]
  },
  {
   "cell_type": "code",
   "execution_count": 13,
   "metadata": {},
   "outputs": [
    {
     "data": {
      "text/plain": [
       "'Scott'"
      ]
     },
     "execution_count": 13,
     "metadata": {},
     "output_type": "execute_result"
    }
   ],
   "source": [
    "result['siblings'][0]['name']"
   ]
  },
  {
   "cell_type": "code",
   "execution_count": 14,
   "metadata": {},
   "outputs": [
    {
     "data": {
      "text/plain": [
       "30"
      ]
     },
     "execution_count": 14,
     "metadata": {},
     "output_type": "execute_result"
    }
   ],
   "source": [
    "result['siblings'][0]['age']"
   ]
  },
  {
   "cell_type": "code",
   "execution_count": 15,
   "metadata": {},
   "outputs": [
    {
     "data": {
      "text/plain": [
       "38"
      ]
     },
     "execution_count": 15,
     "metadata": {},
     "output_type": "execute_result"
    }
   ],
   "source": [
    "result['siblings'][1]['age']"
   ]
  },
  {
   "cell_type": "code",
   "execution_count": 16,
   "metadata": {},
   "outputs": [],
   "source": [
    "import urllib3\n",
    "import certifi\n",
    "import json\n",
    "\n",
    "url='https://opendata.cwb.gov.tw/fileapi/v1/opendataapi/O-A0001-001?Authorization=rdec-key-123-45678-011121314&format=JSON'\n",
    "\n",
    "http = urllib3.PoolManager(cert_reqs='CERT_REQUIRED',ca_certs=certifi.where())\n",
    "response = http.request('GET',url)\n",
    "if response.status == 200:\n",
    "    downloadData = json.loads(response.data.decode('utf-8'))\n",
    "else:\n",
    "    print(\"下載錯誤\")\n",
    "\n"
   ]
  },
  {
   "cell_type": "code",
   "execution_count": 17,
   "metadata": {},
   "outputs": [],
   "source": [
    "openData = downloadData['cwbopendata']['location']"
   ]
  },
  {
   "cell_type": "code",
   "execution_count": 18,
   "metadata": {},
   "outputs": [],
   "source": [
    "usefulData = [];\n",
    "for location in openData:\n",
    "    oneLocation = {};\n",
    "    oneLocation['縣市'] = location['parameter'][0]['parameterValue']\n",
    "    oneLocation['區域'] = location['parameter'][2]['parameterValue']\n",
    "    oneLocation['時間'] = location['time']['obsTime']\n",
    "    oneLocation['溫度'] = location['weatherElement'][3]['elementValue']['value']\n",
    "    usefulData.append(oneLocation)"
   ]
  },
  {
   "cell_type": "code",
   "execution_count": 21,
   "metadata": {},
   "outputs": [
    {
     "data": {
      "text/html": [
       "<div>\n",
       "<style scoped>\n",
       "    .dataframe tbody tr th:only-of-type {\n",
       "        vertical-align: middle;\n",
       "    }\n",
       "\n",
       "    .dataframe tbody tr th {\n",
       "        vertical-align: top;\n",
       "    }\n",
       "\n",
       "    .dataframe thead th {\n",
       "        text-align: right;\n",
       "    }\n",
       "</style>\n",
       "<table border=\"1\" class=\"dataframe\">\n",
       "  <thead>\n",
       "    <tr style=\"text-align: right;\">\n",
       "      <th></th>\n",
       "      <th>縣市</th>\n",
       "      <th>區域</th>\n",
       "      <th>時間</th>\n",
       "      <th>溫度</th>\n",
       "    </tr>\n",
       "  </thead>\n",
       "  <tbody>\n",
       "    <tr>\n",
       "      <td>420</td>\n",
       "      <td>嘉義縣</td>\n",
       "      <td>民雄鄉</td>\n",
       "      <td>2020-04-19T15:00:00+08:00</td>\n",
       "      <td>31.0</td>\n",
       "    </tr>\n",
       "    <tr>\n",
       "      <td>421</td>\n",
       "      <td>雲林縣</td>\n",
       "      <td>大埤鄉</td>\n",
       "      <td>2020-04-19T15:00:00+08:00</td>\n",
       "      <td>30.1</td>\n",
       "    </tr>\n",
       "    <tr>\n",
       "      <td>422</td>\n",
       "      <td>雲林縣</td>\n",
       "      <td>莿桐鄉</td>\n",
       "      <td>2020-04-19T15:00:00+08:00</td>\n",
       "      <td>30.4</td>\n",
       "    </tr>\n",
       "    <tr>\n",
       "      <td>423</td>\n",
       "      <td>彰化縣</td>\n",
       "      <td>竹塘鄉</td>\n",
       "      <td>2020-04-19T15:00:00+08:00</td>\n",
       "      <td>29.5</td>\n",
       "    </tr>\n",
       "    <tr>\n",
       "      <td>424</td>\n",
       "      <td>雲林縣</td>\n",
       "      <td>臺西鄉</td>\n",
       "      <td>2020-04-19T15:00:00+08:00</td>\n",
       "      <td>27.5</td>\n",
       "    </tr>\n",
       "    <tr>\n",
       "      <td>425</td>\n",
       "      <td>雲林縣</td>\n",
       "      <td>水林鄉</td>\n",
       "      <td>2020-04-19T15:00:00+08:00</td>\n",
       "      <td>28.6</td>\n",
       "    </tr>\n",
       "    <tr>\n",
       "      <td>426</td>\n",
       "      <td>雲林縣</td>\n",
       "      <td>元長鄉</td>\n",
       "      <td>2020-04-19T15:00:00+08:00</td>\n",
       "      <td>29.5</td>\n",
       "    </tr>\n",
       "    <tr>\n",
       "      <td>427</td>\n",
       "      <td>嘉義縣</td>\n",
       "      <td>布袋鎮</td>\n",
       "      <td>2020-04-19T15:00:00+08:00</td>\n",
       "      <td>27.7</td>\n",
       "    </tr>\n",
       "    <tr>\n",
       "      <td>428</td>\n",
       "      <td>嘉義縣</td>\n",
       "      <td>鹿草鄉</td>\n",
       "      <td>2020-04-19T15:00:00+08:00</td>\n",
       "      <td>29.8</td>\n",
       "    </tr>\n",
       "    <tr>\n",
       "      <td>429</td>\n",
       "      <td>嘉義縣</td>\n",
       "      <td>六腳鄉</td>\n",
       "      <td>2020-04-19T15:00:00+08:00</td>\n",
       "      <td>29.1</td>\n",
       "    </tr>\n",
       "    <tr>\n",
       "      <td>430</td>\n",
       "      <td>嘉義縣</td>\n",
       "      <td>新港鄉</td>\n",
       "      <td>2020-04-19T15:00:00+08:00</td>\n",
       "      <td>29.6</td>\n",
       "    </tr>\n",
       "    <tr>\n",
       "      <td>431</td>\n",
       "      <td>嘉義縣</td>\n",
       "      <td>梅山鄉</td>\n",
       "      <td>2020-04-19T15:00:00+08:00</td>\n",
       "      <td>31.4</td>\n",
       "    </tr>\n",
       "    <tr>\n",
       "      <td>432</td>\n",
       "      <td>嘉義縣</td>\n",
       "      <td>阿里山鄉</td>\n",
       "      <td>2020-04-19T15:00:00+08:00</td>\n",
       "      <td>23.5</td>\n",
       "    </tr>\n",
       "    <tr>\n",
       "      <td>433</td>\n",
       "      <td>嘉義縣</td>\n",
       "      <td>阿里山鄉</td>\n",
       "      <td>2020-04-19T15:00:00+08:00</td>\n",
       "      <td>26.2</td>\n",
       "    </tr>\n",
       "    <tr>\n",
       "      <td>434</td>\n",
       "      <td>臺南市</td>\n",
       "      <td>白河區</td>\n",
       "      <td>2020-04-19T15:00:00+08:00</td>\n",
       "      <td>31.7</td>\n",
       "    </tr>\n",
       "    <tr>\n",
       "      <td>435</td>\n",
       "      <td>嘉義縣</td>\n",
       "      <td>阿里山鄉</td>\n",
       "      <td>2020-04-19T15:00:00+08:00</td>\n",
       "      <td>30.2</td>\n",
       "    </tr>\n",
       "    <tr>\n",
       "      <td>436</td>\n",
       "      <td>雲林縣</td>\n",
       "      <td>古坑鄉</td>\n",
       "      <td>2020-04-19T15:00:00+08:00</td>\n",
       "      <td>32.0</td>\n",
       "    </tr>\n",
       "    <tr>\n",
       "      <td>437</td>\n",
       "      <td>雲林縣</td>\n",
       "      <td>水林鄉</td>\n",
       "      <td>2020-04-19T15:00:00+08:00</td>\n",
       "      <td>29.0</td>\n",
       "    </tr>\n",
       "    <tr>\n",
       "      <td>438</td>\n",
       "      <td>臺南市</td>\n",
       "      <td>北門區</td>\n",
       "      <td>2020-04-19T15:00:00+08:00</td>\n",
       "      <td>28.0</td>\n",
       "    </tr>\n",
       "    <tr>\n",
       "      <td>439</td>\n",
       "      <td>臺南市</td>\n",
       "      <td>七股區</td>\n",
       "      <td>2020-04-19T15:00:00+08:00</td>\n",
       "      <td>28.4</td>\n",
       "    </tr>\n",
       "  </tbody>\n",
       "</table>\n",
       "</div>"
      ],
      "text/plain": [
       "      縣市    區域                         時間    溫度\n",
       "420  嘉義縣   民雄鄉  2020-04-19T15:00:00+08:00  31.0\n",
       "421  雲林縣   大埤鄉  2020-04-19T15:00:00+08:00  30.1\n",
       "422  雲林縣   莿桐鄉  2020-04-19T15:00:00+08:00  30.4\n",
       "423  彰化縣   竹塘鄉  2020-04-19T15:00:00+08:00  29.5\n",
       "424  雲林縣   臺西鄉  2020-04-19T15:00:00+08:00  27.5\n",
       "425  雲林縣   水林鄉  2020-04-19T15:00:00+08:00  28.6\n",
       "426  雲林縣   元長鄉  2020-04-19T15:00:00+08:00  29.5\n",
       "427  嘉義縣   布袋鎮  2020-04-19T15:00:00+08:00  27.7\n",
       "428  嘉義縣   鹿草鄉  2020-04-19T15:00:00+08:00  29.8\n",
       "429  嘉義縣   六腳鄉  2020-04-19T15:00:00+08:00  29.1\n",
       "430  嘉義縣   新港鄉  2020-04-19T15:00:00+08:00  29.6\n",
       "431  嘉義縣   梅山鄉  2020-04-19T15:00:00+08:00  31.4\n",
       "432  嘉義縣  阿里山鄉  2020-04-19T15:00:00+08:00  23.5\n",
       "433  嘉義縣  阿里山鄉  2020-04-19T15:00:00+08:00  26.2\n",
       "434  臺南市   白河區  2020-04-19T15:00:00+08:00  31.7\n",
       "435  嘉義縣  阿里山鄉  2020-04-19T15:00:00+08:00  30.2\n",
       "436  雲林縣   古坑鄉  2020-04-19T15:00:00+08:00  32.0\n",
       "437  雲林縣   水林鄉  2020-04-19T15:00:00+08:00  29.0\n",
       "438  臺南市   北門區  2020-04-19T15:00:00+08:00  28.0\n",
       "439  臺南市   七股區  2020-04-19T15:00:00+08:00  28.4"
      ]
     },
     "execution_count": 21,
     "metadata": {},
     "output_type": "execute_result"
    }
   ],
   "source": [
    "import pandas as pd\n",
    "temperature = pd.DataFrame(usefulData)\n",
    "temperature.iloc[-20:]"
   ]
  },
  {
   "cell_type": "code",
   "execution_count": null,
   "metadata": {},
   "outputs": [],
   "source": []
  }
 ],
 "metadata": {
  "kernelspec": {
   "display_name": "Python 3",
   "language": "python",
   "name": "python3"
  },
  "language_info": {
   "codemirror_mode": {
    "name": "ipython",
    "version": 3
   },
   "file_extension": ".py",
   "mimetype": "text/x-python",
   "name": "python",
   "nbconvert_exporter": "python",
   "pygments_lexer": "ipython3",
   "version": "3.7.4"
  }
 },
 "nbformat": 4,
 "nbformat_minor": 2
}
