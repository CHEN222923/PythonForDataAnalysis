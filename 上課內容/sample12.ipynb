{
 "cells": [
  {
   "cell_type": "code",
   "execution_count": 13,
   "metadata": {},
   "outputs": [
    {
     "data": {
      "text/plain": [
       "'這是整數123,#237'"
      ]
     },
     "execution_count": 13,
     "metadata": {},
     "output_type": "execute_result"
    }
   ],
   "source": [
    "i = 123\n",
    "j = 567\n",
    "#\"這是整數%d,#%x\" % (i, j)\n",
    "\"這是整數{:d},#{:x}\".format(i,j)"
   ]
  },
  {
   "cell_type": "code",
   "execution_count": 14,
   "metadata": {},
   "outputs": [
    {
     "name": "stdout",
     "output_type": "stream",
     "text": [
      "5*123*\n",
      "6 * 123.93*\n",
      "7*123.9260 *\n",
      "8*123.93\n"
     ]
    }
   ],
   "source": [
    "b = 123.926\n",
    "print(\"5*%d*\" % (b))\n",
    "print(\"6 *% 7.2f*\" % (b))\n",
    "print(\"7*%-9.4f*\" % (b))\n",
    "print('8*%.2f' % (b))"
   ]
  },
  {
   "cell_type": "code",
   "execution_count": 18,
   "metadata": {},
   "outputs": [
    {
     "data": {
      "text/plain": [
       "{'wine': '波登', 'entree': '豬肉', 'desert': '蛋糕'}"
      ]
     },
     "execution_count": 18,
     "metadata": {},
     "output_type": "execute_result"
    }
   ],
   "source": [
    "#使用引數位置的呼叫,必需依照順序呼叫\n",
    "def menu(wine, entree, desert): #定義時稱數\n",
    "    return {'wine':wine, 'entree': entree, 'desert': desert}\n",
    "\n",
    "\n",
    "menu('波登','豬肉','蛋糕')#呼叫時使用真實的值，我們稱為引數"
   ]
  },
  {
   "cell_type": "code",
   "execution_count": 19,
   "metadata": {},
   "outputs": [
    {
     "data": {
      "text/plain": [
       "{'wine': '波登', 'entree': '豬肉', 'desert': '蛋糕'}"
      ]
     },
     "execution_count": 19,
     "metadata": {},
     "output_type": "execute_result"
    }
   ],
   "source": [
    "#使用引數名稱的呼叫,可以不依照順序\n",
    "menu(entree = '豬肉', desert='蛋糕', wine='波登')"
   ]
  },
  {
   "cell_type": "code",
   "execution_count": 24,
   "metadata": {},
   "outputs": [
    {
     "data": {
      "text/plain": [
       "{'wine': '波登', 'entree': '豬肉', 'desert': '布丁'}"
      ]
     },
     "execution_count": 24,
     "metadata": {},
     "output_type": "execute_result"
    }
   ],
   "source": [
    "#在定function有預設參數的值,呼叫時可有,可無\n",
    "def menu(wine, entree='牛排', desert='布丁'):\n",
    "    return {'wine':wine, 'entree': entree, 'desert': desert}\n",
    "\n",
    "menu('波登', '豬肉')"
   ]
  },
  {
   "cell_type": "code",
   "execution_count": 25,
   "metadata": {},
   "outputs": [
    {
     "data": {
      "text/plain": [
       "{'wine': '波登', 'entree': '豬肉', 'desert': '蛋糕'}"
      ]
     },
     "execution_count": 25,
     "metadata": {},
     "output_type": "execute_result"
    }
   ],
   "source": [
    "menu('波登', '豬肉', '蛋糕')"
   ]
  },
  {
   "cell_type": "code",
   "execution_count": 26,
   "metadata": {},
   "outputs": [
    {
     "data": {
      "text/plain": [
       "{'wine': '波登', 'entree': '牛排', 'desert': '布丁'}"
      ]
     },
     "execution_count": 26,
     "metadata": {},
     "output_type": "execute_result"
    }
   ],
   "source": [
    "menu('波登')"
   ]
  },
  {
   "cell_type": "code",
   "execution_count": 27,
   "metadata": {},
   "outputs": [
    {
     "data": {
      "text/plain": [
       "{'wine': '波登', 'entree': '豬肉', 'desert': '布丁'}"
      ]
     },
     "execution_count": 27,
     "metadata": {},
     "output_type": "execute_result"
    }
   ],
   "source": [
    "menu('波登', '豬肉')"
   ]
  },
  {
   "cell_type": "code",
   "execution_count": 28,
   "metadata": {},
   "outputs": [
    {
     "ename": "SyntaxError",
     "evalue": "non-default argument follows default argument (<ipython-input-28-08f252c111d9>, line 1)",
     "output_type": "error",
     "traceback": [
      "\u001b[0;36m  File \u001b[0;32m\"<ipython-input-28-08f252c111d9>\"\u001b[0;36m, line \u001b[0;32m1\u001b[0m\n\u001b[0;31m    def menu(wine, entree='牛排', desert):\u001b[0m\n\u001b[0m            ^\u001b[0m\n\u001b[0;31mSyntaxError\u001b[0m\u001b[0;31m:\u001b[0m non-default argument follows default argument\n"
     ]
    }
   ],
   "source": [
    "def menu(wine, entree='牛排', desert):\n",
    "    return {'wine':wine, 'entree': entree, 'desert': desert}\n",
    "menu('波登', '豬肉', '蛋糕')"
   ]
  },
  {
   "cell_type": "code",
   "execution_count": null,
   "metadata": {},
   "outputs": [],
   "source": []
  }
 ],
 "metadata": {
  "kernelspec": {
   "display_name": "Python 3",
   "language": "python",
   "name": "python3"
  },
  "language_info": {
   "codemirror_mode": {
    "name": "ipython",
    "version": 3
   },
   "file_extension": ".py",
   "mimetype": "text/x-python",
   "name": "python",
   "nbconvert_exporter": "python",
   "pygments_lexer": "ipython3",
   "version": "3.7.4"
  }
 },
 "nbformat": 4,
 "nbformat_minor": 2
}
