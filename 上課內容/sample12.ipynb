{
 "cells": [
  {
   "cell_type": "code",
   "execution_count": 4,
   "metadata": {},
   "outputs": [
    {
     "data": {
      "text/plain": [
       "'這是整數123,#237'"
      ]
     },
     "execution_count": 4,
     "metadata": {},
     "output_type": "execute_result"
    }
   ],
   "source": [
    "i = 123\n",
    "j = 567\n",
    "\"這是整數%d,#%x\" % (i, j)\n",
    "\"這是整數{:d},#{:x}\".format(i,j)"
   ]
  },
  {
   "cell_type": "code",
   "execution_count": 12,
   "metadata": {},
   "outputs": [
    {
     "name": "stdout",
     "output_type": "stream",
     "text": [
      "5*123*\n",
      "6 * 123.93*\n",
      "7*123.9260 *\n",
      "8*123.93\n"
     ]
    }
   ],
   "source": [
    "b = 123.926\n",
    "print(\"5*%d*\" % (b))\n",
    "print(\"6 *% 7.2f*\" % (b))\n",
    "print(\"7*%-9.4f*\" % (b))\n",
    "print('8*%.2f' % (b))"
   ]
  },
  {
   "cell_type": "code",
   "execution_count": null,
   "metadata": {},
   "outputs": [],
   "source": []
  }
 ],
 "metadata": {
  "kernelspec": {
   "display_name": "Python 3",
   "language": "python",
   "name": "python3"
  },
  "language_info": {
   "codemirror_mode": {
    "name": "ipython",
    "version": 3
   },
   "file_extension": ".py",
   "mimetype": "text/x-python",
   "name": "python",
   "nbconvert_exporter": "python",
   "pygments_lexer": "ipython3",
   "version": "3.7.4"
  }
 },
 "nbformat": 4,
 "nbformat_minor": 2
}
