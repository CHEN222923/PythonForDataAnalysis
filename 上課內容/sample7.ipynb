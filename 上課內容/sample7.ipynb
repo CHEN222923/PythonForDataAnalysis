{
 "cells": [
  {
   "cell_type": "code",
   "execution_count": 1,
   "metadata": {},
   "outputs": [
    {
     "name": "stdout",
     "output_type": "stream",
     "text": [
      "整數,輸入q離開:1\n",
      "1 平方是: 1\n",
      "整數,輸入q離開:2\n",
      "整數,輸入q離開:3\n",
      "3 平方是: 9\n",
      "整數,輸入q離開:4\n",
      "整數,輸入q離開:q\n"
     ]
    }
   ],
   "source": [
    "while True:\n",
    "    value  = input('整數,輸入q離開:')\n",
    "    if value == 'q':\n",
    "        break\n",
    "    number = int(value)\n",
    "    if number % 2 == 0:\n",
    "        continue\n",
    "    print(number, \"平方是:\", number ** 2)"
   ]
  },
  {
   "cell_type": "code",
   "execution_count": 2,
   "metadata": {},
   "outputs": [
    {
     "name": "stdout",
     "output_type": "stream",
     "text": [
      "==============猜數字遊戲===================\n",
      "猜數字範圍1~100:50\n",
      "再大一點\n",
      "您猜了 1 次\n",
      "猜數字範圍50~100:75\n",
      "再大一點\n",
      "您猜了 2 次\n",
      "猜數字範圍75~100:85\n",
      "再小一點\n",
      "您猜了 3 次\n",
      "猜數字範圍75~85:80\n",
      "賓果!猜對了,答案是: 80\n",
      "您猜了 4 次\n",
      "程式結束\n"
     ]
    }
   ],
   "source": [
    "import random\n",
    "\n",
    "target = random.randint(1,100)\n",
    "min = 1\n",
    "max = 100\n",
    "count = 0\n",
    "\n",
    "print(\"==============猜數字遊戲===================\")\n",
    "while(True):\n",
    "    count += 1\n",
    "    keyin = int(input(\"猜數字範圍{0}~{1}:\".format(min,max)))\n",
    "    if(keyin >= min and keyin <= max):\n",
    "        if(keyin == target):\n",
    "            print(\"賓果!猜對了,答案是:\", target)\n",
    "            print(\"您猜了\",count,\"次\")\n",
    "            break;\n",
    "        elif(keyin > target):\n",
    "            max = keyin\n",
    "            print(\"再小一點\")\n",
    "        elif(keyin < target):\n",
    "            min = keyin\n",
    "            print(\"再大一點\")\n",
    "        \n",
    "        print(\"您猜了\",count,\"次\")\n",
    "    else:\n",
    "        print('請輸入提示範圍內的數字')\n",
    "    \n",
    "print(\"程式結束\")"
   ]
  },
  {
   "cell_type": "code",
   "execution_count": null,
   "metadata": {},
   "outputs": [],
   "source": []
  }
 ],
 "metadata": {
  "kernelspec": {
   "display_name": "Python 3",
   "language": "python",
   "name": "python3"
  },
  "language_info": {
   "codemirror_mode": {
    "name": "ipython",
    "version": 3
   },
   "file_extension": ".py",
   "mimetype": "text/x-python",
   "name": "python",
   "nbconvert_exporter": "python",
   "pygments_lexer": "ipython3",
   "version": "3.7.4"
  }
 },
 "nbformat": 4,
 "nbformat_minor": 2
}
