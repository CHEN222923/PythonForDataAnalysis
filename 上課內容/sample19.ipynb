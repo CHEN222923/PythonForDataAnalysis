{
 "cells": [
  {
   "cell_type": "code",
   "execution_count": 92,
   "metadata": {},
   "outputs": [
    {
     "data": {
      "text/plain": [
       "array([[-0.1452129 , -1.87228553,  0.23067054],\n",
       "       [ 0.72873679,  0.54419298,  0.10359614]])"
      ]
     },
     "execution_count": 92,
     "metadata": {},
     "output_type": "execute_result"
    }
   ],
   "source": [
    "import numpy as np\n",
    "data = np.random.randn(2,3)\n",
    "data"
   ]
  },
  {
   "cell_type": "code",
   "execution_count": 93,
   "metadata": {},
   "outputs": [
    {
     "data": {
      "text/plain": [
       "array([[ -1.452129  , -18.72285528,   2.30670541],\n",
       "       [  7.28736788,   5.4419298 ,   1.03596142]])"
      ]
     },
     "execution_count": 93,
     "metadata": {},
     "output_type": "execute_result"
    }
   ],
   "source": [
    "data * 10"
   ]
  },
  {
   "cell_type": "code",
   "execution_count": 94,
   "metadata": {},
   "outputs": [
    {
     "data": {
      "text/plain": [
       "2"
      ]
     },
     "execution_count": 94,
     "metadata": {},
     "output_type": "execute_result"
    }
   ],
   "source": [
    "data.ndim\n"
   ]
  },
  {
   "cell_type": "code",
   "execution_count": 95,
   "metadata": {},
   "outputs": [
    {
     "data": {
      "text/plain": [
       "(2, 3)"
      ]
     },
     "execution_count": 95,
     "metadata": {},
     "output_type": "execute_result"
    }
   ],
   "source": [
    "data.shape"
   ]
  },
  {
   "cell_type": "code",
   "execution_count": 96,
   "metadata": {},
   "outputs": [
    {
     "data": {
      "text/plain": [
       "dtype('float64')"
      ]
     },
     "execution_count": 96,
     "metadata": {},
     "output_type": "execute_result"
    }
   ],
   "source": [
    "data.dtype"
   ]
  },
  {
   "cell_type": "code",
   "execution_count": 97,
   "metadata": {},
   "outputs": [
    {
     "data": {
      "text/plain": [
       "6"
      ]
     },
     "execution_count": 97,
     "metadata": {},
     "output_type": "execute_result"
    }
   ],
   "source": [
    "data.size"
   ]
  },
  {
   "cell_type": "code",
   "execution_count": 98,
   "metadata": {},
   "outputs": [
    {
     "data": {
      "text/plain": [
       "array([[1, 2, 3, 4],\n",
       "       [5, 6, 7, 8]])"
      ]
     },
     "execution_count": 98,
     "metadata": {},
     "output_type": "execute_result"
    }
   ],
   "source": [
    "data2 = [[1, 2, 3, 4],[5, 6, 7, 8]]\n",
    "arr2 = np.array(data2)\n",
    "arr2"
   ]
  },
  {
   "cell_type": "code",
   "execution_count": 99,
   "metadata": {},
   "outputs": [
    {
     "data": {
      "text/plain": [
       "(2, 4)"
      ]
     },
     "execution_count": 99,
     "metadata": {},
     "output_type": "execute_result"
    }
   ],
   "source": [
    "arr2.shape"
   ]
  },
  {
   "cell_type": "code",
   "execution_count": 100,
   "metadata": {},
   "outputs": [
    {
     "data": {
      "text/plain": [
       "dtype('int64')"
      ]
     },
     "execution_count": 100,
     "metadata": {},
     "output_type": "execute_result"
    }
   ],
   "source": [
    "arr2.dtype"
   ]
  },
  {
   "cell_type": "code",
   "execution_count": 101,
   "metadata": {},
   "outputs": [
    {
     "data": {
      "text/plain": [
       "array([[0., 0., 0.],\n",
       "       [0., 0., 0.]])"
      ]
     },
     "execution_count": 101,
     "metadata": {},
     "output_type": "execute_result"
    }
   ],
   "source": [
    "np.zeros((2, 3))"
   ]
  },
  {
   "cell_type": "code",
   "execution_count": 102,
   "metadata": {},
   "outputs": [
    {
     "data": {
      "text/plain": [
       "array([[[1.04e-322, 0.00e+000],\n",
       "        [0.00e+000, 0.00e+000],\n",
       "        [0.00e+000, 0.00e+000]],\n",
       "\n",
       "       [[0.00e+000, 0.00e+000],\n",
       "        [0.00e+000, 0.00e+000],\n",
       "        [0.00e+000, 0.00e+000]]])"
      ]
     },
     "execution_count": 102,
     "metadata": {},
     "output_type": "execute_result"
    }
   ],
   "source": [
    "np.empty((2, 3, 2))"
   ]
  },
  {
   "cell_type": "code",
   "execution_count": 103,
   "metadata": {},
   "outputs": [
    {
     "data": {
      "text/plain": [
       "dtype('float128')"
      ]
     },
     "execution_count": 103,
     "metadata": {},
     "output_type": "execute_result"
    }
   ],
   "source": [
    "arr1 = np.array([1, 2, 3], dtype=np.float128)\n",
    "arr1\n",
    "arr1.dtype"
   ]
  },
  {
   "cell_type": "code",
   "execution_count": 104,
   "metadata": {},
   "outputs": [
    {
     "data": {
      "text/plain": [
       "dtype('int64')"
      ]
     },
     "execution_count": 104,
     "metadata": {},
     "output_type": "execute_result"
    }
   ],
   "source": [
    "arr = np.array([1, 2, 3, 4, 5])\n",
    "arr.dtype"
   ]
  },
  {
   "cell_type": "code",
   "execution_count": 105,
   "metadata": {},
   "outputs": [
    {
     "data": {
      "text/plain": [
       "dtype('float128')"
      ]
     },
     "execution_count": 105,
     "metadata": {},
     "output_type": "execute_result"
    }
   ],
   "source": [
    "#ndarray轉型方法->astype(np.float64)\n",
    "newArray = arr.astype(np.float128)\n",
    "newArray.dtype"
   ]
  },
  {
   "cell_type": "markdown",
   "metadata": {},
   "source": []
  },
  {
   "cell_type": "markdown",
   "metadata": {},
   "source": [
    "### 比較"
   ]
  },
  {
   "cell_type": "code",
   "execution_count": 106,
   "metadata": {},
   "outputs": [
    {
     "data": {
      "text/plain": [
       "array([[ True,  True,  True],\n",
       "       [ True, False, False]])"
      ]
     },
     "execution_count": 106,
     "metadata": {},
     "output_type": "execute_result"
    }
   ],
   "source": [
    "import numpy as np\n",
    "arr = np.array([[1., 2. ,3.],[4., 5., 6.]])\n",
    "arr < 5"
   ]
  },
  {
   "cell_type": "code",
   "execution_count": 107,
   "metadata": {},
   "outputs": [
    {
     "data": {
      "text/plain": [
       "array([[ 0.,  4.,  1.],\n",
       "       [ 7.,  2., 12.]])"
      ]
     },
     "execution_count": 107,
     "metadata": {},
     "output_type": "execute_result"
    }
   ],
   "source": [
    "arr2 = np.array([[0., 4., 1.],[7., 2. ,12.]])\n",
    "arr2"
   ]
  },
  {
   "cell_type": "code",
   "execution_count": 108,
   "metadata": {},
   "outputs": [
    {
     "data": {
      "text/plain": [
       "array([[False,  True, False],\n",
       "       [ True, False,  True]])"
      ]
     },
     "execution_count": 108,
     "metadata": {},
     "output_type": "execute_result"
    }
   ],
   "source": [
    "arr2 > arr"
   ]
  },
  {
   "cell_type": "code",
   "execution_count": 109,
   "metadata": {},
   "outputs": [
    {
     "data": {
      "text/plain": [
       "array([[11, 12, 13],\n",
       "       [14, 15, 16],\n",
       "       [17, 18, 19]])"
      ]
     },
     "execution_count": 109,
     "metadata": {},
     "output_type": "execute_result"
    }
   ],
   "source": [
    "#多種運算方式\n",
    "import numpy as np\n",
    "a = np.array([[1,2,3],[4,5,6],[7,8,9]]) \n",
    "b = np.array([10,10,10])\n",
    "a.shape\n",
    "b.shape\n",
    "a+b"
   ]
  },
  {
   "cell_type": "code",
   "execution_count": 110,
   "metadata": {},
   "outputs": [
    {
     "data": {
      "text/plain": [
       "array([[11, 12, 13],\n",
       "       [14, 15, 16],\n",
       "       [17, 18, 19]])"
      ]
     },
     "execution_count": 110,
     "metadata": {},
     "output_type": "execute_result"
    }
   ],
   "source": [
    "np.add(a,b)"
   ]
  },
  {
   "cell_type": "code",
   "execution_count": 111,
   "metadata": {},
   "outputs": [
    {
     "data": {
      "text/plain": [
       "array([  0.,  10., 120.,   0.,  30.])"
      ]
     },
     "execution_count": 111,
     "metadata": {},
     "output_type": "execute_result"
    }
   ],
   "source": [
    "#小數點的處理\n",
    "a = np.array([1.0,5.45, 123, 0.567, 25.532])\n",
    "np.around(a)\n",
    "np.around(a, decimals=1)\n",
    "np.around(a, decimals=-1)"
   ]
  },
  {
   "cell_type": "code",
   "execution_count": 112,
   "metadata": {},
   "outputs": [
    {
     "data": {
      "text/plain": [
       "array([-2.,  1., -1.,  0., 10.])"
      ]
     },
     "execution_count": 112,
     "metadata": {},
     "output_type": "execute_result"
    }
   ],
   "source": [
    "#np.floor( ) 方法代表回傳「小於」輸入參數的最大整數。\n",
    "#np.ceil( ) 方法代表回傳「大於」輸入參數的最小整數。\n",
    "a = np.array([-1.7, 1.5, -0.2, 0.6, 10]) \n",
    "np.floor(a)"
   ]
  },
  {
   "cell_type": "code",
   "execution_count": 113,
   "metadata": {},
   "outputs": [
    {
     "data": {
      "text/plain": [
       "array([-1.,  2., -0.,  1., 10.])"
      ]
     },
     "execution_count": 113,
     "metadata": {},
     "output_type": "execute_result"
    }
   ],
   "source": [
    "np.ceil(a)"
   ]
  },
  {
   "cell_type": "code",
   "execution_count": 114,
   "metadata": {},
   "outputs": [],
   "source": [
    "#取出資料,取出局部資料\n",
    "#index,slice"
   ]
  },
  {
   "cell_type": "code",
   "execution_count": 115,
   "metadata": {},
   "outputs": [
    {
     "data": {
      "text/plain": [
       "array([0, 1, 2, 3, 4, 5, 6, 7, 8, 9])"
      ]
     },
     "execution_count": 115,
     "metadata": {},
     "output_type": "execute_result"
    }
   ],
   "source": [
    "arr = np.arange(10)\n",
    "arr"
   ]
  },
  {
   "cell_type": "code",
   "execution_count": 116,
   "metadata": {},
   "outputs": [
    {
     "data": {
      "text/plain": [
       "5"
      ]
     },
     "execution_count": 116,
     "metadata": {},
     "output_type": "execute_result"
    }
   ],
   "source": [
    "arr[5]"
   ]
  },
  {
   "cell_type": "code",
   "execution_count": 117,
   "metadata": {},
   "outputs": [
    {
     "data": {
      "text/plain": [
       "array([5, 6, 7])"
      ]
     },
     "execution_count": 117,
     "metadata": {},
     "output_type": "execute_result"
    }
   ],
   "source": [
    "arr[5:8]"
   ]
  },
  {
   "cell_type": "code",
   "execution_count": 118,
   "metadata": {},
   "outputs": [],
   "source": [
    "#arr[5:8] = 12"
   ]
  },
  {
   "cell_type": "code",
   "execution_count": 119,
   "metadata": {},
   "outputs": [
    {
     "data": {
      "text/plain": [
       "array([0, 1, 2, 3, 4, 5, 6, 7, 8, 9])"
      ]
     },
     "execution_count": 119,
     "metadata": {},
     "output_type": "execute_result"
    }
   ],
   "source": [
    "arr"
   ]
  },
  {
   "cell_type": "code",
   "execution_count": 120,
   "metadata": {},
   "outputs": [
    {
     "data": {
      "text/plain": [
       "dtype('int64')"
      ]
     },
     "execution_count": 120,
     "metadata": {},
     "output_type": "execute_result"
    }
   ],
   "source": [
    "copy1 = arr[5:8].copy()\n",
    "copy1\n",
    "copy1.dtype"
   ]
  },
  {
   "cell_type": "code",
   "execution_count": 122,
   "metadata": {},
   "outputs": [],
   "source": [
    "copy1[:] = 20 "
   ]
  },
  {
   "cell_type": "code",
   "execution_count": 128,
   "metadata": {},
   "outputs": [
    {
     "data": {
      "text/plain": [
       "8"
      ]
     },
     "execution_count": 128,
     "metadata": {},
     "output_type": "execute_result"
    }
   ],
   "source": [
    "arr2d = np.array([[1, 2, 3],[4, 5, 6],[7, 8, 9]])\n",
    "arr2d\n",
    "a2d=arr2d[2]\n",
    "a2d\n",
    "a2d.shape\n",
    "a2d[0,]\n",
    "a2d[1,]"
   ]
  },
  {
   "cell_type": "code",
   "execution_count": 129,
   "metadata": {},
   "outputs": [
    {
     "data": {
      "text/plain": [
       "array([[2, 3],\n",
       "       [5, 6]])"
      ]
     },
     "execution_count": 129,
     "metadata": {},
     "output_type": "execute_result"
    }
   ],
   "source": [
    "b2d = arr2d[:2,1:]\n",
    "b2d"
   ]
  },
  {
   "cell_type": "code",
   "execution_count": 130,
   "metadata": {},
   "outputs": [
    {
     "data": {
      "text/plain": [
       "(2, 2)"
      ]
     },
     "execution_count": 130,
     "metadata": {},
     "output_type": "execute_result"
    }
   ],
   "source": [
    "b2d.shape"
   ]
  },
  {
   "cell_type": "code",
   "execution_count": 132,
   "metadata": {},
   "outputs": [
    {
     "data": {
      "text/plain": [
       "array([[7, 8, 9]])"
      ]
     },
     "execution_count": 132,
     "metadata": {},
     "output_type": "execute_result"
    }
   ],
   "source": [
    "c2d=arr2d[2:,:]\n",
    "c2d"
   ]
  },
  {
   "cell_type": "code",
   "execution_count": 133,
   "metadata": {},
   "outputs": [
    {
     "data": {
      "text/plain": [
       "(1, 3)"
      ]
     },
     "execution_count": 133,
     "metadata": {},
     "output_type": "execute_result"
    }
   ],
   "source": [
    "c2d.shape"
   ]
  },
  {
   "cell_type": "code",
   "execution_count": 134,
   "metadata": {},
   "outputs": [
    {
     "data": {
      "text/plain": [
       "7"
      ]
     },
     "execution_count": 134,
     "metadata": {},
     "output_type": "execute_result"
    }
   ],
   "source": [
    "c2d[0,0]"
   ]
  },
  {
   "cell_type": "code",
   "execution_count": 135,
   "metadata": {},
   "outputs": [
    {
     "data": {
      "text/plain": [
       "8"
      ]
     },
     "execution_count": 135,
     "metadata": {},
     "output_type": "execute_result"
    }
   ],
   "source": [
    "c2d[0,1]"
   ]
  },
  {
   "cell_type": "code",
   "execution_count": 137,
   "metadata": {},
   "outputs": [
    {
     "data": {
      "text/plain": [
       "9"
      ]
     },
     "execution_count": 137,
     "metadata": {},
     "output_type": "execute_result"
    }
   ],
   "source": [
    "c2d[0,2]"
   ]
  },
  {
   "cell_type": "code",
   "execution_count": 138,
   "metadata": {},
   "outputs": [
    {
     "data": {
      "text/plain": [
       "(3,)"
      ]
     },
     "execution_count": 138,
     "metadata": {},
     "output_type": "execute_result"
    }
   ],
   "source": [
    "d2d = arr2d[2,:]\n",
    "d2d.shape"
   ]
  },
  {
   "cell_type": "code",
   "execution_count": 139,
   "metadata": {},
   "outputs": [
    {
     "data": {
      "text/plain": [
       "7"
      ]
     },
     "execution_count": 139,
     "metadata": {},
     "output_type": "execute_result"
    }
   ],
   "source": [
    "d2d[0]"
   ]
  },
  {
   "cell_type": "code",
   "execution_count": 140,
   "metadata": {},
   "outputs": [
    {
     "data": {
      "text/plain": [
       "8"
      ]
     },
     "execution_count": 140,
     "metadata": {},
     "output_type": "execute_result"
    }
   ],
   "source": [
    "d2d[1]"
   ]
  },
  {
   "cell_type": "code",
   "execution_count": 141,
   "metadata": {},
   "outputs": [
    {
     "data": {
      "text/plain": [
       "9"
      ]
     },
     "execution_count": 141,
     "metadata": {},
     "output_type": "execute_result"
    }
   ],
   "source": [
    "d2d[2]"
   ]
  },
  {
   "cell_type": "code",
   "execution_count": 142,
   "metadata": {},
   "outputs": [
    {
     "data": {
      "text/plain": [
       "array([[1, 2, 3],\n",
       "       [4, 5, 6]])"
      ]
     },
     "execution_count": 142,
     "metadata": {},
     "output_type": "execute_result"
    }
   ],
   "source": [
    "a = np.array([[1,2,3],[4,5,6]]) \n",
    "a"
   ]
  },
  {
   "cell_type": "code",
   "execution_count": 143,
   "metadata": {},
   "outputs": [
    {
     "data": {
      "text/plain": [
       "(2, 3)"
      ]
     },
     "execution_count": 143,
     "metadata": {},
     "output_type": "execute_result"
    }
   ],
   "source": [
    "a.shape"
   ]
  },
  {
   "cell_type": "code",
   "execution_count": 147,
   "metadata": {},
   "outputs": [],
   "source": [
    "b = a.reshape(3, 2)\n",
    "b\n",
    "b.shape\n",
    "a[0, 1] = 100"
   ]
  },
  {
   "cell_type": "code",
   "execution_count": 148,
   "metadata": {},
   "outputs": [
    {
     "data": {
      "text/plain": [
       "array([[  1, 100],\n",
       "       [  3,   4],\n",
       "       [  5,   6]])"
      ]
     },
     "execution_count": 148,
     "metadata": {},
     "output_type": "execute_result"
    }
   ],
   "source": [
    "b"
   ]
  },
  {
   "cell_type": "code",
   "execution_count": 149,
   "metadata": {},
   "outputs": [
    {
     "data": {
      "text/plain": [
       "array([[ 0,  1,  2,  3,  4],\n",
       "       [ 5,  6,  7,  8,  9],\n",
       "       [10, 11, 12, 13, 14]])"
      ]
     },
     "execution_count": 149,
     "metadata": {},
     "output_type": "execute_result"
    }
   ],
   "source": [
    "arr = np.arange(15).reshape((3, 5))\n",
    "arr\n"
   ]
  },
  {
   "cell_type": "code",
   "execution_count": 150,
   "metadata": {},
   "outputs": [
    {
     "data": {
      "text/plain": [
       "array([[ 0,  5, 10],\n",
       "       [ 1,  6, 11],\n",
       "       [ 2,  7, 12],\n",
       "       [ 3,  8, 13],\n",
       "       [ 4,  9, 14]])"
      ]
     },
     "execution_count": 150,
     "metadata": {},
     "output_type": "execute_result"
    }
   ],
   "source": [
    "arr.T"
   ]
  },
  {
   "cell_type": "code",
   "execution_count": 151,
   "metadata": {},
   "outputs": [
    {
     "data": {
      "text/plain": [
       "array(['Bob', 'Joe', 'Will', 'Bob', 'Will', 'Joe', 'Joe'], dtype='<U4')"
      ]
     },
     "execution_count": 151,
     "metadata": {},
     "output_type": "execute_result"
    }
   ],
   "source": [
    "names = np.array(['Bob', 'Joe', 'Will', 'Bob', 'Will', 'Joe', 'Joe'])\n",
    "data = np.random.randn(7, 4)\n",
    "names"
   ]
  },
  {
   "cell_type": "code",
   "execution_count": 152,
   "metadata": {},
   "outputs": [
    {
     "data": {
      "text/plain": [
       "array([[-0.54305926,  0.83639765, -0.01200571,  0.48105231],\n",
       "       [ 1.34222859,  0.33968961, -0.81360548,  1.10468861],\n",
       "       [-0.26647531, -0.15033723, -0.06964571, -0.06318295],\n",
       "       [ 1.07942878, -1.09218942,  0.30405066,  1.47750064],\n",
       "       [-1.39646743, -0.03243585, -0.36555089, -0.36140347],\n",
       "       [-0.07213249,  0.56515906, -0.21189679, -1.09550695],\n",
       "       [-2.09979123,  1.00896619,  0.43929771,  0.7380782 ]])"
      ]
     },
     "execution_count": 152,
     "metadata": {},
     "output_type": "execute_result"
    }
   ],
   "source": [
    "data"
   ]
  },
  {
   "cell_type": "code",
   "execution_count": 153,
   "metadata": {},
   "outputs": [
    {
     "data": {
      "text/plain": [
       "array([ True, False, False,  True, False, False, False])"
      ]
     },
     "execution_count": 153,
     "metadata": {},
     "output_type": "execute_result"
    }
   ],
   "source": [
    "names == 'Bob'"
   ]
  },
  {
   "cell_type": "code",
   "execution_count": 155,
   "metadata": {},
   "outputs": [
    {
     "data": {
      "text/plain": [
       "array([[-0.54305926,  0.83639765, -0.01200571,  0.48105231],\n",
       "       [ 1.07942878, -1.09218942,  0.30405066,  1.47750064]])"
      ]
     },
     "execution_count": 155,
     "metadata": {},
     "output_type": "execute_result"
    }
   ],
   "source": [
    "data[names == 'Bob']"
   ]
  },
  {
   "cell_type": "code",
   "execution_count": 159,
   "metadata": {},
   "outputs": [
    {
     "data": {
      "text/plain": [
       "array([ True, False,  True,  True,  True, False, False])"
      ]
     },
     "execution_count": 159,
     "metadata": {},
     "output_type": "execute_result"
    }
   ],
   "source": [
    "mask = (names == 'Bob') | (names == 'Will')\n",
    "mask"
   ]
  },
  {
   "cell_type": "code",
   "execution_count": 161,
   "metadata": {},
   "outputs": [
    {
     "data": {
      "text/plain": [
       "array([[-0.54305926,  0.83639765, -0.01200571,  0.48105231],\n",
       "       [-0.26647531, -0.15033723, -0.06964571, -0.06318295],\n",
       "       [ 1.07942878, -1.09218942,  0.30405066,  1.47750064],\n",
       "       [-1.39646743, -0.03243585, -0.36555089, -0.36140347]])"
      ]
     },
     "execution_count": 161,
     "metadata": {},
     "output_type": "execute_result"
    }
   ],
   "source": [
    "data[mask]"
   ]
  },
  {
   "cell_type": "code",
   "execution_count": 166,
   "metadata": {},
   "outputs": [
    {
     "data": {
      "text/plain": [
       "array([0.83639765, 0.48105231, 1.34222859, 0.33968961, 1.10468861,\n",
       "       1.07942878, 0.30405066, 1.47750064, 0.56515906, 1.00896619,\n",
       "       0.43929771, 0.7380782 ])"
      ]
     },
     "execution_count": 166,
     "metadata": {},
     "output_type": "execute_result"
    }
   ],
   "source": [
    "filterData = data[data > 0]\n",
    "filterData"
   ]
  },
  {
   "cell_type": "code",
   "execution_count": 167,
   "metadata": {},
   "outputs": [
    {
     "data": {
      "text/plain": [
       "(12,)"
      ]
     },
     "execution_count": 167,
     "metadata": {},
     "output_type": "execute_result"
    }
   ],
   "source": [
    "filterData.shape"
   ]
  },
  {
   "cell_type": "code",
   "execution_count": 168,
   "metadata": {},
   "outputs": [
    {
     "data": {
      "text/plain": [
       "array([[-1.09525963,  0.89011318,  0.51718155, -0.14774188],\n",
       "       [ 1.96886139,  0.33479619,  0.5891105 , -0.09599594],\n",
       "       [-0.78334734, -0.51813607, -0.14263865, -0.76159142],\n",
       "       [ 0.10617908,  0.51396666,  0.67287673, -1.10591208],\n",
       "       [ 0.93612595, -0.51478376,  0.74097502,  0.46549408]])"
      ]
     },
     "execution_count": 168,
     "metadata": {},
     "output_type": "execute_result"
    }
   ],
   "source": [
    "#mean(),sum(),std()\n",
    "arr = np.random.randn(5, 4)\n",
    "arr"
   ]
  },
  {
   "cell_type": "code",
   "execution_count": 169,
   "metadata": {},
   "outputs": [
    {
     "data": {
      "text/plain": [
       "0.12851367792168855"
      ]
     },
     "execution_count": 169,
     "metadata": {},
     "output_type": "execute_result"
    }
   ],
   "source": [
    "arr.mean()"
   ]
  },
  {
   "cell_type": "code",
   "execution_count": 170,
   "metadata": {},
   "outputs": [
    {
     "data": {
      "text/plain": [
       "0.12851367792168855"
      ]
     },
     "execution_count": 170,
     "metadata": {},
     "output_type": "execute_result"
    }
   ],
   "source": [
    "np.mean(arr)"
   ]
  },
  {
   "cell_type": "code",
   "execution_count": 171,
   "metadata": {},
   "outputs": [
    {
     "data": {
      "text/plain": [
       "2.570273558433771"
      ]
     },
     "execution_count": 171,
     "metadata": {},
     "output_type": "execute_result"
    }
   ],
   "source": [
    "arr.sum()"
   ]
  },
  {
   "cell_type": "code",
   "execution_count": 172,
   "metadata": {},
   "outputs": [
    {
     "data": {
      "text/plain": [
       "2.570273558433771"
      ]
     },
     "execution_count": 172,
     "metadata": {},
     "output_type": "execute_result"
    }
   ],
   "source": [
    "np.sum(arr)"
   ]
  },
  {
   "cell_type": "code",
   "execution_count": 174,
   "metadata": {},
   "outputs": [
    {
     "data": {
      "text/plain": [
       "array([ 1.13255945,  0.7059562 ,  2.37750516, -1.64574725])"
      ]
     },
     "execution_count": 174,
     "metadata": {},
     "output_type": "execute_result"
    }
   ],
   "source": [
    "arr.sum(axis=0) #以直線為一組"
   ]
  },
  {
   "cell_type": "code",
   "execution_count": 175,
   "metadata": {},
   "outputs": [
    {
     "data": {
      "text/plain": [
       "array([ 0.16429322,  2.79677214, -2.20571348,  0.18711038,  1.62781129])"
      ]
     },
     "execution_count": 175,
     "metadata": {},
     "output_type": "execute_result"
    }
   ],
   "source": [
    "arr.sum(axis=1) #以橫線為一組"
   ]
  },
  {
   "cell_type": "code",
   "execution_count": 177,
   "metadata": {},
   "outputs": [
    {
     "data": {
      "text/plain": [
       "array([ 0,  1,  3,  6, 10, 15, 21, 28])"
      ]
     },
     "execution_count": 177,
     "metadata": {},
     "output_type": "execute_result"
    }
   ],
   "source": [
    "#cumsum()累計\n",
    "arr = np.array([0, 1, 2, 3, 4, 5, 6, 7])\n",
    "arr.cumsum()"
   ]
  },
  {
   "cell_type": "code",
   "execution_count": 186,
   "metadata": {},
   "outputs": [
    {
     "data": {
      "application/javascript": [
       "/* Put everything inside the global mpl namespace */\n",
       "window.mpl = {};\n",
       "\n",
       "\n",
       "mpl.get_websocket_type = function() {\n",
       "    if (typeof(WebSocket) !== 'undefined') {\n",
       "        return WebSocket;\n",
       "    } else if (typeof(MozWebSocket) !== 'undefined') {\n",
       "        return MozWebSocket;\n",
       "    } else {\n",
       "        alert('Your browser does not have WebSocket support. ' +\n",
       "              'Please try Chrome, Safari or Firefox ≥ 6. ' +\n",
       "              'Firefox 4 and 5 are also supported but you ' +\n",
       "              'have to enable WebSockets in about:config.');\n",
       "    };\n",
       "}\n",
       "\n",
       "mpl.figure = function(figure_id, websocket, ondownload, parent_element) {\n",
       "    this.id = figure_id;\n",
       "\n",
       "    this.ws = websocket;\n",
       "\n",
       "    this.supports_binary = (this.ws.binaryType != undefined);\n",
       "\n",
       "    if (!this.supports_binary) {\n",
       "        var warnings = document.getElementById(\"mpl-warnings\");\n",
       "        if (warnings) {\n",
       "            warnings.style.display = 'block';\n",
       "            warnings.textContent = (\n",
       "                \"This browser does not support binary websocket messages. \" +\n",
       "                    \"Performance may be slow.\");\n",
       "        }\n",
       "    }\n",
       "\n",
       "    this.imageObj = new Image();\n",
       "\n",
       "    this.context = undefined;\n",
       "    this.message = undefined;\n",
       "    this.canvas = undefined;\n",
       "    this.rubberband_canvas = undefined;\n",
       "    this.rubberband_context = undefined;\n",
       "    this.format_dropdown = undefined;\n",
       "\n",
       "    this.image_mode = 'full';\n",
       "\n",
       "    this.root = $('<div/>');\n",
       "    this._root_extra_style(this.root)\n",
       "    this.root.attr('style', 'display: inline-block');\n",
       "\n",
       "    $(parent_element).append(this.root);\n",
       "\n",
       "    this._init_header(this);\n",
       "    this._init_canvas(this);\n",
       "    this._init_toolbar(this);\n",
       "\n",
       "    var fig = this;\n",
       "\n",
       "    this.waiting = false;\n",
       "\n",
       "    this.ws.onopen =  function () {\n",
       "            fig.send_message(\"supports_binary\", {value: fig.supports_binary});\n",
       "            fig.send_message(\"send_image_mode\", {});\n",
       "            if (mpl.ratio != 1) {\n",
       "                fig.send_message(\"set_dpi_ratio\", {'dpi_ratio': mpl.ratio});\n",
       "            }\n",
       "            fig.send_message(\"refresh\", {});\n",
       "        }\n",
       "\n",
       "    this.imageObj.onload = function() {\n",
       "            if (fig.image_mode == 'full') {\n",
       "                // Full images could contain transparency (where diff images\n",
       "                // almost always do), so we need to clear the canvas so that\n",
       "                // there is no ghosting.\n",
       "                fig.context.clearRect(0, 0, fig.canvas.width, fig.canvas.height);\n",
       "            }\n",
       "            fig.context.drawImage(fig.imageObj, 0, 0);\n",
       "        };\n",
       "\n",
       "    this.imageObj.onunload = function() {\n",
       "        fig.ws.close();\n",
       "    }\n",
       "\n",
       "    this.ws.onmessage = this._make_on_message_function(this);\n",
       "\n",
       "    this.ondownload = ondownload;\n",
       "}\n",
       "\n",
       "mpl.figure.prototype._init_header = function() {\n",
       "    var titlebar = $(\n",
       "        '<div class=\"ui-dialog-titlebar ui-widget-header ui-corner-all ' +\n",
       "        'ui-helper-clearfix\"/>');\n",
       "    var titletext = $(\n",
       "        '<div class=\"ui-dialog-title\" style=\"width: 100%; ' +\n",
       "        'text-align: center; padding: 3px;\"/>');\n",
       "    titlebar.append(titletext)\n",
       "    this.root.append(titlebar);\n",
       "    this.header = titletext[0];\n",
       "}\n",
       "\n",
       "\n",
       "\n",
       "mpl.figure.prototype._canvas_extra_style = function(canvas_div) {\n",
       "\n",
       "}\n",
       "\n",
       "\n",
       "mpl.figure.prototype._root_extra_style = function(canvas_div) {\n",
       "\n",
       "}\n",
       "\n",
       "mpl.figure.prototype._init_canvas = function() {\n",
       "    var fig = this;\n",
       "\n",
       "    var canvas_div = $('<div/>');\n",
       "\n",
       "    canvas_div.attr('style', 'position: relative; clear: both; outline: 0');\n",
       "\n",
       "    function canvas_keyboard_event(event) {\n",
       "        return fig.key_event(event, event['data']);\n",
       "    }\n",
       "\n",
       "    canvas_div.keydown('key_press', canvas_keyboard_event);\n",
       "    canvas_div.keyup('key_release', canvas_keyboard_event);\n",
       "    this.canvas_div = canvas_div\n",
       "    this._canvas_extra_style(canvas_div)\n",
       "    this.root.append(canvas_div);\n",
       "\n",
       "    var canvas = $('<canvas/>');\n",
       "    canvas.addClass('mpl-canvas');\n",
       "    canvas.attr('style', \"left: 0; top: 0; z-index: 0; outline: 0\")\n",
       "\n",
       "    this.canvas = canvas[0];\n",
       "    this.context = canvas[0].getContext(\"2d\");\n",
       "\n",
       "    var backingStore = this.context.backingStorePixelRatio ||\n",
       "\tthis.context.webkitBackingStorePixelRatio ||\n",
       "\tthis.context.mozBackingStorePixelRatio ||\n",
       "\tthis.context.msBackingStorePixelRatio ||\n",
       "\tthis.context.oBackingStorePixelRatio ||\n",
       "\tthis.context.backingStorePixelRatio || 1;\n",
       "\n",
       "    mpl.ratio = (window.devicePixelRatio || 1) / backingStore;\n",
       "\n",
       "    var rubberband = $('<canvas/>');\n",
       "    rubberband.attr('style', \"position: absolute; left: 0; top: 0; z-index: 1;\")\n",
       "\n",
       "    var pass_mouse_events = true;\n",
       "\n",
       "    canvas_div.resizable({\n",
       "        start: function(event, ui) {\n",
       "            pass_mouse_events = false;\n",
       "        },\n",
       "        resize: function(event, ui) {\n",
       "            fig.request_resize(ui.size.width, ui.size.height);\n",
       "        },\n",
       "        stop: function(event, ui) {\n",
       "            pass_mouse_events = true;\n",
       "            fig.request_resize(ui.size.width, ui.size.height);\n",
       "        },\n",
       "    });\n",
       "\n",
       "    function mouse_event_fn(event) {\n",
       "        if (pass_mouse_events)\n",
       "            return fig.mouse_event(event, event['data']);\n",
       "    }\n",
       "\n",
       "    rubberband.mousedown('button_press', mouse_event_fn);\n",
       "    rubberband.mouseup('button_release', mouse_event_fn);\n",
       "    // Throttle sequential mouse events to 1 every 20ms.\n",
       "    rubberband.mousemove('motion_notify', mouse_event_fn);\n",
       "\n",
       "    rubberband.mouseenter('figure_enter', mouse_event_fn);\n",
       "    rubberband.mouseleave('figure_leave', mouse_event_fn);\n",
       "\n",
       "    canvas_div.on(\"wheel\", function (event) {\n",
       "        event = event.originalEvent;\n",
       "        event['data'] = 'scroll'\n",
       "        if (event.deltaY < 0) {\n",
       "            event.step = 1;\n",
       "        } else {\n",
       "            event.step = -1;\n",
       "        }\n",
       "        mouse_event_fn(event);\n",
       "    });\n",
       "\n",
       "    canvas_div.append(canvas);\n",
       "    canvas_div.append(rubberband);\n",
       "\n",
       "    this.rubberband = rubberband;\n",
       "    this.rubberband_canvas = rubberband[0];\n",
       "    this.rubberband_context = rubberband[0].getContext(\"2d\");\n",
       "    this.rubberband_context.strokeStyle = \"#000000\";\n",
       "\n",
       "    this._resize_canvas = function(width, height) {\n",
       "        // Keep the size of the canvas, canvas container, and rubber band\n",
       "        // canvas in synch.\n",
       "        canvas_div.css('width', width)\n",
       "        canvas_div.css('height', height)\n",
       "\n",
       "        canvas.attr('width', width * mpl.ratio);\n",
       "        canvas.attr('height', height * mpl.ratio);\n",
       "        canvas.attr('style', 'width: ' + width + 'px; height: ' + height + 'px;');\n",
       "\n",
       "        rubberband.attr('width', width);\n",
       "        rubberband.attr('height', height);\n",
       "    }\n",
       "\n",
       "    // Set the figure to an initial 600x600px, this will subsequently be updated\n",
       "    // upon first draw.\n",
       "    this._resize_canvas(600, 600);\n",
       "\n",
       "    // Disable right mouse context menu.\n",
       "    $(this.rubberband_canvas).bind(\"contextmenu\",function(e){\n",
       "        return false;\n",
       "    });\n",
       "\n",
       "    function set_focus () {\n",
       "        canvas.focus();\n",
       "        canvas_div.focus();\n",
       "    }\n",
       "\n",
       "    window.setTimeout(set_focus, 100);\n",
       "}\n",
       "\n",
       "mpl.figure.prototype._init_toolbar = function() {\n",
       "    var fig = this;\n",
       "\n",
       "    var nav_element = $('<div/>');\n",
       "    nav_element.attr('style', 'width: 100%');\n",
       "    this.root.append(nav_element);\n",
       "\n",
       "    // Define a callback function for later on.\n",
       "    function toolbar_event(event) {\n",
       "        return fig.toolbar_button_onclick(event['data']);\n",
       "    }\n",
       "    function toolbar_mouse_event(event) {\n",
       "        return fig.toolbar_button_onmouseover(event['data']);\n",
       "    }\n",
       "\n",
       "    for(var toolbar_ind in mpl.toolbar_items) {\n",
       "        var name = mpl.toolbar_items[toolbar_ind][0];\n",
       "        var tooltip = mpl.toolbar_items[toolbar_ind][1];\n",
       "        var image = mpl.toolbar_items[toolbar_ind][2];\n",
       "        var method_name = mpl.toolbar_items[toolbar_ind][3];\n",
       "\n",
       "        if (!name) {\n",
       "            // put a spacer in here.\n",
       "            continue;\n",
       "        }\n",
       "        var button = $('<button/>');\n",
       "        button.addClass('ui-button ui-widget ui-state-default ui-corner-all ' +\n",
       "                        'ui-button-icon-only');\n",
       "        button.attr('role', 'button');\n",
       "        button.attr('aria-disabled', 'false');\n",
       "        button.click(method_name, toolbar_event);\n",
       "        button.mouseover(tooltip, toolbar_mouse_event);\n",
       "\n",
       "        var icon_img = $('<span/>');\n",
       "        icon_img.addClass('ui-button-icon-primary ui-icon');\n",
       "        icon_img.addClass(image);\n",
       "        icon_img.addClass('ui-corner-all');\n",
       "\n",
       "        var tooltip_span = $('<span/>');\n",
       "        tooltip_span.addClass('ui-button-text');\n",
       "        tooltip_span.html(tooltip);\n",
       "\n",
       "        button.append(icon_img);\n",
       "        button.append(tooltip_span);\n",
       "\n",
       "        nav_element.append(button);\n",
       "    }\n",
       "\n",
       "    var fmt_picker_span = $('<span/>');\n",
       "\n",
       "    var fmt_picker = $('<select/>');\n",
       "    fmt_picker.addClass('mpl-toolbar-option ui-widget ui-widget-content');\n",
       "    fmt_picker_span.append(fmt_picker);\n",
       "    nav_element.append(fmt_picker_span);\n",
       "    this.format_dropdown = fmt_picker[0];\n",
       "\n",
       "    for (var ind in mpl.extensions) {\n",
       "        var fmt = mpl.extensions[ind];\n",
       "        var option = $(\n",
       "            '<option/>', {selected: fmt === mpl.default_extension}).html(fmt);\n",
       "        fmt_picker.append(option);\n",
       "    }\n",
       "\n",
       "    // Add hover states to the ui-buttons\n",
       "    $( \".ui-button\" ).hover(\n",
       "        function() { $(this).addClass(\"ui-state-hover\");},\n",
       "        function() { $(this).removeClass(\"ui-state-hover\");}\n",
       "    );\n",
       "\n",
       "    var status_bar = $('<span class=\"mpl-message\"/>');\n",
       "    nav_element.append(status_bar);\n",
       "    this.message = status_bar[0];\n",
       "}\n",
       "\n",
       "mpl.figure.prototype.request_resize = function(x_pixels, y_pixels) {\n",
       "    // Request matplotlib to resize the figure. Matplotlib will then trigger a resize in the client,\n",
       "    // which will in turn request a refresh of the image.\n",
       "    this.send_message('resize', {'width': x_pixels, 'height': y_pixels});\n",
       "}\n",
       "\n",
       "mpl.figure.prototype.send_message = function(type, properties) {\n",
       "    properties['type'] = type;\n",
       "    properties['figure_id'] = this.id;\n",
       "    this.ws.send(JSON.stringify(properties));\n",
       "}\n",
       "\n",
       "mpl.figure.prototype.send_draw_message = function() {\n",
       "    if (!this.waiting) {\n",
       "        this.waiting = true;\n",
       "        this.ws.send(JSON.stringify({type: \"draw\", figure_id: this.id}));\n",
       "    }\n",
       "}\n",
       "\n",
       "\n",
       "mpl.figure.prototype.handle_save = function(fig, msg) {\n",
       "    var format_dropdown = fig.format_dropdown;\n",
       "    var format = format_dropdown.options[format_dropdown.selectedIndex].value;\n",
       "    fig.ondownload(fig, format);\n",
       "}\n",
       "\n",
       "\n",
       "mpl.figure.prototype.handle_resize = function(fig, msg) {\n",
       "    var size = msg['size'];\n",
       "    if (size[0] != fig.canvas.width || size[1] != fig.canvas.height) {\n",
       "        fig._resize_canvas(size[0], size[1]);\n",
       "        fig.send_message(\"refresh\", {});\n",
       "    };\n",
       "}\n",
       "\n",
       "mpl.figure.prototype.handle_rubberband = function(fig, msg) {\n",
       "    var x0 = msg['x0'] / mpl.ratio;\n",
       "    var y0 = (fig.canvas.height - msg['y0']) / mpl.ratio;\n",
       "    var x1 = msg['x1'] / mpl.ratio;\n",
       "    var y1 = (fig.canvas.height - msg['y1']) / mpl.ratio;\n",
       "    x0 = Math.floor(x0) + 0.5;\n",
       "    y0 = Math.floor(y0) + 0.5;\n",
       "    x1 = Math.floor(x1) + 0.5;\n",
       "    y1 = Math.floor(y1) + 0.5;\n",
       "    var min_x = Math.min(x0, x1);\n",
       "    var min_y = Math.min(y0, y1);\n",
       "    var width = Math.abs(x1 - x0);\n",
       "    var height = Math.abs(y1 - y0);\n",
       "\n",
       "    fig.rubberband_context.clearRect(\n",
       "        0, 0, fig.canvas.width / mpl.ratio, fig.canvas.height / mpl.ratio);\n",
       "\n",
       "    fig.rubberband_context.strokeRect(min_x, min_y, width, height);\n",
       "}\n",
       "\n",
       "mpl.figure.prototype.handle_figure_label = function(fig, msg) {\n",
       "    // Updates the figure title.\n",
       "    fig.header.textContent = msg['label'];\n",
       "}\n",
       "\n",
       "mpl.figure.prototype.handle_cursor = function(fig, msg) {\n",
       "    var cursor = msg['cursor'];\n",
       "    switch(cursor)\n",
       "    {\n",
       "    case 0:\n",
       "        cursor = 'pointer';\n",
       "        break;\n",
       "    case 1:\n",
       "        cursor = 'default';\n",
       "        break;\n",
       "    case 2:\n",
       "        cursor = 'crosshair';\n",
       "        break;\n",
       "    case 3:\n",
       "        cursor = 'move';\n",
       "        break;\n",
       "    }\n",
       "    fig.rubberband_canvas.style.cursor = cursor;\n",
       "}\n",
       "\n",
       "mpl.figure.prototype.handle_message = function(fig, msg) {\n",
       "    fig.message.textContent = msg['message'];\n",
       "}\n",
       "\n",
       "mpl.figure.prototype.handle_draw = function(fig, msg) {\n",
       "    // Request the server to send over a new figure.\n",
       "    fig.send_draw_message();\n",
       "}\n",
       "\n",
       "mpl.figure.prototype.handle_image_mode = function(fig, msg) {\n",
       "    fig.image_mode = msg['mode'];\n",
       "}\n",
       "\n",
       "mpl.figure.prototype.updated_canvas_event = function() {\n",
       "    // Called whenever the canvas gets updated.\n",
       "    this.send_message(\"ack\", {});\n",
       "}\n",
       "\n",
       "// A function to construct a web socket function for onmessage handling.\n",
       "// Called in the figure constructor.\n",
       "mpl.figure.prototype._make_on_message_function = function(fig) {\n",
       "    return function socket_on_message(evt) {\n",
       "        if (evt.data instanceof Blob) {\n",
       "            /* FIXME: We get \"Resource interpreted as Image but\n",
       "             * transferred with MIME type text/plain:\" errors on\n",
       "             * Chrome.  But how to set the MIME type?  It doesn't seem\n",
       "             * to be part of the websocket stream */\n",
       "            evt.data.type = \"image/png\";\n",
       "\n",
       "            /* Free the memory for the previous frames */\n",
       "            if (fig.imageObj.src) {\n",
       "                (window.URL || window.webkitURL).revokeObjectURL(\n",
       "                    fig.imageObj.src);\n",
       "            }\n",
       "\n",
       "            fig.imageObj.src = (window.URL || window.webkitURL).createObjectURL(\n",
       "                evt.data);\n",
       "            fig.updated_canvas_event();\n",
       "            fig.waiting = false;\n",
       "            return;\n",
       "        }\n",
       "        else if (typeof evt.data === 'string' && evt.data.slice(0, 21) == \"data:image/png;base64\") {\n",
       "            fig.imageObj.src = evt.data;\n",
       "            fig.updated_canvas_event();\n",
       "            fig.waiting = false;\n",
       "            return;\n",
       "        }\n",
       "\n",
       "        var msg = JSON.parse(evt.data);\n",
       "        var msg_type = msg['type'];\n",
       "\n",
       "        // Call the  \"handle_{type}\" callback, which takes\n",
       "        // the figure and JSON message as its only arguments.\n",
       "        try {\n",
       "            var callback = fig[\"handle_\" + msg_type];\n",
       "        } catch (e) {\n",
       "            console.log(\"No handler for the '\" + msg_type + \"' message type: \", msg);\n",
       "            return;\n",
       "        }\n",
       "\n",
       "        if (callback) {\n",
       "            try {\n",
       "                // console.log(\"Handling '\" + msg_type + \"' message: \", msg);\n",
       "                callback(fig, msg);\n",
       "            } catch (e) {\n",
       "                console.log(\"Exception inside the 'handler_\" + msg_type + \"' callback:\", e, e.stack, msg);\n",
       "            }\n",
       "        }\n",
       "    };\n",
       "}\n",
       "\n",
       "// from http://stackoverflow.com/questions/1114465/getting-mouse-location-in-canvas\n",
       "mpl.findpos = function(e) {\n",
       "    //this section is from http://www.quirksmode.org/js/events_properties.html\n",
       "    var targ;\n",
       "    if (!e)\n",
       "        e = window.event;\n",
       "    if (e.target)\n",
       "        targ = e.target;\n",
       "    else if (e.srcElement)\n",
       "        targ = e.srcElement;\n",
       "    if (targ.nodeType == 3) // defeat Safari bug\n",
       "        targ = targ.parentNode;\n",
       "\n",
       "    // jQuery normalizes the pageX and pageY\n",
       "    // pageX,Y are the mouse positions relative to the document\n",
       "    // offset() returns the position of the element relative to the document\n",
       "    var x = e.pageX - $(targ).offset().left;\n",
       "    var y = e.pageY - $(targ).offset().top;\n",
       "\n",
       "    return {\"x\": x, \"y\": y};\n",
       "};\n",
       "\n",
       "/*\n",
       " * return a copy of an object with only non-object keys\n",
       " * we need this to avoid circular references\n",
       " * http://stackoverflow.com/a/24161582/3208463\n",
       " */\n",
       "function simpleKeys (original) {\n",
       "  return Object.keys(original).reduce(function (obj, key) {\n",
       "    if (typeof original[key] !== 'object')\n",
       "        obj[key] = original[key]\n",
       "    return obj;\n",
       "  }, {});\n",
       "}\n",
       "\n",
       "mpl.figure.prototype.mouse_event = function(event, name) {\n",
       "    var canvas_pos = mpl.findpos(event)\n",
       "\n",
       "    if (name === 'button_press')\n",
       "    {\n",
       "        this.canvas.focus();\n",
       "        this.canvas_div.focus();\n",
       "    }\n",
       "\n",
       "    var x = canvas_pos.x * mpl.ratio;\n",
       "    var y = canvas_pos.y * mpl.ratio;\n",
       "\n",
       "    this.send_message(name, {x: x, y: y, button: event.button,\n",
       "                             step: event.step,\n",
       "                             guiEvent: simpleKeys(event)});\n",
       "\n",
       "    /* This prevents the web browser from automatically changing to\n",
       "     * the text insertion cursor when the button is pressed.  We want\n",
       "     * to control all of the cursor setting manually through the\n",
       "     * 'cursor' event from matplotlib */\n",
       "    event.preventDefault();\n",
       "    return false;\n",
       "}\n",
       "\n",
       "mpl.figure.prototype._key_event_extra = function(event, name) {\n",
       "    // Handle any extra behaviour associated with a key event\n",
       "}\n",
       "\n",
       "mpl.figure.prototype.key_event = function(event, name) {\n",
       "\n",
       "    // Prevent repeat events\n",
       "    if (name == 'key_press')\n",
       "    {\n",
       "        if (event.which === this._key)\n",
       "            return;\n",
       "        else\n",
       "            this._key = event.which;\n",
       "    }\n",
       "    if (name == 'key_release')\n",
       "        this._key = null;\n",
       "\n",
       "    var value = '';\n",
       "    if (event.ctrlKey && event.which != 17)\n",
       "        value += \"ctrl+\";\n",
       "    if (event.altKey && event.which != 18)\n",
       "        value += \"alt+\";\n",
       "    if (event.shiftKey && event.which != 16)\n",
       "        value += \"shift+\";\n",
       "\n",
       "    value += 'k';\n",
       "    value += event.which.toString();\n",
       "\n",
       "    this._key_event_extra(event, name);\n",
       "\n",
       "    this.send_message(name, {key: value,\n",
       "                             guiEvent: simpleKeys(event)});\n",
       "    return false;\n",
       "}\n",
       "\n",
       "mpl.figure.prototype.toolbar_button_onclick = function(name) {\n",
       "    if (name == 'download') {\n",
       "        this.handle_save(this, null);\n",
       "    } else {\n",
       "        this.send_message(\"toolbar_button\", {name: name});\n",
       "    }\n",
       "};\n",
       "\n",
       "mpl.figure.prototype.toolbar_button_onmouseover = function(tooltip) {\n",
       "    this.message.textContent = tooltip;\n",
       "};\n",
       "mpl.toolbar_items = [[\"Home\", \"Reset original view\", \"fa fa-home icon-home\", \"home\"], [\"Back\", \"Back to previous view\", \"fa fa-arrow-left icon-arrow-left\", \"back\"], [\"Forward\", \"Forward to next view\", \"fa fa-arrow-right icon-arrow-right\", \"forward\"], [\"\", \"\", \"\", \"\"], [\"Pan\", \"Pan axes with left mouse, zoom with right\", \"fa fa-arrows icon-move\", \"pan\"], [\"Zoom\", \"Zoom to rectangle\", \"fa fa-square-o icon-check-empty\", \"zoom\"], [\"\", \"\", \"\", \"\"], [\"Download\", \"Download plot\", \"fa fa-floppy-o icon-save\", \"download\"]];\n",
       "\n",
       "mpl.extensions = [\"eps\", \"jpeg\", \"pdf\", \"png\", \"ps\", \"raw\", \"svg\", \"tif\"];\n",
       "\n",
       "mpl.default_extension = \"png\";var comm_websocket_adapter = function(comm) {\n",
       "    // Create a \"websocket\"-like object which calls the given IPython comm\n",
       "    // object with the appropriate methods. Currently this is a non binary\n",
       "    // socket, so there is still some room for performance tuning.\n",
       "    var ws = {};\n",
       "\n",
       "    ws.close = function() {\n",
       "        comm.close()\n",
       "    };\n",
       "    ws.send = function(m) {\n",
       "        //console.log('sending', m);\n",
       "        comm.send(m);\n",
       "    };\n",
       "    // Register the callback with on_msg.\n",
       "    comm.on_msg(function(msg) {\n",
       "        //console.log('receiving', msg['content']['data'], msg);\n",
       "        // Pass the mpl event to the overridden (by mpl) onmessage function.\n",
       "        ws.onmessage(msg['content']['data'])\n",
       "    });\n",
       "    return ws;\n",
       "}\n",
       "\n",
       "mpl.mpl_figure_comm = function(comm, msg) {\n",
       "    // This is the function which gets called when the mpl process\n",
       "    // starts-up an IPython Comm through the \"matplotlib\" channel.\n",
       "\n",
       "    var id = msg.content.data.id;\n",
       "    // Get hold of the div created by the display call when the Comm\n",
       "    // socket was opened in Python.\n",
       "    var element = $(\"#\" + id);\n",
       "    var ws_proxy = comm_websocket_adapter(comm)\n",
       "\n",
       "    function ondownload(figure, format) {\n",
       "        window.open(figure.imageObj.src);\n",
       "    }\n",
       "\n",
       "    var fig = new mpl.figure(id, ws_proxy,\n",
       "                           ondownload,\n",
       "                           element.get(0));\n",
       "\n",
       "    // Call onopen now - mpl needs it, as it is assuming we've passed it a real\n",
       "    // web socket which is closed, not our websocket->open comm proxy.\n",
       "    ws_proxy.onopen();\n",
       "\n",
       "    fig.parent_element = element.get(0);\n",
       "    fig.cell_info = mpl.find_output_cell(\"<div id='\" + id + \"'></div>\");\n",
       "    if (!fig.cell_info) {\n",
       "        console.error(\"Failed to find cell for figure\", id, fig);\n",
       "        return;\n",
       "    }\n",
       "\n",
       "    var output_index = fig.cell_info[2]\n",
       "    var cell = fig.cell_info[0];\n",
       "\n",
       "};\n",
       "\n",
       "mpl.figure.prototype.handle_close = function(fig, msg) {\n",
       "    var width = fig.canvas.width/mpl.ratio\n",
       "    fig.root.unbind('remove')\n",
       "\n",
       "    // Update the output cell to use the data from the current canvas.\n",
       "    fig.push_to_output();\n",
       "    var dataURL = fig.canvas.toDataURL();\n",
       "    // Re-enable the keyboard manager in IPython - without this line, in FF,\n",
       "    // the notebook keyboard shortcuts fail.\n",
       "    IPython.keyboard_manager.enable()\n",
       "    $(fig.parent_element).html('<img src=\"' + dataURL + '\" width=\"' + width + '\">');\n",
       "    fig.close_ws(fig, msg);\n",
       "}\n",
       "\n",
       "mpl.figure.prototype.close_ws = function(fig, msg){\n",
       "    fig.send_message('closing', msg);\n",
       "    // fig.ws.close()\n",
       "}\n",
       "\n",
       "mpl.figure.prototype.push_to_output = function(remove_interactive) {\n",
       "    // Turn the data on the canvas into data in the output cell.\n",
       "    var width = this.canvas.width/mpl.ratio\n",
       "    var dataURL = this.canvas.toDataURL();\n",
       "    this.cell_info[1]['text/html'] = '<img src=\"' + dataURL + '\" width=\"' + width + '\">';\n",
       "}\n",
       "\n",
       "mpl.figure.prototype.updated_canvas_event = function() {\n",
       "    // Tell IPython that the notebook contents must change.\n",
       "    IPython.notebook.set_dirty(true);\n",
       "    this.send_message(\"ack\", {});\n",
       "    var fig = this;\n",
       "    // Wait a second, then push the new image to the DOM so\n",
       "    // that it is saved nicely (might be nice to debounce this).\n",
       "    setTimeout(function () { fig.push_to_output() }, 1000);\n",
       "}\n",
       "\n",
       "mpl.figure.prototype._init_toolbar = function() {\n",
       "    var fig = this;\n",
       "\n",
       "    var nav_element = $('<div/>');\n",
       "    nav_element.attr('style', 'width: 100%');\n",
       "    this.root.append(nav_element);\n",
       "\n",
       "    // Define a callback function for later on.\n",
       "    function toolbar_event(event) {\n",
       "        return fig.toolbar_button_onclick(event['data']);\n",
       "    }\n",
       "    function toolbar_mouse_event(event) {\n",
       "        return fig.toolbar_button_onmouseover(event['data']);\n",
       "    }\n",
       "\n",
       "    for(var toolbar_ind in mpl.toolbar_items){\n",
       "        var name = mpl.toolbar_items[toolbar_ind][0];\n",
       "        var tooltip = mpl.toolbar_items[toolbar_ind][1];\n",
       "        var image = mpl.toolbar_items[toolbar_ind][2];\n",
       "        var method_name = mpl.toolbar_items[toolbar_ind][3];\n",
       "\n",
       "        if (!name) { continue; };\n",
       "\n",
       "        var button = $('<button class=\"btn btn-default\" href=\"#\" title=\"' + name + '\"><i class=\"fa ' + image + ' fa-lg\"></i></button>');\n",
       "        button.click(method_name, toolbar_event);\n",
       "        button.mouseover(tooltip, toolbar_mouse_event);\n",
       "        nav_element.append(button);\n",
       "    }\n",
       "\n",
       "    // Add the status bar.\n",
       "    var status_bar = $('<span class=\"mpl-message\" style=\"text-align:right; float: right;\"/>');\n",
       "    nav_element.append(status_bar);\n",
       "    this.message = status_bar[0];\n",
       "\n",
       "    // Add the close button to the window.\n",
       "    var buttongrp = $('<div class=\"btn-group inline pull-right\"></div>');\n",
       "    var button = $('<button class=\"btn btn-mini btn-primary\" href=\"#\" title=\"Stop Interaction\"><i class=\"fa fa-power-off icon-remove icon-large\"></i></button>');\n",
       "    button.click(function (evt) { fig.handle_close(fig, {}); } );\n",
       "    button.mouseover('Stop Interaction', toolbar_mouse_event);\n",
       "    buttongrp.append(button);\n",
       "    var titlebar = this.root.find($('.ui-dialog-titlebar'));\n",
       "    titlebar.prepend(buttongrp);\n",
       "}\n",
       "\n",
       "mpl.figure.prototype._root_extra_style = function(el){\n",
       "    var fig = this\n",
       "    el.on(\"remove\", function(){\n",
       "\tfig.close_ws(fig, {});\n",
       "    });\n",
       "}\n",
       "\n",
       "mpl.figure.prototype._canvas_extra_style = function(el){\n",
       "    // this is important to make the div 'focusable\n",
       "    el.attr('tabindex', 0)\n",
       "    // reach out to IPython and tell the keyboard manager to turn it's self\n",
       "    // off when our div gets focus\n",
       "\n",
       "    // location in version 3\n",
       "    if (IPython.notebook.keyboard_manager) {\n",
       "        IPython.notebook.keyboard_manager.register_events(el);\n",
       "    }\n",
       "    else {\n",
       "        // location in version 2\n",
       "        IPython.keyboard_manager.register_events(el);\n",
       "    }\n",
       "\n",
       "}\n",
       "\n",
       "mpl.figure.prototype._key_event_extra = function(event, name) {\n",
       "    var manager = IPython.notebook.keyboard_manager;\n",
       "    if (!manager)\n",
       "        manager = IPython.keyboard_manager;\n",
       "\n",
       "    // Check for shift+enter\n",
       "    if (event.shiftKey && event.which == 13) {\n",
       "        this.canvas_div.blur();\n",
       "        event.shiftKey = false;\n",
       "        // Send a \"J\" for go to next cell\n",
       "        event.which = 74;\n",
       "        event.keyCode = 74;\n",
       "        manager.command_mode();\n",
       "        manager.handle_keydown(event);\n",
       "    }\n",
       "}\n",
       "\n",
       "mpl.figure.prototype.handle_save = function(fig, msg) {\n",
       "    fig.ondownload(fig, null);\n",
       "}\n",
       "\n",
       "\n",
       "mpl.find_output_cell = function(html_output) {\n",
       "    // Return the cell and output element which can be found *uniquely* in the notebook.\n",
       "    // Note - this is a bit hacky, but it is done because the \"notebook_saving.Notebook\"\n",
       "    // IPython event is triggered only after the cells have been serialised, which for\n",
       "    // our purposes (turning an active figure into a static one), is too late.\n",
       "    var cells = IPython.notebook.get_cells();\n",
       "    var ncells = cells.length;\n",
       "    for (var i=0; i<ncells; i++) {\n",
       "        var cell = cells[i];\n",
       "        if (cell.cell_type === 'code'){\n",
       "            for (var j=0; j<cell.output_area.outputs.length; j++) {\n",
       "                var data = cell.output_area.outputs[j];\n",
       "                if (data.data) {\n",
       "                    // IPython >= 3 moved mimebundle to data attribute of output\n",
       "                    data = data.data;\n",
       "                }\n",
       "                if (data['text/html'] == html_output) {\n",
       "                    return [cell, data, j];\n",
       "                }\n",
       "            }\n",
       "        }\n",
       "    }\n",
       "}\n",
       "\n",
       "// Register the function which deals with the matplotlib target/channel.\n",
       "// The kernel may be null if the page has been refreshed.\n",
       "if (IPython.notebook.kernel != null) {\n",
       "    IPython.notebook.kernel.comm_manager.register_target('matplotlib', mpl.mpl_figure_comm);\n",
       "}\n"
      ],
      "text/plain": [
       "<IPython.core.display.Javascript object>"
      ]
     },
     "metadata": {},
     "output_type": "display_data"
    },
    {
     "data": {
      "text/html": [
       "<img src=\"data:image/png;base64,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\" width=\"640\">"
      ],
      "text/plain": [
       "<IPython.core.display.HTML object>"
      ]
     },
     "metadata": {},
     "output_type": "display_data"
    },
    {
     "data": {
      "text/plain": [
       "[<matplotlib.lines.Line2D at 0x7fa7a9351c90>]"
      ]
     },
     "execution_count": 186,
     "metadata": {},
     "output_type": "execute_result"
    }
   ],
   "source": [
    "%matplotlib notebook\n",
    "import numpy as np\n",
    "import matplotlib.pyplot as plt\n",
    "\n",
    "exerciseAmount = np.random.rand(1000)\n",
    "exerciseAmount[:10]\n",
    "cumsum = exerciseAmount.cumsum()\n",
    "plt.plot(cumsum[:100])"
   ]
  },
  {
   "cell_type": "code",
   "execution_count": 188,
   "metadata": {},
   "outputs": [
    {
     "data": {
      "application/javascript": [
       "/* Put everything inside the global mpl namespace */\n",
       "window.mpl = {};\n",
       "\n",
       "\n",
       "mpl.get_websocket_type = function() {\n",
       "    if (typeof(WebSocket) !== 'undefined') {\n",
       "        return WebSocket;\n",
       "    } else if (typeof(MozWebSocket) !== 'undefined') {\n",
       "        return MozWebSocket;\n",
       "    } else {\n",
       "        alert('Your browser does not have WebSocket support. ' +\n",
       "              'Please try Chrome, Safari or Firefox ≥ 6. ' +\n",
       "              'Firefox 4 and 5 are also supported but you ' +\n",
       "              'have to enable WebSockets in about:config.');\n",
       "    };\n",
       "}\n",
       "\n",
       "mpl.figure = function(figure_id, websocket, ondownload, parent_element) {\n",
       "    this.id = figure_id;\n",
       "\n",
       "    this.ws = websocket;\n",
       "\n",
       "    this.supports_binary = (this.ws.binaryType != undefined);\n",
       "\n",
       "    if (!this.supports_binary) {\n",
       "        var warnings = document.getElementById(\"mpl-warnings\");\n",
       "        if (warnings) {\n",
       "            warnings.style.display = 'block';\n",
       "            warnings.textContent = (\n",
       "                \"This browser does not support binary websocket messages. \" +\n",
       "                    \"Performance may be slow.\");\n",
       "        }\n",
       "    }\n",
       "\n",
       "    this.imageObj = new Image();\n",
       "\n",
       "    this.context = undefined;\n",
       "    this.message = undefined;\n",
       "    this.canvas = undefined;\n",
       "    this.rubberband_canvas = undefined;\n",
       "    this.rubberband_context = undefined;\n",
       "    this.format_dropdown = undefined;\n",
       "\n",
       "    this.image_mode = 'full';\n",
       "\n",
       "    this.root = $('<div/>');\n",
       "    this._root_extra_style(this.root)\n",
       "    this.root.attr('style', 'display: inline-block');\n",
       "\n",
       "    $(parent_element).append(this.root);\n",
       "\n",
       "    this._init_header(this);\n",
       "    this._init_canvas(this);\n",
       "    this._init_toolbar(this);\n",
       "\n",
       "    var fig = this;\n",
       "\n",
       "    this.waiting = false;\n",
       "\n",
       "    this.ws.onopen =  function () {\n",
       "            fig.send_message(\"supports_binary\", {value: fig.supports_binary});\n",
       "            fig.send_message(\"send_image_mode\", {});\n",
       "            if (mpl.ratio != 1) {\n",
       "                fig.send_message(\"set_dpi_ratio\", {'dpi_ratio': mpl.ratio});\n",
       "            }\n",
       "            fig.send_message(\"refresh\", {});\n",
       "        }\n",
       "\n",
       "    this.imageObj.onload = function() {\n",
       "            if (fig.image_mode == 'full') {\n",
       "                // Full images could contain transparency (where diff images\n",
       "                // almost always do), so we need to clear the canvas so that\n",
       "                // there is no ghosting.\n",
       "                fig.context.clearRect(0, 0, fig.canvas.width, fig.canvas.height);\n",
       "            }\n",
       "            fig.context.drawImage(fig.imageObj, 0, 0);\n",
       "        };\n",
       "\n",
       "    this.imageObj.onunload = function() {\n",
       "        fig.ws.close();\n",
       "    }\n",
       "\n",
       "    this.ws.onmessage = this._make_on_message_function(this);\n",
       "\n",
       "    this.ondownload = ondownload;\n",
       "}\n",
       "\n",
       "mpl.figure.prototype._init_header = function() {\n",
       "    var titlebar = $(\n",
       "        '<div class=\"ui-dialog-titlebar ui-widget-header ui-corner-all ' +\n",
       "        'ui-helper-clearfix\"/>');\n",
       "    var titletext = $(\n",
       "        '<div class=\"ui-dialog-title\" style=\"width: 100%; ' +\n",
       "        'text-align: center; padding: 3px;\"/>');\n",
       "    titlebar.append(titletext)\n",
       "    this.root.append(titlebar);\n",
       "    this.header = titletext[0];\n",
       "}\n",
       "\n",
       "\n",
       "\n",
       "mpl.figure.prototype._canvas_extra_style = function(canvas_div) {\n",
       "\n",
       "}\n",
       "\n",
       "\n",
       "mpl.figure.prototype._root_extra_style = function(canvas_div) {\n",
       "\n",
       "}\n",
       "\n",
       "mpl.figure.prototype._init_canvas = function() {\n",
       "    var fig = this;\n",
       "\n",
       "    var canvas_div = $('<div/>');\n",
       "\n",
       "    canvas_div.attr('style', 'position: relative; clear: both; outline: 0');\n",
       "\n",
       "    function canvas_keyboard_event(event) {\n",
       "        return fig.key_event(event, event['data']);\n",
       "    }\n",
       "\n",
       "    canvas_div.keydown('key_press', canvas_keyboard_event);\n",
       "    canvas_div.keyup('key_release', canvas_keyboard_event);\n",
       "    this.canvas_div = canvas_div\n",
       "    this._canvas_extra_style(canvas_div)\n",
       "    this.root.append(canvas_div);\n",
       "\n",
       "    var canvas = $('<canvas/>');\n",
       "    canvas.addClass('mpl-canvas');\n",
       "    canvas.attr('style', \"left: 0; top: 0; z-index: 0; outline: 0\")\n",
       "\n",
       "    this.canvas = canvas[0];\n",
       "    this.context = canvas[0].getContext(\"2d\");\n",
       "\n",
       "    var backingStore = this.context.backingStorePixelRatio ||\n",
       "\tthis.context.webkitBackingStorePixelRatio ||\n",
       "\tthis.context.mozBackingStorePixelRatio ||\n",
       "\tthis.context.msBackingStorePixelRatio ||\n",
       "\tthis.context.oBackingStorePixelRatio ||\n",
       "\tthis.context.backingStorePixelRatio || 1;\n",
       "\n",
       "    mpl.ratio = (window.devicePixelRatio || 1) / backingStore;\n",
       "\n",
       "    var rubberband = $('<canvas/>');\n",
       "    rubberband.attr('style', \"position: absolute; left: 0; top: 0; z-index: 1;\")\n",
       "\n",
       "    var pass_mouse_events = true;\n",
       "\n",
       "    canvas_div.resizable({\n",
       "        start: function(event, ui) {\n",
       "            pass_mouse_events = false;\n",
       "        },\n",
       "        resize: function(event, ui) {\n",
       "            fig.request_resize(ui.size.width, ui.size.height);\n",
       "        },\n",
       "        stop: function(event, ui) {\n",
       "            pass_mouse_events = true;\n",
       "            fig.request_resize(ui.size.width, ui.size.height);\n",
       "        },\n",
       "    });\n",
       "\n",
       "    function mouse_event_fn(event) {\n",
       "        if (pass_mouse_events)\n",
       "            return fig.mouse_event(event, event['data']);\n",
       "    }\n",
       "\n",
       "    rubberband.mousedown('button_press', mouse_event_fn);\n",
       "    rubberband.mouseup('button_release', mouse_event_fn);\n",
       "    // Throttle sequential mouse events to 1 every 20ms.\n",
       "    rubberband.mousemove('motion_notify', mouse_event_fn);\n",
       "\n",
       "    rubberband.mouseenter('figure_enter', mouse_event_fn);\n",
       "    rubberband.mouseleave('figure_leave', mouse_event_fn);\n",
       "\n",
       "    canvas_div.on(\"wheel\", function (event) {\n",
       "        event = event.originalEvent;\n",
       "        event['data'] = 'scroll'\n",
       "        if (event.deltaY < 0) {\n",
       "            event.step = 1;\n",
       "        } else {\n",
       "            event.step = -1;\n",
       "        }\n",
       "        mouse_event_fn(event);\n",
       "    });\n",
       "\n",
       "    canvas_div.append(canvas);\n",
       "    canvas_div.append(rubberband);\n",
       "\n",
       "    this.rubberband = rubberband;\n",
       "    this.rubberband_canvas = rubberband[0];\n",
       "    this.rubberband_context = rubberband[0].getContext(\"2d\");\n",
       "    this.rubberband_context.strokeStyle = \"#000000\";\n",
       "\n",
       "    this._resize_canvas = function(width, height) {\n",
       "        // Keep the size of the canvas, canvas container, and rubber band\n",
       "        // canvas in synch.\n",
       "        canvas_div.css('width', width)\n",
       "        canvas_div.css('height', height)\n",
       "\n",
       "        canvas.attr('width', width * mpl.ratio);\n",
       "        canvas.attr('height', height * mpl.ratio);\n",
       "        canvas.attr('style', 'width: ' + width + 'px; height: ' + height + 'px;');\n",
       "\n",
       "        rubberband.attr('width', width);\n",
       "        rubberband.attr('height', height);\n",
       "    }\n",
       "\n",
       "    // Set the figure to an initial 600x600px, this will subsequently be updated\n",
       "    // upon first draw.\n",
       "    this._resize_canvas(600, 600);\n",
       "\n",
       "    // Disable right mouse context menu.\n",
       "    $(this.rubberband_canvas).bind(\"contextmenu\",function(e){\n",
       "        return false;\n",
       "    });\n",
       "\n",
       "    function set_focus () {\n",
       "        canvas.focus();\n",
       "        canvas_div.focus();\n",
       "    }\n",
       "\n",
       "    window.setTimeout(set_focus, 100);\n",
       "}\n",
       "\n",
       "mpl.figure.prototype._init_toolbar = function() {\n",
       "    var fig = this;\n",
       "\n",
       "    var nav_element = $('<div/>');\n",
       "    nav_element.attr('style', 'width: 100%');\n",
       "    this.root.append(nav_element);\n",
       "\n",
       "    // Define a callback function for later on.\n",
       "    function toolbar_event(event) {\n",
       "        return fig.toolbar_button_onclick(event['data']);\n",
       "    }\n",
       "    function toolbar_mouse_event(event) {\n",
       "        return fig.toolbar_button_onmouseover(event['data']);\n",
       "    }\n",
       "\n",
       "    for(var toolbar_ind in mpl.toolbar_items) {\n",
       "        var name = mpl.toolbar_items[toolbar_ind][0];\n",
       "        var tooltip = mpl.toolbar_items[toolbar_ind][1];\n",
       "        var image = mpl.toolbar_items[toolbar_ind][2];\n",
       "        var method_name = mpl.toolbar_items[toolbar_ind][3];\n",
       "\n",
       "        if (!name) {\n",
       "            // put a spacer in here.\n",
       "            continue;\n",
       "        }\n",
       "        var button = $('<button/>');\n",
       "        button.addClass('ui-button ui-widget ui-state-default ui-corner-all ' +\n",
       "                        'ui-button-icon-only');\n",
       "        button.attr('role', 'button');\n",
       "        button.attr('aria-disabled', 'false');\n",
       "        button.click(method_name, toolbar_event);\n",
       "        button.mouseover(tooltip, toolbar_mouse_event);\n",
       "\n",
       "        var icon_img = $('<span/>');\n",
       "        icon_img.addClass('ui-button-icon-primary ui-icon');\n",
       "        icon_img.addClass(image);\n",
       "        icon_img.addClass('ui-corner-all');\n",
       "\n",
       "        var tooltip_span = $('<span/>');\n",
       "        tooltip_span.addClass('ui-button-text');\n",
       "        tooltip_span.html(tooltip);\n",
       "\n",
       "        button.append(icon_img);\n",
       "        button.append(tooltip_span);\n",
       "\n",
       "        nav_element.append(button);\n",
       "    }\n",
       "\n",
       "    var fmt_picker_span = $('<span/>');\n",
       "\n",
       "    var fmt_picker = $('<select/>');\n",
       "    fmt_picker.addClass('mpl-toolbar-option ui-widget ui-widget-content');\n",
       "    fmt_picker_span.append(fmt_picker);\n",
       "    nav_element.append(fmt_picker_span);\n",
       "    this.format_dropdown = fmt_picker[0];\n",
       "\n",
       "    for (var ind in mpl.extensions) {\n",
       "        var fmt = mpl.extensions[ind];\n",
       "        var option = $(\n",
       "            '<option/>', {selected: fmt === mpl.default_extension}).html(fmt);\n",
       "        fmt_picker.append(option);\n",
       "    }\n",
       "\n",
       "    // Add hover states to the ui-buttons\n",
       "    $( \".ui-button\" ).hover(\n",
       "        function() { $(this).addClass(\"ui-state-hover\");},\n",
       "        function() { $(this).removeClass(\"ui-state-hover\");}\n",
       "    );\n",
       "\n",
       "    var status_bar = $('<span class=\"mpl-message\"/>');\n",
       "    nav_element.append(status_bar);\n",
       "    this.message = status_bar[0];\n",
       "}\n",
       "\n",
       "mpl.figure.prototype.request_resize = function(x_pixels, y_pixels) {\n",
       "    // Request matplotlib to resize the figure. Matplotlib will then trigger a resize in the client,\n",
       "    // which will in turn request a refresh of the image.\n",
       "    this.send_message('resize', {'width': x_pixels, 'height': y_pixels});\n",
       "}\n",
       "\n",
       "mpl.figure.prototype.send_message = function(type, properties) {\n",
       "    properties['type'] = type;\n",
       "    properties['figure_id'] = this.id;\n",
       "    this.ws.send(JSON.stringify(properties));\n",
       "}\n",
       "\n",
       "mpl.figure.prototype.send_draw_message = function() {\n",
       "    if (!this.waiting) {\n",
       "        this.waiting = true;\n",
       "        this.ws.send(JSON.stringify({type: \"draw\", figure_id: this.id}));\n",
       "    }\n",
       "}\n",
       "\n",
       "\n",
       "mpl.figure.prototype.handle_save = function(fig, msg) {\n",
       "    var format_dropdown = fig.format_dropdown;\n",
       "    var format = format_dropdown.options[format_dropdown.selectedIndex].value;\n",
       "    fig.ondownload(fig, format);\n",
       "}\n",
       "\n",
       "\n",
       "mpl.figure.prototype.handle_resize = function(fig, msg) {\n",
       "    var size = msg['size'];\n",
       "    if (size[0] != fig.canvas.width || size[1] != fig.canvas.height) {\n",
       "        fig._resize_canvas(size[0], size[1]);\n",
       "        fig.send_message(\"refresh\", {});\n",
       "    };\n",
       "}\n",
       "\n",
       "mpl.figure.prototype.handle_rubberband = function(fig, msg) {\n",
       "    var x0 = msg['x0'] / mpl.ratio;\n",
       "    var y0 = (fig.canvas.height - msg['y0']) / mpl.ratio;\n",
       "    var x1 = msg['x1'] / mpl.ratio;\n",
       "    var y1 = (fig.canvas.height - msg['y1']) / mpl.ratio;\n",
       "    x0 = Math.floor(x0) + 0.5;\n",
       "    y0 = Math.floor(y0) + 0.5;\n",
       "    x1 = Math.floor(x1) + 0.5;\n",
       "    y1 = Math.floor(y1) + 0.5;\n",
       "    var min_x = Math.min(x0, x1);\n",
       "    var min_y = Math.min(y0, y1);\n",
       "    var width = Math.abs(x1 - x0);\n",
       "    var height = Math.abs(y1 - y0);\n",
       "\n",
       "    fig.rubberband_context.clearRect(\n",
       "        0, 0, fig.canvas.width / mpl.ratio, fig.canvas.height / mpl.ratio);\n",
       "\n",
       "    fig.rubberband_context.strokeRect(min_x, min_y, width, height);\n",
       "}\n",
       "\n",
       "mpl.figure.prototype.handle_figure_label = function(fig, msg) {\n",
       "    // Updates the figure title.\n",
       "    fig.header.textContent = msg['label'];\n",
       "}\n",
       "\n",
       "mpl.figure.prototype.handle_cursor = function(fig, msg) {\n",
       "    var cursor = msg['cursor'];\n",
       "    switch(cursor)\n",
       "    {\n",
       "    case 0:\n",
       "        cursor = 'pointer';\n",
       "        break;\n",
       "    case 1:\n",
       "        cursor = 'default';\n",
       "        break;\n",
       "    case 2:\n",
       "        cursor = 'crosshair';\n",
       "        break;\n",
       "    case 3:\n",
       "        cursor = 'move';\n",
       "        break;\n",
       "    }\n",
       "    fig.rubberband_canvas.style.cursor = cursor;\n",
       "}\n",
       "\n",
       "mpl.figure.prototype.handle_message = function(fig, msg) {\n",
       "    fig.message.textContent = msg['message'];\n",
       "}\n",
       "\n",
       "mpl.figure.prototype.handle_draw = function(fig, msg) {\n",
       "    // Request the server to send over a new figure.\n",
       "    fig.send_draw_message();\n",
       "}\n",
       "\n",
       "mpl.figure.prototype.handle_image_mode = function(fig, msg) {\n",
       "    fig.image_mode = msg['mode'];\n",
       "}\n",
       "\n",
       "mpl.figure.prototype.updated_canvas_event = function() {\n",
       "    // Called whenever the canvas gets updated.\n",
       "    this.send_message(\"ack\", {});\n",
       "}\n",
       "\n",
       "// A function to construct a web socket function for onmessage handling.\n",
       "// Called in the figure constructor.\n",
       "mpl.figure.prototype._make_on_message_function = function(fig) {\n",
       "    return function socket_on_message(evt) {\n",
       "        if (evt.data instanceof Blob) {\n",
       "            /* FIXME: We get \"Resource interpreted as Image but\n",
       "             * transferred with MIME type text/plain:\" errors on\n",
       "             * Chrome.  But how to set the MIME type?  It doesn't seem\n",
       "             * to be part of the websocket stream */\n",
       "            evt.data.type = \"image/png\";\n",
       "\n",
       "            /* Free the memory for the previous frames */\n",
       "            if (fig.imageObj.src) {\n",
       "                (window.URL || window.webkitURL).revokeObjectURL(\n",
       "                    fig.imageObj.src);\n",
       "            }\n",
       "\n",
       "            fig.imageObj.src = (window.URL || window.webkitURL).createObjectURL(\n",
       "                evt.data);\n",
       "            fig.updated_canvas_event();\n",
       "            fig.waiting = false;\n",
       "            return;\n",
       "        }\n",
       "        else if (typeof evt.data === 'string' && evt.data.slice(0, 21) == \"data:image/png;base64\") {\n",
       "            fig.imageObj.src = evt.data;\n",
       "            fig.updated_canvas_event();\n",
       "            fig.waiting = false;\n",
       "            return;\n",
       "        }\n",
       "\n",
       "        var msg = JSON.parse(evt.data);\n",
       "        var msg_type = msg['type'];\n",
       "\n",
       "        // Call the  \"handle_{type}\" callback, which takes\n",
       "        // the figure and JSON message as its only arguments.\n",
       "        try {\n",
       "            var callback = fig[\"handle_\" + msg_type];\n",
       "        } catch (e) {\n",
       "            console.log(\"No handler for the '\" + msg_type + \"' message type: \", msg);\n",
       "            return;\n",
       "        }\n",
       "\n",
       "        if (callback) {\n",
       "            try {\n",
       "                // console.log(\"Handling '\" + msg_type + \"' message: \", msg);\n",
       "                callback(fig, msg);\n",
       "            } catch (e) {\n",
       "                console.log(\"Exception inside the 'handler_\" + msg_type + \"' callback:\", e, e.stack, msg);\n",
       "            }\n",
       "        }\n",
       "    };\n",
       "}\n",
       "\n",
       "// from http://stackoverflow.com/questions/1114465/getting-mouse-location-in-canvas\n",
       "mpl.findpos = function(e) {\n",
       "    //this section is from http://www.quirksmode.org/js/events_properties.html\n",
       "    var targ;\n",
       "    if (!e)\n",
       "        e = window.event;\n",
       "    if (e.target)\n",
       "        targ = e.target;\n",
       "    else if (e.srcElement)\n",
       "        targ = e.srcElement;\n",
       "    if (targ.nodeType == 3) // defeat Safari bug\n",
       "        targ = targ.parentNode;\n",
       "\n",
       "    // jQuery normalizes the pageX and pageY\n",
       "    // pageX,Y are the mouse positions relative to the document\n",
       "    // offset() returns the position of the element relative to the document\n",
       "    var x = e.pageX - $(targ).offset().left;\n",
       "    var y = e.pageY - $(targ).offset().top;\n",
       "\n",
       "    return {\"x\": x, \"y\": y};\n",
       "};\n",
       "\n",
       "/*\n",
       " * return a copy of an object with only non-object keys\n",
       " * we need this to avoid circular references\n",
       " * http://stackoverflow.com/a/24161582/3208463\n",
       " */\n",
       "function simpleKeys (original) {\n",
       "  return Object.keys(original).reduce(function (obj, key) {\n",
       "    if (typeof original[key] !== 'object')\n",
       "        obj[key] = original[key]\n",
       "    return obj;\n",
       "  }, {});\n",
       "}\n",
       "\n",
       "mpl.figure.prototype.mouse_event = function(event, name) {\n",
       "    var canvas_pos = mpl.findpos(event)\n",
       "\n",
       "    if (name === 'button_press')\n",
       "    {\n",
       "        this.canvas.focus();\n",
       "        this.canvas_div.focus();\n",
       "    }\n",
       "\n",
       "    var x = canvas_pos.x * mpl.ratio;\n",
       "    var y = canvas_pos.y * mpl.ratio;\n",
       "\n",
       "    this.send_message(name, {x: x, y: y, button: event.button,\n",
       "                             step: event.step,\n",
       "                             guiEvent: simpleKeys(event)});\n",
       "\n",
       "    /* This prevents the web browser from automatically changing to\n",
       "     * the text insertion cursor when the button is pressed.  We want\n",
       "     * to control all of the cursor setting manually through the\n",
       "     * 'cursor' event from matplotlib */\n",
       "    event.preventDefault();\n",
       "    return false;\n",
       "}\n",
       "\n",
       "mpl.figure.prototype._key_event_extra = function(event, name) {\n",
       "    // Handle any extra behaviour associated with a key event\n",
       "}\n",
       "\n",
       "mpl.figure.prototype.key_event = function(event, name) {\n",
       "\n",
       "    // Prevent repeat events\n",
       "    if (name == 'key_press')\n",
       "    {\n",
       "        if (event.which === this._key)\n",
       "            return;\n",
       "        else\n",
       "            this._key = event.which;\n",
       "    }\n",
       "    if (name == 'key_release')\n",
       "        this._key = null;\n",
       "\n",
       "    var value = '';\n",
       "    if (event.ctrlKey && event.which != 17)\n",
       "        value += \"ctrl+\";\n",
       "    if (event.altKey && event.which != 18)\n",
       "        value += \"alt+\";\n",
       "    if (event.shiftKey && event.which != 16)\n",
       "        value += \"shift+\";\n",
       "\n",
       "    value += 'k';\n",
       "    value += event.which.toString();\n",
       "\n",
       "    this._key_event_extra(event, name);\n",
       "\n",
       "    this.send_message(name, {key: value,\n",
       "                             guiEvent: simpleKeys(event)});\n",
       "    return false;\n",
       "}\n",
       "\n",
       "mpl.figure.prototype.toolbar_button_onclick = function(name) {\n",
       "    if (name == 'download') {\n",
       "        this.handle_save(this, null);\n",
       "    } else {\n",
       "        this.send_message(\"toolbar_button\", {name: name});\n",
       "    }\n",
       "};\n",
       "\n",
       "mpl.figure.prototype.toolbar_button_onmouseover = function(tooltip) {\n",
       "    this.message.textContent = tooltip;\n",
       "};\n",
       "mpl.toolbar_items = [[\"Home\", \"Reset original view\", \"fa fa-home icon-home\", \"home\"], [\"Back\", \"Back to previous view\", \"fa fa-arrow-left icon-arrow-left\", \"back\"], [\"Forward\", \"Forward to next view\", \"fa fa-arrow-right icon-arrow-right\", \"forward\"], [\"\", \"\", \"\", \"\"], [\"Pan\", \"Pan axes with left mouse, zoom with right\", \"fa fa-arrows icon-move\", \"pan\"], [\"Zoom\", \"Zoom to rectangle\", \"fa fa-square-o icon-check-empty\", \"zoom\"], [\"\", \"\", \"\", \"\"], [\"Download\", \"Download plot\", \"fa fa-floppy-o icon-save\", \"download\"]];\n",
       "\n",
       "mpl.extensions = [\"eps\", \"jpeg\", \"pdf\", \"png\", \"ps\", \"raw\", \"svg\", \"tif\"];\n",
       "\n",
       "mpl.default_extension = \"png\";var comm_websocket_adapter = function(comm) {\n",
       "    // Create a \"websocket\"-like object which calls the given IPython comm\n",
       "    // object with the appropriate methods. Currently this is a non binary\n",
       "    // socket, so there is still some room for performance tuning.\n",
       "    var ws = {};\n",
       "\n",
       "    ws.close = function() {\n",
       "        comm.close()\n",
       "    };\n",
       "    ws.send = function(m) {\n",
       "        //console.log('sending', m);\n",
       "        comm.send(m);\n",
       "    };\n",
       "    // Register the callback with on_msg.\n",
       "    comm.on_msg(function(msg) {\n",
       "        //console.log('receiving', msg['content']['data'], msg);\n",
       "        // Pass the mpl event to the overridden (by mpl) onmessage function.\n",
       "        ws.onmessage(msg['content']['data'])\n",
       "    });\n",
       "    return ws;\n",
       "}\n",
       "\n",
       "mpl.mpl_figure_comm = function(comm, msg) {\n",
       "    // This is the function which gets called when the mpl process\n",
       "    // starts-up an IPython Comm through the \"matplotlib\" channel.\n",
       "\n",
       "    var id = msg.content.data.id;\n",
       "    // Get hold of the div created by the display call when the Comm\n",
       "    // socket was opened in Python.\n",
       "    var element = $(\"#\" + id);\n",
       "    var ws_proxy = comm_websocket_adapter(comm)\n",
       "\n",
       "    function ondownload(figure, format) {\n",
       "        window.open(figure.imageObj.src);\n",
       "    }\n",
       "\n",
       "    var fig = new mpl.figure(id, ws_proxy,\n",
       "                           ondownload,\n",
       "                           element.get(0));\n",
       "\n",
       "    // Call onopen now - mpl needs it, as it is assuming we've passed it a real\n",
       "    // web socket which is closed, not our websocket->open comm proxy.\n",
       "    ws_proxy.onopen();\n",
       "\n",
       "    fig.parent_element = element.get(0);\n",
       "    fig.cell_info = mpl.find_output_cell(\"<div id='\" + id + \"'></div>\");\n",
       "    if (!fig.cell_info) {\n",
       "        console.error(\"Failed to find cell for figure\", id, fig);\n",
       "        return;\n",
       "    }\n",
       "\n",
       "    var output_index = fig.cell_info[2]\n",
       "    var cell = fig.cell_info[0];\n",
       "\n",
       "};\n",
       "\n",
       "mpl.figure.prototype.handle_close = function(fig, msg) {\n",
       "    var width = fig.canvas.width/mpl.ratio\n",
       "    fig.root.unbind('remove')\n",
       "\n",
       "    // Update the output cell to use the data from the current canvas.\n",
       "    fig.push_to_output();\n",
       "    var dataURL = fig.canvas.toDataURL();\n",
       "    // Re-enable the keyboard manager in IPython - without this line, in FF,\n",
       "    // the notebook keyboard shortcuts fail.\n",
       "    IPython.keyboard_manager.enable()\n",
       "    $(fig.parent_element).html('<img src=\"' + dataURL + '\" width=\"' + width + '\">');\n",
       "    fig.close_ws(fig, msg);\n",
       "}\n",
       "\n",
       "mpl.figure.prototype.close_ws = function(fig, msg){\n",
       "    fig.send_message('closing', msg);\n",
       "    // fig.ws.close()\n",
       "}\n",
       "\n",
       "mpl.figure.prototype.push_to_output = function(remove_interactive) {\n",
       "    // Turn the data on the canvas into data in the output cell.\n",
       "    var width = this.canvas.width/mpl.ratio\n",
       "    var dataURL = this.canvas.toDataURL();\n",
       "    this.cell_info[1]['text/html'] = '<img src=\"' + dataURL + '\" width=\"' + width + '\">';\n",
       "}\n",
       "\n",
       "mpl.figure.prototype.updated_canvas_event = function() {\n",
       "    // Tell IPython that the notebook contents must change.\n",
       "    IPython.notebook.set_dirty(true);\n",
       "    this.send_message(\"ack\", {});\n",
       "    var fig = this;\n",
       "    // Wait a second, then push the new image to the DOM so\n",
       "    // that it is saved nicely (might be nice to debounce this).\n",
       "    setTimeout(function () { fig.push_to_output() }, 1000);\n",
       "}\n",
       "\n",
       "mpl.figure.prototype._init_toolbar = function() {\n",
       "    var fig = this;\n",
       "\n",
       "    var nav_element = $('<div/>');\n",
       "    nav_element.attr('style', 'width: 100%');\n",
       "    this.root.append(nav_element);\n",
       "\n",
       "    // Define a callback function for later on.\n",
       "    function toolbar_event(event) {\n",
       "        return fig.toolbar_button_onclick(event['data']);\n",
       "    }\n",
       "    function toolbar_mouse_event(event) {\n",
       "        return fig.toolbar_button_onmouseover(event['data']);\n",
       "    }\n",
       "\n",
       "    for(var toolbar_ind in mpl.toolbar_items){\n",
       "        var name = mpl.toolbar_items[toolbar_ind][0];\n",
       "        var tooltip = mpl.toolbar_items[toolbar_ind][1];\n",
       "        var image = mpl.toolbar_items[toolbar_ind][2];\n",
       "        var method_name = mpl.toolbar_items[toolbar_ind][3];\n",
       "\n",
       "        if (!name) { continue; };\n",
       "\n",
       "        var button = $('<button class=\"btn btn-default\" href=\"#\" title=\"' + name + '\"><i class=\"fa ' + image + ' fa-lg\"></i></button>');\n",
       "        button.click(method_name, toolbar_event);\n",
       "        button.mouseover(tooltip, toolbar_mouse_event);\n",
       "        nav_element.append(button);\n",
       "    }\n",
       "\n",
       "    // Add the status bar.\n",
       "    var status_bar = $('<span class=\"mpl-message\" style=\"text-align:right; float: right;\"/>');\n",
       "    nav_element.append(status_bar);\n",
       "    this.message = status_bar[0];\n",
       "\n",
       "    // Add the close button to the window.\n",
       "    var buttongrp = $('<div class=\"btn-group inline pull-right\"></div>');\n",
       "    var button = $('<button class=\"btn btn-mini btn-primary\" href=\"#\" title=\"Stop Interaction\"><i class=\"fa fa-power-off icon-remove icon-large\"></i></button>');\n",
       "    button.click(function (evt) { fig.handle_close(fig, {}); } );\n",
       "    button.mouseover('Stop Interaction', toolbar_mouse_event);\n",
       "    buttongrp.append(button);\n",
       "    var titlebar = this.root.find($('.ui-dialog-titlebar'));\n",
       "    titlebar.prepend(buttongrp);\n",
       "}\n",
       "\n",
       "mpl.figure.prototype._root_extra_style = function(el){\n",
       "    var fig = this\n",
       "    el.on(\"remove\", function(){\n",
       "\tfig.close_ws(fig, {});\n",
       "    });\n",
       "}\n",
       "\n",
       "mpl.figure.prototype._canvas_extra_style = function(el){\n",
       "    // this is important to make the div 'focusable\n",
       "    el.attr('tabindex', 0)\n",
       "    // reach out to IPython and tell the keyboard manager to turn it's self\n",
       "    // off when our div gets focus\n",
       "\n",
       "    // location in version 3\n",
       "    if (IPython.notebook.keyboard_manager) {\n",
       "        IPython.notebook.keyboard_manager.register_events(el);\n",
       "    }\n",
       "    else {\n",
       "        // location in version 2\n",
       "        IPython.keyboard_manager.register_events(el);\n",
       "    }\n",
       "\n",
       "}\n",
       "\n",
       "mpl.figure.prototype._key_event_extra = function(event, name) {\n",
       "    var manager = IPython.notebook.keyboard_manager;\n",
       "    if (!manager)\n",
       "        manager = IPython.keyboard_manager;\n",
       "\n",
       "    // Check for shift+enter\n",
       "    if (event.shiftKey && event.which == 13) {\n",
       "        this.canvas_div.blur();\n",
       "        event.shiftKey = false;\n",
       "        // Send a \"J\" for go to next cell\n",
       "        event.which = 74;\n",
       "        event.keyCode = 74;\n",
       "        manager.command_mode();\n",
       "        manager.handle_keydown(event);\n",
       "    }\n",
       "}\n",
       "\n",
       "mpl.figure.prototype.handle_save = function(fig, msg) {\n",
       "    fig.ondownload(fig, null);\n",
       "}\n",
       "\n",
       "\n",
       "mpl.find_output_cell = function(html_output) {\n",
       "    // Return the cell and output element which can be found *uniquely* in the notebook.\n",
       "    // Note - this is a bit hacky, but it is done because the \"notebook_saving.Notebook\"\n",
       "    // IPython event is triggered only after the cells have been serialised, which for\n",
       "    // our purposes (turning an active figure into a static one), is too late.\n",
       "    var cells = IPython.notebook.get_cells();\n",
       "    var ncells = cells.length;\n",
       "    for (var i=0; i<ncells; i++) {\n",
       "        var cell = cells[i];\n",
       "        if (cell.cell_type === 'code'){\n",
       "            for (var j=0; j<cell.output_area.outputs.length; j++) {\n",
       "                var data = cell.output_area.outputs[j];\n",
       "                if (data.data) {\n",
       "                    // IPython >= 3 moved mimebundle to data attribute of output\n",
       "                    data = data.data;\n",
       "                }\n",
       "                if (data['text/html'] == html_output) {\n",
       "                    return [cell, data, j];\n",
       "                }\n",
       "            }\n",
       "        }\n",
       "    }\n",
       "}\n",
       "\n",
       "// Register the function which deals with the matplotlib target/channel.\n",
       "// The kernel may be null if the page has been refreshed.\n",
       "if (IPython.notebook.kernel != null) {\n",
       "    IPython.notebook.kernel.comm_manager.register_target('matplotlib', mpl.mpl_figure_comm);\n",
       "}\n"
      ],
      "text/plain": [
       "<IPython.core.display.Javascript object>"
      ]
     },
     "metadata": {},
     "output_type": "display_data"
    },
    {
     "data": {
      "text/html": [
       "<img src=\"data:image/png;base64,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\" width=\"640\">"
      ],
      "text/plain": [
       "<IPython.core.display.HTML object>"
      ]
     },
     "metadata": {},
     "output_type": "display_data"
    },
    {
     "data": {
      "text/plain": [
       "[<matplotlib.lines.Line2D at 0x7fa79956ecd0>]"
      ]
     },
     "execution_count": 188,
     "metadata": {},
     "output_type": "execute_result"
    }
   ],
   "source": [
    "%matplotlib notebook\n",
    "\n",
    "plt.plot(cumsum[-100:])"
   ]
  },
  {
   "cell_type": "code",
   "execution_count": null,
   "metadata": {},
   "outputs": [],
   "source": []
  }
 ],
 "metadata": {
  "kernelspec": {
   "display_name": "Python 3",
   "language": "python",
   "name": "python3"
  },
  "language_info": {
   "codemirror_mode": {
    "name": "ipython",
    "version": 3
   },
   "file_extension": ".py",
   "mimetype": "text/x-python",
   "name": "python",
   "nbconvert_exporter": "python",
   "pygments_lexer": "ipython3",
   "version": "3.7.4"
  }
 },
 "nbformat": 4,
 "nbformat_minor": 2
}
