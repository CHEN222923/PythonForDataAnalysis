{
 "cells": [
  {
   "cell_type": "code",
   "execution_count": 3,
   "metadata": {},
   "outputs": [
    {
     "data": {
      "text/plain": [
       "86400"
      ]
     },
     "execution_count": 3,
     "metadata": {},
     "output_type": "execute_result"
    }
   ],
   "source": [
    "#每分有60秒,每小時有60分,每天有24\n",
    "seconds_per_day = 24 * 60 * 60\n",
    "#每天有多少秒 = 86400\n",
    "seconds_per_day  #yyyyyyy\n",
    "\n",
    "#xxxxxx\n",
    "#xxxxx\n",
    "#xxxxxx"
   ]
  },
  {
   "cell_type": "code",
   "execution_count": 9,
   "metadata": {},
   "outputs": [
    {
     "data": {
      "text/plain": [
       "'abcdefghijklmnoprstuvwxyz'"
      ]
     },
     "execution_count": 9,
     "metadata": {},
     "output_type": "execute_result"
    }
   ],
   "source": [
    "alphabet = '';\n",
    "alphabet += 'abcdefg' #+=複合指定運算子\n",
    "alphabet += 'hijklmnop'\n",
    "alphabet += 'rstuvwxyz'\n",
    "alphabet"
   ]
  },
  {
   "cell_type": "code",
   "execution_count": 22,
   "metadata": {},
   "outputs": [
    {
     "data": {
      "text/plain": [
       "'abcdefghijklmnopqrstuvwxyz'"
      ]
     },
     "execution_count": 22,
     "metadata": {},
     "output_type": "execute_result"
    }
   ],
   "source": [
    "alphabet = ''\n",
    "alphabet = 'abcdefg' \\\n",
    "+ 'hijklmnop' \\\n",
    "+ 'qrstuvwxyz'\n",
    "\n",
    "alphabet = ('abcdefg' +\n",
    "            'hijklmnop' +\n",
    "            'qrstuvwxyz')\n",
    "alphabet"
   ]
  },
  {
   "cell_type": "code",
   "execution_count": 26,
   "metadata": {},
   "outputs": [
    {
     "name": "stdout",
     "output_type": "stream",
     "text": [
      "請輸入整數a:45\n",
      "請輸入整數b:56\n"
     ]
    },
    {
     "data": {
      "text/plain": [
       "101"
      ]
     },
     "execution_count": 26,
     "metadata": {},
     "output_type": "execute_result"
    }
   ],
   "source": [
    "a = int(input('請輸入整數a:'))\n",
    "b = int(input('請輸入整數b:'))\n",
    "a + b"
   ]
  },
  {
   "cell_type": "code",
   "execution_count": 29,
   "metadata": {},
   "outputs": [
    {
     "name": "stdout",
     "output_type": "stream",
     "text": [
      "a的資料類型是 <class 'int'>\n"
     ]
    },
    {
     "data": {
      "text/plain": [
       "int"
      ]
     },
     "execution_count": 29,
     "metadata": {},
     "output_type": "execute_result"
    }
   ],
   "source": [
    "print('a的資料類型是',a.__class__)\n",
    "b.__class__"
   ]
  },
  {
   "cell_type": "code",
   "execution_count": 30,
   "metadata": {},
   "outputs": [
    {
     "name": "stdout",
     "output_type": "stream",
     "text": [
      "請輸入被除數(整數):7\n",
      "請輸入除數(整數,不可以為0):3\n",
      "商: 2 餘數: 1\n"
     ]
    }
   ],
   "source": [
    "n =int(input('請輸入被除數(整數):'))\n",
    "m =int(input('請輸入除數(整數,不可以為0):'))\n",
    "print('商:', n//m, '餘數:', n%m)"
   ]
  },
  {
   "cell_type": "code",
   "execution_count": null,
   "metadata": {},
   "outputs": [],
   "source": []
  }
 ],
 "metadata": {
  "kernelspec": {
   "display_name": "Python 3",
   "language": "python",
   "name": "python3"
  },
  "language_info": {
   "codemirror_mode": {
    "name": "ipython",
    "version": 3
   },
   "file_extension": ".py",
   "mimetype": "text/x-python",
   "name": "python",
   "nbconvert_exporter": "python",
   "pygments_lexer": "ipython3",
   "version": "3.7.4"
  }
 },
 "nbformat": 4,
 "nbformat_minor": 2
}
