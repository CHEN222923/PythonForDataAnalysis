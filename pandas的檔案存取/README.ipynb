{
 "cells": [
  {
   "cell_type": "markdown",
   "metadata": {},
   "source": [
    "# 使用pandas讀寫資料\n",
    "## 純文字資料格式\n",
    "### 讀取純文字的部份方法\n",
    "\n",
    "- read_csv()  \n",
    "- read_table() \n",
    "- read_excel()  \n",
    "- read_html()\n",
    "- read_json()  \n",
    "- read_sas()  \n",
    "- read_sql() \n",
    "\n",
    "#### 常用的引數功能\n",
    "    1 indexing\n",
    "    2 資料類型的推測和資料類型的轉換\n",
    "    3 日期時間的解析\n",
    "    4 對大型檔案提供多次讀取\n",
    "    5 清理資料,省略讀取不要的列,header,footer,註解"
   ]
  },
  {
   "cell_type": "code",
   "execution_count": null,
   "metadata": {},
   "outputs": [],
   "source": []
  }
 ],
 "metadata": {
  "kernelspec": {
   "display_name": "Python 3",
   "language": "python",
   "name": "python3"
  },
  "language_info": {
   "codemirror_mode": {
    "name": "ipython",
    "version": 3
   },
   "file_extension": ".py",
   "mimetype": "text/x-python",
   "name": "python",
   "nbconvert_exporter": "python",
   "pygments_lexer": "ipython3",
   "version": "3.7.4"
  }
 },
 "nbformat": 4,
 "nbformat_minor": 2
}
